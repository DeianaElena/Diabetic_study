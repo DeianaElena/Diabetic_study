{
 "cells": [
  {
   "cell_type": "code",
   "execution_count": 144,
   "metadata": {},
   "outputs": [],
   "source": [
    "import numpy as np\n",
    "import copy\n",
    "from sklearn import preprocessing\n",
    "import tensorflow as tf\n",
    "from tensorflow import keras  #v. 2.9.0\n",
    "import os\n",
    "import pandas as pd\n",
    "from matplotlib import pyplot as plt\n",
    "from numpy.random import seed\n",
    "np.random.seed(2095)\n",
    "\n",
    "import numpy as np \n",
    "import pandas as pd\n",
    "import matplotlib.pyplot as plt\n",
    "%matplotlib inline\n",
    "\n",
    "import seaborn as sns\n",
    "sns.set()\n",
    "from sklearn.preprocessing import MinMaxScaler, StandardScaler, LabelEncoder\n",
    "from sklearn.svm import SVC\n",
    "from sklearn.naive_bayes import GaussianNB\n",
    "from sklearn.linear_model import LogisticRegression\n",
    "#from xgboost import XGBClassifier, plot_importance\n",
    "from sklearn.model_selection import train_test_split\n",
    "from sklearn.metrics import accuracy_score,confusion_matrix"
   ]
  },
  {
   "cell_type": "code",
   "execution_count": 145,
   "metadata": {},
   "outputs": [],
   "source": [
    "#### --------------------------------------------   COMMENT IT WHEN USING DATABRICKS   ---------------------------------\n",
    "\n",
    "data = pd.read_csv('CardiacPrediction_csv.csv')"
   ]
  },
  {
   "cell_type": "code",
   "execution_count": 146,
   "metadata": {},
   "outputs": [],
   "source": [
    "#### --------------------------------------------   UNCOMMENT IT WHEN USING DATABRICKS   ---------------------------------\n",
    "#Reading csv file in databricks\n",
    "\n",
    "# # File location and type \n",
    "# file_location = \"/FileStore/tables/CardiacPrediction_csv.csv\"\n",
    "# file_type = \"csv\"\n",
    "\n",
    "# # CSV options\n",
    "# infer_schema = \"false\"\n",
    "# first_row_is_header = \"true\"\n",
    "# delimiter = \",\"\n",
    "\n",
    "# # The applied options are for CSV files. For other file types, these will be ignored.\n",
    "# df = spark.read.format(file_type) \\\n",
    "#   .option(\"inferSchema\", infer_schema) \\\n",
    "#   .option(\"header\", first_row_is_header) \\\n",
    "#   .option(\"sep\", delimiter) \\\n",
    "#   .load(file_location)\n",
    "\n",
    "# display(df)"
   ]
  },
  {
   "cell_type": "code",
   "execution_count": 147,
   "metadata": {},
   "outputs": [],
   "source": [
    "#### --------------------------------------------   UNCOMMENT IT WHEN USING DATABRICKS   ---------------------------------\n",
    "\n",
    "#dataframe 'df' in spark is different than in pandas. I convert it and call it 'data'. \n",
    "# data = df.toPandas()\n",
    "# print(data)"
   ]
  },
  {
   "cell_type": "code",
   "execution_count": 148,
   "metadata": {},
   "outputs": [
    {
     "data": {
      "text/html": [
       "<div>\n",
       "<style scoped>\n",
       "    .dataframe tbody tr th:only-of-type {\n",
       "        vertical-align: middle;\n",
       "    }\n",
       "\n",
       "    .dataframe tbody tr th {\n",
       "        vertical-align: top;\n",
       "    }\n",
       "\n",
       "    .dataframe thead th {\n",
       "        text-align: right;\n",
       "    }\n",
       "</style>\n",
       "<table border=\"1\" class=\"dataframe\">\n",
       "  <thead>\n",
       "    <tr style=\"text-align: right;\">\n",
       "      <th></th>\n",
       "      <th>SEQN</th>\n",
       "      <th>Gender</th>\n",
       "      <th>Age</th>\n",
       "      <th>Annual-Family-Income</th>\n",
       "      <th>Ratio-Family-Income-Poverty</th>\n",
       "      <th>X60-sec-pulse</th>\n",
       "      <th>Systolic</th>\n",
       "      <th>Diastolic</th>\n",
       "      <th>Weight</th>\n",
       "      <th>Height</th>\n",
       "      <th>...</th>\n",
       "      <th>Total-Cholesterol</th>\n",
       "      <th>HDL</th>\n",
       "      <th>Glycohemoglobin</th>\n",
       "      <th>Vigorous-work</th>\n",
       "      <th>Moderate-work</th>\n",
       "      <th>Health-Insurance</th>\n",
       "      <th>Diabetes</th>\n",
       "      <th>Blood-Rel-Diabetes</th>\n",
       "      <th>Blood-Rel-Stroke</th>\n",
       "      <th>CoronaryHeartDisease</th>\n",
       "    </tr>\n",
       "  </thead>\n",
       "  <tbody>\n",
       "    <tr>\n",
       "      <th>0</th>\n",
       "      <td>2</td>\n",
       "      <td>1</td>\n",
       "      <td>77</td>\n",
       "      <td>8</td>\n",
       "      <td>5.00</td>\n",
       "      <td>68</td>\n",
       "      <td>98</td>\n",
       "      <td>56</td>\n",
       "      <td>75.4</td>\n",
       "      <td>174.0</td>\n",
       "      <td>...</td>\n",
       "      <td>5.56</td>\n",
       "      <td>1.39</td>\n",
       "      <td>4.7</td>\n",
       "      <td>3</td>\n",
       "      <td>3</td>\n",
       "      <td>1</td>\n",
       "      <td>2</td>\n",
       "      <td>2</td>\n",
       "      <td>2</td>\n",
       "      <td>0</td>\n",
       "    </tr>\n",
       "    <tr>\n",
       "      <th>1</th>\n",
       "      <td>5</td>\n",
       "      <td>1</td>\n",
       "      <td>49</td>\n",
       "      <td>11</td>\n",
       "      <td>5.00</td>\n",
       "      <td>66</td>\n",
       "      <td>122</td>\n",
       "      <td>83</td>\n",
       "      <td>92.5</td>\n",
       "      <td>178.3</td>\n",
       "      <td>...</td>\n",
       "      <td>7.21</td>\n",
       "      <td>1.08</td>\n",
       "      <td>5.5</td>\n",
       "      <td>1</td>\n",
       "      <td>1</td>\n",
       "      <td>1</td>\n",
       "      <td>2</td>\n",
       "      <td>2</td>\n",
       "      <td>2</td>\n",
       "      <td>0</td>\n",
       "    </tr>\n",
       "    <tr>\n",
       "      <th>2</th>\n",
       "      <td>12</td>\n",
       "      <td>1</td>\n",
       "      <td>37</td>\n",
       "      <td>11</td>\n",
       "      <td>4.93</td>\n",
       "      <td>64</td>\n",
       "      <td>174</td>\n",
       "      <td>99</td>\n",
       "      <td>99.2</td>\n",
       "      <td>180.0</td>\n",
       "      <td>...</td>\n",
       "      <td>4.03</td>\n",
       "      <td>0.98</td>\n",
       "      <td>5.2</td>\n",
       "      <td>2</td>\n",
       "      <td>1</td>\n",
       "      <td>1</td>\n",
       "      <td>2</td>\n",
       "      <td>1</td>\n",
       "      <td>1</td>\n",
       "      <td>0</td>\n",
       "    </tr>\n",
       "    <tr>\n",
       "      <th>3</th>\n",
       "      <td>13</td>\n",
       "      <td>1</td>\n",
       "      <td>70</td>\n",
       "      <td>3</td>\n",
       "      <td>1.07</td>\n",
       "      <td>102</td>\n",
       "      <td>130</td>\n",
       "      <td>66</td>\n",
       "      <td>63.6</td>\n",
       "      <td>157.7</td>\n",
       "      <td>...</td>\n",
       "      <td>8.12</td>\n",
       "      <td>1.28</td>\n",
       "      <td>7.6</td>\n",
       "      <td>3</td>\n",
       "      <td>3</td>\n",
       "      <td>1</td>\n",
       "      <td>1</td>\n",
       "      <td>1</td>\n",
       "      <td>2</td>\n",
       "      <td>0</td>\n",
       "    </tr>\n",
       "    <tr>\n",
       "      <th>4</th>\n",
       "      <td>14</td>\n",
       "      <td>1</td>\n",
       "      <td>81</td>\n",
       "      <td>5</td>\n",
       "      <td>2.67</td>\n",
       "      <td>72</td>\n",
       "      <td>136</td>\n",
       "      <td>61</td>\n",
       "      <td>75.5</td>\n",
       "      <td>166.2</td>\n",
       "      <td>...</td>\n",
       "      <td>4.50</td>\n",
       "      <td>1.04</td>\n",
       "      <td>5.8</td>\n",
       "      <td>1</td>\n",
       "      <td>1</td>\n",
       "      <td>1</td>\n",
       "      <td>2</td>\n",
       "      <td>2</td>\n",
       "      <td>2</td>\n",
       "      <td>0</td>\n",
       "    </tr>\n",
       "  </tbody>\n",
       "</table>\n",
       "<p>5 rows × 51 columns</p>\n",
       "</div>"
      ],
      "text/plain": [
       "   SEQN  Gender  Age  Annual-Family-Income  Ratio-Family-Income-Poverty  \\\n",
       "0     2       1   77                     8                         5.00   \n",
       "1     5       1   49                    11                         5.00   \n",
       "2    12       1   37                    11                         4.93   \n",
       "3    13       1   70                     3                         1.07   \n",
       "4    14       1   81                     5                         2.67   \n",
       "\n",
       "   X60-sec-pulse  Systolic  Diastolic  Weight  Height  ...  Total-Cholesterol  \\\n",
       "0             68        98         56    75.4   174.0  ...               5.56   \n",
       "1             66       122         83    92.5   178.3  ...               7.21   \n",
       "2             64       174         99    99.2   180.0  ...               4.03   \n",
       "3            102       130         66    63.6   157.7  ...               8.12   \n",
       "4             72       136         61    75.5   166.2  ...               4.50   \n",
       "\n",
       "    HDL  Glycohemoglobin  Vigorous-work  Moderate-work  Health-Insurance  \\\n",
       "0  1.39              4.7              3              3                 1   \n",
       "1  1.08              5.5              1              1                 1   \n",
       "2  0.98              5.2              2              1                 1   \n",
       "3  1.28              7.6              3              3                 1   \n",
       "4  1.04              5.8              1              1                 1   \n",
       "\n",
       "   Diabetes  Blood-Rel-Diabetes  Blood-Rel-Stroke  CoronaryHeartDisease  \n",
       "0         2                   2                 2                     0  \n",
       "1         2                   2                 2                     0  \n",
       "2         2                   1                 1                     0  \n",
       "3         1                   1                 2                     0  \n",
       "4         2                   2                 2                     0  \n",
       "\n",
       "[5 rows x 51 columns]"
      ]
     },
     "execution_count": 148,
     "metadata": {},
     "output_type": "execute_result"
    }
   ],
   "source": [
    "data.head()"
   ]
  },
  {
   "cell_type": "code",
   "execution_count": 149,
   "metadata": {},
   "outputs": [],
   "source": [
    "#dropping these features as mentioned in paper 'An efficient convolutional neural network for coronary heart disease prediction'\n",
    "data.drop(['SEQN','Annual-Family-Income','Height','Ratio-Family-Income-Poverty','X60-sec-pulse',\n",
    "          'Health-Insurance','Glucose','Vigorous-work','Total-Cholesterol','CoronaryHeartDisease','Blood-Rel-Stroke','Red-Cell-Distribution-Width','Triglycerides','Mean-Platelet-Vol','Platelet-count','Lymphocyte','Monocyte','Eosinophils','Mean-cell-Hemoglobin','White-Blood-Cells','Red-Blood-Cells','Basophils','Mean-Cell-Vol','Mean-Cell-Hgb-Conc.','Hematocrit','Segmented-Neutrophils'], axis = 1, inplace=True)\n",
    "\n"
   ]
  },
  {
   "cell_type": "code",
   "execution_count": 150,
   "metadata": {},
   "outputs": [],
   "source": [
    "#data = data.astype(float)"
   ]
  },
  {
   "cell_type": "code",
   "execution_count": 151,
   "metadata": {},
   "outputs": [
    {
     "name": "stderr",
     "output_type": "stream",
     "text": [
      "C:\\Users\\Eigenaar\\AppData\\Local\\Temp\\ipykernel_17936\\3794381626.py:1: SettingWithCopyWarning:\n",
      "\n",
      "\n",
      "A value is trying to be set on a copy of a slice from a DataFrame\n",
      "\n",
      "See the caveats in the documentation: https://pandas.pydata.org/pandas-docs/stable/user_guide/indexing.html#returning-a-view-versus-a-copy\n",
      "\n"
     ]
    }
   ],
   "source": [
    "data['Diabetes'].loc[(data['Diabetes'] == 3 )] = 1"
   ]
  },
  {
   "cell_type": "code",
   "execution_count": 152,
   "metadata": {},
   "outputs": [
    {
     "data": {
      "text/plain": [
       "0        True\n",
       "1        True\n",
       "2        True\n",
       "3        True\n",
       "4        True\n",
       "         ... \n",
       "37074    True\n",
       "37075    True\n",
       "37076    True\n",
       "37077    True\n",
       "37078    True\n",
       "Name: Diabetes, Length: 37079, dtype: bool"
      ]
     },
     "execution_count": 152,
     "metadata": {},
     "output_type": "execute_result"
    }
   ],
   "source": [
    "#adding a modification to consider 3 as 1 and only work with two classes\n",
    "\n",
    "data[\"Diabetes\"]==data[\"Diabetes\"].replace([3],1)"
   ]
  },
  {
   "cell_type": "code",
   "execution_count": 153,
   "metadata": {},
   "outputs": [
    {
     "data": {
      "text/plain": [
       "2    32227\n",
       "1     4852\n",
       "Name: Diabetes, dtype: int64"
      ]
     },
     "execution_count": 153,
     "metadata": {},
     "output_type": "execute_result"
    }
   ],
   "source": [
    "data[\"Diabetes\"].value_counts()"
   ]
  },
  {
   "cell_type": "code",
   "execution_count": 154,
   "metadata": {},
   "outputs": [
    {
     "data": {
      "text/plain": [
       "count    37079.000000\n",
       "mean         1.869144\n",
       "std          0.337247\n",
       "min          1.000000\n",
       "25%          2.000000\n",
       "50%          2.000000\n",
       "75%          2.000000\n",
       "max          2.000000\n",
       "Name: Diabetes, dtype: float64"
      ]
     },
     "execution_count": 154,
     "metadata": {},
     "output_type": "execute_result"
    }
   ],
   "source": [
    "data[\"Diabetes\"].describe()"
   ]
  },
  {
   "cell_type": "code",
   "execution_count": 155,
   "metadata": {},
   "outputs": [],
   "source": [
    "#del data['Basophils']"
   ]
  },
  {
   "cell_type": "code",
   "execution_count": 156,
   "metadata": {},
   "outputs": [],
   "source": [
    "#del data['Health-Insurance']"
   ]
  },
  {
   "cell_type": "code",
   "execution_count": 157,
   "metadata": {},
   "outputs": [],
   "source": [
    "#del data['Platelet-count']"
   ]
  },
  {
   "cell_type": "code",
   "execution_count": 158,
   "metadata": {},
   "outputs": [
    {
     "data": {
      "text/plain": [
       "(37079, 25)"
      ]
     },
     "execution_count": 158,
     "metadata": {},
     "output_type": "execute_result"
    }
   ],
   "source": [
    "data.shape"
   ]
  },
  {
   "cell_type": "code",
   "execution_count": 159,
   "metadata": {},
   "outputs": [
    {
     "data": {
      "text/plain": [
       "Index(['Gender', 'Age', 'Systolic', 'Diastolic', 'Weight', 'Body-Mass-Index',\n",
       "       'Hemoglobin', 'Albumin', 'ALP', 'AST', 'ALT', 'Cholesterol',\n",
       "       'Creatinine', 'GGT', 'Iron', 'LDH', 'Phosphorus', 'Bilirubin',\n",
       "       'Protein', 'Uric.Acid', 'HDL', 'Glycohemoglobin', 'Moderate-work',\n",
       "       'Diabetes', 'Blood-Rel-Diabetes'],\n",
       "      dtype='object')"
      ]
     },
     "execution_count": 159,
     "metadata": {},
     "output_type": "execute_result"
    }
   ],
   "source": [
    "data.columns"
   ]
  },
  {
   "cell_type": "code",
   "execution_count": 160,
   "metadata": {},
   "outputs": [
    {
     "data": {
      "text/plain": [
       "Gender                0\n",
       "Age                   0\n",
       "Systolic              0\n",
       "Diastolic             0\n",
       "Weight                0\n",
       "Body-Mass-Index       0\n",
       "Hemoglobin            0\n",
       "Albumin               0\n",
       "ALP                   0\n",
       "AST                   0\n",
       "ALT                   0\n",
       "Cholesterol           0\n",
       "Creatinine            0\n",
       "GGT                   0\n",
       "Iron                  0\n",
       "LDH                   0\n",
       "Phosphorus            0\n",
       "Bilirubin             0\n",
       "Protein               0\n",
       "Uric.Acid             0\n",
       "HDL                   0\n",
       "Glycohemoglobin       0\n",
       "Moderate-work         0\n",
       "Diabetes              0\n",
       "Blood-Rel-Diabetes    0\n",
       "dtype: int64"
      ]
     },
     "execution_count": 160,
     "metadata": {},
     "output_type": "execute_result"
    }
   ],
   "source": [
    "data.isnull().sum()"
   ]
  },
  {
   "cell_type": "code",
   "execution_count": 161,
   "metadata": {},
   "outputs": [
    {
     "data": {
      "text/html": [
       "<div>\n",
       "<style scoped>\n",
       "    .dataframe tbody tr th:only-of-type {\n",
       "        vertical-align: middle;\n",
       "    }\n",
       "\n",
       "    .dataframe tbody tr th {\n",
       "        vertical-align: top;\n",
       "    }\n",
       "\n",
       "    .dataframe thead th {\n",
       "        text-align: right;\n",
       "    }\n",
       "</style>\n",
       "<table border=\"1\" class=\"dataframe\">\n",
       "  <thead>\n",
       "    <tr style=\"text-align: right;\">\n",
       "      <th></th>\n",
       "      <th>Gender</th>\n",
       "      <th>Age</th>\n",
       "      <th>Systolic</th>\n",
       "      <th>Diastolic</th>\n",
       "      <th>Weight</th>\n",
       "      <th>Body-Mass-Index</th>\n",
       "      <th>Hemoglobin</th>\n",
       "      <th>Albumin</th>\n",
       "      <th>ALP</th>\n",
       "      <th>AST</th>\n",
       "      <th>...</th>\n",
       "      <th>LDH</th>\n",
       "      <th>Phosphorus</th>\n",
       "      <th>Bilirubin</th>\n",
       "      <th>Protein</th>\n",
       "      <th>Uric.Acid</th>\n",
       "      <th>HDL</th>\n",
       "      <th>Glycohemoglobin</th>\n",
       "      <th>Moderate-work</th>\n",
       "      <th>Diabetes</th>\n",
       "      <th>Blood-Rel-Diabetes</th>\n",
       "    </tr>\n",
       "  </thead>\n",
       "  <tbody>\n",
       "    <tr>\n",
       "      <th>count</th>\n",
       "      <td>37079.000000</td>\n",
       "      <td>37079.000000</td>\n",
       "      <td>37079.000000</td>\n",
       "      <td>37079.000000</td>\n",
       "      <td>37079.000000</td>\n",
       "      <td>37079.000000</td>\n",
       "      <td>37079.000000</td>\n",
       "      <td>37079.000000</td>\n",
       "      <td>37079.000000</td>\n",
       "      <td>37079.000000</td>\n",
       "      <td>...</td>\n",
       "      <td>37079.000000</td>\n",
       "      <td>37079.000000</td>\n",
       "      <td>37079.000000</td>\n",
       "      <td>37079.000000</td>\n",
       "      <td>37079.000000</td>\n",
       "      <td>37079.000000</td>\n",
       "      <td>37079.000000</td>\n",
       "      <td>37079.000000</td>\n",
       "      <td>37079.000000</td>\n",
       "      <td>37079.000000</td>\n",
       "    </tr>\n",
       "    <tr>\n",
       "      <th>mean</th>\n",
       "      <td>1.513282</td>\n",
       "      <td>48.943661</td>\n",
       "      <td>124.090078</td>\n",
       "      <td>69.919253</td>\n",
       "      <td>80.988276</td>\n",
       "      <td>28.824588</td>\n",
       "      <td>14.139073</td>\n",
       "      <td>42.528116</td>\n",
       "      <td>70.789611</td>\n",
       "      <td>25.722511</td>\n",
       "      <td>...</td>\n",
       "      <td>132.045632</td>\n",
       "      <td>1.203049</td>\n",
       "      <td>11.801173</td>\n",
       "      <td>72.050158</td>\n",
       "      <td>321.723326</td>\n",
       "      <td>1.370344</td>\n",
       "      <td>5.676496</td>\n",
       "      <td>1.598856</td>\n",
       "      <td>1.869144</td>\n",
       "      <td>1.549502</td>\n",
       "    </tr>\n",
       "    <tr>\n",
       "      <th>std</th>\n",
       "      <td>0.499830</td>\n",
       "      <td>18.010440</td>\n",
       "      <td>19.254741</td>\n",
       "      <td>13.575804</td>\n",
       "      <td>20.678734</td>\n",
       "      <td>6.608982</td>\n",
       "      <td>1.541599</td>\n",
       "      <td>3.585254</td>\n",
       "      <td>26.073559</td>\n",
       "      <td>19.695625</td>\n",
       "      <td>...</td>\n",
       "      <td>31.961662</td>\n",
       "      <td>0.182223</td>\n",
       "      <td>5.276652</td>\n",
       "      <td>4.967992</td>\n",
       "      <td>86.129723</td>\n",
       "      <td>0.415985</td>\n",
       "      <td>1.050223</td>\n",
       "      <td>0.511199</td>\n",
       "      <td>0.337247</td>\n",
       "      <td>0.497550</td>\n",
       "    </tr>\n",
       "    <tr>\n",
       "      <th>min</th>\n",
       "      <td>1.000000</td>\n",
       "      <td>20.000000</td>\n",
       "      <td>0.000000</td>\n",
       "      <td>0.000000</td>\n",
       "      <td>32.300000</td>\n",
       "      <td>13.180000</td>\n",
       "      <td>5.800000</td>\n",
       "      <td>19.000000</td>\n",
       "      <td>7.000000</td>\n",
       "      <td>7.000000</td>\n",
       "      <td>...</td>\n",
       "      <td>4.000000</td>\n",
       "      <td>0.484000</td>\n",
       "      <td>0.000000</td>\n",
       "      <td>47.000000</td>\n",
       "      <td>23.800000</td>\n",
       "      <td>0.160000</td>\n",
       "      <td>2.000000</td>\n",
       "      <td>1.000000</td>\n",
       "      <td>1.000000</td>\n",
       "      <td>1.000000</td>\n",
       "    </tr>\n",
       "    <tr>\n",
       "      <th>25%</th>\n",
       "      <td>1.000000</td>\n",
       "      <td>33.000000</td>\n",
       "      <td>111.000000</td>\n",
       "      <td>62.000000</td>\n",
       "      <td>66.500000</td>\n",
       "      <td>24.220000</td>\n",
       "      <td>13.100000</td>\n",
       "      <td>40.000000</td>\n",
       "      <td>55.000000</td>\n",
       "      <td>19.000000</td>\n",
       "      <td>...</td>\n",
       "      <td>113.000000</td>\n",
       "      <td>1.098000</td>\n",
       "      <td>8.550000</td>\n",
       "      <td>69.000000</td>\n",
       "      <td>261.700000</td>\n",
       "      <td>1.070000</td>\n",
       "      <td>5.200000</td>\n",
       "      <td>1.000000</td>\n",
       "      <td>2.000000</td>\n",
       "      <td>1.000000</td>\n",
       "    </tr>\n",
       "    <tr>\n",
       "      <th>50%</th>\n",
       "      <td>2.000000</td>\n",
       "      <td>48.000000</td>\n",
       "      <td>121.000000</td>\n",
       "      <td>70.000000</td>\n",
       "      <td>78.200000</td>\n",
       "      <td>27.800000</td>\n",
       "      <td>14.100000</td>\n",
       "      <td>43.000000</td>\n",
       "      <td>67.000000</td>\n",
       "      <td>23.000000</td>\n",
       "      <td>...</td>\n",
       "      <td>128.000000</td>\n",
       "      <td>1.195000</td>\n",
       "      <td>10.260000</td>\n",
       "      <td>72.000000</td>\n",
       "      <td>315.200000</td>\n",
       "      <td>1.290000</td>\n",
       "      <td>5.400000</td>\n",
       "      <td>2.000000</td>\n",
       "      <td>2.000000</td>\n",
       "      <td>2.000000</td>\n",
       "    </tr>\n",
       "    <tr>\n",
       "      <th>75%</th>\n",
       "      <td>2.000000</td>\n",
       "      <td>63.000000</td>\n",
       "      <td>134.000000</td>\n",
       "      <td>78.000000</td>\n",
       "      <td>92.100000</td>\n",
       "      <td>32.100000</td>\n",
       "      <td>15.200000</td>\n",
       "      <td>45.000000</td>\n",
       "      <td>82.000000</td>\n",
       "      <td>27.000000</td>\n",
       "      <td>...</td>\n",
       "      <td>146.000000</td>\n",
       "      <td>1.324000</td>\n",
       "      <td>13.680000</td>\n",
       "      <td>75.000000</td>\n",
       "      <td>374.700000</td>\n",
       "      <td>1.600000</td>\n",
       "      <td>5.800000</td>\n",
       "      <td>2.000000</td>\n",
       "      <td>2.000000</td>\n",
       "      <td>2.000000</td>\n",
       "    </tr>\n",
       "    <tr>\n",
       "      <th>max</th>\n",
       "      <td>2.000000</td>\n",
       "      <td>85.000000</td>\n",
       "      <td>270.000000</td>\n",
       "      <td>132.000000</td>\n",
       "      <td>371.000000</td>\n",
       "      <td>130.210000</td>\n",
       "      <td>19.700000</td>\n",
       "      <td>57.000000</td>\n",
       "      <td>729.000000</td>\n",
       "      <td>1672.000000</td>\n",
       "      <td>...</td>\n",
       "      <td>1539.000000</td>\n",
       "      <td>2.648000</td>\n",
       "      <td>224.010000</td>\n",
       "      <td>113.000000</td>\n",
       "      <td>1070.600000</td>\n",
       "      <td>5.840000</td>\n",
       "      <td>18.800000</td>\n",
       "      <td>3.000000</td>\n",
       "      <td>2.000000</td>\n",
       "      <td>2.000000</td>\n",
       "    </tr>\n",
       "  </tbody>\n",
       "</table>\n",
       "<p>8 rows × 25 columns</p>\n",
       "</div>"
      ],
      "text/plain": [
       "             Gender           Age      Systolic     Diastolic        Weight  \\\n",
       "count  37079.000000  37079.000000  37079.000000  37079.000000  37079.000000   \n",
       "mean       1.513282     48.943661    124.090078     69.919253     80.988276   \n",
       "std        0.499830     18.010440     19.254741     13.575804     20.678734   \n",
       "min        1.000000     20.000000      0.000000      0.000000     32.300000   \n",
       "25%        1.000000     33.000000    111.000000     62.000000     66.500000   \n",
       "50%        2.000000     48.000000    121.000000     70.000000     78.200000   \n",
       "75%        2.000000     63.000000    134.000000     78.000000     92.100000   \n",
       "max        2.000000     85.000000    270.000000    132.000000    371.000000   \n",
       "\n",
       "       Body-Mass-Index    Hemoglobin       Albumin           ALP  \\\n",
       "count     37079.000000  37079.000000  37079.000000  37079.000000   \n",
       "mean         28.824588     14.139073     42.528116     70.789611   \n",
       "std           6.608982      1.541599      3.585254     26.073559   \n",
       "min          13.180000      5.800000     19.000000      7.000000   \n",
       "25%          24.220000     13.100000     40.000000     55.000000   \n",
       "50%          27.800000     14.100000     43.000000     67.000000   \n",
       "75%          32.100000     15.200000     45.000000     82.000000   \n",
       "max         130.210000     19.700000     57.000000    729.000000   \n",
       "\n",
       "                AST  ...           LDH    Phosphorus     Bilirubin  \\\n",
       "count  37079.000000  ...  37079.000000  37079.000000  37079.000000   \n",
       "mean      25.722511  ...    132.045632      1.203049     11.801173   \n",
       "std       19.695625  ...     31.961662      0.182223      5.276652   \n",
       "min        7.000000  ...      4.000000      0.484000      0.000000   \n",
       "25%       19.000000  ...    113.000000      1.098000      8.550000   \n",
       "50%       23.000000  ...    128.000000      1.195000     10.260000   \n",
       "75%       27.000000  ...    146.000000      1.324000     13.680000   \n",
       "max     1672.000000  ...   1539.000000      2.648000    224.010000   \n",
       "\n",
       "            Protein     Uric.Acid           HDL  Glycohemoglobin  \\\n",
       "count  37079.000000  37079.000000  37079.000000     37079.000000   \n",
       "mean      72.050158    321.723326      1.370344         5.676496   \n",
       "std        4.967992     86.129723      0.415985         1.050223   \n",
       "min       47.000000     23.800000      0.160000         2.000000   \n",
       "25%       69.000000    261.700000      1.070000         5.200000   \n",
       "50%       72.000000    315.200000      1.290000         5.400000   \n",
       "75%       75.000000    374.700000      1.600000         5.800000   \n",
       "max      113.000000   1070.600000      5.840000        18.800000   \n",
       "\n",
       "       Moderate-work      Diabetes  Blood-Rel-Diabetes  \n",
       "count   37079.000000  37079.000000        37079.000000  \n",
       "mean        1.598856      1.869144            1.549502  \n",
       "std         0.511199      0.337247            0.497550  \n",
       "min         1.000000      1.000000            1.000000  \n",
       "25%         1.000000      2.000000            1.000000  \n",
       "50%         2.000000      2.000000            2.000000  \n",
       "75%         2.000000      2.000000            2.000000  \n",
       "max         3.000000      2.000000            2.000000  \n",
       "\n",
       "[8 rows x 25 columns]"
      ]
     },
     "execution_count": 161,
     "metadata": {},
     "output_type": "execute_result"
    }
   ],
   "source": [
    "data.describe()"
   ]
  },
  {
   "cell_type": "code",
   "execution_count": 162,
   "metadata": {},
   "outputs": [
    {
     "data": {
      "text/plain": [
       "(37079, 25)"
      ]
     },
     "execution_count": 162,
     "metadata": {},
     "output_type": "execute_result"
    }
   ],
   "source": [
    "data.shape"
   ]
  },
  {
   "cell_type": "code",
   "execution_count": 163,
   "metadata": {},
   "outputs": [
    {
     "data": {
      "text/plain": [
       "count    37079.000000\n",
       "mean         1.869144\n",
       "std          0.337247\n",
       "min          1.000000\n",
       "25%          2.000000\n",
       "50%          2.000000\n",
       "75%          2.000000\n",
       "max          2.000000\n",
       "Name: Diabetes, dtype: float64"
      ]
     },
     "execution_count": 163,
     "metadata": {},
     "output_type": "execute_result"
    }
   ],
   "source": [
    "data['Diabetes'].describe()"
   ]
  },
  {
   "cell_type": "code",
   "execution_count": 164,
   "metadata": {},
   "outputs": [
    {
     "data": {
      "text/plain": [
       "Index(['Gender', 'Age', 'Systolic', 'Diastolic', 'Weight', 'Body-Mass-Index',\n",
       "       'Hemoglobin', 'Albumin', 'ALP', 'AST', 'ALT', 'Cholesterol',\n",
       "       'Creatinine', 'GGT', 'Iron', 'LDH', 'Phosphorus', 'Bilirubin',\n",
       "       'Protein', 'Uric.Acid', 'HDL', 'Glycohemoglobin', 'Moderate-work',\n",
       "       'Diabetes', 'Blood-Rel-Diabetes'],\n",
       "      dtype='object')"
      ]
     },
     "execution_count": 164,
     "metadata": {},
     "output_type": "execute_result"
    }
   ],
   "source": [
    "data.columns"
   ]
  },
  {
   "cell_type": "code",
   "execution_count": 165,
   "metadata": {},
   "outputs": [
    {
     "data": {
      "text/plain": [
       "<AxesSubplot:>"
      ]
     },
     "execution_count": 165,
     "metadata": {},
     "output_type": "execute_result"
    },
    {
     "data": {
      "image/png": "[encoded data removed]",
      "text/plain": [
       "<Figure size 432x288 with 1 Axes>"
      ]
     },
     "metadata": {},
     "output_type": "display_data"
    }
   ],
   "source": [
    "data[\"Diabetes\"].value_counts().sort_index().plot.barh()\n"
   ]
  },
  {
   "cell_type": "code",
   "execution_count": 166,
   "metadata": {},
   "outputs": [],
   "source": [
    "#data[\"Gender\"].value_counts().sort_index().plot.barh()\n",
    "#balanced"
   ]
  },
  {
   "cell_type": "code",
   "execution_count": 167,
   "metadata": {},
   "outputs": [],
   "source": [
    "#data.corr()"
   ]
  },
  {
   "cell_type": "code",
   "execution_count": 168,
   "metadata": {},
   "outputs": [
    {
     "data": {
      "text/plain": [
       "Index(['Gender', 'Age', 'Systolic', 'Diastolic', 'Weight', 'Body-Mass-Index',\n",
       "       'Hemoglobin', 'Albumin', 'ALP', 'AST', 'ALT', 'Cholesterol',\n",
       "       'Creatinine', 'GGT', 'Iron', 'LDH', 'Phosphorus', 'Bilirubin',\n",
       "       'Protein', 'Uric.Acid', 'HDL', 'Glycohemoglobin', 'Moderate-work',\n",
       "       'Diabetes', 'Blood-Rel-Diabetes'],\n",
       "      dtype='object')"
      ]
     },
     "execution_count": 168,
     "metadata": {},
     "output_type": "execute_result"
    }
   ],
   "source": [
    "data.columns"
   ]
  },
  {
   "cell_type": "code",
   "execution_count": 169,
   "metadata": {},
   "outputs": [
    {
     "data": {
      "text/plain": [
       "(37079, 25)"
      ]
     },
     "execution_count": 169,
     "metadata": {},
     "output_type": "execute_result"
    }
   ],
   "source": [
    "data.shape"
   ]
  },
  {
   "cell_type": "code",
   "execution_count": 170,
   "metadata": {},
   "outputs": [
    {
     "name": "stdout",
     "output_type": "stream",
     "text": [
      "<class 'pandas.core.frame.DataFrame'>\n",
      "RangeIndex: 37079 entries, 0 to 37078\n",
      "Data columns (total 25 columns):\n",
      " #   Column              Non-Null Count  Dtype  \n",
      "---  ------              --------------  -----  \n",
      " 0   Gender              37079 non-null  int64  \n",
      " 1   Age                 37079 non-null  int64  \n",
      " 2   Systolic            37079 non-null  int64  \n",
      " 3   Diastolic           37079 non-null  int64  \n",
      " 4   Weight              37079 non-null  float64\n",
      " 5   Body-Mass-Index     37079 non-null  float64\n",
      " 6   Hemoglobin          37079 non-null  float64\n",
      " 7   Albumin             37079 non-null  int64  \n",
      " 8   ALP                 37079 non-null  int64  \n",
      " 9   AST                 37079 non-null  int64  \n",
      " 10  ALT                 37079 non-null  int64  \n",
      " 11  Cholesterol         37079 non-null  float64\n",
      " 12  Creatinine          37079 non-null  float64\n",
      " 13  GGT                 37079 non-null  int64  \n",
      " 14  Iron                37079 non-null  float64\n",
      " 15  LDH                 37079 non-null  int64  \n",
      " 16  Phosphorus          37079 non-null  float64\n",
      " 17  Bilirubin           37079 non-null  float64\n",
      " 18  Protein             37079 non-null  float64\n",
      " 19  Uric.Acid           37079 non-null  float64\n",
      " 20  HDL                 37079 non-null  float64\n",
      " 21  Glycohemoglobin     37079 non-null  float64\n",
      " 22  Moderate-work       37079 non-null  int64  \n",
      " 23  Diabetes            37079 non-null  int64  \n",
      " 24  Blood-Rel-Diabetes  37079 non-null  int64  \n",
      "dtypes: float64(12), int64(13)\n",
      "memory usage: 7.1 MB\n"
     ]
    }
   ],
   "source": [
    "data.info()"
   ]
  },
  {
   "cell_type": "code",
   "execution_count": 171,
   "metadata": {},
   "outputs": [],
   "source": [
    "data = data.astype(float)\n"
   ]
  },
  {
   "cell_type": "code",
   "execution_count": 172,
   "metadata": {},
   "outputs": [
    {
     "name": "stdout",
     "output_type": "stream",
     "text": [
      "<class 'pandas.core.frame.DataFrame'>\n",
      "RangeIndex: 37079 entries, 0 to 37078\n",
      "Data columns (total 25 columns):\n",
      " #   Column              Non-Null Count  Dtype  \n",
      "---  ------              --------------  -----  \n",
      " 0   Gender              37079 non-null  float64\n",
      " 1   Age                 37079 non-null  float64\n",
      " 2   Systolic            37079 non-null  float64\n",
      " 3   Diastolic           37079 non-null  float64\n",
      " 4   Weight              37079 non-null  float64\n",
      " 5   Body-Mass-Index     37079 non-null  float64\n",
      " 6   Hemoglobin          37079 non-null  float64\n",
      " 7   Albumin             37079 non-null  float64\n",
      " 8   ALP                 37079 non-null  float64\n",
      " 9   AST                 37079 non-null  float64\n",
      " 10  ALT                 37079 non-null  float64\n",
      " 11  Cholesterol         37079 non-null  float64\n",
      " 12  Creatinine          37079 non-null  float64\n",
      " 13  GGT                 37079 non-null  float64\n",
      " 14  Iron                37079 non-null  float64\n",
      " 15  LDH                 37079 non-null  float64\n",
      " 16  Phosphorus          37079 non-null  float64\n",
      " 17  Bilirubin           37079 non-null  float64\n",
      " 18  Protein             37079 non-null  float64\n",
      " 19  Uric.Acid           37079 non-null  float64\n",
      " 20  HDL                 37079 non-null  float64\n",
      " 21  Glycohemoglobin     37079 non-null  float64\n",
      " 22  Moderate-work       37079 non-null  float64\n",
      " 23  Diabetes            37079 non-null  float64\n",
      " 24  Blood-Rel-Diabetes  37079 non-null  float64\n",
      "dtypes: float64(25)\n",
      "memory usage: 7.1 MB\n"
     ]
    }
   ],
   "source": [
    "data.info()"
   ]
  },
  {
   "cell_type": "code",
   "execution_count": 173,
   "metadata": {},
   "outputs": [
    {
     "data": {
      "text/plain": [
       "<AxesSubplot:>"
      ]
     },
     "execution_count": 173,
     "metadata": {},
     "output_type": "execute_result"
    },
    {
     "data": {
      "image/png": "[encoded data removed]",
      "text/plain": [
       "<Figure size 864x576 with 2 Axes>"
      ]
     },
     "metadata": {},
     "output_type": "display_data"
    }
   ],
   "source": [
    "import seaborn as sns\n",
    "plt.subplots(figsize=(12,8))\n",
    "sns.heatmap(data.corr(),cmap='inferno', annot=True)"
   ]
  },
  {
   "cell_type": "code",
   "execution_count": 174,
   "metadata": {},
   "outputs": [
    {
     "data": {
      "text/plain": [
       "(array([ 1,  2,  3,  4,  5,  6,  7,  8,  9, 10, 11, 12, 13, 14, 15, 16, 17,\n",
       "        18, 19, 20, 21, 22, 23, 24, 25]),\n",
       " [Text(1, 0, 'Gender'),\n",
       "  Text(2, 0, 'Age'),\n",
       "  Text(3, 0, 'Systolic'),\n",
       "  Text(4, 0, 'Diastolic'),\n",
       "  Text(5, 0, 'Weight'),\n",
       "  Text(6, 0, 'Body-Mass-Index'),\n",
       "  Text(7, 0, 'Hemoglobin'),\n",
       "  Text(8, 0, 'Albumin'),\n",
       "  Text(9, 0, 'ALP'),\n",
       "  Text(10, 0, 'AST'),\n",
       "  Text(11, 0, 'ALT'),\n",
       "  Text(12, 0, 'Cholesterol'),\n",
       "  Text(13, 0, 'Creatinine'),\n",
       "  Text(14, 0, 'GGT'),\n",
       "  Text(15, 0, 'Iron'),\n",
       "  Text(16, 0, 'LDH'),\n",
       "  Text(17, 0, 'Phosphorus'),\n",
       "  Text(18, 0, 'Bilirubin'),\n",
       "  Text(19, 0, 'Protein'),\n",
       "  Text(20, 0, 'Uric.Acid'),\n",
       "  Text(21, 0, 'HDL'),\n",
       "  Text(22, 0, 'Glycohemoglobin'),\n",
       "  Text(23, 0, 'Moderate-work'),\n",
       "  Text(24, 0, 'Diabetes'),\n",
       "  Text(25, 0, 'Blood-Rel-Diabetes')])"
      ]
     },
     "execution_count": 174,
     "metadata": {},
     "output_type": "execute_result"
    },
    {
     "data": {
      "image/png": "[encoded data removed]",
      "text/plain": [
       "<Figure size 1800x1080 with 1 Axes>"
      ]
     },
     "metadata": {},
     "output_type": "display_data"
    }
   ],
   "source": [
    "plt.subplots(figsize=(25,15))\n",
    "data.boxplot(patch_artist=True, sym=\"k.\")\n",
    "plt.xticks(rotation=90)"
   ]
  },
  {
   "cell_type": "code",
   "execution_count": 175,
   "metadata": {},
   "outputs": [],
   "source": [
    "minimum = 0\n",
    "maximum = 0\n",
    "\n",
    "def detect_outlier(feature):\n",
    "    first_q = np.percentile(feature, 25)\n",
    "    third_q = np.percentile(feature, 75) \n",
    "    IQR = third_q - first_q\n",
    "    IQR *= 1.5\n",
    "    minimum = first_q - IQR \n",
    "    maximum = third_q + IQR\n",
    "    flag = False\n",
    "    \n",
    "    if(minimum > np.min(feature)):\n",
    "        flag = True\n",
    "    if(maximum < np.max(feature)):\n",
    "        flag = True\n",
    "    \n",
    "    return flag"
   ]
  },
  {
   "cell_type": "code",
   "execution_count": 176,
   "metadata": {},
   "outputs": [],
   "source": [
    "def  remove_outlier(feature):\n",
    "    first_q = np.percentile(X[feature], 25)\n",
    "    third_q = np.percentile(X[feature], 75)\n",
    "    IQR = third_q - first_q\n",
    "    IQR *= 1.5\n",
    "    \n",
    "    minimum = first_q - IQR # the acceptable minimum value\n",
    "    maximum = third_q + IQR # the acceptable maximum value\n",
    "    \n",
    "    median = X[feature].median()\n",
    "    \n",
    "    \"\"\"\n",
    "    # any value beyond the acceptance range are considered\n",
    "    as outliers. \n",
    "    # we replace the outliers with the median value of that \n",
    "      feature.\n",
    "    \"\"\"\n",
    "    \n",
    "    X.loc[X[feature] < minimum, feature] = median \n",
    "    X.loc[X[feature] > maximum, feature] = median\n",
    "\n",
    "# taking all the columns except the last one\n",
    "# last column is the label\n",
    "\n",
    "X = data.iloc[:, :-1]\n",
    "for i in range(len(X.columns)): \n",
    "        remove_outlier(X.columns[i])"
   ]
  },
  {
   "cell_type": "code",
   "execution_count": 177,
   "metadata": {},
   "outputs": [],
   "source": [
    "X = data.iloc[:, :-1]\n"
   ]
  },
  {
   "cell_type": "code",
   "execution_count": 178,
   "metadata": {},
   "outputs": [
    {
     "name": "stdout",
     "output_type": "stream",
     "text": [
      "Systolic Contains Outlier\n",
      "Diastolic Contains Outlier\n",
      "Weight Contains Outlier\n",
      "Body-Mass-Index Contains Outlier\n",
      "Hemoglobin Contains Outlier\n",
      "Albumin Contains Outlier\n",
      "ALP Contains Outlier\n",
      "AST Contains Outlier\n",
      "ALT Contains Outlier\n",
      "Cholesterol Contains Outlier\n",
      "Creatinine Contains Outlier\n",
      "GGT Contains Outlier\n",
      "Iron Contains Outlier\n",
      "LDH Contains Outlier\n",
      "Phosphorus Contains Outlier\n",
      "Bilirubin Contains Outlier\n",
      "Protein Contains Outlier\n",
      "Uric.Acid Contains Outlier\n",
      "HDL Contains Outlier\n",
      "Glycohemoglobin Contains Outlier\n",
      "Diabetes Contains Outlier\n"
     ]
    }
   ],
   "source": [
    "for i in range(len(X.columns)):\n",
    "    if(detect_outlier(X[X.columns[i]])):\n",
    "        print(X.columns[i], \"Contains Outlier\")"
   ]
  },
  {
   "cell_type": "code",
   "execution_count": 179,
   "metadata": {},
   "outputs": [],
   "source": [
    "for i in range (50):\n",
    "    for i in range(len(X.columns)):\n",
    "        remove_outlier(X.columns[i])"
   ]
  },
  {
   "cell_type": "code",
   "execution_count": 180,
   "metadata": {},
   "outputs": [
    {
     "data": {
      "text/plain": [
       "(array([ 1,  2,  3,  4,  5,  6,  7,  8,  9, 10, 11, 12, 13, 14, 15, 16, 17,\n",
       "        18, 19, 20, 21, 22, 23, 24]),\n",
       " [Text(1, 0, 'Gender'),\n",
       "  Text(2, 0, 'Age'),\n",
       "  Text(3, 0, 'Systolic'),\n",
       "  Text(4, 0, 'Diastolic'),\n",
       "  Text(5, 0, 'Weight'),\n",
       "  Text(6, 0, 'Body-Mass-Index'),\n",
       "  Text(7, 0, 'Hemoglobin'),\n",
       "  Text(8, 0, 'Albumin'),\n",
       "  Text(9, 0, 'ALP'),\n",
       "  Text(10, 0, 'AST'),\n",
       "  Text(11, 0, 'ALT'),\n",
       "  Text(12, 0, 'Cholesterol'),\n",
       "  Text(13, 0, 'Creatinine'),\n",
       "  Text(14, 0, 'GGT'),\n",
       "  Text(15, 0, 'Iron'),\n",
       "  Text(16, 0, 'LDH'),\n",
       "  Text(17, 0, 'Phosphorus'),\n",
       "  Text(18, 0, 'Bilirubin'),\n",
       "  Text(19, 0, 'Protein'),\n",
       "  Text(20, 0, 'Uric.Acid'),\n",
       "  Text(21, 0, 'HDL'),\n",
       "  Text(22, 0, 'Glycohemoglobin'),\n",
       "  Text(23, 0, 'Moderate-work'),\n",
       "  Text(24, 0, 'Diabetes')])"
      ]
     },
     "execution_count": 180,
     "metadata": {},
     "output_type": "execute_result"
    },
    {
     "data": {
      "image/png": "[encoded data removed]",
      "text/plain": [
       "<Figure size 1080x432 with 1 Axes>"
      ]
     },
     "metadata": {},
     "output_type": "display_data"
    }
   ],
   "source": [
    "plt.subplots(figsize=(15,6))\n",
    "X.boxplot(patch_artist=True, sym=\"k.\")\n",
    "plt.xticks(rotation=90)"
   ]
  },
  {
   "cell_type": "code",
   "execution_count": 181,
   "metadata": {},
   "outputs": [],
   "source": [
    "for i in range(len(X.columns)):\n",
    "    if(detect_outlier(X[X.columns[i]])):\n",
    "        print(X.columns[i], \"Contains Outlier\")"
   ]
  },
  {
   "cell_type": "code",
   "execution_count": 182,
   "metadata": {},
   "outputs": [],
   "source": [
    "import numpy as np \n",
    "import pandas as pd\n",
    "import matplotlib.pyplot as plt\n",
    "%matplotlib inline\n",
    "\n",
    "import seaborn as sns\n",
    "sns.set()\n",
    "from sklearn.preprocessing import MinMaxScaler, StandardScaler, LabelEncoder\n",
    "from sklearn.svm import SVC\n",
    "from sklearn.naive_bayes import GaussianNB\n",
    "from sklearn.linear_model import LogisticRegression\n",
    "#from xgboost import XGBClassifier, plot_importance\n",
    "from sklearn.model_selection import train_test_split\n",
    "from sklearn.metrics import accuracy_score,confusion_matrix"
   ]
  },
  {
   "cell_type": "code",
   "execution_count": 183,
   "metadata": {},
   "outputs": [
    {
     "data": {
      "text/html": [
       "<div>\n",
       "<style scoped>\n",
       "    .dataframe tbody tr th:only-of-type {\n",
       "        vertical-align: middle;\n",
       "    }\n",
       "\n",
       "    .dataframe tbody tr th {\n",
       "        vertical-align: top;\n",
       "    }\n",
       "\n",
       "    .dataframe thead th {\n",
       "        text-align: right;\n",
       "    }\n",
       "</style>\n",
       "<table border=\"1\" class=\"dataframe\">\n",
       "  <thead>\n",
       "    <tr style=\"text-align: right;\">\n",
       "      <th></th>\n",
       "      <th>Gender</th>\n",
       "      <th>Age</th>\n",
       "      <th>Systolic</th>\n",
       "      <th>Diastolic</th>\n",
       "      <th>Weight</th>\n",
       "      <th>Body-Mass-Index</th>\n",
       "      <th>Hemoglobin</th>\n",
       "      <th>Albumin</th>\n",
       "      <th>ALP</th>\n",
       "      <th>AST</th>\n",
       "      <th>...</th>\n",
       "      <th>Iron</th>\n",
       "      <th>LDH</th>\n",
       "      <th>Phosphorus</th>\n",
       "      <th>Bilirubin</th>\n",
       "      <th>Protein</th>\n",
       "      <th>Uric.Acid</th>\n",
       "      <th>HDL</th>\n",
       "      <th>Glycohemoglobin</th>\n",
       "      <th>Moderate-work</th>\n",
       "      <th>Diabetes</th>\n",
       "    </tr>\n",
       "  </thead>\n",
       "  <tbody>\n",
       "    <tr>\n",
       "      <th>0</th>\n",
       "      <td>-1.026927</td>\n",
       "      <td>1.557803</td>\n",
       "      <td>-1.550529</td>\n",
       "      <td>-1.364841</td>\n",
       "      <td>-0.200522</td>\n",
       "      <td>-0.594546</td>\n",
       "      <td>-0.057520</td>\n",
       "      <td>0.726296</td>\n",
       "      <td>-0.309102</td>\n",
       "      <td>-0.790869</td>\n",
       "      <td>...</td>\n",
       "      <td>-0.630587</td>\n",
       "      <td>0.501804</td>\n",
       "      <td>-0.794259</td>\n",
       "      <td>0.243672</td>\n",
       "      <td>-0.000498</td>\n",
       "      <td>0.551461</td>\n",
       "      <td>0.177571</td>\n",
       "      <td>-2.261760</td>\n",
       "      <td>2.740933</td>\n",
       "      <td>0.0</td>\n",
       "    </tr>\n",
       "    <tr>\n",
       "      <th>1</th>\n",
       "      <td>-1.026927</td>\n",
       "      <td>0.003128</td>\n",
       "      <td>0.020931</td>\n",
       "      <td>1.166823</td>\n",
       "      <td>0.809160</td>\n",
       "      <td>0.228165</td>\n",
       "      <td>0.220450</td>\n",
       "      <td>0.726296</td>\n",
       "      <td>-0.252824</td>\n",
       "      <td>-0.174965</td>\n",
       "      <td>...</td>\n",
       "      <td>1.813833</td>\n",
       "      <td>0.188553</td>\n",
       "      <td>-0.989929</td>\n",
       "      <td>-0.661559</td>\n",
       "      <td>0.219406</td>\n",
       "      <td>1.070389</td>\n",
       "      <td>-0.715435</td>\n",
       "      <td>0.338547</td>\n",
       "      <td>-1.171490</td>\n",
       "      <td>0.0</td>\n",
       "    </tr>\n",
       "    <tr>\n",
       "      <th>2</th>\n",
       "      <td>-1.026927</td>\n",
       "      <td>-0.663161</td>\n",
       "      <td>-0.044546</td>\n",
       "      <td>2.667068</td>\n",
       "      <td>1.204766</td>\n",
       "      <td>0.525908</td>\n",
       "      <td>1.262840</td>\n",
       "      <td>1.374143</td>\n",
       "      <td>-0.252824</td>\n",
       "      <td>-1.201472</td>\n",
       "      <td>...</td>\n",
       "      <td>-0.630587</td>\n",
       "      <td>0.099053</td>\n",
       "      <td>-0.414776</td>\n",
       "      <td>-1.140799</td>\n",
       "      <td>-0.000498</td>\n",
       "      <td>0.255286</td>\n",
       "      <td>-1.003501</td>\n",
       "      <td>-0.636568</td>\n",
       "      <td>-1.171490</td>\n",
       "      <td>0.0</td>\n",
       "    </tr>\n",
       "    <tr>\n",
       "      <th>3</th>\n",
       "      <td>-1.026927</td>\n",
       "      <td>1.169134</td>\n",
       "      <td>0.544751</td>\n",
       "      <td>-0.427187</td>\n",
       "      <td>-0.897262</td>\n",
       "      <td>-0.463304</td>\n",
       "      <td>1.818781</td>\n",
       "      <td>-0.893321</td>\n",
       "      <td>1.998322</td>\n",
       "      <td>0.235638</td>\n",
       "      <td>...</td>\n",
       "      <td>-0.464676</td>\n",
       "      <td>2.336562</td>\n",
       "      <td>-1.754823</td>\n",
       "      <td>-0.661559</td>\n",
       "      <td>-1.319924</td>\n",
       "      <td>1.143811</td>\n",
       "      <td>-0.139302</td>\n",
       "      <td>0.013509</td>\n",
       "      <td>2.740933</td>\n",
       "      <td>0.0</td>\n",
       "    </tr>\n",
       "    <tr>\n",
       "      <th>4</th>\n",
       "      <td>-1.026927</td>\n",
       "      <td>1.779899</td>\n",
       "      <td>0.937616</td>\n",
       "      <td>-0.896014</td>\n",
       "      <td>-0.194617</td>\n",
       "      <td>-0.118549</td>\n",
       "      <td>1.679795</td>\n",
       "      <td>0.726296</td>\n",
       "      <td>2.392272</td>\n",
       "      <td>0.030336</td>\n",
       "      <td>...</td>\n",
       "      <td>-0.531040</td>\n",
       "      <td>0.949306</td>\n",
       "      <td>-0.989929</td>\n",
       "      <td>-0.208944</td>\n",
       "      <td>1.538832</td>\n",
       "      <td>0.626127</td>\n",
       "      <td>-0.830661</td>\n",
       "      <td>1.313662</td>\n",
       "      <td>-1.171490</td>\n",
       "      <td>0.0</td>\n",
       "    </tr>\n",
       "  </tbody>\n",
       "</table>\n",
       "<p>5 rows × 24 columns</p>\n",
       "</div>"
      ],
      "text/plain": [
       "     Gender       Age  Systolic  Diastolic    Weight  Body-Mass-Index  \\\n",
       "0 -1.026927  1.557803 -1.550529  -1.364841 -0.200522        -0.594546   \n",
       "1 -1.026927  0.003128  0.020931   1.166823  0.809160         0.228165   \n",
       "2 -1.026927 -0.663161 -0.044546   2.667068  1.204766         0.525908   \n",
       "3 -1.026927  1.169134  0.544751  -0.427187 -0.897262        -0.463304   \n",
       "4 -1.026927  1.779899  0.937616  -0.896014 -0.194617        -0.118549   \n",
       "\n",
       "   Hemoglobin   Albumin       ALP       AST  ...      Iron       LDH  \\\n",
       "0   -0.057520  0.726296 -0.309102 -0.790869  ... -0.630587  0.501804   \n",
       "1    0.220450  0.726296 -0.252824 -0.174965  ...  1.813833  0.188553   \n",
       "2    1.262840  1.374143 -0.252824 -1.201472  ... -0.630587  0.099053   \n",
       "3    1.818781 -0.893321  1.998322  0.235638  ... -0.464676  2.336562   \n",
       "4    1.679795  0.726296  2.392272  0.030336  ... -0.531040  0.949306   \n",
       "\n",
       "   Phosphorus  Bilirubin   Protein  Uric.Acid       HDL  Glycohemoglobin  \\\n",
       "0   -0.794259   0.243672 -0.000498   0.551461  0.177571        -2.261760   \n",
       "1   -0.989929  -0.661559  0.219406   1.070389 -0.715435         0.338547   \n",
       "2   -0.414776  -1.140799 -0.000498   0.255286 -1.003501        -0.636568   \n",
       "3   -1.754823  -0.661559 -1.319924   1.143811 -0.139302         0.013509   \n",
       "4   -0.989929  -0.208944  1.538832   0.626127 -0.830661         1.313662   \n",
       "\n",
       "   Moderate-work  Diabetes  \n",
       "0       2.740933       0.0  \n",
       "1      -1.171490       0.0  \n",
       "2      -1.171490       0.0  \n",
       "3       2.740933       0.0  \n",
       "4      -1.171490       0.0  \n",
       "\n",
       "[5 rows x 24 columns]"
      ]
     },
     "execution_count": 183,
     "metadata": {},
     "output_type": "execute_result"
    }
   ],
   "source": [
    "scaler = StandardScaler()\n",
    "scaled_data = scaler.fit_transform(X)\n",
    "scaled_df = pd.DataFrame(data = scaled_data, columns = X.columns)\n",
    "scaled_df.head()\n"
   ]
  },
  {
   "cell_type": "code",
   "execution_count": 184,
   "metadata": {},
   "outputs": [],
   "source": [
    "label = data[\"Diabetes\"]\n"
   ]
  },
  {
   "cell_type": "code",
   "execution_count": 185,
   "metadata": {},
   "outputs": [],
   "source": [
    "encoder = LabelEncoder()\n",
    "label = encoder.fit_transform(label)"
   ]
  },
  {
   "cell_type": "code",
   "execution_count": 186,
   "metadata": {},
   "outputs": [],
   "source": [
    "X = scaled_df\n",
    "y = label \n",
    "\n",
    "X_train, X_test, y_train, y_test = train_test_split(X, y, test_size=0.2, random_state=420)"
   ]
  },
  {
   "cell_type": "code",
   "execution_count": 187,
   "metadata": {},
   "outputs": [
    {
     "name": "stdout",
     "output_type": "stream",
     "text": [
      "(29663, 24) (7416,)\n",
      "(29663,) (7416,)\n"
     ]
    }
   ],
   "source": [
    "print(X_train.shape, y_test.shape)\n",
    "print(y_train.shape, y_test.shape)"
   ]
  },
  {
   "cell_type": "code",
   "execution_count": 188,
   "metadata": {},
   "outputs": [
    {
     "name": "stderr",
     "output_type": "stream",
     "text": [
      "C:\\Users\\Eigenaar\\AppData\\Roaming\\Python\\Python39\\site-packages\\sklearn\\feature_selection\\_univariate_selection.py:112: UserWarning:\n",
      "\n",
      "Features [23] are constant.\n",
      "\n",
      "C:\\Users\\Eigenaar\\AppData\\Roaming\\Python\\Python39\\site-packages\\sklearn\\feature_selection\\_univariate_selection.py:113: RuntimeWarning:\n",
      "\n",
      "invalid value encountered in true_divide\n",
      "\n"
     ]
    }
   ],
   "source": [
    "from sklearn.feature_selection import SelectKBest\n",
    "from sklearn.feature_selection import f_classif\n",
    "\n",
    "xnew2=SelectKBest(f_classif, k=20).fit_transform(X, y)"
   ]
  },
  {
   "cell_type": "code",
   "execution_count": 189,
   "metadata": {},
   "outputs": [
    {
     "name": "stdout",
     "output_type": "stream",
     "text": [
      "           Features     F_Scores\n",
      "1               Age  2686.409705\n",
      "5   Body-Mass-Index  1000.670115\n",
      "2          Systolic   766.368625\n",
      "4            Weight   526.900940\n",
      "7           Albumin   525.811066\n",
      "21  Glycohemoglobin   477.417483\n",
      "20              HDL   378.750379\n",
      "11      Cholesterol   334.923024\n",
      "13              GGT   305.472574\n",
      "6        Hemoglobin   271.220818\n",
      "14             Iron   211.216877\n",
      "22    Moderate-work   188.266414\n",
      "8               ALP   156.172300\n",
      "19        Uric.Acid   144.722845\n",
      "12       Creatinine   102.880413\n",
      "17        Bilirubin    80.463331\n",
      "3         Diastolic    63.316044\n",
      "15              LDH    49.826302\n",
      "10              ALT    27.645892\n",
      "9               AST    22.682305\n",
      "0            Gender    12.219556\n",
      "18          Protein     8.581358\n",
      "16       Phosphorus     0.000433\n",
      "23         Diabetes          NaN\n"
     ]
    },
    {
     "name": "stderr",
     "output_type": "stream",
     "text": [
      "C:\\Users\\Eigenaar\\AppData\\Roaming\\Python\\Python39\\site-packages\\sklearn\\feature_selection\\_univariate_selection.py:112: UserWarning:\n",
      "\n",
      "Features [23] are constant.\n",
      "\n",
      "C:\\Users\\Eigenaar\\AppData\\Roaming\\Python\\Python39\\site-packages\\sklearn\\feature_selection\\_univariate_selection.py:113: RuntimeWarning:\n",
      "\n",
      "invalid value encountered in true_divide\n",
      "\n"
     ]
    }
   ],
   "source": [
    " import sklearn.feature_selection as fs\n",
    " import matplotlib.pyplot as plt\n",
    " df2 = fs.SelectKBest(k='all')\n",
    "\n",
    " df2.fit(X, y)\n",
    "\n",
    " names = X.columns.values[df2.get_support()]\n",
    "\n",
    " scores = df2.scores_[df2.get_support()]\n",
    "\n",
    " names_scores = list(zip(names, scores))\n",
    "\n",
    " ns_df = pd.DataFrame(data = names_scores, columns=\n",
    "\n",
    "  ['Features','F_Scores'])\n",
    "\n",
    " ns_df_sorted = ns_df.sort_values(['F_Scores','Features'], ascending =\n",
    "\n",
    "  [False, True])\n",
    "\n",
    " print(ns_df_sorted)"
   ]
  },
  {
   "cell_type": "code",
   "execution_count": 190,
   "metadata": {},
   "outputs": [],
   "source": [
    "#import statsmodels.api as sm\n",
    "#import pandas\n",
    "#from patsy import dmatrices\n",
    "#logit_model = sm.OLS(y_train, X_train)\n",
    "#result = logit_model.fit()\n",
    "#print(result.summary2())"
   ]
  },
  {
   "cell_type": "code",
   "execution_count": 191,
   "metadata": {},
   "outputs": [],
   "source": [
    "#np.exp(result.params)\n"
   ]
  },
  {
   "cell_type": "code",
   "execution_count": 192,
   "metadata": {},
   "outputs": [],
   "source": [
    "#params = result.params\n",
    "#conf = result.conf_int()\n",
    "#conf['Odds Ratio'] = params.sort_index()\n",
    "#conf.columns = ['5%', '95%', 'Odds Ratio']\n",
    "#print(np.exp(conf))"
   ]
  },
  {
   "cell_type": "code",
   "execution_count": 193,
   "metadata": {},
   "outputs": [],
   "source": [
    "#result.pvalues.sort_values()\n"
   ]
  },
  {
   "cell_type": "code",
   "execution_count": 194,
   "metadata": {},
   "outputs": [],
   "source": [
    "#from sklearn.utils import class_weight\n",
    "#class_weights = class_weight.compute_class_weight('balanced',\n",
    "                                                # np.unique(y_train),\n",
    "                                                # y_train)\n",
    "#model.fit(X_train, y_train, class_weight=class_weights)\n"
   ]
  },
  {
   "cell_type": "code",
   "execution_count": 195,
   "metadata": {},
   "outputs": [
    {
     "name": "stdout",
     "output_type": "stream",
     "text": [
      "Best parameters : {'class_weight': {0: 0.4289473684210526, 1: 0.5710526315789475}}\n"
     ]
    },
    {
     "data": {
      "text/plain": [
       "<AxesSubplot:xlabel='weight'>"
      ]
     },
     "execution_count": 195,
     "metadata": {},
     "output_type": "execute_result"
    },
    {
     "data": {
      "image/png": "[encoded data removed]",
      "text/plain": [
       "<Figure size 432x288 with 1 Axes>"
      ]
     },
     "metadata": {},
     "output_type": "display_data"
    }
   ],
   "source": [
    "from sklearn.model_selection import GridSearchCV\n",
    "\n",
    "weights = np.linspace(0.05, 0.95, 20)\n",
    "\n",
    "gsc = GridSearchCV(\n",
    "    estimator=LogisticRegression(),\n",
    "    param_grid={\n",
    "        'class_weight': [{0: x, 1: 1.0-x} for x in weights]\n",
    "    },\n",
    "    scoring='accuracy',\n",
    "    cv=15\n",
    ")\n",
    "grid_result = gsc.fit(X, y)\n",
    "\n",
    "print(\"Best parameters : %s\" % grid_result.best_params_)\n",
    "\n",
    "# Plot the weights vs f1 score\n",
    "dataz = pd.DataFrame({ 'score': grid_result.cv_results_['mean_test_score'],\n",
    "                       'weight': weights })\n",
    "dataz.plot(x='weight')"
   ]
  },
  {
   "cell_type": "code",
   "execution_count": 196,
   "metadata": {},
   "outputs": [],
   "source": [
    "class_weight = {0: 0.5236842105263158,\n",
    "                1: 0.47631578947368425}"
   ]
  },
  {
   "cell_type": "code",
   "execution_count": 197,
   "metadata": {},
   "outputs": [],
   "source": [
    "#LR"
   ]
  },
  {
   "cell_type": "code",
   "execution_count": 198,
   "metadata": {},
   "outputs": [
    {
     "data": {
      "text/plain": [
       "\"\\nfrom sklearn.linear_model import LogisticRegression\\nfrom sklearn.metrics import confusion_matrix, classification_report\\nfrom mlxtend.plotting import plot_decision_regions, plot_confusion_matrix\\nfrom matplotlib import pyplot as plt\\nlr = LogisticRegression(class_weight='balanced',random_state=420)\\n\\n# Fit..\\nlr.fit(X_train, y_train)\\n\\n# Predict..\\ny_pred = lr.predict(X_test)\\n\\n# Evaluate the model\\nprint(classification_report(y_test, y_pred))\\nplot_confusion_matrix(confusion_matrix(y_test, y_pred))\\nfrom sklearn.metrics import roc_curve, auc\\nfalse_positive_rate, true_positive_rate, thresholds = roc_curve(y_test, y_pred)\\nroc_auc = auc(false_positive_rate, true_positive_rate)\\nroc_auc\\n\""
      ]
     },
     "execution_count": 198,
     "metadata": {},
     "output_type": "execute_result"
    }
   ],
   "source": [
    "'''\n",
    "from sklearn.linear_model import LogisticRegression\n",
    "from sklearn.metrics import confusion_matrix, classification_report\n",
    "from mlxtend.plotting import plot_decision_regions, plot_confusion_matrix\n",
    "from matplotlib import pyplot as plt\n",
    "lr = LogisticRegression(class_weight='balanced',random_state=420)\n",
    "\n",
    "# Fit..\n",
    "lr.fit(X_train, y_train)\n",
    "\n",
    "# Predict..\n",
    "y_pred = lr.predict(X_test)\n",
    "\n",
    "# Evaluate the model\n",
    "print(classification_report(y_test, y_pred))\n",
    "plot_confusion_matrix(confusion_matrix(y_test, y_pred))\n",
    "from sklearn.metrics import roc_curve, auc\n",
    "false_positive_rate, true_positive_rate, thresholds = roc_curve(y_test, y_pred)\n",
    "roc_auc = auc(false_positive_rate, true_positive_rate)\n",
    "roc_auc\n",
    "'''"
   ]
  },
  {
   "cell_type": "code",
   "execution_count": 199,
   "metadata": {},
   "outputs": [
    {
     "data": {
      "text/plain": [
       "'\\nfrom sklearn.svm import SVC\\n\\nclf_svc_rbf = SVC(kernel=\"rbf\",class_weight=\\'balanced\\',random_state=4200)\\nclf_svc_rbf.fit(X_train,y_train)\\ny_pred_clf_svc_rbf = clf_svc_rbf.predict(X_test)\\n\\n\\nimport matplotlib.pyplot as plt\\ncm = confusion_matrix(y_test,y_pred_clf_svc_rbf)\\n\\n#plt.figure(figsize=(5,5))\\n#sns.heatmap(cm,annot=True)\\n#plt.show()\\n\\n#print(classification_report(y_test,y_pred_clf_svc_rbf))\\n\\nprint(classification_report(y_test, y_pred_clf_svc_rbf))\\nplot_confusion_matrix(confusion_matrix(y_test, y_pred_clf_svc_rbf))\\n\\nfrom sklearn.metrics import roc_curve, auc\\nfalse_positive_rate, true_positive_rate, thresholds = roc_curve(y_test, y_pred_clf_svc_rbf)\\nroc_auc = auc(false_positive_rate, true_positive_rate)\\nroc_auc\\n'"
      ]
     },
     "execution_count": 199,
     "metadata": {},
     "output_type": "execute_result"
    }
   ],
   "source": [
    "'''\n",
    "from sklearn.svm import SVC\n",
    "\n",
    "clf_svc_rbf = SVC(kernel=\"rbf\",class_weight='balanced',random_state=4200)\n",
    "clf_svc_rbf.fit(X_train,y_train)\n",
    "y_pred_clf_svc_rbf = clf_svc_rbf.predict(X_test)\n",
    "\n",
    "\n",
    "import matplotlib.pyplot as plt\n",
    "cm = confusion_matrix(y_test,y_pred_clf_svc_rbf)\n",
    "\n",
    "#plt.figure(figsize=(5,5))\n",
    "#sns.heatmap(cm,annot=True)\n",
    "#plt.show()\n",
    "\n",
    "#print(classification_report(y_test,y_pred_clf_svc_rbf))\n",
    "\n",
    "print(classification_report(y_test, y_pred_clf_svc_rbf))\n",
    "plot_confusion_matrix(confusion_matrix(y_test, y_pred_clf_svc_rbf))\n",
    "\n",
    "from sklearn.metrics import roc_curve, auc\n",
    "false_positive_rate, true_positive_rate, thresholds = roc_curve(y_test, y_pred_clf_svc_rbf)\n",
    "roc_auc = auc(false_positive_rate, true_positive_rate)\n",
    "roc_auc\n",
    "'''"
   ]
  },
  {
   "cell_type": "code",
   "execution_count": 200,
   "metadata": {},
   "outputs": [
    {
     "name": "stdout",
     "output_type": "stream",
     "text": [
      "              precision    recall  f1-score   support\n",
      "\n",
      "           0       0.68      0.23      0.34       951\n",
      "           1       0.90      0.98      0.94      6465\n",
      "\n",
      "    accuracy                           0.89      7416\n",
      "   macro avg       0.79      0.61      0.64      7416\n",
      "weighted avg       0.87      0.89      0.86      7416\n",
      "\n"
     ]
    },
    {
     "data": {
      "text/plain": [
       "0.6072533247454749"
      ]
     },
     "execution_count": 200,
     "metadata": {},
     "output_type": "execute_result"
    },
    {
     "data": {
      "image/png": "[encoded data removed]",
      "text/plain": [
       "<Figure size 432x288 with 2 Axes>"
      ]
     },
     "metadata": {},
     "output_type": "display_data"
    }
   ],
   "source": [
    "\n",
    "from sklearn.ensemble import RandomForestClassifier\n",
    "from sklearn.metrics import classification_report\n",
    "from sklearn.metrics import confusion_matrix, ConfusionMatrixDisplay\n",
    "\n",
    "rd = RandomForestClassifier(class_weight='balanced',random_state=4200)\n",
    "rd.fit(X_train,y_train)\n",
    "y_pred_rd = rd.predict(X_test)\n",
    "\n",
    "\n",
    "import matplotlib.pyplot as plt\n",
    "cm = confusion_matrix(y_test,y_pred_rd)\n",
    "\n",
    "#plt.figure(figsize=(5,5))\n",
    "#sns.heatmap(cm,annot=True,linewidths=.3)\n",
    "#plt.show()\n",
    "\n",
    "print(classification_report(y_test,y_pred_rd))\n",
    "ConfusionMatrixDisplay.from_predictions(y_test,y_pred_rd)  #added by Elena becuase of confusion matrix error \n",
    "\n",
    "\n",
    "from sklearn.metrics import roc_curve, auc\n",
    "false_positive_rate, true_positive_rate, thresholds = roc_curve(y_test, y_pred_rd)\n",
    "roc_auc = auc(false_positive_rate, true_positive_rate)\n",
    "roc_auc\n"
   ]
  },
  {
   "cell_type": "code",
   "execution_count": 201,
   "metadata": {},
   "outputs": [],
   "source": [
    "#CV appraoach"
   ]
  },
  {
   "cell_type": "markdown",
   "metadata": {},
   "source": [
    "## SVM"
   ]
  },
  {
   "cell_type": "code",
   "execution_count": 202,
   "metadata": {},
   "outputs": [
    {
     "name": "stdout",
     "output_type": "stream",
     "text": [
      "Accuracy: 0.8742 (0.0033)\n"
     ]
    },
    {
     "data": {
      "text/plain": [
       "array([0.87702265, 0.875     , 0.87540453, 0.87473031, 0.86933657,\n",
       "       0.87769687, 0.86731392, 0.87432578, 0.87338188, 0.87823625])"
      ]
     },
     "execution_count": 202,
     "metadata": {},
     "output_type": "execute_result"
    }
   ],
   "source": [
    "\n",
    "# evaluate a logistic regression model using k-fold cross-validation\n",
    "from numpy import mean\n",
    "from numpy import std\n",
    "from sklearn.model_selection import KFold\n",
    "from sklearn.model_selection import cross_val_score\n",
    "from sklearn.model_selection import ShuffleSplit\n",
    "\n",
    "from sklearn.linear_model import LogisticRegression\n",
    "# create dataset\n",
    "#X, y = make_classification(n_samples=1000, n_features=20, n_informative=15, n_redundant=5, random_state=1)\n",
    "# prepare the cross-validation procedure\n",
    "#cv = KFold(n_splits=5, test_size= 0.2, random_state=0)\n",
    "cv = ShuffleSplit(n_splits=10, test_size=0.2, random_state=42)\n",
    "# create model\n",
    "model = SVC(kernel='rbf', C=1, class_weight=class_weight)\n",
    "# evaluate model\n",
    "scores = cross_val_score(model, X, y, scoring='accuracy', cv=cv, n_jobs=-1)\n",
    "# report performance\n",
    "print('Accuracy: %.4f (%.4f)' % (mean(scores), std(scores)))\n",
    "scores"
   ]
  },
  {
   "cell_type": "code",
   "execution_count": 203,
   "metadata": {},
   "outputs": [
    {
     "name": "stderr",
     "output_type": "stream",
     "text": [
      "C:\\Users\\Eigenaar\\AppData\\Roaming\\Python\\Python39\\site-packages\\sklearn\\utils\\deprecation.py:87: FutureWarning:\n",
      "\n",
      "Function plot_roc_curve is deprecated; Function :func:`plot_roc_curve` is deprecated in 1.0 and will be removed in 1.2. Use one of the class methods: :meth:`sklearn.metric.RocCurveDisplay.from_predictions` or :meth:`sklearn.metric.RocCurveDisplay.from_estimator`.\n",
      "\n",
      "C:\\Users\\Eigenaar\\AppData\\Roaming\\Python\\Python39\\site-packages\\sklearn\\utils\\deprecation.py:87: FutureWarning:\n",
      "\n",
      "Function plot_roc_curve is deprecated; Function :func:`plot_roc_curve` is deprecated in 1.0 and will be removed in 1.2. Use one of the class methods: :meth:`sklearn.metric.RocCurveDisplay.from_predictions` or :meth:`sklearn.metric.RocCurveDisplay.from_estimator`.\n",
      "\n",
      "C:\\Users\\Eigenaar\\AppData\\Roaming\\Python\\Python39\\site-packages\\sklearn\\utils\\deprecation.py:87: FutureWarning:\n",
      "\n",
      "Function plot_roc_curve is deprecated; Function :func:`plot_roc_curve` is deprecated in 1.0 and will be removed in 1.2. Use one of the class methods: :meth:`sklearn.metric.RocCurveDisplay.from_predictions` or :meth:`sklearn.metric.RocCurveDisplay.from_estimator`.\n",
      "\n",
      "C:\\Users\\Eigenaar\\AppData\\Roaming\\Python\\Python39\\site-packages\\sklearn\\utils\\deprecation.py:87: FutureWarning:\n",
      "\n",
      "Function plot_roc_curve is deprecated; Function :func:`plot_roc_curve` is deprecated in 1.0 and will be removed in 1.2. Use one of the class methods: :meth:`sklearn.metric.RocCurveDisplay.from_predictions` or :meth:`sklearn.metric.RocCurveDisplay.from_estimator`.\n",
      "\n",
      "C:\\Users\\Eigenaar\\AppData\\Roaming\\Python\\Python39\\site-packages\\sklearn\\utils\\deprecation.py:87: FutureWarning:\n",
      "\n",
      "Function plot_roc_curve is deprecated; Function :func:`plot_roc_curve` is deprecated in 1.0 and will be removed in 1.2. Use one of the class methods: :meth:`sklearn.metric.RocCurveDisplay.from_predictions` or :meth:`sklearn.metric.RocCurveDisplay.from_estimator`.\n",
      "\n",
      "C:\\Users\\Eigenaar\\AppData\\Roaming\\Python\\Python39\\site-packages\\sklearn\\utils\\deprecation.py:87: FutureWarning:\n",
      "\n",
      "Function plot_roc_curve is deprecated; Function :func:`plot_roc_curve` is deprecated in 1.0 and will be removed in 1.2. Use one of the class methods: :meth:`sklearn.metric.RocCurveDisplay.from_predictions` or :meth:`sklearn.metric.RocCurveDisplay.from_estimator`.\n",
      "\n",
      "C:\\Users\\Eigenaar\\AppData\\Roaming\\Python\\Python39\\site-packages\\sklearn\\utils\\deprecation.py:87: FutureWarning:\n",
      "\n",
      "Function plot_roc_curve is deprecated; Function :func:`plot_roc_curve` is deprecated in 1.0 and will be removed in 1.2. Use one of the class methods: :meth:`sklearn.metric.RocCurveDisplay.from_predictions` or :meth:`sklearn.metric.RocCurveDisplay.from_estimator`.\n",
      "\n",
      "C:\\Users\\Eigenaar\\AppData\\Roaming\\Python\\Python39\\site-packages\\sklearn\\utils\\deprecation.py:87: FutureWarning:\n",
      "\n",
      "Function plot_roc_curve is deprecated; Function :func:`plot_roc_curve` is deprecated in 1.0 and will be removed in 1.2. Use one of the class methods: :meth:`sklearn.metric.RocCurveDisplay.from_predictions` or :meth:`sklearn.metric.RocCurveDisplay.from_estimator`.\n",
      "\n",
      "C:\\Users\\Eigenaar\\AppData\\Roaming\\Python\\Python39\\site-packages\\sklearn\\utils\\deprecation.py:87: FutureWarning:\n",
      "\n",
      "Function plot_roc_curve is deprecated; Function :func:`plot_roc_curve` is deprecated in 1.0 and will be removed in 1.2. Use one of the class methods: :meth:`sklearn.metric.RocCurveDisplay.from_predictions` or :meth:`sklearn.metric.RocCurveDisplay.from_estimator`.\n",
      "\n",
      "C:\\Users\\Eigenaar\\AppData\\Roaming\\Python\\Python39\\site-packages\\sklearn\\utils\\deprecation.py:87: FutureWarning:\n",
      "\n",
      "Function plot_roc_curve is deprecated; Function :func:`plot_roc_curve` is deprecated in 1.0 and will be removed in 1.2. Use one of the class methods: :meth:`sklearn.metric.RocCurveDisplay.from_predictions` or :meth:`sklearn.metric.RocCurveDisplay.from_estimator`.\n",
      "\n"
     ]
    },
    {
     "data": {
      "image/png": "[encoded data removed]",
      "text/plain": [
       "<Figure size 432x288 with 1 Axes>"
      ]
     },
     "metadata": {},
     "output_type": "display_data"
    }
   ],
   "source": [
    "import numpy as np\n",
    "import matplotlib.pyplot as plt\n",
    "\n",
    "from sklearn import svm, datasets\n",
    "from sklearn.metrics import auc\n",
    "from sklearn.metrics import plot_roc_curve\n",
    "from sklearn.model_selection import StratifiedKFold\n",
    "\n",
    "\n",
    "\n",
    "# #############################################################################\n",
    "# Classification and ROC analysis\n",
    "\n",
    "# Run classifier with cross-validation and plot ROC curves\n",
    "cv = ShuffleSplit(n_splits=10, test_size=0.2, random_state=42)\n",
    "classifier = svm.SVC(kernel='rbf', probability=True, class_weight=class_weight,\n",
    "                     random_state=42)\n",
    "\n",
    "tprs = []\n",
    "aucs = []\n",
    "mean_fpr = np.linspace(0, 1, 100)\n",
    "\n",
    "fig, ax = plt.subplots()\n",
    "for i, (train, test) in enumerate(cv.split(X, y)):\n",
    "    classifier.fit(X, y)\n",
    "    viz = plot_roc_curve(classifier, X, y,\n",
    "                         name='ROC fold {}'.format(i),\n",
    "                         alpha=0.3, lw=1, ax=ax)\n",
    "    interp_tpr = np.interp(mean_fpr, viz.fpr, viz.tpr)\n",
    "    interp_tpr[0] = 0.0\n",
    "    tprs.append(interp_tpr)\n",
    "    aucs.append(viz.roc_auc)\n",
    "\n",
    "ax.plot([0, 1], [0, 1], linestyle='--', lw=2, color='r',\n",
    "        label='Chance', alpha=.8)\n",
    "\n",
    "mean_tpr = np.mean(tprs, axis=0)\n",
    "mean_tpr[-1] = 1.0\n",
    "mean_auc = auc(mean_fpr, mean_tpr)\n",
    "std_auc = np.std(aucs)\n",
    "ax.plot(mean_fpr, mean_tpr, color='b',\n",
    "        label=r'Mean ROC (AUC = %0.4f $\\pm$ %0.4f)' % (mean_auc, std_auc),\n",
    "        lw=2, alpha=.8)\n",
    "\n",
    "std_tpr = np.std(tprs, axis=0)\n",
    "tprs_upper = np.minimum(mean_tpr + std_tpr, 1)\n",
    "tprs_lower = np.maximum(mean_tpr - std_tpr, 0)\n",
    "ax.fill_between(mean_fpr, tprs_lower, tprs_upper, color='grey', alpha=.2,\n",
    "                label=r'$\\pm$ 1 std. dev.')\n",
    "\n",
    "ax.set(xlim=[-0.05, 1.05], ylim=[-0.05, 1.05],\n",
    "       title=\"Receiver operating characteristic\")\n",
    "ax.legend(loc=\"lower right\")\n",
    "plt.show()"
   ]
  },
  {
   "cell_type": "markdown",
   "metadata": {},
   "source": [
    "# LR"
   ]
  },
  {
   "cell_type": "code",
   "execution_count": 204,
   "metadata": {},
   "outputs": [
    {
     "name": "stdout",
     "output_type": "stream",
     "text": [
      "Accuracy: 0.8691 (0.0041)\n"
     ]
    },
    {
     "data": {
      "text/plain": [
       "array([0.87230313, 0.87149407, 0.8675836 , 0.87068501, 0.86313376,\n",
       "       0.87028047, 0.8623247 , 0.87095469, 0.86637001, 0.87621359])"
      ]
     },
     "execution_count": 204,
     "metadata": {},
     "output_type": "execute_result"
    }
   ],
   "source": [
    "from numpy import mean\n",
    "from numpy import std\n",
    "from sklearn.model_selection import KFold\n",
    "from sklearn.model_selection import cross_val_score\n",
    "from sklearn.model_selection import ShuffleSplit\n",
    "\n",
    "from sklearn.linear_model import LogisticRegression\n",
    "# create dataset\n",
    "#X, y = make_classification(n_samples=1000, n_features=20, n_informative=15, n_redundant=5, random_state=1)\n",
    "# prepare the cross-validation procedure\n",
    "#cv = KFold(n_splits=5, test_size= 0.2, random_state=0)\n",
    "cv = ShuffleSplit(n_splits=10, test_size=0.2, random_state=42)\n",
    "# create model\n",
    "model = LogisticRegression(class_weight=class_weight)\n",
    "# evaluate model\n",
    "scores = cross_val_score(model, X, y, scoring='accuracy', cv=cv, n_jobs=-1)\n",
    "# report performance\n",
    "print('Accuracy: %.4f (%.4f)' % (mean(scores), std(scores)))\n",
    "scores"
   ]
  },
  {
   "cell_type": "code",
   "execution_count": 205,
   "metadata": {},
   "outputs": [
    {
     "name": "stderr",
     "output_type": "stream",
     "text": [
      "C:\\Users\\Eigenaar\\AppData\\Roaming\\Python\\Python39\\site-packages\\sklearn\\utils\\deprecation.py:87: FutureWarning:\n",
      "\n",
      "Function plot_roc_curve is deprecated; Function :func:`plot_roc_curve` is deprecated in 1.0 and will be removed in 1.2. Use one of the class methods: :meth:`sklearn.metric.RocCurveDisplay.from_predictions` or :meth:`sklearn.metric.RocCurveDisplay.from_estimator`.\n",
      "\n",
      "C:\\Users\\Eigenaar\\AppData\\Roaming\\Python\\Python39\\site-packages\\sklearn\\utils\\deprecation.py:87: FutureWarning:\n",
      "\n",
      "Function plot_roc_curve is deprecated; Function :func:`plot_roc_curve` is deprecated in 1.0 and will be removed in 1.2. Use one of the class methods: :meth:`sklearn.metric.RocCurveDisplay.from_predictions` or :meth:`sklearn.metric.RocCurveDisplay.from_estimator`.\n",
      "\n",
      "C:\\Users\\Eigenaar\\AppData\\Roaming\\Python\\Python39\\site-packages\\sklearn\\utils\\deprecation.py:87: FutureWarning:\n",
      "\n",
      "Function plot_roc_curve is deprecated; Function :func:`plot_roc_curve` is deprecated in 1.0 and will be removed in 1.2. Use one of the class methods: :meth:`sklearn.metric.RocCurveDisplay.from_predictions` or :meth:`sklearn.metric.RocCurveDisplay.from_estimator`.\n",
      "\n",
      "C:\\Users\\Eigenaar\\AppData\\Roaming\\Python\\Python39\\site-packages\\sklearn\\utils\\deprecation.py:87: FutureWarning:\n",
      "\n",
      "Function plot_roc_curve is deprecated; Function :func:`plot_roc_curve` is deprecated in 1.0 and will be removed in 1.2. Use one of the class methods: :meth:`sklearn.metric.RocCurveDisplay.from_predictions` or :meth:`sklearn.metric.RocCurveDisplay.from_estimator`.\n",
      "\n",
      "C:\\Users\\Eigenaar\\AppData\\Roaming\\Python\\Python39\\site-packages\\sklearn\\utils\\deprecation.py:87: FutureWarning:\n",
      "\n",
      "Function plot_roc_curve is deprecated; Function :func:`plot_roc_curve` is deprecated in 1.0 and will be removed in 1.2. Use one of the class methods: :meth:`sklearn.metric.RocCurveDisplay.from_predictions` or :meth:`sklearn.metric.RocCurveDisplay.from_estimator`.\n",
      "\n",
      "C:\\Users\\Eigenaar\\AppData\\Roaming\\Python\\Python39\\site-packages\\sklearn\\utils\\deprecation.py:87: FutureWarning:\n",
      "\n",
      "Function plot_roc_curve is deprecated; Function :func:`plot_roc_curve` is deprecated in 1.0 and will be removed in 1.2. Use one of the class methods: :meth:`sklearn.metric.RocCurveDisplay.from_predictions` or :meth:`sklearn.metric.RocCurveDisplay.from_estimator`.\n",
      "\n",
      "C:\\Users\\Eigenaar\\AppData\\Roaming\\Python\\Python39\\site-packages\\sklearn\\utils\\deprecation.py:87: FutureWarning:\n",
      "\n",
      "Function plot_roc_curve is deprecated; Function :func:`plot_roc_curve` is deprecated in 1.0 and will be removed in 1.2. Use one of the class methods: :meth:`sklearn.metric.RocCurveDisplay.from_predictions` or :meth:`sklearn.metric.RocCurveDisplay.from_estimator`.\n",
      "\n",
      "C:\\Users\\Eigenaar\\AppData\\Roaming\\Python\\Python39\\site-packages\\sklearn\\utils\\deprecation.py:87: FutureWarning:\n",
      "\n",
      "Function plot_roc_curve is deprecated; Function :func:`plot_roc_curve` is deprecated in 1.0 and will be removed in 1.2. Use one of the class methods: :meth:`sklearn.metric.RocCurveDisplay.from_predictions` or :meth:`sklearn.metric.RocCurveDisplay.from_estimator`.\n",
      "\n",
      "C:\\Users\\Eigenaar\\AppData\\Roaming\\Python\\Python39\\site-packages\\sklearn\\utils\\deprecation.py:87: FutureWarning:\n",
      "\n",
      "Function plot_roc_curve is deprecated; Function :func:`plot_roc_curve` is deprecated in 1.0 and will be removed in 1.2. Use one of the class methods: :meth:`sklearn.metric.RocCurveDisplay.from_predictions` or :meth:`sklearn.metric.RocCurveDisplay.from_estimator`.\n",
      "\n",
      "C:\\Users\\Eigenaar\\AppData\\Roaming\\Python\\Python39\\site-packages\\sklearn\\utils\\deprecation.py:87: FutureWarning:\n",
      "\n",
      "Function plot_roc_curve is deprecated; Function :func:`plot_roc_curve` is deprecated in 1.0 and will be removed in 1.2. Use one of the class methods: :meth:`sklearn.metric.RocCurveDisplay.from_predictions` or :meth:`sklearn.metric.RocCurveDisplay.from_estimator`.\n",
      "\n"
     ]
    },
    {
     "data": {
      "image/png": "[encoded data removed]",
      "text/plain": [
       "<Figure size 432x288 with 1 Axes>"
      ]
     },
     "metadata": {},
     "output_type": "display_data"
    }
   ],
   "source": [
    "import numpy as np\n",
    "import matplotlib.pyplot as plt\n",
    "\n",
    "from sklearn import svm, datasets\n",
    "from sklearn.metrics import auc\n",
    "from sklearn.metrics import plot_roc_curve\n",
    "from sklearn.model_selection import StratifiedKFold\n",
    "\n",
    "# #############################################################################\n",
    "# Data IO and generation\n",
    "\n",
    "# Import some data to play with\n",
    "#iris = datasets.load_iris()\n",
    "#X = iris.data\n",
    "#y = iris.target\n",
    "#X, y = X[y != 2], y[y != 2]\n",
    "#n_samples, n_features = X.shape\n",
    "\n",
    "# Add noisy features\n",
    "#random_state = np.random.RandomState(0)\n",
    "#X = np.c_[X, random_state.randn(n_samples, 200 * n_features)]\n",
    "\n",
    "# #############################################################################\n",
    "# Classification and ROC analysis\n",
    "\n",
    "# Run classifier with cross-validation and plot ROC curves\n",
    "cv = ShuffleSplit(n_splits=10, test_size=0.2, random_state=42)\n",
    "classifier = LogisticRegression(class_weight=class_weight,random_state=42)\n",
    "tprs = []\n",
    "aucs = []\n",
    "mean_fpr = np.linspace(0, 1, 100)\n",
    "\n",
    "fig, ax = plt.subplots()\n",
    "for i, (train, test) in enumerate(cv.split(X, y)):\n",
    "    classifier.fit(X, y)\n",
    "    viz = plot_roc_curve(classifier, X, y,\n",
    "                         name='ROC fold {}'.format(i),\n",
    "                         alpha=0.3, lw=1, ax=ax)\n",
    "    interp_tpr = np.interp(mean_fpr, viz.fpr, viz.tpr)\n",
    "    interp_tpr[0] = 0.0\n",
    "    tprs.append(interp_tpr)\n",
    "    aucs.append(viz.roc_auc)\n",
    "\n",
    "ax.plot([0, 1], [0, 1], linestyle='--', lw=2, color='r',\n",
    "        label='Chance', alpha=.8)\n",
    "\n",
    "mean_tpr = np.mean(tprs, axis=0)\n",
    "mean_tpr[-1] = 1.0\n",
    "mean_auc = auc(mean_fpr, mean_tpr)\n",
    "std_auc = np.std(aucs)\n",
    "ax.plot(mean_fpr, mean_tpr, color='b',\n",
    "        label=r'Mean ROC (AUC = %0.4f $\\pm$ %0.4f)' % (mean_auc, std_auc),\n",
    "        lw=2, alpha=.8)\n",
    "\n",
    "std_tpr = np.std(tprs, axis=0)\n",
    "tprs_upper = np.minimum(mean_tpr + std_tpr, 1)\n",
    "tprs_lower = np.maximum(mean_tpr - std_tpr, 0)\n",
    "ax.fill_between(mean_fpr, tprs_lower, tprs_upper, color='grey', alpha=.2,\n",
    "                label=r'$\\pm$ 1 std. dev.')\n",
    "\n",
    "ax.set(xlim=[-0.05, 1.05], ylim=[-0.05, 1.05],\n",
    "       title=\"Receiver operating characteristic example\")\n",
    "ax.legend(loc=\"lower right\")\n",
    "plt.show()"
   ]
  },
  {
   "cell_type": "markdown",
   "metadata": {},
   "source": [
    "## RF"
   ]
  },
  {
   "cell_type": "code",
   "execution_count": 206,
   "metadata": {},
   "outputs": [
    {
     "name": "stdout",
     "output_type": "stream",
     "text": [
      "Accuracy: 0.8911 (0.0029)\n"
     ]
    },
    {
     "data": {
      "text/plain": [
       "array([0.89279935, 0.89333873, 0.8907767 , 0.89023732, 0.88781014,\n",
       "       0.89428263, 0.88592233, 0.8917206 , 0.88834951, 0.89563107])"
      ]
     },
     "execution_count": 206,
     "metadata": {},
     "output_type": "execute_result"
    }
   ],
   "source": [
    "from numpy import mean\n",
    "from numpy import std\n",
    "from sklearn.model_selection import KFold\n",
    "from sklearn.model_selection import cross_val_score\n",
    "from sklearn.ensemble import RandomForestClassifier\n",
    "\n",
    "from sklearn.model_selection import ShuffleSplit\n",
    "\n",
    "# create dataset\n",
    "#X, y = make_classification(n_samples=1000, n_features=20, n_informative=15, n_redundant=5, random_state=1)\n",
    "# prepare the cross-validation procedure\n",
    "#cv = KFold(n_splits=5, test_size= 0.2, random_state=0)\n",
    "cv = ShuffleSplit(n_splits=10, test_size=0.2, random_state=42)\n",
    "# create model\n",
    "model = RandomForestClassifier(class_weight=class_weight)\n",
    "# evaluate model\n",
    "scores = cross_val_score(model, X, y, scoring='accuracy', cv=cv, n_jobs=-1)\n",
    "# report performance\n",
    "print('Accuracy: %.4f (%.4f)' % (mean(scores), std(scores)))\n",
    "scores"
   ]
  },
  {
   "cell_type": "code",
   "execution_count": null,
   "metadata": {},
   "outputs": [],
   "source": []
  },
  {
   "cell_type": "code",
   "execution_count": 207,
   "metadata": {},
   "outputs": [
    {
     "data": {
      "image/png": "[encoded data removed]",
      "text/plain": [
       "<Figure size 432x288 with 1 Axes>"
      ]
     },
     "metadata": {},
     "output_type": "display_data"
    }
   ],
   "source": [
    "import numpy as np\n",
    "import matplotlib.pyplot as plt\n",
    "\n",
    "from sklearn import svm, datasets\n",
    "from sklearn.metrics import auc\n",
    "from sklearn.metrics import plot_roc_curve\n",
    "from sklearn.model_selection import StratifiedKFold\n",
    "\n",
    "# #############################################################################\n",
    "# Data IO and generation\n",
    "\n",
    "# Import some data to play with\n",
    "#iris = datasets.load_iris()\n",
    "#X = iris.data\n",
    "#y = iris.target\n",
    "#X, y = X[y != 2], y[y != 2]\n",
    "#n_samples, n_features = X.shape\n",
    "\n",
    "# Add noisy features\n",
    "#random_state = np.random.RandomState(0)\n",
    "#X = np.c_[X, random_state.randn(n_samples, 200 * n_features)]\n",
    "\n",
    "# #############################################################################\n",
    "# Classification and ROC analysis\n",
    "\n",
    "# Run classifier with cross-validation and plot ROC curves\n",
    "cv = ShuffleSplit(n_splits=10, test_size=0.2, random_state=42)\n",
    "classifier = RandomForestClassifier(class_weight=class_weight,random_state=42)\n",
    "tprs = []\n",
    "aucs = []\n",
    "mean_fpr = np.linspace(0, 1, 100)\n",
    "\n",
    "fig, ax = plt.subplots()\n",
    "for i, (train, test) in enumerate(cv.split(X, y)):\n",
    "    classifier.fit(X, y)\n",
    "    #viz = plot_roc_curve(classifier, X, y,\n",
    "                  #       name='ROC fold {}'.format(i),\n",
    "                    #     alpha=0.3, lw=1, ax=ax)\n",
    "    interp_tpr = np.interp(mean_fpr, viz.fpr, viz.tpr)\n",
    "    interp_tpr[0] = 0.0\n",
    "    tprs.append(interp_tpr)\n",
    "    aucs.append(viz.roc_auc)\n",
    "\n",
    "ax.plot([0, 1], [0, 1], linestyle='--', lw=2, color='r',\n",
    "        label='Chance', alpha=.8)\n",
    "\n",
    "mean_tpr = np.mean(tprs, axis=0)\n",
    "mean_tpr[-1] = 1.0\n",
    "mean_auc = auc(mean_fpr, mean_tpr)\n",
    "std_auc = np.std(aucs)\n",
    "ax.plot(mean_fpr, mean_tpr, color='b',\n",
    "        label=r'Mean ROC (AUC = %0.4f $\\pm$ %0.4f)' % (mean_auc, std_auc),\n",
    "        lw=2, alpha=.8)\n",
    "\n",
    "std_tpr = np.std(tprs, axis=0)\n",
    "tprs_upper = np.minimum(mean_tpr + std_tpr, 1)\n",
    "tprs_lower = np.maximum(mean_tpr - std_tpr, 0)\n",
    "ax.fill_between(mean_fpr, tprs_lower, tprs_upper, color='grey', alpha=.2,\n",
    "                label=r'$\\pm$ 1 std. dev.')\n",
    "\n",
    "ax.set(xlim=[-0.05, 1.05], ylim=[-0.05, 1.05],\n",
    "       title=\"Receiver operating characteristic of Random Forest Classifier\")\n",
    "ax.legend(loc=\"lower right\")\n",
    "plt.show()"
   ]
  },
  {
   "cell_type": "markdown",
   "metadata": {},
   "source": [
    "## DT"
   ]
  },
  {
   "cell_type": "code",
   "execution_count": 208,
   "metadata": {},
   "outputs": [
    {
     "name": "stdout",
     "output_type": "stream",
     "text": [
      "Accuracy: 0.8417 (0.0029)\n"
     ]
    },
    {
     "data": {
      "text/plain": [
       "array([0.84115426, 0.84209817, 0.84425566, 0.84263754, 0.84142395,\n",
       "       0.84452535, 0.83535599, 0.84614347, 0.83980583, 0.84007551])"
      ]
     },
     "execution_count": 208,
     "metadata": {},
     "output_type": "execute_result"
    }
   ],
   "source": [
    "from numpy import mean\n",
    "from numpy import std\n",
    "from sklearn.model_selection import KFold\n",
    "from sklearn.model_selection import cross_val_score\n",
    "from sklearn.model_selection import ShuffleSplit\n",
    "from sklearn.tree import DecisionTreeClassifier\n",
    "\n",
    "\n",
    "# create dataset\n",
    "#X, y = make_classification(n_samples=1000, n_features=20, n_informative=15, n_redundant=5, random_state=1)\n",
    "# prepare the cross-validation procedure\n",
    "#cv = KFold(n_splits=5, test_size= 0.2, random_state=0)\n",
    "cv = ShuffleSplit(n_splits=10, test_size=0.2, random_state=42)\n",
    "# create model\n",
    "model = DecisionTreeClassifier(class_weight=class_weight)\n",
    "# evaluate model\n",
    "scores = cross_val_score(model, X, y, scoring='accuracy', cv=cv, n_jobs=-1)\n",
    "# report performance\n",
    "print('Accuracy: %.4f (%.4f)' % (mean(scores), std(scores)))\n",
    "scores"
   ]
  },
  {
   "cell_type": "code",
   "execution_count": 209,
   "metadata": {},
   "outputs": [
    {
     "name": "stderr",
     "output_type": "stream",
     "text": [
      "C:\\Users\\Eigenaar\\AppData\\Roaming\\Python\\Python39\\site-packages\\sklearn\\utils\\deprecation.py:87: FutureWarning:\n",
      "\n",
      "Function plot_roc_curve is deprecated; Function :func:`plot_roc_curve` is deprecated in 1.0 and will be removed in 1.2. Use one of the class methods: :meth:`sklearn.metric.RocCurveDisplay.from_predictions` or :meth:`sklearn.metric.RocCurveDisplay.from_estimator`.\n",
      "\n",
      "C:\\Users\\Eigenaar\\AppData\\Roaming\\Python\\Python39\\site-packages\\sklearn\\utils\\deprecation.py:87: FutureWarning:\n",
      "\n",
      "Function plot_roc_curve is deprecated; Function :func:`plot_roc_curve` is deprecated in 1.0 and will be removed in 1.2. Use one of the class methods: :meth:`sklearn.metric.RocCurveDisplay.from_predictions` or :meth:`sklearn.metric.RocCurveDisplay.from_estimator`.\n",
      "\n",
      "C:\\Users\\Eigenaar\\AppData\\Roaming\\Python\\Python39\\site-packages\\sklearn\\utils\\deprecation.py:87: FutureWarning:\n",
      "\n",
      "Function plot_roc_curve is deprecated; Function :func:`plot_roc_curve` is deprecated in 1.0 and will be removed in 1.2. Use one of the class methods: :meth:`sklearn.metric.RocCurveDisplay.from_predictions` or :meth:`sklearn.metric.RocCurveDisplay.from_estimator`.\n",
      "\n",
      "C:\\Users\\Eigenaar\\AppData\\Roaming\\Python\\Python39\\site-packages\\sklearn\\utils\\deprecation.py:87: FutureWarning:\n",
      "\n",
      "Function plot_roc_curve is deprecated; Function :func:`plot_roc_curve` is deprecated in 1.0 and will be removed in 1.2. Use one of the class methods: :meth:`sklearn.metric.RocCurveDisplay.from_predictions` or :meth:`sklearn.metric.RocCurveDisplay.from_estimator`.\n",
      "\n",
      "C:\\Users\\Eigenaar\\AppData\\Roaming\\Python\\Python39\\site-packages\\sklearn\\utils\\deprecation.py:87: FutureWarning:\n",
      "\n",
      "Function plot_roc_curve is deprecated; Function :func:`plot_roc_curve` is deprecated in 1.0 and will be removed in 1.2. Use one of the class methods: :meth:`sklearn.metric.RocCurveDisplay.from_predictions` or :meth:`sklearn.metric.RocCurveDisplay.from_estimator`.\n",
      "\n",
      "C:\\Users\\Eigenaar\\AppData\\Roaming\\Python\\Python39\\site-packages\\sklearn\\utils\\deprecation.py:87: FutureWarning:\n",
      "\n",
      "Function plot_roc_curve is deprecated; Function :func:`plot_roc_curve` is deprecated in 1.0 and will be removed in 1.2. Use one of the class methods: :meth:`sklearn.metric.RocCurveDisplay.from_predictions` or :meth:`sklearn.metric.RocCurveDisplay.from_estimator`.\n",
      "\n",
      "C:\\Users\\Eigenaar\\AppData\\Roaming\\Python\\Python39\\site-packages\\sklearn\\utils\\deprecation.py:87: FutureWarning:\n",
      "\n",
      "Function plot_roc_curve is deprecated; Function :func:`plot_roc_curve` is deprecated in 1.0 and will be removed in 1.2. Use one of the class methods: :meth:`sklearn.metric.RocCurveDisplay.from_predictions` or :meth:`sklearn.metric.RocCurveDisplay.from_estimator`.\n",
      "\n",
      "C:\\Users\\Eigenaar\\AppData\\Roaming\\Python\\Python39\\site-packages\\sklearn\\utils\\deprecation.py:87: FutureWarning:\n",
      "\n",
      "Function plot_roc_curve is deprecated; Function :func:`plot_roc_curve` is deprecated in 1.0 and will be removed in 1.2. Use one of the class methods: :meth:`sklearn.metric.RocCurveDisplay.from_predictions` or :meth:`sklearn.metric.RocCurveDisplay.from_estimator`.\n",
      "\n",
      "C:\\Users\\Eigenaar\\AppData\\Roaming\\Python\\Python39\\site-packages\\sklearn\\utils\\deprecation.py:87: FutureWarning:\n",
      "\n",
      "Function plot_roc_curve is deprecated; Function :func:`plot_roc_curve` is deprecated in 1.0 and will be removed in 1.2. Use one of the class methods: :meth:`sklearn.metric.RocCurveDisplay.from_predictions` or :meth:`sklearn.metric.RocCurveDisplay.from_estimator`.\n",
      "\n",
      "C:\\Users\\Eigenaar\\AppData\\Roaming\\Python\\Python39\\site-packages\\sklearn\\utils\\deprecation.py:87: FutureWarning:\n",
      "\n",
      "Function plot_roc_curve is deprecated; Function :func:`plot_roc_curve` is deprecated in 1.0 and will be removed in 1.2. Use one of the class methods: :meth:`sklearn.metric.RocCurveDisplay.from_predictions` or :meth:`sklearn.metric.RocCurveDisplay.from_estimator`.\n",
      "\n"
     ]
    },
    {
     "data": {
      "image/png": "[encoded data removed]",
      "text/plain": [
       "<Figure size 432x288 with 1 Axes>"
      ]
     },
     "metadata": {},
     "output_type": "display_data"
    }
   ],
   "source": [
    "import numpy as np\n",
    "import matplotlib.pyplot as plt\n",
    "\n",
    "from sklearn import svm, datasets\n",
    "from sklearn.metrics import auc\n",
    "from sklearn.metrics import plot_roc_curve\n",
    "from sklearn.model_selection import StratifiedKFold\n",
    "\n",
    "# #############################################################################\n",
    "# Data IO and generation\n",
    "\n",
    "# Import some data to play with\n",
    "#iris = datasets.load_iris()\n",
    "#X = iris.data\n",
    "#y = iris.target\n",
    "#X, y = X[y != 2], y[y != 2]\n",
    "#n_samples, n_features = X.shape\n",
    "\n",
    "# Add noisy features\n",
    "#random_state = np.random.RandomState(0)\n",
    "#X = np.c_[X, random_state.randn(n_samples, 200 * n_features)]\n",
    "\n",
    "# #############################################################################\n",
    "# Classification and ROC analysis\n",
    "\n",
    "# Run classifier with cross-validation and plot ROC curves\n",
    "cv = ShuffleSplit(n_splits=10, test_size=0.2, random_state=42)\n",
    "classifier = DecisionTreeClassifier(class_weight=class_weight,random_state=42)\n",
    "tprs = []\n",
    "aucs = []\n",
    "mean_fpr = np.linspace(0, 1, 100)\n",
    "\n",
    "fig, ax = plt.subplots()\n",
    "for i, (train, test) in enumerate(cv.split(X, y)):\n",
    "    classifier.fit(X, y)\n",
    "    viz = plot_roc_curve(classifier, X, y,\n",
    "                         name='ROC fold {}'.format(i),\n",
    "                         alpha=0.3, lw=1, ax=ax)\n",
    "    interp_tpr = np.interp(mean_fpr, viz.fpr, viz.tpr)\n",
    "    interp_tpr[0] = 0.0\n",
    "    tprs.append(interp_tpr)\n",
    "    aucs.append(viz.roc_auc)\n",
    "\n",
    "ax.plot([0, 1], [0, 1], linestyle='--', lw=2, color='r',\n",
    "        label='Chance', alpha=.8)\n",
    "\n",
    "mean_tpr = np.mean(tprs, axis=0)\n",
    "mean_tpr[-1] = 1.0\n",
    "mean_auc = auc(mean_fpr, mean_tpr)\n",
    "std_auc = np.std(aucs)\n",
    "ax.plot(mean_fpr, mean_tpr, color='b',\n",
    "        label=r'Mean ROC (AUC = %0.4f $\\pm$ %0.4f)' % (mean_auc, std_auc),\n",
    "        lw=2, alpha=.8)\n",
    "\n",
    "std_tpr = np.std(tprs, axis=0)\n",
    "tprs_upper = np.minimum(mean_tpr + std_tpr, 1)\n",
    "tprs_lower = np.maximum(mean_tpr - std_tpr, 0)\n",
    "ax.fill_between(mean_fpr, tprs_lower, tprs_upper, color='grey', alpha=.2,\n",
    "                label=r'$\\pm$ 1 std. dev.')\n",
    "\n",
    "ax.set(xlim=[-0.05, 1.05], ylim=[-0.05, 1.05],\n",
    "       title=\"Receiver operating characteristic example\")\n",
    "ax.legend(loc=\"lower right\")\n",
    "plt.show()"
   ]
  },
  {
   "cell_type": "code",
   "execution_count": 210,
   "metadata": {},
   "outputs": [],
   "source": [
    "#from sklearn.model_selection import cross_val_score\n",
    "#from sklearn import svm\n",
    "#clf = svm.SVC(kernel='rbf', C=1, class_weight=class_weight)\n",
    "#scores = cross_val_score(clf, X, y, cv=5)\n",
    "#print(\"Accuracy: %0.4f (+/- %0.4f)\" % (scores.mean(), scores.std() * 2))\n",
    "\n",
    "#clf.score(X_test, y_test)"
   ]
  },
  {
   "cell_type": "markdown",
   "metadata": {},
   "source": [
    "## ANN"
   ]
  },
  {
   "cell_type": "code",
   "execution_count": 211,
   "metadata": {},
   "outputs": [],
   "source": [
    "import keras\n",
    "from keras.models import Sequential\n",
    "from keras.layers import Dense,Dropout"
   ]
  },
  {
   "cell_type": "code",
   "execution_count": 212,
   "metadata": {},
   "outputs": [
    {
     "name": "stdout",
     "output_type": "stream",
     "text": [
      "Epoch 1/100\n",
      "2967/2967 [==============================] - 11s 3ms/step - loss: 0.1614 - accuracy: 0.8719 - val_loss: 0.2987 - val_accuracy: 0.8869\n",
      "Epoch 2/100\n",
      "2967/2967 [==============================] - 10s 3ms/step - loss: 0.1485 - accuracy: 0.8859 - val_loss: 0.2847 - val_accuracy: 0.8888\n",
      "Epoch 3/100\n",
      "2967/2967 [==============================] - 9s 3ms/step - loss: 0.1425 - accuracy: 0.8900 - val_loss: 0.2721 - val_accuracy: 0.8897\n",
      "Epoch 4/100\n",
      "2967/2967 [==============================] - 10s 3ms/step - loss: 0.1376 - accuracy: 0.8928 - val_loss: 0.2666 - val_accuracy: 0.8927\n",
      "Epoch 5/100\n",
      "2967/2967 [==============================] - 10s 3ms/step - loss: 0.1344 - accuracy: 0.8935 - val_loss: 0.2730 - val_accuracy: 0.8909\n",
      "Epoch 6/100\n",
      "2967/2967 [==============================] - 10s 3ms/step - loss: 0.1329 - accuracy: 0.8965 - val_loss: 0.2669 - val_accuracy: 0.8892\n",
      "Epoch 7/100\n",
      "2967/2967 [==============================] - 10s 3ms/step - loss: 0.1315 - accuracy: 0.8968 - val_loss: 0.2627 - val_accuracy: 0.8917\n",
      "Epoch 8/100\n",
      "2967/2967 [==============================] - 10s 3ms/step - loss: 0.1296 - accuracy: 0.8984 - val_loss: 0.2654 - val_accuracy: 0.8925\n",
      "Epoch 9/100\n",
      "2967/2967 [==============================] - 10s 3ms/step - loss: 0.1283 - accuracy: 0.8997 - val_loss: 0.2620 - val_accuracy: 0.8906\n",
      "Epoch 10/100\n",
      "2967/2967 [==============================] - 10s 3ms/step - loss: 0.1268 - accuracy: 0.9005 - val_loss: 0.2652 - val_accuracy: 0.8898\n",
      "Epoch 11/100\n",
      "2967/2967 [==============================] - 10s 3ms/step - loss: 0.1264 - accuracy: 0.9033 - val_loss: 0.2643 - val_accuracy: 0.8892\n",
      "Epoch 12/100\n",
      "2967/2967 [==============================] - 10s 3ms/step - loss: 0.1243 - accuracy: 0.9034 - val_loss: 0.2611 - val_accuracy: 0.8936\n",
      "Epoch 13/100\n",
      "2967/2967 [==============================] - 10s 3ms/step - loss: 0.1230 - accuracy: 0.9048 - val_loss: 0.2614 - val_accuracy: 0.8925\n",
      "Epoch 14/100\n",
      "2967/2967 [==============================] - 10s 3ms/step - loss: 0.1209 - accuracy: 0.9053 - val_loss: 0.2684 - val_accuracy: 0.8875\n",
      "Epoch 15/100\n",
      "2967/2967 [==============================] - 10s 3ms/step - loss: 0.1199 - accuracy: 0.9062 - val_loss: 0.2665 - val_accuracy: 0.8886\n",
      "Epoch 16/100\n",
      "2967/2967 [==============================] - 10s 3ms/step - loss: 0.1196 - accuracy: 0.9075 - val_loss: 0.2670 - val_accuracy: 0.8885\n",
      "Epoch 17/100\n",
      "2967/2967 [==============================] - 10s 3ms/step - loss: 0.1181 - accuracy: 0.9079 - val_loss: 0.2716 - val_accuracy: 0.8885\n",
      "Epoch 18/100\n",
      "2967/2967 [==============================] - 10s 3ms/step - loss: 0.1159 - accuracy: 0.9101 - val_loss: 0.2713 - val_accuracy: 0.8905\n",
      "Epoch 19/100\n",
      "2967/2967 [==============================] - 10s 3ms/step - loss: 0.1153 - accuracy: 0.9127 - val_loss: 0.2824 - val_accuracy: 0.8758\n",
      "Epoch 20/100\n",
      "2967/2967 [==============================] - 10s 3ms/step - loss: 0.1131 - accuracy: 0.9137 - val_loss: 0.2751 - val_accuracy: 0.8852\n",
      "Epoch 21/100\n",
      "2967/2967 [==============================] - 9s 3ms/step - loss: 0.1126 - accuracy: 0.9116 - val_loss: 0.2823 - val_accuracy: 0.8869\n",
      "Epoch 22/100\n",
      "2967/2967 [==============================] - 10s 3ms/step - loss: 0.1102 - accuracy: 0.9145 - val_loss: 0.2938 - val_accuracy: 0.8842\n",
      "Epoch 23/100\n",
      "2967/2967 [==============================] - 10s 3ms/step - loss: 0.1096 - accuracy: 0.9178 - val_loss: 0.2875 - val_accuracy: 0.8870\n",
      "Epoch 24/100\n",
      "2967/2967 [==============================] - 10s 3ms/step - loss: 0.1084 - accuracy: 0.9172 - val_loss: 0.2888 - val_accuracy: 0.8827\n",
      "Epoch 25/100\n",
      "2967/2967 [==============================] - 10s 3ms/step - loss: 0.1067 - accuracy: 0.9191 - val_loss: 0.2859 - val_accuracy: 0.8852\n",
      "Epoch 26/100\n",
      "2967/2967 [==============================] - 10s 3ms/step - loss: 0.1045 - accuracy: 0.9217 - val_loss: 0.2961 - val_accuracy: 0.8858\n",
      "Epoch 27/100\n",
      "2967/2967 [==============================] - 10s 3ms/step - loss: 0.1048 - accuracy: 0.9222 - val_loss: 0.2981 - val_accuracy: 0.8859\n",
      "Epoch 28/100\n",
      "2967/2967 [==============================] - 10s 3ms/step - loss: 0.1019 - accuracy: 0.9245 - val_loss: 0.2882 - val_accuracy: 0.8852\n",
      "Epoch 29/100\n",
      "2967/2967 [==============================] - 10s 3ms/step - loss: 0.1002 - accuracy: 0.9269 - val_loss: 0.3011 - val_accuracy: 0.8821\n",
      "Epoch 30/100\n",
      "2967/2967 [==============================] - 10s 3ms/step - loss: 0.1007 - accuracy: 0.9256 - val_loss: 0.2998 - val_accuracy: 0.8813\n",
      "Epoch 31/100\n",
      "2967/2967 [==============================] - 10s 3ms/step - loss: 0.0990 - accuracy: 0.9274 - val_loss: 0.3108 - val_accuracy: 0.8827\n",
      "Epoch 32/100\n",
      "2967/2967 [==============================] - 10s 3ms/step - loss: 0.0980 - accuracy: 0.9270 - val_loss: 0.2977 - val_accuracy: 0.8827\n",
      "Epoch 33/100\n",
      "2967/2967 [==============================] - 10s 3ms/step - loss: 0.0964 - accuracy: 0.9277 - val_loss: 0.3111 - val_accuracy: 0.8821\n",
      "Epoch 34/100\n",
      "2967/2967 [==============================] - 10s 3ms/step - loss: 0.0953 - accuracy: 0.9299 - val_loss: 0.3197 - val_accuracy: 0.8835\n",
      "Epoch 35/100\n",
      "2967/2967 [==============================] - 10s 3ms/step - loss: 0.0939 - accuracy: 0.9311 - val_loss: 0.3220 - val_accuracy: 0.8813\n",
      "Epoch 36/100\n",
      "2967/2967 [==============================] - 10s 3ms/step - loss: 0.0920 - accuracy: 0.9325 - val_loss: 0.3238 - val_accuracy: 0.8827\n",
      "Epoch 37/100\n",
      "2967/2967 [==============================] - 10s 3ms/step - loss: 0.0921 - accuracy: 0.9329 - val_loss: 0.3217 - val_accuracy: 0.8831\n",
      "Epoch 38/100\n",
      "2967/2967 [==============================] - 10s 3ms/step - loss: 0.0907 - accuracy: 0.9347 - val_loss: 0.3184 - val_accuracy: 0.8827\n",
      "Epoch 39/100\n",
      "2967/2967 [==============================] - 10s 3ms/step - loss: 0.0894 - accuracy: 0.9346 - val_loss: 0.3227 - val_accuracy: 0.8782\n",
      "Epoch 40/100\n",
      "2967/2967 [==============================] - 10s 3ms/step - loss: 0.0891 - accuracy: 0.9360 - val_loss: 0.3468 - val_accuracy: 0.8821\n",
      "Epoch 41/100\n",
      "2967/2967 [==============================] - 10s 3ms/step - loss: 0.0866 - accuracy: 0.9370 - val_loss: 0.3421 - val_accuracy: 0.8777\n",
      "Epoch 42/100\n",
      "2967/2967 [==============================] - 10s 3ms/step - loss: 0.0864 - accuracy: 0.9378 - val_loss: 0.3186 - val_accuracy: 0.8722\n",
      "Epoch 43/100\n",
      "2967/2967 [==============================] - 10s 3ms/step - loss: 0.0859 - accuracy: 0.9382 - val_loss: 0.3256 - val_accuracy: 0.8766\n",
      "Epoch 44/100\n",
      "2967/2967 [==============================] - 10s 3ms/step - loss: 0.0851 - accuracy: 0.9393 - val_loss: 0.3623 - val_accuracy: 0.8804\n",
      "Epoch 45/100\n",
      "2967/2967 [==============================] - 10s 3ms/step - loss: 0.0835 - accuracy: 0.9395 - val_loss: 0.3569 - val_accuracy: 0.8769\n",
      "Epoch 46/100\n",
      "2967/2967 [==============================] - 10s 3ms/step - loss: 0.0839 - accuracy: 0.9392 - val_loss: 0.3376 - val_accuracy: 0.8759\n",
      "Epoch 47/100\n",
      "2967/2967 [==============================] - 10s 3ms/step - loss: 0.0809 - accuracy: 0.9428 - val_loss: 0.3436 - val_accuracy: 0.8794\n",
      "Epoch 48/100\n",
      "2967/2967 [==============================] - 10s 3ms/step - loss: 0.0818 - accuracy: 0.9409 - val_loss: 0.3625 - val_accuracy: 0.8739\n",
      "Epoch 49/100\n",
      "2967/2967 [==============================] - 10s 3ms/step - loss: 0.0804 - accuracy: 0.9434 - val_loss: 0.3778 - val_accuracy: 0.8784\n",
      "Epoch 50/100\n",
      "2967/2967 [==============================] - 10s 3ms/step - loss: 0.0805 - accuracy: 0.9424 - val_loss: 0.3951 - val_accuracy: 0.8751\n",
      "Epoch 51/100\n",
      "2967/2967 [==============================] - 10s 3ms/step - loss: 0.0800 - accuracy: 0.9431 - val_loss: 0.3474 - val_accuracy: 0.8720\n",
      "Epoch 52/100\n",
      "2967/2967 [==============================] - 10s 3ms/step - loss: 0.0787 - accuracy: 0.9439 - val_loss: 0.3307 - val_accuracy: 0.8745\n",
      "Epoch 53/100\n",
      "2967/2967 [==============================] - 10s 3ms/step - loss: 0.0785 - accuracy: 0.9447 - val_loss: 0.3698 - val_accuracy: 0.8772\n",
      "Epoch 54/100\n",
      "2967/2967 [==============================] - 10s 3ms/step - loss: 0.0774 - accuracy: 0.9448 - val_loss: 0.3812 - val_accuracy: 0.8739\n",
      "Epoch 55/100\n",
      "2967/2967 [==============================] - 10s 3ms/step - loss: 0.0766 - accuracy: 0.9460 - val_loss: 0.3690 - val_accuracy: 0.8793\n",
      "Epoch 56/100\n",
      "2967/2967 [==============================] - 10s 3ms/step - loss: 0.0758 - accuracy: 0.9469 - val_loss: 0.3966 - val_accuracy: 0.8758\n",
      "Epoch 57/100\n",
      "2967/2967 [==============================] - 10s 3ms/step - loss: 0.0763 - accuracy: 0.9461 - val_loss: 0.4281 - val_accuracy: 0.8773\n",
      "Epoch 58/100\n",
      "2967/2967 [==============================] - 10s 3ms/step - loss: 0.0739 - accuracy: 0.9480 - val_loss: 0.4123 - val_accuracy: 0.8750\n",
      "Epoch 59/100\n",
      "2967/2967 [==============================] - 10s 3ms/step - loss: 0.0745 - accuracy: 0.9475 - val_loss: 0.4893 - val_accuracy: 0.8766\n",
      "Epoch 60/100\n",
      "2967/2967 [==============================] - 10s 3ms/step - loss: 0.0748 - accuracy: 0.9473 - val_loss: 0.3811 - val_accuracy: 0.8745\n",
      "Epoch 61/100\n",
      "2967/2967 [==============================] - 10s 3ms/step - loss: 0.0738 - accuracy: 0.9478 - val_loss: 0.4160 - val_accuracy: 0.8728\n",
      "Epoch 62/100\n",
      "2967/2967 [==============================] - 11s 4ms/step - loss: 0.0735 - accuracy: 0.9492 - val_loss: 0.3692 - val_accuracy: 0.8754\n",
      "Epoch 63/100\n",
      "2967/2967 [==============================] - 10s 3ms/step - loss: 0.0719 - accuracy: 0.9498 - val_loss: 0.4217 - val_accuracy: 0.8757\n",
      "Epoch 64/100\n",
      "2967/2967 [==============================] - 10s 3ms/step - loss: 0.0713 - accuracy: 0.9501 - val_loss: 0.3760 - val_accuracy: 0.8660\n",
      "Epoch 65/100\n",
      "2967/2967 [==============================] - 10s 3ms/step - loss: 0.0722 - accuracy: 0.9492 - val_loss: 0.3710 - val_accuracy: 0.8750\n",
      "Epoch 66/100\n",
      "2967/2967 [==============================] - 10s 3ms/step - loss: 0.0710 - accuracy: 0.9497 - val_loss: 0.4168 - val_accuracy: 0.8754\n",
      "Epoch 67/100\n",
      "2967/2967 [==============================] - 10s 3ms/step - loss: 0.0705 - accuracy: 0.9508 - val_loss: 0.4156 - val_accuracy: 0.8720\n",
      "Epoch 68/100\n",
      "2967/2967 [==============================] - 10s 3ms/step - loss: 0.0703 - accuracy: 0.9509 - val_loss: 0.4243 - val_accuracy: 0.8737\n",
      "Epoch 69/100\n",
      "2967/2967 [==============================] - 10s 3ms/step - loss: 0.0676 - accuracy: 0.9519 - val_loss: 0.4536 - val_accuracy: 0.8754\n",
      "Epoch 70/100\n",
      "2967/2967 [==============================] - 10s 3ms/step - loss: 0.0694 - accuracy: 0.9518 - val_loss: 0.4113 - val_accuracy: 0.8685\n",
      "Epoch 71/100\n",
      "2967/2967 [==============================] - 10s 3ms/step - loss: 0.0686 - accuracy: 0.9517 - val_loss: 0.4312 - val_accuracy: 0.8732\n",
      "Epoch 72/100\n",
      "2967/2967 [==============================] - 10s 3ms/step - loss: 0.0667 - accuracy: 0.9538 - val_loss: 0.4638 - val_accuracy: 0.8738\n",
      "Epoch 73/100\n",
      "2967/2967 [==============================] - 10s 3ms/step - loss: 0.0671 - accuracy: 0.9539 - val_loss: 0.4048 - val_accuracy: 0.8759\n",
      "Epoch 74/100\n",
      "2967/2967 [==============================] - 10s 3ms/step - loss: 0.0678 - accuracy: 0.9527 - val_loss: 0.3990 - val_accuracy: 0.8774\n",
      "Epoch 75/100\n",
      "2967/2967 [==============================] - 10s 3ms/step - loss: 0.0669 - accuracy: 0.9532 - val_loss: 0.3584 - val_accuracy: 0.8652\n",
      "Epoch 76/100\n",
      "2967/2967 [==============================] - 10s 3ms/step - loss: 0.0666 - accuracy: 0.9536 - val_loss: 0.4116 - val_accuracy: 0.8720\n",
      "Epoch 77/100\n",
      "2967/2967 [==============================] - 10s 3ms/step - loss: 0.0678 - accuracy: 0.9530 - val_loss: 0.4693 - val_accuracy: 0.8724\n",
      "Epoch 78/100\n",
      "2967/2967 [==============================] - 10s 3ms/step - loss: 0.0660 - accuracy: 0.9522 - val_loss: 0.4649 - val_accuracy: 0.8769\n",
      "Epoch 79/100\n",
      "2967/2967 [==============================] - 10s 3ms/step - loss: 0.0639 - accuracy: 0.9547 - val_loss: 0.4033 - val_accuracy: 0.8714\n",
      "Epoch 80/100\n",
      "2967/2967 [==============================] - 10s 3ms/step - loss: 0.0657 - accuracy: 0.9541 - val_loss: 0.4785 - val_accuracy: 0.8715\n",
      "Epoch 81/100\n",
      "2967/2967 [==============================] - 10s 3ms/step - loss: 0.0641 - accuracy: 0.9555 - val_loss: 0.4632 - val_accuracy: 0.8720\n",
      "Epoch 82/100\n",
      "2967/2967 [==============================] - 10s 3ms/step - loss: 0.0637 - accuracy: 0.9544 - val_loss: 0.5174 - val_accuracy: 0.8732\n",
      "Epoch 83/100\n",
      "2967/2967 [==============================] - 10s 3ms/step - loss: 0.0643 - accuracy: 0.9552 - val_loss: 0.5269 - val_accuracy: 0.8670\n",
      "Epoch 84/100\n",
      "2967/2967 [==============================] - 10s 3ms/step - loss: 0.0616 - accuracy: 0.9558 - val_loss: 0.5289 - val_accuracy: 0.8707\n",
      "Epoch 85/100\n",
      "2967/2967 [==============================] - 10s 3ms/step - loss: 0.0617 - accuracy: 0.9570 - val_loss: 0.4131 - val_accuracy: 0.8693\n",
      "Epoch 86/100\n",
      "2967/2967 [==============================] - 10s 3ms/step - loss: 0.0641 - accuracy: 0.9568 - val_loss: 0.5165 - val_accuracy: 0.8681\n",
      "Epoch 87/100\n",
      "2967/2967 [==============================] - 10s 4ms/step - loss: 0.0623 - accuracy: 0.9572 - val_loss: 0.6048 - val_accuracy: 0.8703\n",
      "Epoch 88/100\n",
      "2967/2967 [==============================] - 10s 3ms/step - loss: 0.0614 - accuracy: 0.9582 - val_loss: 0.4484 - val_accuracy: 0.8724\n",
      "Epoch 89/100\n",
      "2967/2967 [==============================] - 10s 3ms/step - loss: 0.0617 - accuracy: 0.9569 - val_loss: 0.4647 - val_accuracy: 0.8728\n",
      "Epoch 90/100\n",
      "2967/2967 [==============================] - 10s 3ms/step - loss: 0.0598 - accuracy: 0.9583 - val_loss: 0.5761 - val_accuracy: 0.8716\n",
      "Epoch 91/100\n",
      "2967/2967 [==============================] - 10s 3ms/step - loss: 0.0600 - accuracy: 0.9575 - val_loss: 0.5604 - val_accuracy: 0.8753\n",
      "Epoch 92/100\n",
      "2967/2967 [==============================] - 10s 3ms/step - loss: 0.0610 - accuracy: 0.9572 - val_loss: 0.4985 - val_accuracy: 0.8716\n",
      "Epoch 93/100\n",
      "2967/2967 [==============================] - 10s 3ms/step - loss: 0.0599 - accuracy: 0.9592 - val_loss: 0.4665 - val_accuracy: 0.8701\n",
      "Epoch 94/100\n",
      "2967/2967 [==============================] - 10s 3ms/step - loss: 0.0591 - accuracy: 0.9583 - val_loss: 0.5360 - val_accuracy: 0.8750\n",
      "Epoch 95/100\n",
      "2967/2967 [==============================] - 10s 3ms/step - loss: 0.0595 - accuracy: 0.9596 - val_loss: 0.5492 - val_accuracy: 0.8726\n",
      "Epoch 96/100\n",
      "2967/2967 [==============================] - 10s 3ms/step - loss: 0.0601 - accuracy: 0.9586 - val_loss: 0.5783 - val_accuracy: 0.8738\n",
      "Epoch 97/100\n",
      "2967/2967 [==============================] - 10s 3ms/step - loss: 0.0605 - accuracy: 0.9583 - val_loss: 0.5440 - val_accuracy: 0.8724\n",
      "Epoch 98/100\n",
      "2967/2967 [==============================] - 10s 3ms/step - loss: 0.0573 - accuracy: 0.9600 - val_loss: 0.5751 - val_accuracy: 0.8681\n",
      "Epoch 99/100\n",
      "2967/2967 [==============================] - 10s 4ms/step - loss: 0.0597 - accuracy: 0.9581 - val_loss: 0.5723 - val_accuracy: 0.8719\n",
      "Epoch 100/100\n",
      "2967/2967 [==============================] - 10s 3ms/step - loss: 0.0579 - accuracy: 0.9603 - val_loss: 0.4837 - val_accuracy: 0.8722\n"
     ]
    },
    {
     "data": {
      "text/plain": [
       "<keras.callbacks.History at 0x14db03a1eb0>"
      ]
     },
     "execution_count": 212,
     "metadata": {},
     "output_type": "execute_result"
    }
   ],
   "source": [
    "classifier=Sequential()\n",
    "classifier.add(Dense(units=256, kernel_initializer='uniform',activation='relu',input_dim=24))\n",
    "classifier.add(Dense(units=128, kernel_initializer='uniform',activation='relu'))\n",
    "classifier.add(Dropout(0.5))\n",
    "classifier.add(Dense(units=64, kernel_initializer='uniform',activation='relu'))\n",
    "classifier.add(Dropout(0.4))\n",
    "classifier.add(Dense(units=32, kernel_initializer='uniform',activation='relu'))\n",
    "\n",
    "classifier.add(Dense(units=1, kernel_initializer='uniform',activation='sigmoid'))\n",
    "classifier.compile(optimizer='adam',loss=\"binary_crossentropy\",metrics=['accuracy'])\n",
    "classifier.fit(X_train,y_train,batch_size=10,epochs=100,class_weight=class_weight,validation_data=(X_test, y_test))"
   ]
  },
  {
   "cell_type": "code",
   "execution_count": 213,
   "metadata": {},
   "outputs": [
    {
     "name": "stdout",
     "output_type": "stream",
     "text": [
      "232/232 [==============================] - 0s 2ms/step\n",
      "              precision    recall  f1-score   support\n",
      "\n",
      "           0       0.37      0.60      0.46       951\n",
      "           1       0.93      0.85      0.89      6465\n",
      "\n",
      "    accuracy                           0.82      7416\n",
      "   macro avg       0.65      0.72      0.67      7416\n",
      "weighted avg       0.86      0.82      0.84      7416\n",
      "\n"
     ]
    },
    {
     "data": {
      "text/plain": [
       "0.7237839763248357"
      ]
     },
     "execution_count": 213,
     "metadata": {},
     "output_type": "execute_result"
    }
   ],
   "source": [
    "#clf_svc_rbf.fit(X_train,y_train)\n",
    "from sklearn.metrics import confusion_matrix,classification_report,roc_auc_score,auc,f1_score\n",
    "y_pred = classifier.predict(X_test)>0.9\n",
    "\n",
    "\n",
    "import matplotlib.pyplot as plt\n",
    "cm = confusion_matrix(y_test,y_pred)\n",
    "\n",
    "#plt.figure(figsize=(5,5))\n",
    "#sns.heatmap(cm,annot=True)\n",
    "#plt.show()\n",
    "\n",
    "#print(classification_report(y_test,y_pred_clf_svc_rbf))\n",
    "\n",
    "print(classification_report(y_test, y_pred))\n",
    "#plot_confusion_matrix(confusion_matrix(y_test, y_pred))\n",
    "\n",
    "from sklearn.metrics import roc_curve, auc\n",
    "false_positive_rate, true_positive_rate, thresholds = roc_curve(y_test, y_pred)\n",
    "roc_auc = auc(false_positive_rate, true_positive_rate)\n",
    "roc_auc"
   ]
  },
  {
   "cell_type": "code",
   "execution_count": 214,
   "metadata": {},
   "outputs": [
    {
     "name": "stdout",
     "output_type": "stream",
     "text": [
      "AUC Score: 0.7237839763248357\n"
     ]
    },
    {
     "data": {
      "image/png": "[encoded data removed]",
      "text/plain": [
       "<Figure size 432x288 with 1 Axes>"
      ]
     },
     "metadata": {},
     "output_type": "display_data"
    }
   ],
   "source": [
    "from sklearn.metrics import roc_curve,roc_auc_score\n",
    "from sklearn.metrics import auc\n",
    "\n",
    "fpr , tpr , thresholds = roc_curve ( y_test , y_pred)\n",
    "auc_keras = auc(fpr, tpr)\n",
    "print(\"AUC Score:\",auc_keras)\n",
    "plt.figure()\n",
    "lw = 2\n",
    "plt.plot(fpr, tpr, color='darkorange',\n",
    "         lw=lw, label='ROC curve (area = %0.4f)' % auc_keras)\n",
    "plt.plot([0, 1], [0, 1], color='navy', lw=lw, linestyle='--')\n",
    "plt.xlim([0.0, 1.0])\n",
    "plt.ylim([0.0, 1.05])\n",
    "plt.xlabel('False Positive Rate')\n",
    "plt.ylabel('True Positive Rate')\n",
    "plt.title('Receiver operating characteristic example')\n",
    "plt.legend(loc=\"lower right\")\n",
    "plt.show()"
   ]
  },
  {
   "cell_type": "code",
   "execution_count": 215,
   "metadata": {},
   "outputs": [],
   "source": [
    "#from sklearn.tree import DecisionTreeClassifier\n",
    "\n",
    "\n",
    "#from sklearn.model_selection import cross_val_score\n",
    "\n",
    "#dt = DecisionTreeClassifier(class_weight=class_weight)\n",
    "#scores = cross_val_score(clf, X, y, cv=5)\n",
    "#print(\"Accuracy: %0.4f (+/- %0.4f)\" % (scores.mean(), scores.std() * 2))"
   ]
  },
  {
   "cell_type": "code",
   "execution_count": null,
   "metadata": {},
   "outputs": [],
   "source": []
  },
  {
   "cell_type": "code",
   "execution_count": 216,
   "metadata": {},
   "outputs": [
    {
     "data": {
      "text/plain": [
       "'\\n\\nfrom sklearn.linear_model import LogisticRegression\\nfrom sklearn.metrics import confusion_matrix,classification_report,roc_auc_score,auc,f1_score\\n\\nlr = LogisticRegression()\\nlr.fit(X_train,y_train)\\ny_pred_logistic = lr.predict(X_test)\\n\\nimport matplotlib.pyplot as plt\\ncm = confusion_matrix(y_test,y_pred_logistic)\\n\\nplt.figure(figsize=(5,5))\\nsns.heatmap(cm,annot=True,linewidths=.3)\\nplt.show()\\n\\nprint(classification_report(y_test,y_pred_logistic))\\n\\n\\nfrom sklearn.metrics import roc_curve, auc\\nfalse_positive_rate, true_positive_rate, thresholds = roc_curve(y_test, y_pred_logistic)\\nroc_auc = auc(false_positive_rate, true_positive_rate)\\nroc_auc\\nprint(f1_score(y_test, y_pred_logistic,average=\"macro\"))\\n'"
      ]
     },
     "execution_count": 216,
     "metadata": {},
     "output_type": "execute_result"
    }
   ],
   "source": [
    "'''\n",
    "\n",
    "from sklearn.linear_model import LogisticRegression\n",
    "from sklearn.metrics import confusion_matrix,classification_report,roc_auc_score,auc,f1_score\n",
    "\n",
    "lr = LogisticRegression()\n",
    "lr.fit(X_train,y_train)\n",
    "y_pred_logistic = lr.predict(X_test)\n",
    "\n",
    "import matplotlib.pyplot as plt\n",
    "cm = confusion_matrix(y_test,y_pred_logistic)\n",
    "\n",
    "plt.figure(figsize=(5,5))\n",
    "sns.heatmap(cm,annot=True,linewidths=.3)\n",
    "plt.show()\n",
    "\n",
    "print(classification_report(y_test,y_pred_logistic))\n",
    "\n",
    "\n",
    "from sklearn.metrics import roc_curve, auc\n",
    "false_positive_rate, true_positive_rate, thresholds = roc_curve(y_test, y_pred_logistic)\n",
    "roc_auc = auc(false_positive_rate, true_positive_rate)\n",
    "roc_auc\n",
    "print(f1_score(y_test, y_pred_logistic,average=\"macro\"))\n",
    "'''"
   ]
  },
  {
   "cell_type": "code",
   "execution_count": 217,
   "metadata": {},
   "outputs": [],
   "source": [
    "from sklearn import datasets\n",
    "from sklearn.model_selection import cross_val_score\n",
    "from sklearn.linear_model import LogisticRegression\n",
    "from sklearn.naive_bayes import GaussianNB\n",
    "from sklearn.ensemble import RandomForestClassifier\n",
    "from sklearn.ensemble import VotingClassifier"
   ]
  },
  {
   "cell_type": "code",
   "execution_count": 218,
   "metadata": {},
   "outputs": [],
   "source": [
    "clf1 = SVC(kernel='rbf', C=1, class_weight=class_weight,random_state=42)\n",
    "clf2 = LogisticRegression(class_weight=class_weight,random_state=42)\n",
    "clf3 = RandomForestClassifier(class_weight=class_weight,random_state=42)\n",
    "clf4 = DecisionTreeClassifier(class_weight=class_weight,random_state=42)\n",
    "#clf5 = Sequential()"
   ]
  },
  {
   "cell_type": "code",
   "execution_count": 219,
   "metadata": {},
   "outputs": [],
   "source": [
    "eclf = VotingClassifier( estimators=[('svm', clf1), ('lr', clf2), ('rf', clf3), ('dt',clf4)],\n",
    "     voting='hard')"
   ]
  },
  {
   "cell_type": "code",
   "execution_count": 220,
   "metadata": {},
   "outputs": [
    {
     "name": "stdout",
     "output_type": "stream",
     "text": [
      "Accuracy: 0.8846 (+/- 0.0046) [Ensemble]\n"
     ]
    },
    {
     "data": {
      "text/plain": [
       "array([0.87944984, 0.88079827, 0.88187702, 0.89239482, 0.88349515,\n",
       "       0.87729234, 0.88942826, 0.88888889, 0.88619202, 0.88616132])"
      ]
     },
     "execution_count": 220,
     "metadata": {},
     "output_type": "execute_result"
    }
   ],
   "source": [
    "for clf, label in zip([clf1, clf2, clf3,clf4 ,eclf], ['SVM', 'LR', 'RF','DT', 'Ensemble']):\n",
    "    scores = cross_val_score(clf, X, y, scoring='accuracy', cv=10)\n",
    "print(\"Accuracy: %0.4f (+/- %0.4f) [%s]\" % (scores.mean(), scores.std(), label))\n",
    "scores"
   ]
  },
  {
   "cell_type": "markdown",
   "metadata": {},
   "source": [
    "# Additional code"
   ]
  },
  {
   "cell_type": "code",
   "execution_count": 221,
   "metadata": {},
   "outputs": [
    {
     "name": "stdout",
     "output_type": "stream",
     "text": [
      "Accuracy: ['0.8738 (+/- 0.0016)', '0.8691 (+/- 0.0031)', '0.8909 (+/- 0.0047)', '0.8400 (+/- 0.0068)', '0.8846 (+/- 0.0046)']\n"
     ]
    }
   ],
   "source": [
    "accuracy_25_list=[]\n",
    "for clf, label in zip([clf1, clf2, clf3,clf4 ,eclf], ['SVM', 'LR', 'RF','DT', 'Ensemble']):\n",
    "    scores = cross_val_score(clf, X, y, scoring='accuracy', cv=10)\n",
    "    accuracy_25_list.append(\"%0.4f (+/- %0.4f)\" % (scores.mean(), scores.std()))\n",
    "scores\n",
    "print(\"Accuracy:\", accuracy_25_list)"
   ]
  },
  {
   "cell_type": "code",
   "execution_count": 222,
   "metadata": {},
   "outputs": [
    {
     "data": {
      "application/vnd.plotly.v1+json": {
       "config": {
        "plotlyServerURL": "https://plot.ly"
       },
       "data": [
        {
         "cells": {
          "values": [
           [
            "SVM",
            "LR",
            "RF",
            "DT",
            "Ensemble"
           ],
           [
            "0.8738 (+/- 0.0016)",
            "0.8691 (+/- 0.0031)",
            "0.8909 (+/- 0.0047)",
            "0.8400 (+/- 0.0068)",
            "0.8846 (+/- 0.0046)"
           ]
          ]
         },
         "header": {
          "values": [
           "Method",
           "Accuracy (25 features)"
          ]
         },
         "type": "table"
        }
       ],
       "layout": {
        "autosize": false,
        "template": {
         "data": {
          "bar": [
           {
            "error_x": {
             "color": "#2a3f5f"
            },
            "error_y": {
             "color": "#2a3f5f"
            },
            "marker": {
             "line": {
              "color": "#E5ECF6",
              "width": 0.5
             },
             "pattern": {
              "fillmode": "overlay",
              "size": 10,
              "solidity": 0.2
             }
            },
            "type": "bar"
           }
          ],
          "barpolar": [
           {
            "marker": {
             "line": {
              "color": "#E5ECF6",
              "width": 0.5
             },
             "pattern": {
              "fillmode": "overlay",
              "size": 10,
              "solidity": 0.2
             }
            },
            "type": "barpolar"
           }
          ],
          "carpet": [
           {
            "aaxis": {
             "endlinecolor": "#2a3f5f",
             "gridcolor": "white",
             "linecolor": "white",
             "minorgridcolor": "white",
             "startlinecolor": "#2a3f5f"
            },
            "baxis": {
             "endlinecolor": "#2a3f5f",
             "gridcolor": "white",
             "linecolor": "white",
             "minorgridcolor": "white",
             "startlinecolor": "#2a3f5f"
            },
            "type": "carpet"
           }
          ],
          "choropleth": [
           {
            "colorbar": {
             "outlinewidth": 0,
             "ticks": ""
            },
            "type": "choropleth"
           }
          ],
          "contour": [
           {
            "colorbar": {
             "outlinewidth": 0,
             "ticks": ""
            },
            "colorscale": [
             [
              0,
              "#0d0887"
             ],
             [
              0.1111111111111111,
              "#46039f"
             ],
             [
              0.2222222222222222,
              "#7201a8"
             ],
             [
              0.3333333333333333,
              "#9c179e"
             ],
             [
              0.4444444444444444,
              "#bd3786"
             ],
             [
              0.5555555555555556,
              "#d8576b"
             ],
             [
              0.6666666666666666,
              "#ed7953"
             ],
             [
              0.7777777777777778,
              "#fb9f3a"
             ],
             [
              0.8888888888888888,
              "#fdca26"
             ],
             [
              1,
              "#f0f921"
             ]
            ],
            "type": "contour"
           }
          ],
          "contourcarpet": [
           {
            "colorbar": {
             "outlinewidth": 0,
             "ticks": ""
            },
            "type": "contourcarpet"
           }
          ],
          "heatmap": [
           {
            "colorbar": {
             "outlinewidth": 0,
             "ticks": ""
            },
            "colorscale": [
             [
              0,
              "#0d0887"
             ],
             [
              0.1111111111111111,
              "#46039f"
             ],
             [
              0.2222222222222222,
              "#7201a8"
             ],
             [
              0.3333333333333333,
              "#9c179e"
             ],
             [
              0.4444444444444444,
              "#bd3786"
             ],
             [
              0.5555555555555556,
              "#d8576b"
             ],
             [
              0.6666666666666666,
              "#ed7953"
             ],
             [
              0.7777777777777778,
              "#fb9f3a"
             ],
             [
              0.8888888888888888,
              "#fdca26"
             ],
             [
              1,
              "#f0f921"
             ]
            ],
            "type": "heatmap"
           }
          ],
          "heatmapgl": [
           {
            "colorbar": {
             "outlinewidth": 0,
             "ticks": ""
            },
            "colorscale": [
             [
              0,
              "#0d0887"
             ],
             [
              0.1111111111111111,
              "#46039f"
             ],
             [
              0.2222222222222222,
              "#7201a8"
             ],
             [
              0.3333333333333333,
              "#9c179e"
             ],
             [
              0.4444444444444444,
              "#bd3786"
             ],
             [
              0.5555555555555556,
              "#d8576b"
             ],
             [
              0.6666666666666666,
              "#ed7953"
             ],
             [
              0.7777777777777778,
              "#fb9f3a"
             ],
             [
              0.8888888888888888,
              "#fdca26"
             ],
             [
              1,
              "#f0f921"
             ]
            ],
            "type": "heatmapgl"
           }
          ],
          "histogram": [
           {
            "marker": {
             "pattern": {
              "fillmode": "overlay",
              "size": 10,
              "solidity": 0.2
             }
            },
            "type": "histogram"
           }
          ],
          "histogram2d": [
           {
            "colorbar": {
             "outlinewidth": 0,
             "ticks": ""
            },
            "colorscale": [
             [
              0,
              "#0d0887"
             ],
             [
              0.1111111111111111,
              "#46039f"
             ],
             [
              0.2222222222222222,
              "#7201a8"
             ],
             [
              0.3333333333333333,
              "#9c179e"
             ],
             [
              0.4444444444444444,
              "#bd3786"
             ],
             [
              0.5555555555555556,
              "#d8576b"
             ],
             [
              0.6666666666666666,
              "#ed7953"
             ],
             [
              0.7777777777777778,
              "#fb9f3a"
             ],
             [
              0.8888888888888888,
              "#fdca26"
             ],
             [
              1,
              "#f0f921"
             ]
            ],
            "type": "histogram2d"
           }
          ],
          "histogram2dcontour": [
           {
            "colorbar": {
             "outlinewidth": 0,
             "ticks": ""
            },
            "colorscale": [
             [
              0,
              "#0d0887"
             ],
             [
              0.1111111111111111,
              "#46039f"
             ],
             [
              0.2222222222222222,
              "#7201a8"
             ],
             [
              0.3333333333333333,
              "#9c179e"
             ],
             [
              0.4444444444444444,
              "#bd3786"
             ],
             [
              0.5555555555555556,
              "#d8576b"
             ],
             [
              0.6666666666666666,
              "#ed7953"
             ],
             [
              0.7777777777777778,
              "#fb9f3a"
             ],
             [
              0.8888888888888888,
              "#fdca26"
             ],
             [
              1,
              "#f0f921"
             ]
            ],
            "type": "histogram2dcontour"
           }
          ],
          "mesh3d": [
           {
            "colorbar": {
             "outlinewidth": 0,
             "ticks": ""
            },
            "type": "mesh3d"
           }
          ],
          "parcoords": [
           {
            "line": {
             "colorbar": {
              "outlinewidth": 0,
              "ticks": ""
             }
            },
            "type": "parcoords"
           }
          ],
          "pie": [
           {
            "automargin": true,
            "type": "pie"
           }
          ],
          "scatter": [
           {
            "fillpattern": {
             "fillmode": "overlay",
             "size": 10,
             "solidity": 0.2
            },
            "type": "scatter"
           }
          ],
          "scatter3d": [
           {
            "line": {
             "colorbar": {
              "outlinewidth": 0,
              "ticks": ""
             }
            },
            "marker": {
             "colorbar": {
              "outlinewidth": 0,
              "ticks": ""
             }
            },
            "type": "scatter3d"
           }
          ],
          "scattercarpet": [
           {
            "marker": {
             "colorbar": {
              "outlinewidth": 0,
              "ticks": ""
             }
            },
            "type": "scattercarpet"
           }
          ],
          "scattergeo": [
           {
            "marker": {
             "colorbar": {
              "outlinewidth": 0,
              "ticks": ""
             }
            },
            "type": "scattergeo"
           }
          ],
          "scattergl": [
           {
            "marker": {
             "colorbar": {
              "outlinewidth": 0,
              "ticks": ""
             }
            },
            "type": "scattergl"
           }
          ],
          "scattermapbox": [
           {
            "marker": {
             "colorbar": {
              "outlinewidth": 0,
              "ticks": ""
             }
            },
            "type": "scattermapbox"
           }
          ],
          "scatterpolar": [
           {
            "marker": {
             "colorbar": {
              "outlinewidth": 0,
              "ticks": ""
             }
            },
            "type": "scatterpolar"
           }
          ],
          "scatterpolargl": [
           {
            "marker": {
             "colorbar": {
              "outlinewidth": 0,
              "ticks": ""
             }
            },
            "type": "scatterpolargl"
           }
          ],
          "scatterternary": [
           {
            "marker": {
             "colorbar": {
              "outlinewidth": 0,
              "ticks": ""
             }
            },
            "type": "scatterternary"
           }
          ],
          "surface": [
           {
            "colorbar": {
             "outlinewidth": 0,
             "ticks": ""
            },
            "colorscale": [
             [
              0,
              "#0d0887"
             ],
             [
              0.1111111111111111,
              "#46039f"
             ],
             [
              0.2222222222222222,
              "#7201a8"
             ],
             [
              0.3333333333333333,
              "#9c179e"
             ],
             [
              0.4444444444444444,
              "#bd3786"
             ],
             [
              0.5555555555555556,
              "#d8576b"
             ],
             [
              0.6666666666666666,
              "#ed7953"
             ],
             [
              0.7777777777777778,
              "#fb9f3a"
             ],
             [
              0.8888888888888888,
              "#fdca26"
             ],
             [
              1,
              "#f0f921"
             ]
            ],
            "type": "surface"
           }
          ],
          "table": [
           {
            "cells": {
             "fill": {
              "color": "#EBF0F8"
             },
             "line": {
              "color": "white"
             }
            },
            "header": {
             "fill": {
              "color": "#C8D4E3"
             },
             "line": {
              "color": "white"
             }
            },
            "type": "table"
           }
          ]
         },
         "layout": {
          "annotationdefaults": {
           "arrowcolor": "#2a3f5f",
           "arrowhead": 0,
           "arrowwidth": 1
          },
          "autotypenumbers": "strict",
          "coloraxis": {
           "colorbar": {
            "outlinewidth": 0,
            "ticks": ""
           }
          },
          "colorscale": {
           "diverging": [
            [
             0,
             "#8e0152"
            ],
            [
             0.1,
             "#c51b7d"
            ],
            [
             0.2,
             "#de77ae"
            ],
            [
             0.3,
             "#f1b6da"
            ],
            [
             0.4,
             "#fde0ef"
            ],
            [
             0.5,
             "#f7f7f7"
            ],
            [
             0.6,
             "#e6f5d0"
            ],
            [
             0.7,
             "#b8e186"
            ],
            [
             0.8,
             "#7fbc41"
            ],
            [
             0.9,
             "#4d9221"
            ],
            [
             1,
             "#276419"
            ]
           ],
           "sequential": [
            [
             0,
             "#0d0887"
            ],
            [
             0.1111111111111111,
             "#46039f"
            ],
            [
             0.2222222222222222,
             "#7201a8"
            ],
            [
             0.3333333333333333,
             "#9c179e"
            ],
            [
             0.4444444444444444,
             "#bd3786"
            ],
            [
             0.5555555555555556,
             "#d8576b"
            ],
            [
             0.6666666666666666,
             "#ed7953"
            ],
            [
             0.7777777777777778,
             "#fb9f3a"
            ],
            [
             0.8888888888888888,
             "#fdca26"
            ],
            [
             1,
             "#f0f921"
            ]
           ],
           "sequentialminus": [
            [
             0,
             "#0d0887"
            ],
            [
             0.1111111111111111,
             "#46039f"
            ],
            [
             0.2222222222222222,
             "#7201a8"
            ],
            [
             0.3333333333333333,
             "#9c179e"
            ],
            [
             0.4444444444444444,
             "#bd3786"
            ],
            [
             0.5555555555555556,
             "#d8576b"
            ],
            [
             0.6666666666666666,
             "#ed7953"
            ],
            [
             0.7777777777777778,
             "#fb9f3a"
            ],
            [
             0.8888888888888888,
             "#fdca26"
            ],
            [
             1,
             "#f0f921"
            ]
           ]
          },
          "colorway": [
           "#636efa",
           "#EF553B",
           "#00cc96",
           "#ab63fa",
           "#FFA15A",
           "#19d3f3",
           "#FF6692",
           "#B6E880",
           "#FF97FF",
           "#FECB52"
          ],
          "font": {
           "color": "#2a3f5f"
          },
          "geo": {
           "bgcolor": "white",
           "lakecolor": "white",
           "landcolor": "#E5ECF6",
           "showlakes": true,
           "showland": true,
           "subunitcolor": "white"
          },
          "hoverlabel": {
           "align": "left"
          },
          "hovermode": "closest",
          "mapbox": {
           "style": "light"
          },
          "paper_bgcolor": "white",
          "plot_bgcolor": "#E5ECF6",
          "polar": {
           "angularaxis": {
            "gridcolor": "white",
            "linecolor": "white",
            "ticks": ""
           },
           "bgcolor": "#E5ECF6",
           "radialaxis": {
            "gridcolor": "white",
            "linecolor": "white",
            "ticks": ""
           }
          },
          "scene": {
           "xaxis": {
            "backgroundcolor": "#E5ECF6",
            "gridcolor": "white",
            "gridwidth": 2,
            "linecolor": "white",
            "showbackground": true,
            "ticks": "",
            "zerolinecolor": "white"
           },
           "yaxis": {
            "backgroundcolor": "#E5ECF6",
            "gridcolor": "white",
            "gridwidth": 2,
            "linecolor": "white",
            "showbackground": true,
            "ticks": "",
            "zerolinecolor": "white"
           },
           "zaxis": {
            "backgroundcolor": "#E5ECF6",
            "gridcolor": "white",
            "gridwidth": 2,
            "linecolor": "white",
            "showbackground": true,
            "ticks": "",
            "zerolinecolor": "white"
           }
          },
          "shapedefaults": {
           "line": {
            "color": "#2a3f5f"
           }
          },
          "ternary": {
           "aaxis": {
            "gridcolor": "white",
            "linecolor": "white",
            "ticks": ""
           },
           "baxis": {
            "gridcolor": "white",
            "linecolor": "white",
            "ticks": ""
           },
           "bgcolor": "#E5ECF6",
           "caxis": {
            "gridcolor": "white",
            "linecolor": "white",
            "ticks": ""
           }
          },
          "title": {
           "x": 0.05
          },
          "xaxis": {
           "automargin": true,
           "gridcolor": "white",
           "linecolor": "white",
           "ticks": "",
           "title": {
            "standoff": 15
           },
           "zerolinecolor": "white",
           "zerolinewidth": 2
          },
          "yaxis": {
           "automargin": true,
           "gridcolor": "white",
           "linecolor": "white",
           "ticks": "",
           "title": {
            "standoff": 15
           },
           "zerolinecolor": "white",
           "zerolinewidth": 2
          }
         }
        }
       }
      }
     },
     "metadata": {},
     "output_type": "display_data"
    }
   ],
   "source": [
    "#adding additional table to visualize accuracy for each method\n",
    "\n",
    "import plotly.graph_objects as go\n",
    "#paper_accuracy=[0.89, 0.88, 0.90, 0.86, 0.90]  #taken from the paper diabetic study, table II\n",
    "\n",
    "method_list= ['SVM', 'LR', 'RF','DT', 'Ensemble']\n",
    "trace= go.Table(header=dict(values=['Method', 'Accuracy (25 features)']),\n",
    "                cells=dict(values=[method_list, accuracy_25_list]))\n",
    "fig = go.Figure(data=[trace], layout=dict(autosize=False))\n",
    "fig.show()"
   ]
  },
  {
   "cell_type": "code",
   "execution_count": 223,
   "metadata": {},
   "outputs": [
    {
     "name": "stdout",
     "output_type": "stream",
     "text": [
      "['0.8738 (+/- 0.0016)', '0.8691 (+/- 0.0031)', '0.8909 (+/- 0.0047)', '0.8400 (+/- 0.0068)', '0.8846 (+/- 0.0046)']\n"
     ]
    }
   ],
   "source": [
    "print(accuracy_25_list)"
   ]
  },
  {
   "cell_type": "code",
   "execution_count": null,
   "metadata": {},
   "outputs": [],
   "source": []
  }
 ],
 "metadata": {
  "kernelspec": {
   "display_name": "Python 3.9.6 64-bit",
   "language": "python",
   "name": "python3"
  },
  "language_info": {
   "codemirror_mode": {
    "name": "ipython",
    "version": 3
   },
   "file_extension": ".py",
   "mimetype": "text/x-python",
   "name": "python",
   "nbconvert_exporter": "python",
   "pygments_lexer": "ipython3",
   "version": "3.9.6"
  },
  "vscode": {
   "interpreter": {
    "hash": "11938c6bc6919ae2720b4d5011047913343b08a43b18698fd82dedb0d4417594"
   }
  }
 },
 "nbformat": 4,
 "nbformat_minor": 4
}
