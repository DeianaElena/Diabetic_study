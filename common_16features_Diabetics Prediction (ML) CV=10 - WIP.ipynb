{
 "cells": [
  {
   "cell_type": "code",
   "execution_count": 2,
   "metadata": {},
   "outputs": [],
   "source": [
    "import numpy as np\n",
    "import copy\n",
    "from sklearn import preprocessing\n",
    "import tensorflow as tf\n",
    "from tensorflow import keras  #v. 2.9.0\n",
    "import os\n",
    "import pandas as pd\n",
    "from matplotlib import pyplot as plt\n",
    "from numpy.random import seed\n",
    "np.random.seed(2095)\n",
    "\n",
    "import numpy as np \n",
    "import pandas as pd\n",
    "import matplotlib.pyplot as plt\n",
    "%matplotlib inline\n",
    "\n",
    "import seaborn as sns\n",
    "sns.set()\n",
    "from sklearn.preprocessing import MinMaxScaler, StandardScaler, LabelEncoder\n",
    "from sklearn.svm import SVC\n",
    "from sklearn.naive_bayes import GaussianNB\n",
    "from sklearn.linear_model import LogisticRegression\n",
    "#from xgboost import XGBClassifier, plot_importance\n",
    "from sklearn.model_selection import train_test_split\n",
    "from sklearn.metrics import accuracy_score,confusion_matrix"
   ]
  },
  {
   "cell_type": "code",
   "execution_count": 3,
   "metadata": {},
   "outputs": [],
   "source": [
    "data = pd.read_csv('CardiacPrediction_csv.csv')"
   ]
  },
  {
   "cell_type": "code",
   "execution_count": 4,
   "metadata": {},
   "outputs": [
    {
     "data": {
      "text/html": [
       "<div>\n",
       "<style scoped>\n",
       "    .dataframe tbody tr th:only-of-type {\n",
       "        vertical-align: middle;\n",
       "    }\n",
       "\n",
       "    .dataframe tbody tr th {\n",
       "        vertical-align: top;\n",
       "    }\n",
       "\n",
       "    .dataframe thead th {\n",
       "        text-align: right;\n",
       "    }\n",
       "</style>\n",
       "<table border=\"1\" class=\"dataframe\">\n",
       "  <thead>\n",
       "    <tr style=\"text-align: right;\">\n",
       "      <th></th>\n",
       "      <th>SEQN</th>\n",
       "      <th>Gender</th>\n",
       "      <th>Age</th>\n",
       "      <th>Annual-Family-Income</th>\n",
       "      <th>Ratio-Family-Income-Poverty</th>\n",
       "      <th>X60-sec-pulse</th>\n",
       "      <th>Systolic</th>\n",
       "      <th>Diastolic</th>\n",
       "      <th>Weight</th>\n",
       "      <th>Height</th>\n",
       "      <th>...</th>\n",
       "      <th>Total-Cholesterol</th>\n",
       "      <th>HDL</th>\n",
       "      <th>Glycohemoglobin</th>\n",
       "      <th>Vigorous-work</th>\n",
       "      <th>Moderate-work</th>\n",
       "      <th>Health-Insurance</th>\n",
       "      <th>Diabetes</th>\n",
       "      <th>Blood-Rel-Diabetes</th>\n",
       "      <th>Blood-Rel-Stroke</th>\n",
       "      <th>CoronaryHeartDisease</th>\n",
       "    </tr>\n",
       "  </thead>\n",
       "  <tbody>\n",
       "    <tr>\n",
       "      <th>0</th>\n",
       "      <td>2</td>\n",
       "      <td>1</td>\n",
       "      <td>77</td>\n",
       "      <td>8</td>\n",
       "      <td>5.00</td>\n",
       "      <td>68</td>\n",
       "      <td>98</td>\n",
       "      <td>56</td>\n",
       "      <td>75.4</td>\n",
       "      <td>174.0</td>\n",
       "      <td>...</td>\n",
       "      <td>5.56</td>\n",
       "      <td>1.39</td>\n",
       "      <td>4.7</td>\n",
       "      <td>3</td>\n",
       "      <td>3</td>\n",
       "      <td>1</td>\n",
       "      <td>2</td>\n",
       "      <td>2</td>\n",
       "      <td>2</td>\n",
       "      <td>0</td>\n",
       "    </tr>\n",
       "    <tr>\n",
       "      <th>1</th>\n",
       "      <td>5</td>\n",
       "      <td>1</td>\n",
       "      <td>49</td>\n",
       "      <td>11</td>\n",
       "      <td>5.00</td>\n",
       "      <td>66</td>\n",
       "      <td>122</td>\n",
       "      <td>83</td>\n",
       "      <td>92.5</td>\n",
       "      <td>178.3</td>\n",
       "      <td>...</td>\n",
       "      <td>7.21</td>\n",
       "      <td>1.08</td>\n",
       "      <td>5.5</td>\n",
       "      <td>1</td>\n",
       "      <td>1</td>\n",
       "      <td>1</td>\n",
       "      <td>2</td>\n",
       "      <td>2</td>\n",
       "      <td>2</td>\n",
       "      <td>0</td>\n",
       "    </tr>\n",
       "    <tr>\n",
       "      <th>2</th>\n",
       "      <td>12</td>\n",
       "      <td>1</td>\n",
       "      <td>37</td>\n",
       "      <td>11</td>\n",
       "      <td>4.93</td>\n",
       "      <td>64</td>\n",
       "      <td>174</td>\n",
       "      <td>99</td>\n",
       "      <td>99.2</td>\n",
       "      <td>180.0</td>\n",
       "      <td>...</td>\n",
       "      <td>4.03</td>\n",
       "      <td>0.98</td>\n",
       "      <td>5.2</td>\n",
       "      <td>2</td>\n",
       "      <td>1</td>\n",
       "      <td>1</td>\n",
       "      <td>2</td>\n",
       "      <td>1</td>\n",
       "      <td>1</td>\n",
       "      <td>0</td>\n",
       "    </tr>\n",
       "    <tr>\n",
       "      <th>3</th>\n",
       "      <td>13</td>\n",
       "      <td>1</td>\n",
       "      <td>70</td>\n",
       "      <td>3</td>\n",
       "      <td>1.07</td>\n",
       "      <td>102</td>\n",
       "      <td>130</td>\n",
       "      <td>66</td>\n",
       "      <td>63.6</td>\n",
       "      <td>157.7</td>\n",
       "      <td>...</td>\n",
       "      <td>8.12</td>\n",
       "      <td>1.28</td>\n",
       "      <td>7.6</td>\n",
       "      <td>3</td>\n",
       "      <td>3</td>\n",
       "      <td>1</td>\n",
       "      <td>1</td>\n",
       "      <td>1</td>\n",
       "      <td>2</td>\n",
       "      <td>0</td>\n",
       "    </tr>\n",
       "    <tr>\n",
       "      <th>4</th>\n",
       "      <td>14</td>\n",
       "      <td>1</td>\n",
       "      <td>81</td>\n",
       "      <td>5</td>\n",
       "      <td>2.67</td>\n",
       "      <td>72</td>\n",
       "      <td>136</td>\n",
       "      <td>61</td>\n",
       "      <td>75.5</td>\n",
       "      <td>166.2</td>\n",
       "      <td>...</td>\n",
       "      <td>4.50</td>\n",
       "      <td>1.04</td>\n",
       "      <td>5.8</td>\n",
       "      <td>1</td>\n",
       "      <td>1</td>\n",
       "      <td>1</td>\n",
       "      <td>2</td>\n",
       "      <td>2</td>\n",
       "      <td>2</td>\n",
       "      <td>0</td>\n",
       "    </tr>\n",
       "  </tbody>\n",
       "</table>\n",
       "<p>5 rows × 51 columns</p>\n",
       "</div>"
      ],
      "text/plain": [
       "   SEQN  Gender  Age  Annual-Family-Income  Ratio-Family-Income-Poverty  \\\n",
       "0     2       1   77                     8                         5.00   \n",
       "1     5       1   49                    11                         5.00   \n",
       "2    12       1   37                    11                         4.93   \n",
       "3    13       1   70                     3                         1.07   \n",
       "4    14       1   81                     5                         2.67   \n",
       "\n",
       "   X60-sec-pulse  Systolic  Diastolic  Weight  Height  ...  Total-Cholesterol  \\\n",
       "0             68        98         56    75.4   174.0  ...               5.56   \n",
       "1             66       122         83    92.5   178.3  ...               7.21   \n",
       "2             64       174         99    99.2   180.0  ...               4.03   \n",
       "3            102       130         66    63.6   157.7  ...               8.12   \n",
       "4             72       136         61    75.5   166.2  ...               4.50   \n",
       "\n",
       "    HDL  Glycohemoglobin  Vigorous-work  Moderate-work  Health-Insurance  \\\n",
       "0  1.39              4.7              3              3                 1   \n",
       "1  1.08              5.5              1              1                 1   \n",
       "2  0.98              5.2              2              1                 1   \n",
       "3  1.28              7.6              3              3                 1   \n",
       "4  1.04              5.8              1              1                 1   \n",
       "\n",
       "   Diabetes  Blood-Rel-Diabetes  Blood-Rel-Stroke  CoronaryHeartDisease  \n",
       "0         2                   2                 2                     0  \n",
       "1         2                   2                 2                     0  \n",
       "2         2                   1                 1                     0  \n",
       "3         1                   1                 2                     0  \n",
       "4         2                   2                 2                     0  \n",
       "\n",
       "[5 rows x 51 columns]"
      ]
     },
     "execution_count": 4,
     "metadata": {},
     "output_type": "execute_result"
    }
   ],
   "source": [
    "data.head()"
   ]
  },
  {
   "cell_type": "code",
   "execution_count": 5,
   "metadata": {},
   "outputs": [],
   "source": [
    "data.drop(['SEQN','Annual-Family-Income','Height','Ratio-Family-Income-Poverty','X60-sec-pulse',\n",
    "          'Health-Insurance','Glucose','Vigorous-work','Total-Cholesterol','CoronaryHeartDisease','Blood-Rel-Stroke','Red-Cell-Distribution-Width','Triglycerides','Mean-Platelet-Vol','Platelet-count','Lymphocyte','Monocyte','Eosinophils','Mean-cell-Hemoglobin','White-Blood-Cells','Red-Blood-Cells','Basophils','Mean-Cell-Vol','Mean-Cell-Hgb-Conc.','Hematocrit','Segmented-Neutrophils'], axis = 1, inplace=True)\n",
    "\n"
   ]
  },
  {
   "cell_type": "code",
   "execution_count": 6,
   "metadata": {},
   "outputs": [],
   "source": [
    "#data['Diabetes'] = data['Diabetes'].replace('3','1')"
   ]
  },
  {
   "cell_type": "code",
   "execution_count": 7,
   "metadata": {},
   "outputs": [],
   "source": [
    "#data = data.astype(float)"
   ]
  },
  {
   "cell_type": "code",
   "execution_count": 8,
   "metadata": {},
   "outputs": [
    {
     "name": "stderr",
     "output_type": "stream",
     "text": [
      "C:\\Users\\Eigenaar\\AppData\\Local\\Temp\\ipykernel_23184\\3794381626.py:1: SettingWithCopyWarning: \n",
      "A value is trying to be set on a copy of a slice from a DataFrame\n",
      "\n",
      "See the caveats in the documentation: https://pandas.pydata.org/pandas-docs/stable/user_guide/indexing.html#returning-a-view-versus-a-copy\n",
      "  data['Diabetes'].loc[(data['Diabetes'] == 3 )] = 1\n"
     ]
    }
   ],
   "source": [
    "data['Diabetes'].loc[(data['Diabetes'] == 3 )] = 1"
   ]
  },
  {
   "cell_type": "code",
   "execution_count": 9,
   "metadata": {},
   "outputs": [],
   "source": [
    "# data[\"Diabetes\"].describe()"
   ]
  },
  {
   "cell_type": "code",
   "execution_count": 10,
   "metadata": {},
   "outputs": [],
   "source": [
    "#dropping other features and using only common features (16 instead of 25)\n",
    "\n",
    "data.drop(['Systolic', 'Diastolic', 'AST','ALT','LDH','Phosphorus','Bilirubin','Uric.Acid','Moderate-work'], axis = 1, inplace=True)\n",
    "\n",
    "#if you see error it's because it was already dropped"
   ]
  },
  {
   "cell_type": "code",
   "execution_count": 11,
   "metadata": {},
   "outputs": [
    {
     "data": {
      "text/html": [
       "<div>\n",
       "<style scoped>\n",
       "    .dataframe tbody tr th:only-of-type {\n",
       "        vertical-align: middle;\n",
       "    }\n",
       "\n",
       "    .dataframe tbody tr th {\n",
       "        vertical-align: top;\n",
       "    }\n",
       "\n",
       "    .dataframe thead th {\n",
       "        text-align: right;\n",
       "    }\n",
       "</style>\n",
       "<table border=\"1\" class=\"dataframe\">\n",
       "  <thead>\n",
       "    <tr style=\"text-align: right;\">\n",
       "      <th></th>\n",
       "      <th>Gender</th>\n",
       "      <th>Age</th>\n",
       "      <th>Weight</th>\n",
       "      <th>Body-Mass-Index</th>\n",
       "      <th>Hemoglobin</th>\n",
       "      <th>Albumin</th>\n",
       "      <th>ALP</th>\n",
       "      <th>Cholesterol</th>\n",
       "      <th>Creatinine</th>\n",
       "      <th>GGT</th>\n",
       "      <th>Iron</th>\n",
       "      <th>Protein</th>\n",
       "      <th>HDL</th>\n",
       "      <th>Glycohemoglobin</th>\n",
       "      <th>Diabetes</th>\n",
       "      <th>Blood-Rel-Diabetes</th>\n",
       "    </tr>\n",
       "  </thead>\n",
       "  <tbody>\n",
       "    <tr>\n",
       "      <th>0</th>\n",
       "      <td>1</td>\n",
       "      <td>77</td>\n",
       "      <td>75.4</td>\n",
       "      <td>24.90</td>\n",
       "      <td>14.1</td>\n",
       "      <td>45</td>\n",
       "      <td>62</td>\n",
       "      <td>5.25</td>\n",
       "      <td>61.9</td>\n",
       "      <td>20</td>\n",
       "      <td>11.28</td>\n",
       "      <td>72.0</td>\n",
       "      <td>1.39</td>\n",
       "      <td>4.7</td>\n",
       "      <td>2</td>\n",
       "      <td>2</td>\n",
       "    </tr>\n",
       "    <tr>\n",
       "      <th>1</th>\n",
       "      <td>1</td>\n",
       "      <td>49</td>\n",
       "      <td>92.5</td>\n",
       "      <td>29.10</td>\n",
       "      <td>14.5</td>\n",
       "      <td>45</td>\n",
       "      <td>63</td>\n",
       "      <td>7.16</td>\n",
       "      <td>70.7</td>\n",
       "      <td>34</td>\n",
       "      <td>24.54</td>\n",
       "      <td>73.0</td>\n",
       "      <td>1.08</td>\n",
       "      <td>5.5</td>\n",
       "      <td>2</td>\n",
       "      <td>2</td>\n",
       "    </tr>\n",
       "    <tr>\n",
       "      <th>2</th>\n",
       "      <td>1</td>\n",
       "      <td>37</td>\n",
       "      <td>99.2</td>\n",
       "      <td>30.62</td>\n",
       "      <td>16.0</td>\n",
       "      <td>47</td>\n",
       "      <td>63</td>\n",
       "      <td>3.90</td>\n",
       "      <td>88.4</td>\n",
       "      <td>32</td>\n",
       "      <td>11.28</td>\n",
       "      <td>72.0</td>\n",
       "      <td>0.98</td>\n",
       "      <td>5.2</td>\n",
       "      <td>2</td>\n",
       "      <td>1</td>\n",
       "    </tr>\n",
       "    <tr>\n",
       "      <th>3</th>\n",
       "      <td>1</td>\n",
       "      <td>70</td>\n",
       "      <td>63.6</td>\n",
       "      <td>25.57</td>\n",
       "      <td>16.8</td>\n",
       "      <td>40</td>\n",
       "      <td>103</td>\n",
       "      <td>7.94</td>\n",
       "      <td>61.9</td>\n",
       "      <td>24</td>\n",
       "      <td>12.18</td>\n",
       "      <td>66.0</td>\n",
       "      <td>1.28</td>\n",
       "      <td>7.6</td>\n",
       "      <td>1</td>\n",
       "      <td>1</td>\n",
       "    </tr>\n",
       "    <tr>\n",
       "      <th>4</th>\n",
       "      <td>1</td>\n",
       "      <td>81</td>\n",
       "      <td>75.5</td>\n",
       "      <td>27.33</td>\n",
       "      <td>16.6</td>\n",
       "      <td>45</td>\n",
       "      <td>110</td>\n",
       "      <td>4.42</td>\n",
       "      <td>88.4</td>\n",
       "      <td>24</td>\n",
       "      <td>11.82</td>\n",
       "      <td>79.0</td>\n",
       "      <td>1.04</td>\n",
       "      <td>5.8</td>\n",
       "      <td>2</td>\n",
       "      <td>2</td>\n",
       "    </tr>\n",
       "  </tbody>\n",
       "</table>\n",
       "</div>"
      ],
      "text/plain": [
       "   Gender  Age  Weight  Body-Mass-Index  Hemoglobin  Albumin  ALP  \\\n",
       "0       1   77    75.4            24.90        14.1       45   62   \n",
       "1       1   49    92.5            29.10        14.5       45   63   \n",
       "2       1   37    99.2            30.62        16.0       47   63   \n",
       "3       1   70    63.6            25.57        16.8       40  103   \n",
       "4       1   81    75.5            27.33        16.6       45  110   \n",
       "\n",
       "   Cholesterol  Creatinine  GGT   Iron  Protein   HDL  Glycohemoglobin  \\\n",
       "0         5.25        61.9   20  11.28     72.0  1.39              4.7   \n",
       "1         7.16        70.7   34  24.54     73.0  1.08              5.5   \n",
       "2         3.90        88.4   32  11.28     72.0  0.98              5.2   \n",
       "3         7.94        61.9   24  12.18     66.0  1.28              7.6   \n",
       "4         4.42        88.4   24  11.82     79.0  1.04              5.8   \n",
       "\n",
       "   Diabetes  Blood-Rel-Diabetes  \n",
       "0         2                   2  \n",
       "1         2                   2  \n",
       "2         2                   1  \n",
       "3         1                   1  \n",
       "4         2                   2  "
      ]
     },
     "execution_count": 11,
     "metadata": {},
     "output_type": "execute_result"
    }
   ],
   "source": [
    "data.head()"
   ]
  },
  {
   "cell_type": "code",
   "execution_count": 12,
   "metadata": {},
   "outputs": [],
   "source": [
    "#selecting same amount of diabetics and non diabetics patients randomly to avois bias\n",
    "#remember 2(no diabetes)=32227, 1 (diabetes)=4852\n",
    "\n",
    "#1. count number of diab vs no diab (we already know that)\n",
    "#2. create a subset with 4852 random diabetes\n",
    "#3. create subset with 4852 diab\n",
    "#4. combine the two subsets\n",
    "\n",
    "# all_no_diab = data[data['Diabetes']==2]\n",
    "\n",
    "# diab_50p = all_no_diab.sample(n=4852)\n",
    "\n",
    "#diab_50p.value_counts()\n",
    "#diab_50p.head() \n",
    "#print(all_no_diab)\n"
   ]
  },
  {
   "cell_type": "code",
   "execution_count": 13,
   "metadata": {},
   "outputs": [
    {
     "data": {
      "text/plain": [
       "(37079, 16)"
      ]
     },
     "execution_count": 13,
     "metadata": {},
     "output_type": "execute_result"
    }
   ],
   "source": [
    "data.shape"
   ]
  },
  {
   "cell_type": "code",
   "execution_count": 14,
   "metadata": {},
   "outputs": [
    {
     "data": {
      "text/plain": [
       "Index(['Gender', 'Age', 'Weight', 'Body-Mass-Index', 'Hemoglobin', 'Albumin',\n",
       "       'ALP', 'Cholesterol', 'Creatinine', 'GGT', 'Iron', 'Protein', 'HDL',\n",
       "       'Glycohemoglobin', 'Diabetes', 'Blood-Rel-Diabetes'],\n",
       "      dtype='object')"
      ]
     },
     "execution_count": 14,
     "metadata": {},
     "output_type": "execute_result"
    }
   ],
   "source": [
    "data.columns"
   ]
  },
  {
   "cell_type": "code",
   "execution_count": 15,
   "metadata": {},
   "outputs": [],
   "source": [
    "# data = data[['Gender', 'Age', 'Systolic', 'Diastolic', 'Weight', 'Body-Mass-Index',\n",
    "#        'Hemoglobin', 'Albumin', 'ALP', 'AST', 'ALT', 'Cholesterol',\n",
    "#        'Creatinine', 'GGT', 'Iron', 'LDH', 'Phosphorus',\n",
    "#        'Bilirubin', 'Protein', 'Uric.Acid', 'HDL',\n",
    "#        'Glycohemoglobin', 'Moderate-work',\n",
    "#        'Blood-Rel-Diabetes', 'Diabetes']]\n"
   ]
  },
  {
   "cell_type": "code",
   "execution_count": 16,
   "metadata": {},
   "outputs": [
    {
     "data": {
      "text/plain": [
       "Index(['Gender', 'Age', 'Weight', 'Body-Mass-Index', 'Hemoglobin', 'Albumin',\n",
       "       'ALP', 'Cholesterol', 'Creatinine', 'GGT', 'Iron', 'Protein', 'HDL',\n",
       "       'Glycohemoglobin', 'Diabetes', 'Blood-Rel-Diabetes'],\n",
       "      dtype='object')"
      ]
     },
     "execution_count": 16,
     "metadata": {},
     "output_type": "execute_result"
    }
   ],
   "source": [
    "data.columns"
   ]
  },
  {
   "cell_type": "code",
   "execution_count": 17,
   "metadata": {},
   "outputs": [
    {
     "data": {
      "text/plain": [
       "16"
      ]
     },
     "execution_count": 17,
     "metadata": {},
     "output_type": "execute_result"
    }
   ],
   "source": [
    "len(data.columns)"
   ]
  },
  {
   "cell_type": "code",
   "execution_count": 18,
   "metadata": {},
   "outputs": [
    {
     "data": {
      "text/plain": [
       "Gender                0\n",
       "Age                   0\n",
       "Weight                0\n",
       "Body-Mass-Index       0\n",
       "Hemoglobin            0\n",
       "Albumin               0\n",
       "ALP                   0\n",
       "Cholesterol           0\n",
       "Creatinine            0\n",
       "GGT                   0\n",
       "Iron                  0\n",
       "Protein               0\n",
       "HDL                   0\n",
       "Glycohemoglobin       0\n",
       "Diabetes              0\n",
       "Blood-Rel-Diabetes    0\n",
       "dtype: int64"
      ]
     },
     "execution_count": 18,
     "metadata": {},
     "output_type": "execute_result"
    }
   ],
   "source": [
    "data.isnull().sum()"
   ]
  },
  {
   "cell_type": "code",
   "execution_count": 19,
   "metadata": {},
   "outputs": [
    {
     "data": {
      "text/html": [
       "<div>\n",
       "<style scoped>\n",
       "    .dataframe tbody tr th:only-of-type {\n",
       "        vertical-align: middle;\n",
       "    }\n",
       "\n",
       "    .dataframe tbody tr th {\n",
       "        vertical-align: top;\n",
       "    }\n",
       "\n",
       "    .dataframe thead th {\n",
       "        text-align: right;\n",
       "    }\n",
       "</style>\n",
       "<table border=\"1\" class=\"dataframe\">\n",
       "  <thead>\n",
       "    <tr style=\"text-align: right;\">\n",
       "      <th></th>\n",
       "      <th>Gender</th>\n",
       "      <th>Age</th>\n",
       "      <th>Weight</th>\n",
       "      <th>Body-Mass-Index</th>\n",
       "      <th>Hemoglobin</th>\n",
       "      <th>Albumin</th>\n",
       "      <th>ALP</th>\n",
       "      <th>Cholesterol</th>\n",
       "      <th>Creatinine</th>\n",
       "      <th>GGT</th>\n",
       "      <th>Iron</th>\n",
       "      <th>Protein</th>\n",
       "      <th>HDL</th>\n",
       "      <th>Glycohemoglobin</th>\n",
       "      <th>Diabetes</th>\n",
       "      <th>Blood-Rel-Diabetes</th>\n",
       "    </tr>\n",
       "  </thead>\n",
       "  <tbody>\n",
       "    <tr>\n",
       "      <th>count</th>\n",
       "      <td>37079.000000</td>\n",
       "      <td>37079.000000</td>\n",
       "      <td>37079.000000</td>\n",
       "      <td>37079.000000</td>\n",
       "      <td>37079.000000</td>\n",
       "      <td>37079.000000</td>\n",
       "      <td>37079.000000</td>\n",
       "      <td>37079.000000</td>\n",
       "      <td>37079.000000</td>\n",
       "      <td>37079.000000</td>\n",
       "      <td>37079.000000</td>\n",
       "      <td>37079.000000</td>\n",
       "      <td>37079.000000</td>\n",
       "      <td>37079.000000</td>\n",
       "      <td>37079.000000</td>\n",
       "      <td>37079.000000</td>\n",
       "    </tr>\n",
       "    <tr>\n",
       "      <th>mean</th>\n",
       "      <td>1.513282</td>\n",
       "      <td>48.943661</td>\n",
       "      <td>80.988276</td>\n",
       "      <td>28.824588</td>\n",
       "      <td>14.139073</td>\n",
       "      <td>42.528116</td>\n",
       "      <td>70.789611</td>\n",
       "      <td>5.077399</td>\n",
       "      <td>78.632276</td>\n",
       "      <td>29.459667</td>\n",
       "      <td>15.266181</td>\n",
       "      <td>72.050158</td>\n",
       "      <td>1.370344</td>\n",
       "      <td>5.676496</td>\n",
       "      <td>1.869144</td>\n",
       "      <td>1.549502</td>\n",
       "    </tr>\n",
       "    <tr>\n",
       "      <th>std</th>\n",
       "      <td>0.499830</td>\n",
       "      <td>18.010440</td>\n",
       "      <td>20.678734</td>\n",
       "      <td>6.608982</td>\n",
       "      <td>1.541599</td>\n",
       "      <td>3.585254</td>\n",
       "      <td>26.073559</td>\n",
       "      <td>1.079629</td>\n",
       "      <td>39.157384</td>\n",
       "      <td>43.576787</td>\n",
       "      <td>6.416872</td>\n",
       "      <td>4.967992</td>\n",
       "      <td>0.415985</td>\n",
       "      <td>1.050223</td>\n",
       "      <td>0.337247</td>\n",
       "      <td>0.497550</td>\n",
       "    </tr>\n",
       "    <tr>\n",
       "      <th>min</th>\n",
       "      <td>1.000000</td>\n",
       "      <td>20.000000</td>\n",
       "      <td>32.300000</td>\n",
       "      <td>13.180000</td>\n",
       "      <td>5.800000</td>\n",
       "      <td>19.000000</td>\n",
       "      <td>7.000000</td>\n",
       "      <td>0.155000</td>\n",
       "      <td>17.700000</td>\n",
       "      <td>3.000000</td>\n",
       "      <td>0.900000</td>\n",
       "      <td>47.000000</td>\n",
       "      <td>0.160000</td>\n",
       "      <td>2.000000</td>\n",
       "      <td>1.000000</td>\n",
       "      <td>1.000000</td>\n",
       "    </tr>\n",
       "    <tr>\n",
       "      <th>25%</th>\n",
       "      <td>1.000000</td>\n",
       "      <td>33.000000</td>\n",
       "      <td>66.500000</td>\n",
       "      <td>24.220000</td>\n",
       "      <td>13.100000</td>\n",
       "      <td>40.000000</td>\n",
       "      <td>55.000000</td>\n",
       "      <td>4.319000</td>\n",
       "      <td>61.880000</td>\n",
       "      <td>14.000000</td>\n",
       "      <td>10.900000</td>\n",
       "      <td>69.000000</td>\n",
       "      <td>1.070000</td>\n",
       "      <td>5.200000</td>\n",
       "      <td>2.000000</td>\n",
       "      <td>1.000000</td>\n",
       "    </tr>\n",
       "    <tr>\n",
       "      <th>50%</th>\n",
       "      <td>2.000000</td>\n",
       "      <td>48.000000</td>\n",
       "      <td>78.200000</td>\n",
       "      <td>27.800000</td>\n",
       "      <td>14.100000</td>\n",
       "      <td>43.000000</td>\n",
       "      <td>67.000000</td>\n",
       "      <td>4.991000</td>\n",
       "      <td>73.370000</td>\n",
       "      <td>20.000000</td>\n",
       "      <td>14.500000</td>\n",
       "      <td>72.000000</td>\n",
       "      <td>1.290000</td>\n",
       "      <td>5.400000</td>\n",
       "      <td>2.000000</td>\n",
       "      <td>2.000000</td>\n",
       "    </tr>\n",
       "    <tr>\n",
       "      <th>75%</th>\n",
       "      <td>2.000000</td>\n",
       "      <td>63.000000</td>\n",
       "      <td>92.100000</td>\n",
       "      <td>32.100000</td>\n",
       "      <td>15.200000</td>\n",
       "      <td>45.000000</td>\n",
       "      <td>82.000000</td>\n",
       "      <td>5.740000</td>\n",
       "      <td>88.400000</td>\n",
       "      <td>31.000000</td>\n",
       "      <td>18.800000</td>\n",
       "      <td>75.000000</td>\n",
       "      <td>1.600000</td>\n",
       "      <td>5.800000</td>\n",
       "      <td>2.000000</td>\n",
       "      <td>2.000000</td>\n",
       "    </tr>\n",
       "    <tr>\n",
       "      <th>max</th>\n",
       "      <td>2.000000</td>\n",
       "      <td>85.000000</td>\n",
       "      <td>371.000000</td>\n",
       "      <td>130.210000</td>\n",
       "      <td>19.700000</td>\n",
       "      <td>57.000000</td>\n",
       "      <td>729.000000</td>\n",
       "      <td>14.611000</td>\n",
       "      <td>1573.520000</td>\n",
       "      <td>2274.000000</td>\n",
       "      <td>99.800000</td>\n",
       "      <td>113.000000</td>\n",
       "      <td>5.840000</td>\n",
       "      <td>18.800000</td>\n",
       "      <td>2.000000</td>\n",
       "      <td>2.000000</td>\n",
       "    </tr>\n",
       "  </tbody>\n",
       "</table>\n",
       "</div>"
      ],
      "text/plain": [
       "             Gender           Age        Weight  Body-Mass-Index  \\\n",
       "count  37079.000000  37079.000000  37079.000000     37079.000000   \n",
       "mean       1.513282     48.943661     80.988276        28.824588   \n",
       "std        0.499830     18.010440     20.678734         6.608982   \n",
       "min        1.000000     20.000000     32.300000        13.180000   \n",
       "25%        1.000000     33.000000     66.500000        24.220000   \n",
       "50%        2.000000     48.000000     78.200000        27.800000   \n",
       "75%        2.000000     63.000000     92.100000        32.100000   \n",
       "max        2.000000     85.000000    371.000000       130.210000   \n",
       "\n",
       "         Hemoglobin       Albumin           ALP   Cholesterol    Creatinine  \\\n",
       "count  37079.000000  37079.000000  37079.000000  37079.000000  37079.000000   \n",
       "mean      14.139073     42.528116     70.789611      5.077399     78.632276   \n",
       "std        1.541599      3.585254     26.073559      1.079629     39.157384   \n",
       "min        5.800000     19.000000      7.000000      0.155000     17.700000   \n",
       "25%       13.100000     40.000000     55.000000      4.319000     61.880000   \n",
       "50%       14.100000     43.000000     67.000000      4.991000     73.370000   \n",
       "75%       15.200000     45.000000     82.000000      5.740000     88.400000   \n",
       "max       19.700000     57.000000    729.000000     14.611000   1573.520000   \n",
       "\n",
       "                GGT          Iron       Protein           HDL  \\\n",
       "count  37079.000000  37079.000000  37079.000000  37079.000000   \n",
       "mean      29.459667     15.266181     72.050158      1.370344   \n",
       "std       43.576787      6.416872      4.967992      0.415985   \n",
       "min        3.000000      0.900000     47.000000      0.160000   \n",
       "25%       14.000000     10.900000     69.000000      1.070000   \n",
       "50%       20.000000     14.500000     72.000000      1.290000   \n",
       "75%       31.000000     18.800000     75.000000      1.600000   \n",
       "max     2274.000000     99.800000    113.000000      5.840000   \n",
       "\n",
       "       Glycohemoglobin      Diabetes  Blood-Rel-Diabetes  \n",
       "count     37079.000000  37079.000000        37079.000000  \n",
       "mean          5.676496      1.869144            1.549502  \n",
       "std           1.050223      0.337247            0.497550  \n",
       "min           2.000000      1.000000            1.000000  \n",
       "25%           5.200000      2.000000            1.000000  \n",
       "50%           5.400000      2.000000            2.000000  \n",
       "75%           5.800000      2.000000            2.000000  \n",
       "max          18.800000      2.000000            2.000000  "
      ]
     },
     "execution_count": 19,
     "metadata": {},
     "output_type": "execute_result"
    }
   ],
   "source": [
    "data.describe()"
   ]
  },
  {
   "cell_type": "code",
   "execution_count": 20,
   "metadata": {},
   "outputs": [
    {
     "data": {
      "text/plain": [
       "(37079, 16)"
      ]
     },
     "execution_count": 20,
     "metadata": {},
     "output_type": "execute_result"
    }
   ],
   "source": [
    "data.shape"
   ]
  },
  {
   "cell_type": "code",
   "execution_count": 21,
   "metadata": {},
   "outputs": [
    {
     "data": {
      "text/plain": [
       "count    37079.000000\n",
       "mean         1.869144\n",
       "std          0.337247\n",
       "min          1.000000\n",
       "25%          2.000000\n",
       "50%          2.000000\n",
       "75%          2.000000\n",
       "max          2.000000\n",
       "Name: Diabetes, dtype: float64"
      ]
     },
     "execution_count": 21,
     "metadata": {},
     "output_type": "execute_result"
    }
   ],
   "source": [
    "data['Diabetes'].describe()"
   ]
  },
  {
   "cell_type": "code",
   "execution_count": 22,
   "metadata": {},
   "outputs": [
    {
     "data": {
      "text/plain": [
       "Index(['Gender', 'Age', 'Weight', 'Body-Mass-Index', 'Hemoglobin', 'Albumin',\n",
       "       'ALP', 'Cholesterol', 'Creatinine', 'GGT', 'Iron', 'Protein', 'HDL',\n",
       "       'Glycohemoglobin', 'Diabetes', 'Blood-Rel-Diabetes'],\n",
       "      dtype='object')"
      ]
     },
     "execution_count": 22,
     "metadata": {},
     "output_type": "execute_result"
    }
   ],
   "source": [
    "data.columns"
   ]
  },
  {
   "cell_type": "code",
   "execution_count": 23,
   "metadata": {},
   "outputs": [
    {
     "data": {
      "text/plain": [
       "<AxesSubplot:>"
      ]
     },
     "execution_count": 23,
     "metadata": {},
     "output_type": "execute_result"
    },
    {
     "data": {
      "image/png": "[encoded data removed]",
      "text/plain": [
       "<Figure size 432x288 with 1 Axes>"
      ]
     },
     "metadata": {},
     "output_type": "display_data"
    }
   ],
   "source": [
    "data[\"Diabetes\"].value_counts().sort_index().plot.barh()\n"
   ]
  },
  {
   "cell_type": "code",
   "execution_count": 24,
   "metadata": {},
   "outputs": [],
   "source": [
    "#data[\"Gender\"].value_counts().sort_index().plot.barh()\n",
    "#balanced"
   ]
  },
  {
   "cell_type": "code",
   "execution_count": 25,
   "metadata": {},
   "outputs": [],
   "source": [
    "#data.corr()"
   ]
  },
  {
   "cell_type": "code",
   "execution_count": 26,
   "metadata": {},
   "outputs": [
    {
     "data": {
      "text/plain": [
       "Index(['Gender', 'Age', 'Weight', 'Body-Mass-Index', 'Hemoglobin', 'Albumin',\n",
       "       'ALP', 'Cholesterol', 'Creatinine', 'GGT', 'Iron', 'Protein', 'HDL',\n",
       "       'Glycohemoglobin', 'Diabetes', 'Blood-Rel-Diabetes'],\n",
       "      dtype='object')"
      ]
     },
     "execution_count": 26,
     "metadata": {},
     "output_type": "execute_result"
    }
   ],
   "source": [
    "data.columns"
   ]
  },
  {
   "cell_type": "code",
   "execution_count": 27,
   "metadata": {},
   "outputs": [
    {
     "data": {
      "text/plain": [
       "(37079, 16)"
      ]
     },
     "execution_count": 27,
     "metadata": {},
     "output_type": "execute_result"
    }
   ],
   "source": [
    "data.shape"
   ]
  },
  {
   "cell_type": "code",
   "execution_count": 28,
   "metadata": {},
   "outputs": [
    {
     "name": "stdout",
     "output_type": "stream",
     "text": [
      "<class 'pandas.core.frame.DataFrame'>\n",
      "RangeIndex: 37079 entries, 0 to 37078\n",
      "Data columns (total 16 columns):\n",
      " #   Column              Non-Null Count  Dtype  \n",
      "---  ------              --------------  -----  \n",
      " 0   Gender              37079 non-null  int64  \n",
      " 1   Age                 37079 non-null  int64  \n",
      " 2   Weight              37079 non-null  float64\n",
      " 3   Body-Mass-Index     37079 non-null  float64\n",
      " 4   Hemoglobin          37079 non-null  float64\n",
      " 5   Albumin             37079 non-null  int64  \n",
      " 6   ALP                 37079 non-null  int64  \n",
      " 7   Cholesterol         37079 non-null  float64\n",
      " 8   Creatinine          37079 non-null  float64\n",
      " 9   GGT                 37079 non-null  int64  \n",
      " 10  Iron                37079 non-null  float64\n",
      " 11  Protein             37079 non-null  float64\n",
      " 12  HDL                 37079 non-null  float64\n",
      " 13  Glycohemoglobin     37079 non-null  float64\n",
      " 14  Diabetes            37079 non-null  int64  \n",
      " 15  Blood-Rel-Diabetes  37079 non-null  int64  \n",
      "dtypes: float64(9), int64(7)\n",
      "memory usage: 4.5 MB\n"
     ]
    }
   ],
   "source": [
    "data.info()"
   ]
  },
  {
   "cell_type": "code",
   "execution_count": 29,
   "metadata": {},
   "outputs": [],
   "source": [
    "data = data.astype(float)\n"
   ]
  },
  {
   "cell_type": "code",
   "execution_count": 30,
   "metadata": {},
   "outputs": [
    {
     "name": "stdout",
     "output_type": "stream",
     "text": [
      "<class 'pandas.core.frame.DataFrame'>\n",
      "RangeIndex: 37079 entries, 0 to 37078\n",
      "Data columns (total 16 columns):\n",
      " #   Column              Non-Null Count  Dtype  \n",
      "---  ------              --------------  -----  \n",
      " 0   Gender              37079 non-null  float64\n",
      " 1   Age                 37079 non-null  float64\n",
      " 2   Weight              37079 non-null  float64\n",
      " 3   Body-Mass-Index     37079 non-null  float64\n",
      " 4   Hemoglobin          37079 non-null  float64\n",
      " 5   Albumin             37079 non-null  float64\n",
      " 6   ALP                 37079 non-null  float64\n",
      " 7   Cholesterol         37079 non-null  float64\n",
      " 8   Creatinine          37079 non-null  float64\n",
      " 9   GGT                 37079 non-null  float64\n",
      " 10  Iron                37079 non-null  float64\n",
      " 11  Protein             37079 non-null  float64\n",
      " 12  HDL                 37079 non-null  float64\n",
      " 13  Glycohemoglobin     37079 non-null  float64\n",
      " 14  Diabetes            37079 non-null  float64\n",
      " 15  Blood-Rel-Diabetes  37079 non-null  float64\n",
      "dtypes: float64(16)\n",
      "memory usage: 4.5 MB\n"
     ]
    }
   ],
   "source": [
    "data.info()"
   ]
  },
  {
   "cell_type": "code",
   "execution_count": 31,
   "metadata": {},
   "outputs": [
    {
     "data": {
      "text/plain": [
       "<AxesSubplot:>"
      ]
     },
     "execution_count": 31,
     "metadata": {},
     "output_type": "execute_result"
    },
    {
     "data": {
      "image/png": "[encoded data removed]",
      "text/plain": [
       "<Figure size 864x576 with 2 Axes>"
      ]
     },
     "metadata": {},
     "output_type": "display_data"
    }
   ],
   "source": [
    "import seaborn as sns\n",
    "plt.subplots(figsize=(12,8))\n",
    "sns.heatmap(data.corr(),cmap='inferno', annot=True)"
   ]
  },
  {
   "cell_type": "code",
   "execution_count": 32,
   "metadata": {},
   "outputs": [
    {
     "data": {
      "text/plain": [
       "(array([ 1,  2,  3,  4,  5,  6,  7,  8,  9, 10, 11, 12, 13, 14, 15, 16]),\n",
       " [Text(1, 0, 'Gender'),\n",
       "  Text(2, 0, 'Age'),\n",
       "  Text(3, 0, 'Weight'),\n",
       "  Text(4, 0, 'Body-Mass-Index'),\n",
       "  Text(5, 0, 'Hemoglobin'),\n",
       "  Text(6, 0, 'Albumin'),\n",
       "  Text(7, 0, 'ALP'),\n",
       "  Text(8, 0, 'Cholesterol'),\n",
       "  Text(9, 0, 'Creatinine'),\n",
       "  Text(10, 0, 'GGT'),\n",
       "  Text(11, 0, 'Iron'),\n",
       "  Text(12, 0, 'Protein'),\n",
       "  Text(13, 0, 'HDL'),\n",
       "  Text(14, 0, 'Glycohemoglobin'),\n",
       "  Text(15, 0, 'Diabetes'),\n",
       "  Text(16, 0, 'Blood-Rel-Diabetes')])"
      ]
     },
     "execution_count": 32,
     "metadata": {},
     "output_type": "execute_result"
    },
    {
     "data": {
      "image/png": "[encoded data removed]",
      "text/plain": [
       "<Figure size 1800x1080 with 1 Axes>"
      ]
     },
     "metadata": {},
     "output_type": "display_data"
    }
   ],
   "source": [
    "plt.subplots(figsize=(25,15))\n",
    "data.boxplot(patch_artist=True, sym=\"k.\")\n",
    "plt.xticks(rotation=90)"
   ]
  },
  {
   "cell_type": "code",
   "execution_count": 33,
   "metadata": {},
   "outputs": [],
   "source": [
    "minimum = 0\n",
    "maximum = 0\n",
    "\n",
    "def detect_outlier(feature):\n",
    "    first_q = np.percentile(feature, 25)\n",
    "    third_q = np.percentile(feature, 75) \n",
    "    IQR = third_q - first_q\n",
    "    IQR *= 1.5\n",
    "    minimum = first_q - IQR \n",
    "    maximum = third_q + IQR\n",
    "    flag = False\n",
    "    \n",
    "    if(minimum > np.min(feature)):\n",
    "        flag = True\n",
    "    if(maximum < np.max(feature)):\n",
    "        flag = True\n",
    "    \n",
    "    return flag"
   ]
  },
  {
   "cell_type": "code",
   "execution_count": 34,
   "metadata": {},
   "outputs": [],
   "source": [
    "def  remove_outlier(feature):\n",
    "    first_q = np.percentile(X[feature], 25)\n",
    "    third_q = np.percentile(X[feature], 75)\n",
    "    IQR = third_q - first_q\n",
    "    IQR *= 1.5\n",
    "    \n",
    "    minimum = first_q - IQR # the acceptable minimum value\n",
    "    maximum = third_q + IQR # the acceptable maximum value\n",
    "    \n",
    "    median = X[feature].median()\n",
    "    \n",
    "    \"\"\"\n",
    "    # any value beyond the acceptance range are considered\n",
    "    as outliers. \n",
    "    # we replace the outliers with the median value of that \n",
    "      feature.\n",
    "    \"\"\"\n",
    "    \n",
    "    X.loc[X[feature] < minimum, feature] = median \n",
    "    X.loc[X[feature] > maximum, feature] = median\n",
    "\n",
    "# taking all the columns except the last one\n",
    "# last column is the label\n",
    "\n",
    "X = data.iloc[:, :-1]\n",
    "for i in range(len(X.columns)): \n",
    "        remove_outlier(X.columns[i])"
   ]
  },
  {
   "cell_type": "code",
   "execution_count": 35,
   "metadata": {},
   "outputs": [],
   "source": [
    "X = data.iloc[:, :-1]\n"
   ]
  },
  {
   "cell_type": "code",
   "execution_count": 36,
   "metadata": {},
   "outputs": [
    {
     "name": "stdout",
     "output_type": "stream",
     "text": [
      "Weight Contains Outlier\n",
      "Body-Mass-Index Contains Outlier\n",
      "Hemoglobin Contains Outlier\n",
      "Albumin Contains Outlier\n",
      "ALP Contains Outlier\n",
      "Cholesterol Contains Outlier\n",
      "Creatinine Contains Outlier\n",
      "GGT Contains Outlier\n",
      "Iron Contains Outlier\n",
      "Protein Contains Outlier\n",
      "HDL Contains Outlier\n",
      "Glycohemoglobin Contains Outlier\n",
      "Diabetes Contains Outlier\n"
     ]
    }
   ],
   "source": [
    "for i in range(len(X.columns)):\n",
    "    if(detect_outlier(X[X.columns[i]])):\n",
    "        print(X.columns[i], \"Contains Outlier\")"
   ]
  },
  {
   "cell_type": "code",
   "execution_count": 37,
   "metadata": {},
   "outputs": [],
   "source": [
    "for i in range (50):\n",
    "    for i in range(len(X.columns)):\n",
    "        remove_outlier(X.columns[i])"
   ]
  },
  {
   "cell_type": "code",
   "execution_count": 38,
   "metadata": {},
   "outputs": [
    {
     "data": {
      "text/plain": [
       "(array([ 1,  2,  3,  4,  5,  6,  7,  8,  9, 10, 11, 12, 13, 14, 15]),\n",
       " [Text(1, 0, 'Gender'),\n",
       "  Text(2, 0, 'Age'),\n",
       "  Text(3, 0, 'Weight'),\n",
       "  Text(4, 0, 'Body-Mass-Index'),\n",
       "  Text(5, 0, 'Hemoglobin'),\n",
       "  Text(6, 0, 'Albumin'),\n",
       "  Text(7, 0, 'ALP'),\n",
       "  Text(8, 0, 'Cholesterol'),\n",
       "  Text(9, 0, 'Creatinine'),\n",
       "  Text(10, 0, 'GGT'),\n",
       "  Text(11, 0, 'Iron'),\n",
       "  Text(12, 0, 'Protein'),\n",
       "  Text(13, 0, 'HDL'),\n",
       "  Text(14, 0, 'Glycohemoglobin'),\n",
       "  Text(15, 0, 'Diabetes')])"
      ]
     },
     "execution_count": 38,
     "metadata": {},
     "output_type": "execute_result"
    },
    {
     "data": {
      "image/png": "[encoded data removed]",
      "text/plain": [
       "<Figure size 1080x432 with 1 Axes>"
      ]
     },
     "metadata": {},
     "output_type": "display_data"
    }
   ],
   "source": [
    "plt.subplots(figsize=(15,6))\n",
    "X.boxplot(patch_artist=True, sym=\"k.\")\n",
    "plt.xticks(rotation=90)"
   ]
  },
  {
   "cell_type": "code",
   "execution_count": 39,
   "metadata": {},
   "outputs": [],
   "source": [
    "for i in range(len(X.columns)):\n",
    "    if(detect_outlier(X[X.columns[i]])):\n",
    "        print(X.columns[i], \"Contains Outlier\")"
   ]
  },
  {
   "cell_type": "code",
   "execution_count": 40,
   "metadata": {},
   "outputs": [],
   "source": [
    "import numpy as np \n",
    "import pandas as pd\n",
    "import matplotlib.pyplot as plt\n",
    "%matplotlib inline\n",
    "\n",
    "import seaborn as sns\n",
    "sns.set()\n",
    "from sklearn.preprocessing import MinMaxScaler, StandardScaler, LabelEncoder\n",
    "from sklearn.svm import SVC\n",
    "from sklearn.naive_bayes import GaussianNB\n",
    "from sklearn.linear_model import LogisticRegression\n",
    "#from xgboost import XGBClassifier, plot_importance\n",
    "from sklearn.model_selection import train_test_split\n",
    "from sklearn.metrics import accuracy_score,confusion_matrix"
   ]
  },
  {
   "cell_type": "code",
   "execution_count": 41,
   "metadata": {},
   "outputs": [
    {
     "data": {
      "text/html": [
       "<div>\n",
       "<style scoped>\n",
       "    .dataframe tbody tr th:only-of-type {\n",
       "        vertical-align: middle;\n",
       "    }\n",
       "\n",
       "    .dataframe tbody tr th {\n",
       "        vertical-align: top;\n",
       "    }\n",
       "\n",
       "    .dataframe thead th {\n",
       "        text-align: right;\n",
       "    }\n",
       "</style>\n",
       "<table border=\"1\" class=\"dataframe\">\n",
       "  <thead>\n",
       "    <tr style=\"text-align: right;\">\n",
       "      <th></th>\n",
       "      <th>Gender</th>\n",
       "      <th>Age</th>\n",
       "      <th>Weight</th>\n",
       "      <th>Body-Mass-Index</th>\n",
       "      <th>Hemoglobin</th>\n",
       "      <th>Albumin</th>\n",
       "      <th>ALP</th>\n",
       "      <th>Cholesterol</th>\n",
       "      <th>Creatinine</th>\n",
       "      <th>GGT</th>\n",
       "      <th>Iron</th>\n",
       "      <th>Protein</th>\n",
       "      <th>HDL</th>\n",
       "      <th>Glycohemoglobin</th>\n",
       "      <th>Diabetes</th>\n",
       "    </tr>\n",
       "  </thead>\n",
       "  <tbody>\n",
       "    <tr>\n",
       "      <th>0</th>\n",
       "      <td>-1.026927</td>\n",
       "      <td>1.557803</td>\n",
       "      <td>-0.200522</td>\n",
       "      <td>-0.594546</td>\n",
       "      <td>-0.057520</td>\n",
       "      <td>0.726296</td>\n",
       "      <td>-0.309102</td>\n",
       "      <td>0.224169</td>\n",
       "      <td>-0.716753</td>\n",
       "      <td>0.401809</td>\n",
       "      <td>-0.630587</td>\n",
       "      <td>-0.000498</td>\n",
       "      <td>0.177571</td>\n",
       "      <td>-2.261760</td>\n",
       "      <td>0.0</td>\n",
       "    </tr>\n",
       "    <tr>\n",
       "      <th>1</th>\n",
       "      <td>-1.026927</td>\n",
       "      <td>0.003128</td>\n",
       "      <td>0.809160</td>\n",
       "      <td>0.228165</td>\n",
       "      <td>0.220450</td>\n",
       "      <td>0.726296</td>\n",
       "      <td>-0.252824</td>\n",
       "      <td>2.155224</td>\n",
       "      <td>-0.233379</td>\n",
       "      <td>0.401809</td>\n",
       "      <td>1.813833</td>\n",
       "      <td>0.219406</td>\n",
       "      <td>-0.715435</td>\n",
       "      <td>0.338547</td>\n",
       "      <td>0.0</td>\n",
       "    </tr>\n",
       "    <tr>\n",
       "      <th>2</th>\n",
       "      <td>-1.026927</td>\n",
       "      <td>-0.663161</td>\n",
       "      <td>1.204766</td>\n",
       "      <td>0.525908</td>\n",
       "      <td>1.262840</td>\n",
       "      <td>1.374143</td>\n",
       "      <td>-0.252824</td>\n",
       "      <td>-1.140713</td>\n",
       "      <td>0.738864</td>\n",
       "      <td>0.401809</td>\n",
       "      <td>-0.630587</td>\n",
       "      <td>-0.000498</td>\n",
       "      <td>-1.003501</td>\n",
       "      <td>-0.636568</td>\n",
       "      <td>0.0</td>\n",
       "    </tr>\n",
       "    <tr>\n",
       "      <th>3</th>\n",
       "      <td>-1.026927</td>\n",
       "      <td>1.169134</td>\n",
       "      <td>-0.897262</td>\n",
       "      <td>-0.463304</td>\n",
       "      <td>1.818781</td>\n",
       "      <td>-0.893321</td>\n",
       "      <td>1.998322</td>\n",
       "      <td>-0.037686</td>\n",
       "      <td>-0.716753</td>\n",
       "      <td>1.186672</td>\n",
       "      <td>-0.464676</td>\n",
       "      <td>-1.319924</td>\n",
       "      <td>-0.139302</td>\n",
       "      <td>0.013509</td>\n",
       "      <td>0.0</td>\n",
       "    </tr>\n",
       "    <tr>\n",
       "      <th>4</th>\n",
       "      <td>-1.026927</td>\n",
       "      <td>1.779899</td>\n",
       "      <td>-0.194617</td>\n",
       "      <td>-0.118549</td>\n",
       "      <td>1.679795</td>\n",
       "      <td>0.726296</td>\n",
       "      <td>2.392272</td>\n",
       "      <td>-0.614980</td>\n",
       "      <td>0.738864</td>\n",
       "      <td>1.186672</td>\n",
       "      <td>-0.531040</td>\n",
       "      <td>1.538832</td>\n",
       "      <td>-0.830661</td>\n",
       "      <td>1.313662</td>\n",
       "      <td>0.0</td>\n",
       "    </tr>\n",
       "  </tbody>\n",
       "</table>\n",
       "</div>"
      ],
      "text/plain": [
       "     Gender       Age    Weight  Body-Mass-Index  Hemoglobin   Albumin  \\\n",
       "0 -1.026927  1.557803 -0.200522        -0.594546   -0.057520  0.726296   \n",
       "1 -1.026927  0.003128  0.809160         0.228165    0.220450  0.726296   \n",
       "2 -1.026927 -0.663161  1.204766         0.525908    1.262840  1.374143   \n",
       "3 -1.026927  1.169134 -0.897262        -0.463304    1.818781 -0.893321   \n",
       "4 -1.026927  1.779899 -0.194617        -0.118549    1.679795  0.726296   \n",
       "\n",
       "        ALP  Cholesterol  Creatinine       GGT      Iron   Protein       HDL  \\\n",
       "0 -0.309102     0.224169   -0.716753  0.401809 -0.630587 -0.000498  0.177571   \n",
       "1 -0.252824     2.155224   -0.233379  0.401809  1.813833  0.219406 -0.715435   \n",
       "2 -0.252824    -1.140713    0.738864  0.401809 -0.630587 -0.000498 -1.003501   \n",
       "3  1.998322    -0.037686   -0.716753  1.186672 -0.464676 -1.319924 -0.139302   \n",
       "4  2.392272    -0.614980    0.738864  1.186672 -0.531040  1.538832 -0.830661   \n",
       "\n",
       "   Glycohemoglobin  Diabetes  \n",
       "0        -2.261760       0.0  \n",
       "1         0.338547       0.0  \n",
       "2        -0.636568       0.0  \n",
       "3         0.013509       0.0  \n",
       "4         1.313662       0.0  "
      ]
     },
     "execution_count": 41,
     "metadata": {},
     "output_type": "execute_result"
    }
   ],
   "source": [
    "scaler = StandardScaler()\n",
    "scaled_data = scaler.fit_transform(X)\n",
    "scaled_df = pd.DataFrame(data = scaled_data, columns = X.columns)\n",
    "scaled_df.head()\n"
   ]
  },
  {
   "cell_type": "code",
   "execution_count": 42,
   "metadata": {},
   "outputs": [],
   "source": [
    "label = data[\"Diabetes\"]\n"
   ]
  },
  {
   "cell_type": "code",
   "execution_count": 43,
   "metadata": {},
   "outputs": [],
   "source": [
    "encoder = LabelEncoder()\n",
    "label = encoder.fit_transform(label)"
   ]
  },
  {
   "cell_type": "code",
   "execution_count": 44,
   "metadata": {},
   "outputs": [],
   "source": [
    "X = scaled_df\n",
    "y = label \n",
    "\n",
    "X_train, X_test, y_train, y_test = train_test_split(X, y, test_size=0.2, random_state=420)"
   ]
  },
  {
   "cell_type": "code",
   "execution_count": 45,
   "metadata": {},
   "outputs": [
    {
     "name": "stdout",
     "output_type": "stream",
     "text": [
      "(29663, 15) (7416,)\n",
      "(29663,) (7416,)\n"
     ]
    }
   ],
   "source": [
    "print(X_train.shape, y_test.shape)\n",
    "print(y_train.shape, y_test.shape)"
   ]
  },
  {
   "cell_type": "code",
   "execution_count": 46,
   "metadata": {},
   "outputs": [
    {
     "name": "stderr",
     "output_type": "stream",
     "text": [
      "C:\\Users\\Eigenaar\\AppData\\Roaming\\Python\\Python39\\site-packages\\sklearn\\feature_selection\\_univariate_selection.py:112: UserWarning: Features [14] are constant.\n",
      "  warnings.warn(\"Features %s are constant.\" % constant_features_idx, UserWarning)\n",
      "C:\\Users\\Eigenaar\\AppData\\Roaming\\Python\\Python39\\site-packages\\sklearn\\feature_selection\\_univariate_selection.py:113: RuntimeWarning: invalid value encountered in true_divide\n",
      "  f = msb / msw\n"
     ]
    }
   ],
   "source": [
    "from sklearn.feature_selection import SelectKBest\n",
    "from sklearn.feature_selection import f_classif\n",
    "\n",
    "xnew2=SelectKBest(f_classif, k=10).fit_transform(X, y)  #choosing 10 instead of 20 because it has to be less than 14"
   ]
  },
  {
   "cell_type": "code",
   "execution_count": 47,
   "metadata": {},
   "outputs": [
    {
     "name": "stdout",
     "output_type": "stream",
     "text": [
      "           Features     F_Scores\n",
      "1               Age  2686.409705\n",
      "3   Body-Mass-Index  1000.670115\n",
      "2            Weight   526.900940\n",
      "5           Albumin   525.811066\n",
      "13  Glycohemoglobin   477.417483\n",
      "12              HDL   378.750379\n",
      "7       Cholesterol   334.923024\n",
      "9               GGT   305.472574\n",
      "4        Hemoglobin   271.220818\n",
      "10             Iron   211.216877\n",
      "6               ALP   156.172300\n",
      "8        Creatinine   102.880413\n",
      "0            Gender    12.219556\n",
      "11          Protein     8.581358\n",
      "14         Diabetes          NaN\n"
     ]
    },
    {
     "name": "stderr",
     "output_type": "stream",
     "text": [
      "C:\\Users\\Eigenaar\\AppData\\Roaming\\Python\\Python39\\site-packages\\sklearn\\feature_selection\\_univariate_selection.py:112: UserWarning: Features [14] are constant.\n",
      "  warnings.warn(\"Features %s are constant.\" % constant_features_idx, UserWarning)\n",
      "C:\\Users\\Eigenaar\\AppData\\Roaming\\Python\\Python39\\site-packages\\sklearn\\feature_selection\\_univariate_selection.py:113: RuntimeWarning: invalid value encountered in true_divide\n",
      "  f = msb / msw\n"
     ]
    }
   ],
   "source": [
    " import sklearn.feature_selection as fs\n",
    " import matplotlib.pyplot as plt\n",
    " df2 = fs.SelectKBest(k='all')\n",
    "\n",
    " df2.fit(X, y)\n",
    "\n",
    " names = X.columns.values[df2.get_support()]\n",
    "\n",
    " scores = df2.scores_[df2.get_support()]\n",
    "\n",
    " names_scores = list(zip(names, scores))\n",
    "\n",
    " ns_df = pd.DataFrame(data = names_scores, columns=\n",
    "\n",
    "  ['Features','F_Scores'])\n",
    "\n",
    " ns_df_sorted = ns_df.sort_values(['F_Scores','Features'], ascending =\n",
    "\n",
    "  [False, True])\n",
    "\n",
    " print(ns_df_sorted)"
   ]
  },
  {
   "cell_type": "code",
   "execution_count": 48,
   "metadata": {},
   "outputs": [],
   "source": [
    "#import statsmodels.api as sm\n",
    "#import pandas\n",
    "#from patsy import dmatrices\n",
    "#logit_model = sm.OLS(y_train, X_train)\n",
    "#result = logit_model.fit()\n",
    "#print(result.summary2())"
   ]
  },
  {
   "cell_type": "code",
   "execution_count": 49,
   "metadata": {},
   "outputs": [],
   "source": [
    "#np.exp(result.params)\n"
   ]
  },
  {
   "cell_type": "code",
   "execution_count": 50,
   "metadata": {},
   "outputs": [],
   "source": [
    "#params = result.params\n",
    "#conf = result.conf_int()\n",
    "#conf['Odds Ratio'] = params.sort_index()\n",
    "#conf.columns = ['5%', '95%', 'Odds Ratio']\n",
    "#print(np.exp(conf))"
   ]
  },
  {
   "cell_type": "code",
   "execution_count": 51,
   "metadata": {},
   "outputs": [],
   "source": [
    "#result.pvalues.sort_values()\n"
   ]
  },
  {
   "cell_type": "code",
   "execution_count": 52,
   "metadata": {},
   "outputs": [],
   "source": [
    "#from sklearn.utils import class_weight\n",
    "#class_weights = class_weight.compute_class_weight('balanced',\n",
    "                                                # np.unique(y_train),\n",
    "                                                # y_train)\n",
    "#model.fit(X_train, y_train, class_weight=class_weights)\n"
   ]
  },
  {
   "cell_type": "code",
   "execution_count": 53,
   "metadata": {},
   "outputs": [
    {
     "name": "stdout",
     "output_type": "stream",
     "text": [
      "Best parameters : {'class_weight': {0: 0.47631578947368414, 1: 0.5236842105263159}}\n"
     ]
    },
    {
     "data": {
      "text/plain": [
       "<AxesSubplot:xlabel='weight'>"
      ]
     },
     "execution_count": 53,
     "metadata": {},
     "output_type": "execute_result"
    },
    {
     "data": {
      "image/png": "[encoded data removed]",
      "text/plain": [
       "<Figure size 432x288 with 1 Axes>"
      ]
     },
     "metadata": {},
     "output_type": "display_data"
    }
   ],
   "source": [
    "from sklearn.model_selection import GridSearchCV\n",
    "\n",
    "weights = np.linspace(0.05, 0.95, 20)\n",
    "\n",
    "gsc = GridSearchCV(\n",
    "    estimator=LogisticRegression(),\n",
    "    param_grid={\n",
    "        'class_weight': [{0: x, 1: 1.0-x} for x in weights]\n",
    "    },\n",
    "    scoring='accuracy',\n",
    "    cv=15\n",
    ")\n",
    "grid_result = gsc.fit(X, y)\n",
    "\n",
    "print(\"Best parameters : %s\" % grid_result.best_params_)\n",
    "\n",
    "# Plot the weights vs f1 score\n",
    "dataz = pd.DataFrame({ 'score': grid_result.cv_results_['mean_test_score'],\n",
    "                       'weight': weights })\n",
    "dataz.plot(x='weight')"
   ]
  },
  {
   "cell_type": "code",
   "execution_count": 54,
   "metadata": {},
   "outputs": [],
   "source": [
    "class_weight = {0: 0.5236842105263158,\n",
    "                1: 0.47631578947368425}"
   ]
  },
  {
   "cell_type": "code",
   "execution_count": 55,
   "metadata": {},
   "outputs": [],
   "source": [
    "#LR"
   ]
  },
  {
   "cell_type": "code",
   "execution_count": 56,
   "metadata": {},
   "outputs": [
    {
     "data": {
      "text/plain": [
       "\"\\nfrom sklearn.linear_model import LogisticRegression\\nfrom sklearn.metrics import confusion_matrix, classification_report\\nfrom mlxtend.plotting import plot_decision_regions, plot_confusion_matrix\\nfrom matplotlib import pyplot as plt\\nlr = LogisticRegression(class_weight='balanced',random_state=420)\\n\\n# Fit..\\nlr.fit(X_train, y_train)\\n\\n# Predict..\\ny_pred = lr.predict(X_test)\\n\\n# Evaluate the model\\nprint(classification_report(y_test, y_pred))\\nplot_confusion_matrix(confusion_matrix(y_test, y_pred))\\nfrom sklearn.metrics import roc_curve, auc\\nfalse_positive_rate, true_positive_rate, thresholds = roc_curve(y_test, y_pred)\\nroc_auc = auc(false_positive_rate, true_positive_rate)\\nroc_auc\\n\""
      ]
     },
     "execution_count": 56,
     "metadata": {},
     "output_type": "execute_result"
    }
   ],
   "source": [
    "'''\n",
    "from sklearn.linear_model import LogisticRegression\n",
    "from sklearn.metrics import confusion_matrix, classification_report\n",
    "from mlxtend.plotting import plot_decision_regions, plot_confusion_matrix\n",
    "from matplotlib import pyplot as plt\n",
    "lr = LogisticRegression(class_weight='balanced',random_state=420)\n",
    "\n",
    "# Fit..\n",
    "lr.fit(X_train, y_train)\n",
    "\n",
    "# Predict..\n",
    "y_pred = lr.predict(X_test)\n",
    "\n",
    "# Evaluate the model\n",
    "print(classification_report(y_test, y_pred))\n",
    "plot_confusion_matrix(confusion_matrix(y_test, y_pred))\n",
    "from sklearn.metrics import roc_curve, auc\n",
    "false_positive_rate, true_positive_rate, thresholds = roc_curve(y_test, y_pred)\n",
    "roc_auc = auc(false_positive_rate, true_positive_rate)\n",
    "roc_auc\n",
    "'''"
   ]
  },
  {
   "cell_type": "code",
   "execution_count": 57,
   "metadata": {},
   "outputs": [
    {
     "data": {
      "text/plain": [
       "'\\nfrom sklearn.svm import SVC\\n\\nclf_svc_rbf = SVC(kernel=\"rbf\",class_weight=\\'balanced\\',random_state=4200)\\nclf_svc_rbf.fit(X_train,y_train)\\ny_pred_clf_svc_rbf = clf_svc_rbf.predict(X_test)\\n\\n\\nimport matplotlib.pyplot as plt\\ncm = confusion_matrix(y_test,y_pred_clf_svc_rbf)\\n\\n#plt.figure(figsize=(5,5))\\n#sns.heatmap(cm,annot=True)\\n#plt.show()\\n\\n#print(classification_report(y_test,y_pred_clf_svc_rbf))\\n\\nprint(classification_report(y_test, y_pred_clf_svc_rbf))\\nplot_confusion_matrix(confusion_matrix(y_test, y_pred_clf_svc_rbf))\\n\\nfrom sklearn.metrics import roc_curve, auc\\nfalse_positive_rate, true_positive_rate, thresholds = roc_curve(y_test, y_pred_clf_svc_rbf)\\nroc_auc = auc(false_positive_rate, true_positive_rate)\\nroc_auc\\n'"
      ]
     },
     "execution_count": 57,
     "metadata": {},
     "output_type": "execute_result"
    }
   ],
   "source": [
    "'''\n",
    "from sklearn.svm import SVC\n",
    "\n",
    "clf_svc_rbf = SVC(kernel=\"rbf\",class_weight='balanced',random_state=4200)\n",
    "clf_svc_rbf.fit(X_train,y_train)\n",
    "y_pred_clf_svc_rbf = clf_svc_rbf.predict(X_test)\n",
    "\n",
    "\n",
    "import matplotlib.pyplot as plt\n",
    "cm = confusion_matrix(y_test,y_pred_clf_svc_rbf)\n",
    "\n",
    "#plt.figure(figsize=(5,5))\n",
    "#sns.heatmap(cm,annot=True)\n",
    "#plt.show()\n",
    "\n",
    "#print(classification_report(y_test,y_pred_clf_svc_rbf))\n",
    "\n",
    "print(classification_report(y_test, y_pred_clf_svc_rbf))\n",
    "plot_confusion_matrix(confusion_matrix(y_test, y_pred_clf_svc_rbf))\n",
    "\n",
    "from sklearn.metrics import roc_curve, auc\n",
    "false_positive_rate, true_positive_rate, thresholds = roc_curve(y_test, y_pred_clf_svc_rbf)\n",
    "roc_auc = auc(false_positive_rate, true_positive_rate)\n",
    "roc_auc\n",
    "'''"
   ]
  },
  {
   "cell_type": "code",
   "execution_count": 58,
   "metadata": {},
   "outputs": [
    {
     "name": "stdout",
     "output_type": "stream",
     "text": [
      "              precision    recall  f1-score   support\n",
      "\n",
      "           0       0.65      0.26      0.37       951\n",
      "           1       0.90      0.98      0.94      6465\n",
      "\n",
      "    accuracy                           0.89      7416\n",
      "   macro avg       0.77      0.62      0.65      7416\n",
      "weighted avg       0.87      0.89      0.87      7416\n",
      "\n"
     ]
    },
    {
     "data": {
      "text/plain": [
       "0.619870889355691"
      ]
     },
     "execution_count": 58,
     "metadata": {},
     "output_type": "execute_result"
    },
    {
     "data": {
      "image/png": "[encoded data removed]",
      "text/plain": [
       "<Figure size 432x288 with 2 Axes>"
      ]
     },
     "metadata": {},
     "output_type": "display_data"
    }
   ],
   "source": [
    "\n",
    "from sklearn.ensemble import RandomForestClassifier\n",
    "from sklearn.metrics import classification_report\n",
    "from sklearn.metrics import confusion_matrix, ConfusionMatrixDisplay\n",
    "\n",
    "rd = RandomForestClassifier(class_weight='balanced',random_state=4200)\n",
    "rd.fit(X_train,y_train)\n",
    "y_pred_rd = rd.predict(X_test)\n",
    "\n",
    "\n",
    "import matplotlib.pyplot as plt\n",
    "cm = confusion_matrix(y_test,y_pred_rd)\n",
    "\n",
    "#plt.figure(figsize=(5,5))\n",
    "#sns.heatmap(cm,annot=True,linewidths=.3)\n",
    "#plt.show()\n",
    "\n",
    "print(classification_report(y_test,y_pred_rd))\n",
    "ConfusionMatrixDisplay.from_predictions(y_test,y_pred_rd)  #added by Elena becuase of confusion matrix error \n",
    "\n",
    "\n",
    "from sklearn.metrics import roc_curve, auc\n",
    "false_positive_rate, true_positive_rate, thresholds = roc_curve(y_test, y_pred_rd)\n",
    "roc_auc = auc(false_positive_rate, true_positive_rate)\n",
    "roc_auc\n"
   ]
  },
  {
   "cell_type": "code",
   "execution_count": 59,
   "metadata": {},
   "outputs": [],
   "source": [
    "#CV appraoach"
   ]
  },
  {
   "cell_type": "markdown",
   "metadata": {},
   "source": [
    "## SVM"
   ]
  },
  {
   "cell_type": "code",
   "execution_count": 60,
   "metadata": {},
   "outputs": [
    {
     "name": "stdout",
     "output_type": "stream",
     "text": [
      "Accuracy: 0.8737 (0.0034)\n"
     ]
    },
    {
     "data": {
      "text/plain": [
       "array([0.87634844, 0.87392125, 0.87351672, 0.87540453, 0.86933657,\n",
       "       0.87769687, 0.86798813, 0.87270766, 0.87122438, 0.87918015])"
      ]
     },
     "execution_count": 60,
     "metadata": {},
     "output_type": "execute_result"
    }
   ],
   "source": [
    "\n",
    "# evaluate a logistic regression model using k-fold cross-validation\n",
    "from numpy import mean\n",
    "from numpy import std\n",
    "from sklearn.model_selection import KFold\n",
    "from sklearn.model_selection import cross_val_score\n",
    "from sklearn.model_selection import ShuffleSplit\n",
    "\n",
    "from sklearn.linear_model import LogisticRegression\n",
    "# create dataset\n",
    "#X, y = make_classification(n_samples=1000, n_features=20, n_informative=15, n_redundant=5, random_state=1)\n",
    "# prepare the cross-validation procedure\n",
    "#cv = KFold(n_splits=5, test_size= 0.2, random_state=0)\n",
    "cv = ShuffleSplit(n_splits=10, test_size=0.2, random_state=42)\n",
    "# create model\n",
    "model = SVC(kernel='rbf', C=1, class_weight=class_weight)\n",
    "# evaluate model\n",
    "scores = cross_val_score(model, X, y, scoring='accuracy', cv=cv, n_jobs=-1)\n",
    "# report performance\n",
    "print('Accuracy: %.4f (%.4f)' % (mean(scores), std(scores)))\n",
    "scores"
   ]
  },
  {
   "cell_type": "code",
   "execution_count": 61,
   "metadata": {},
   "outputs": [
    {
     "name": "stderr",
     "output_type": "stream",
     "text": [
      "C:\\Users\\Eigenaar\\AppData\\Roaming\\Python\\Python39\\site-packages\\sklearn\\utils\\deprecation.py:87: FutureWarning: Function plot_roc_curve is deprecated; Function :func:`plot_roc_curve` is deprecated in 1.0 and will be removed in 1.2. Use one of the class methods: :meth:`sklearn.metric.RocCurveDisplay.from_predictions` or :meth:`sklearn.metric.RocCurveDisplay.from_estimator`.\n",
      "  warnings.warn(msg, category=FutureWarning)\n",
      "C:\\Users\\Eigenaar\\AppData\\Roaming\\Python\\Python39\\site-packages\\sklearn\\utils\\deprecation.py:87: FutureWarning: Function plot_roc_curve is deprecated; Function :func:`plot_roc_curve` is deprecated in 1.0 and will be removed in 1.2. Use one of the class methods: :meth:`sklearn.metric.RocCurveDisplay.from_predictions` or :meth:`sklearn.metric.RocCurveDisplay.from_estimator`.\n",
      "  warnings.warn(msg, category=FutureWarning)\n",
      "C:\\Users\\Eigenaar\\AppData\\Roaming\\Python\\Python39\\site-packages\\sklearn\\utils\\deprecation.py:87: FutureWarning: Function plot_roc_curve is deprecated; Function :func:`plot_roc_curve` is deprecated in 1.0 and will be removed in 1.2. Use one of the class methods: :meth:`sklearn.metric.RocCurveDisplay.from_predictions` or :meth:`sklearn.metric.RocCurveDisplay.from_estimator`.\n",
      "  warnings.warn(msg, category=FutureWarning)\n",
      "C:\\Users\\Eigenaar\\AppData\\Roaming\\Python\\Python39\\site-packages\\sklearn\\utils\\deprecation.py:87: FutureWarning: Function plot_roc_curve is deprecated; Function :func:`plot_roc_curve` is deprecated in 1.0 and will be removed in 1.2. Use one of the class methods: :meth:`sklearn.metric.RocCurveDisplay.from_predictions` or :meth:`sklearn.metric.RocCurveDisplay.from_estimator`.\n",
      "  warnings.warn(msg, category=FutureWarning)\n",
      "C:\\Users\\Eigenaar\\AppData\\Roaming\\Python\\Python39\\site-packages\\sklearn\\utils\\deprecation.py:87: FutureWarning: Function plot_roc_curve is deprecated; Function :func:`plot_roc_curve` is deprecated in 1.0 and will be removed in 1.2. Use one of the class methods: :meth:`sklearn.metric.RocCurveDisplay.from_predictions` or :meth:`sklearn.metric.RocCurveDisplay.from_estimator`.\n",
      "  warnings.warn(msg, category=FutureWarning)\n",
      "C:\\Users\\Eigenaar\\AppData\\Roaming\\Python\\Python39\\site-packages\\sklearn\\utils\\deprecation.py:87: FutureWarning: Function plot_roc_curve is deprecated; Function :func:`plot_roc_curve` is deprecated in 1.0 and will be removed in 1.2. Use one of the class methods: :meth:`sklearn.metric.RocCurveDisplay.from_predictions` or :meth:`sklearn.metric.RocCurveDisplay.from_estimator`.\n",
      "  warnings.warn(msg, category=FutureWarning)\n",
      "C:\\Users\\Eigenaar\\AppData\\Roaming\\Python\\Python39\\site-packages\\sklearn\\utils\\deprecation.py:87: FutureWarning: Function plot_roc_curve is deprecated; Function :func:`plot_roc_curve` is deprecated in 1.0 and will be removed in 1.2. Use one of the class methods: :meth:`sklearn.metric.RocCurveDisplay.from_predictions` or :meth:`sklearn.metric.RocCurveDisplay.from_estimator`.\n",
      "  warnings.warn(msg, category=FutureWarning)\n",
      "C:\\Users\\Eigenaar\\AppData\\Roaming\\Python\\Python39\\site-packages\\sklearn\\utils\\deprecation.py:87: FutureWarning: Function plot_roc_curve is deprecated; Function :func:`plot_roc_curve` is deprecated in 1.0 and will be removed in 1.2. Use one of the class methods: :meth:`sklearn.metric.RocCurveDisplay.from_predictions` or :meth:`sklearn.metric.RocCurveDisplay.from_estimator`.\n",
      "  warnings.warn(msg, category=FutureWarning)\n",
      "C:\\Users\\Eigenaar\\AppData\\Roaming\\Python\\Python39\\site-packages\\sklearn\\utils\\deprecation.py:87: FutureWarning: Function plot_roc_curve is deprecated; Function :func:`plot_roc_curve` is deprecated in 1.0 and will be removed in 1.2. Use one of the class methods: :meth:`sklearn.metric.RocCurveDisplay.from_predictions` or :meth:`sklearn.metric.RocCurveDisplay.from_estimator`.\n",
      "  warnings.warn(msg, category=FutureWarning)\n",
      "C:\\Users\\Eigenaar\\AppData\\Roaming\\Python\\Python39\\site-packages\\sklearn\\utils\\deprecation.py:87: FutureWarning: Function plot_roc_curve is deprecated; Function :func:`plot_roc_curve` is deprecated in 1.0 and will be removed in 1.2. Use one of the class methods: :meth:`sklearn.metric.RocCurveDisplay.from_predictions` or :meth:`sklearn.metric.RocCurveDisplay.from_estimator`.\n",
      "  warnings.warn(msg, category=FutureWarning)\n"
     ]
    },
    {
     "data": {
      "image/png": "[encoded data removed]",
      "text/plain": [
       "<Figure size 432x288 with 1 Axes>"
      ]
     },
     "metadata": {},
     "output_type": "display_data"
    }
   ],
   "source": [
    "import numpy as np\n",
    "import matplotlib.pyplot as plt\n",
    "\n",
    "from sklearn import svm, datasets\n",
    "from sklearn.metrics import auc\n",
    "from sklearn.metrics import plot_roc_curve\n",
    "from sklearn.model_selection import StratifiedKFold\n",
    "\n",
    "\n",
    "\n",
    "# #############################################################################\n",
    "# Classification and ROC analysis\n",
    "\n",
    "# Run classifier with cross-validation and plot ROC curves\n",
    "cv = ShuffleSplit(n_splits=10, test_size=0.2, random_state=42)\n",
    "classifier = svm.SVC(kernel='rbf', probability=True, class_weight=class_weight,\n",
    "                     random_state=42)\n",
    "\n",
    "tprs = []\n",
    "aucs = []\n",
    "mean_fpr = np.linspace(0, 1, 100)\n",
    "\n",
    "fig, ax = plt.subplots()\n",
    "for i, (train, test) in enumerate(cv.split(X, y)):\n",
    "    classifier.fit(X, y)\n",
    "    viz = plot_roc_curve(classifier, X, y,\n",
    "                         name='ROC fold {}'.format(i),\n",
    "                         alpha=0.3, lw=1, ax=ax)\n",
    "    interp_tpr = np.interp(mean_fpr, viz.fpr, viz.tpr)\n",
    "    interp_tpr[0] = 0.0\n",
    "    tprs.append(interp_tpr)\n",
    "    aucs.append(viz.roc_auc)\n",
    "\n",
    "ax.plot([0, 1], [0, 1], linestyle='--', lw=2, color='r',\n",
    "        label='Chance', alpha=.8)\n",
    "\n",
    "mean_tpr = np.mean(tprs, axis=0)\n",
    "mean_tpr[-1] = 1.0\n",
    "mean_auc = auc(mean_fpr, mean_tpr)\n",
    "std_auc = np.std(aucs)\n",
    "ax.plot(mean_fpr, mean_tpr, color='b',\n",
    "        label=r'Mean ROC (AUC = %0.4f $\\pm$ %0.4f)' % (mean_auc, std_auc),\n",
    "        lw=2, alpha=.8)\n",
    "\n",
    "std_tpr = np.std(tprs, axis=0)\n",
    "tprs_upper = np.minimum(mean_tpr + std_tpr, 1)\n",
    "tprs_lower = np.maximum(mean_tpr - std_tpr, 0)\n",
    "ax.fill_between(mean_fpr, tprs_lower, tprs_upper, color='grey', alpha=.2,\n",
    "                label=r'$\\pm$ 1 std. dev.')\n",
    "\n",
    "ax.set(xlim=[-0.05, 1.05], ylim=[-0.05, 1.05],\n",
    "       title=\"Receiver operating characteristic\")\n",
    "ax.legend(loc=\"lower right\")\n",
    "plt.show()"
   ]
  },
  {
   "cell_type": "markdown",
   "metadata": {},
   "source": [
    "# LR"
   ]
  },
  {
   "cell_type": "code",
   "execution_count": 62,
   "metadata": {},
   "outputs": [
    {
     "name": "stdout",
     "output_type": "stream",
     "text": [
      "Accuracy: 0.8681 (0.0042)\n"
     ]
    },
    {
     "data": {
      "text/plain": [
       "array([0.86947141, 0.86987594, 0.86610032, 0.87014563, 0.86326861,\n",
       "       0.87081985, 0.86016721, 0.87108954, 0.86515642, 0.87513484])"
      ]
     },
     "execution_count": 62,
     "metadata": {},
     "output_type": "execute_result"
    }
   ],
   "source": [
    "from numpy import mean\n",
    "from numpy import std\n",
    "from sklearn.model_selection import KFold\n",
    "from sklearn.model_selection import cross_val_score\n",
    "from sklearn.model_selection import ShuffleSplit\n",
    "\n",
    "from sklearn.linear_model import LogisticRegression\n",
    "# create dataset\n",
    "#X, y = make_classification(n_samples=1000, n_features=20, n_informative=15, n_redundant=5, random_state=1)\n",
    "# prepare the cross-validation procedure\n",
    "#cv = KFold(n_splits=5, test_size= 0.2, random_state=0)\n",
    "cv = ShuffleSplit(n_splits=10, test_size=0.2, random_state=42)\n",
    "# create model\n",
    "model = LogisticRegression(class_weight=class_weight)\n",
    "# evaluate model\n",
    "scores = cross_val_score(model, X, y, scoring='accuracy', cv=cv, n_jobs=-1)\n",
    "# report performance\n",
    "print('Accuracy: %.4f (%.4f)' % (mean(scores), std(scores)))\n",
    "scores"
   ]
  },
  {
   "cell_type": "code",
   "execution_count": 63,
   "metadata": {},
   "outputs": [
    {
     "name": "stderr",
     "output_type": "stream",
     "text": [
      "C:\\Users\\Eigenaar\\AppData\\Roaming\\Python\\Python39\\site-packages\\sklearn\\utils\\deprecation.py:87: FutureWarning: Function plot_roc_curve is deprecated; Function :func:`plot_roc_curve` is deprecated in 1.0 and will be removed in 1.2. Use one of the class methods: :meth:`sklearn.metric.RocCurveDisplay.from_predictions` or :meth:`sklearn.metric.RocCurveDisplay.from_estimator`.\n",
      "  warnings.warn(msg, category=FutureWarning)\n",
      "C:\\Users\\Eigenaar\\AppData\\Roaming\\Python\\Python39\\site-packages\\sklearn\\utils\\deprecation.py:87: FutureWarning: Function plot_roc_curve is deprecated; Function :func:`plot_roc_curve` is deprecated in 1.0 and will be removed in 1.2. Use one of the class methods: :meth:`sklearn.metric.RocCurveDisplay.from_predictions` or :meth:`sklearn.metric.RocCurveDisplay.from_estimator`.\n",
      "  warnings.warn(msg, category=FutureWarning)\n",
      "C:\\Users\\Eigenaar\\AppData\\Roaming\\Python\\Python39\\site-packages\\sklearn\\utils\\deprecation.py:87: FutureWarning: Function plot_roc_curve is deprecated; Function :func:`plot_roc_curve` is deprecated in 1.0 and will be removed in 1.2. Use one of the class methods: :meth:`sklearn.metric.RocCurveDisplay.from_predictions` or :meth:`sklearn.metric.RocCurveDisplay.from_estimator`.\n",
      "  warnings.warn(msg, category=FutureWarning)\n",
      "C:\\Users\\Eigenaar\\AppData\\Roaming\\Python\\Python39\\site-packages\\sklearn\\utils\\deprecation.py:87: FutureWarning: Function plot_roc_curve is deprecated; Function :func:`plot_roc_curve` is deprecated in 1.0 and will be removed in 1.2. Use one of the class methods: :meth:`sklearn.metric.RocCurveDisplay.from_predictions` or :meth:`sklearn.metric.RocCurveDisplay.from_estimator`.\n",
      "  warnings.warn(msg, category=FutureWarning)\n",
      "C:\\Users\\Eigenaar\\AppData\\Roaming\\Python\\Python39\\site-packages\\sklearn\\utils\\deprecation.py:87: FutureWarning: Function plot_roc_curve is deprecated; Function :func:`plot_roc_curve` is deprecated in 1.0 and will be removed in 1.2. Use one of the class methods: :meth:`sklearn.metric.RocCurveDisplay.from_predictions` or :meth:`sklearn.metric.RocCurveDisplay.from_estimator`.\n",
      "  warnings.warn(msg, category=FutureWarning)\n",
      "C:\\Users\\Eigenaar\\AppData\\Roaming\\Python\\Python39\\site-packages\\sklearn\\utils\\deprecation.py:87: FutureWarning: Function plot_roc_curve is deprecated; Function :func:`plot_roc_curve` is deprecated in 1.0 and will be removed in 1.2. Use one of the class methods: :meth:`sklearn.metric.RocCurveDisplay.from_predictions` or :meth:`sklearn.metric.RocCurveDisplay.from_estimator`.\n",
      "  warnings.warn(msg, category=FutureWarning)\n",
      "C:\\Users\\Eigenaar\\AppData\\Roaming\\Python\\Python39\\site-packages\\sklearn\\utils\\deprecation.py:87: FutureWarning: Function plot_roc_curve is deprecated; Function :func:`plot_roc_curve` is deprecated in 1.0 and will be removed in 1.2. Use one of the class methods: :meth:`sklearn.metric.RocCurveDisplay.from_predictions` or :meth:`sklearn.metric.RocCurveDisplay.from_estimator`.\n",
      "  warnings.warn(msg, category=FutureWarning)\n",
      "C:\\Users\\Eigenaar\\AppData\\Roaming\\Python\\Python39\\site-packages\\sklearn\\utils\\deprecation.py:87: FutureWarning: Function plot_roc_curve is deprecated; Function :func:`plot_roc_curve` is deprecated in 1.0 and will be removed in 1.2. Use one of the class methods: :meth:`sklearn.metric.RocCurveDisplay.from_predictions` or :meth:`sklearn.metric.RocCurveDisplay.from_estimator`.\n",
      "  warnings.warn(msg, category=FutureWarning)\n",
      "C:\\Users\\Eigenaar\\AppData\\Roaming\\Python\\Python39\\site-packages\\sklearn\\utils\\deprecation.py:87: FutureWarning: Function plot_roc_curve is deprecated; Function :func:`plot_roc_curve` is deprecated in 1.0 and will be removed in 1.2. Use one of the class methods: :meth:`sklearn.metric.RocCurveDisplay.from_predictions` or :meth:`sklearn.metric.RocCurveDisplay.from_estimator`.\n",
      "  warnings.warn(msg, category=FutureWarning)\n",
      "C:\\Users\\Eigenaar\\AppData\\Roaming\\Python\\Python39\\site-packages\\sklearn\\utils\\deprecation.py:87: FutureWarning: Function plot_roc_curve is deprecated; Function :func:`plot_roc_curve` is deprecated in 1.0 and will be removed in 1.2. Use one of the class methods: :meth:`sklearn.metric.RocCurveDisplay.from_predictions` or :meth:`sklearn.metric.RocCurveDisplay.from_estimator`.\n",
      "  warnings.warn(msg, category=FutureWarning)\n"
     ]
    },
    {
     "data": {
      "image/png": "[encoded data removed]",
      "text/plain": [
       "<Figure size 432x288 with 1 Axes>"
      ]
     },
     "metadata": {},
     "output_type": "display_data"
    }
   ],
   "source": [
    "import numpy as np\n",
    "import matplotlib.pyplot as plt\n",
    "\n",
    "from sklearn import svm, datasets\n",
    "from sklearn.metrics import auc\n",
    "from sklearn.metrics import plot_roc_curve\n",
    "from sklearn.model_selection import StratifiedKFold\n",
    "\n",
    "# #############################################################################\n",
    "# Data IO and generation\n",
    "\n",
    "# Import some data to play with\n",
    "#iris = datasets.load_iris()\n",
    "#X = iris.data\n",
    "#y = iris.target\n",
    "#X, y = X[y != 2], y[y != 2]\n",
    "#n_samples, n_features = X.shape\n",
    "\n",
    "# Add noisy features\n",
    "#random_state = np.random.RandomState(0)\n",
    "#X = np.c_[X, random_state.randn(n_samples, 200 * n_features)]\n",
    "\n",
    "# #############################################################################\n",
    "# Classification and ROC analysis\n",
    "\n",
    "# Run classifier with cross-validation and plot ROC curves\n",
    "cv = ShuffleSplit(n_splits=10, test_size=0.2, random_state=42)\n",
    "classifier = LogisticRegression(class_weight=class_weight,random_state=42)\n",
    "tprs = []\n",
    "aucs = []\n",
    "mean_fpr = np.linspace(0, 1, 100)\n",
    "\n",
    "fig, ax = plt.subplots()\n",
    "for i, (train, test) in enumerate(cv.split(X, y)):\n",
    "    classifier.fit(X, y)\n",
    "    viz = plot_roc_curve(classifier, X, y,\n",
    "                         name='ROC fold {}'.format(i),\n",
    "                         alpha=0.3, lw=1, ax=ax)\n",
    "    interp_tpr = np.interp(mean_fpr, viz.fpr, viz.tpr)\n",
    "    interp_tpr[0] = 0.0\n",
    "    tprs.append(interp_tpr)\n",
    "    aucs.append(viz.roc_auc)\n",
    "\n",
    "ax.plot([0, 1], [0, 1], linestyle='--', lw=2, color='r',\n",
    "        label='Chance', alpha=.8)\n",
    "\n",
    "mean_tpr = np.mean(tprs, axis=0)\n",
    "mean_tpr[-1] = 1.0\n",
    "mean_auc = auc(mean_fpr, mean_tpr)\n",
    "std_auc = np.std(aucs)\n",
    "ax.plot(mean_fpr, mean_tpr, color='b',\n",
    "        label=r'Mean ROC (AUC = %0.4f $\\pm$ %0.4f)' % (mean_auc, std_auc),\n",
    "        lw=2, alpha=.8)\n",
    "\n",
    "std_tpr = np.std(tprs, axis=0)\n",
    "tprs_upper = np.minimum(mean_tpr + std_tpr, 1)\n",
    "tprs_lower = np.maximum(mean_tpr - std_tpr, 0)\n",
    "ax.fill_between(mean_fpr, tprs_lower, tprs_upper, color='grey', alpha=.2,\n",
    "                label=r'$\\pm$ 1 std. dev.')\n",
    "\n",
    "ax.set(xlim=[-0.05, 1.05], ylim=[-0.05, 1.05],\n",
    "       title=\"Receiver operating characteristic example\")\n",
    "ax.legend(loc=\"lower right\")\n",
    "plt.show()"
   ]
  },
  {
   "cell_type": "markdown",
   "metadata": {},
   "source": [
    "## RF"
   ]
  },
  {
   "cell_type": "code",
   "execution_count": 64,
   "metadata": {},
   "outputs": [
    {
     "name": "stdout",
     "output_type": "stream",
     "text": [
      "Accuracy: 0.8899 (0.0033)\n"
     ]
    },
    {
     "data": {
      "text/plain": [
       "array([0.89131607, 0.89482201, 0.88821467, 0.88875405, 0.88511327,\n",
       "       0.89563107, 0.88700108, 0.88821467, 0.88781014, 0.89252967])"
      ]
     },
     "execution_count": 64,
     "metadata": {},
     "output_type": "execute_result"
    }
   ],
   "source": [
    "from numpy import mean\n",
    "from numpy import std\n",
    "from sklearn.model_selection import KFold\n",
    "from sklearn.model_selection import cross_val_score\n",
    "from sklearn.ensemble import RandomForestClassifier\n",
    "\n",
    "from sklearn.model_selection import ShuffleSplit\n",
    "\n",
    "# create dataset\n",
    "#X, y = make_classification(n_samples=1000, n_features=20, n_informative=15, n_redundant=5, random_state=1)\n",
    "# prepare the cross-validation procedure\n",
    "#cv = KFold(n_splits=5, test_size= 0.2, random_state=0)\n",
    "cv = ShuffleSplit(n_splits=10, test_size=0.2, random_state=42)\n",
    "# create model\n",
    "model = RandomForestClassifier(class_weight=class_weight)\n",
    "# evaluate model\n",
    "scores = cross_val_score(model, X, y, scoring='accuracy', cv=cv, n_jobs=-1)\n",
    "# report performance\n",
    "print('Accuracy: %.4f (%.4f)' % (mean(scores), std(scores)))\n",
    "scores"
   ]
  },
  {
   "cell_type": "code",
   "execution_count": null,
   "metadata": {},
   "outputs": [],
   "source": []
  },
  {
   "cell_type": "code",
   "execution_count": 65,
   "metadata": {},
   "outputs": [
    {
     "data": {
      "image/png": "[encoded data removed]",
      "text/plain": [
       "<Figure size 432x288 with 1 Axes>"
      ]
     },
     "metadata": {},
     "output_type": "display_data"
    }
   ],
   "source": [
    "import numpy as np\n",
    "import matplotlib.pyplot as plt\n",
    "\n",
    "from sklearn import svm, datasets\n",
    "from sklearn.metrics import auc\n",
    "from sklearn.metrics import plot_roc_curve\n",
    "from sklearn.model_selection import StratifiedKFold\n",
    "\n",
    "# #############################################################################\n",
    "# Data IO and generation\n",
    "\n",
    "# Import some data to play with\n",
    "#iris = datasets.load_iris()\n",
    "#X = iris.data\n",
    "#y = iris.target\n",
    "#X, y = X[y != 2], y[y != 2]\n",
    "#n_samples, n_features = X.shape\n",
    "\n",
    "# Add noisy features\n",
    "#random_state = np.random.RandomState(0)\n",
    "#X = np.c_[X, random_state.randn(n_samples, 200 * n_features)]\n",
    "\n",
    "# #############################################################################\n",
    "# Classification and ROC analysis\n",
    "\n",
    "# Run classifier with cross-validation and plot ROC curves\n",
    "cv = ShuffleSplit(n_splits=10, test_size=0.2, random_state=42)\n",
    "classifier = RandomForestClassifier(class_weight=class_weight,random_state=42)\n",
    "tprs = []\n",
    "aucs = []\n",
    "mean_fpr = np.linspace(0, 1, 100)\n",
    "\n",
    "fig, ax = plt.subplots()\n",
    "for i, (train, test) in enumerate(cv.split(X, y)):\n",
    "    classifier.fit(X, y)\n",
    "    #viz = plot_roc_curve(classifier, X, y,\n",
    "                  #       name='ROC fold {}'.format(i),\n",
    "                    #     alpha=0.3, lw=1, ax=ax)\n",
    "    interp_tpr = np.interp(mean_fpr, viz.fpr, viz.tpr)\n",
    "    interp_tpr[0] = 0.0\n",
    "    tprs.append(interp_tpr)\n",
    "    aucs.append(viz.roc_auc)\n",
    "\n",
    "ax.plot([0, 1], [0, 1], linestyle='--', lw=2, color='r',\n",
    "        label='Chance', alpha=.8)\n",
    "\n",
    "mean_tpr = np.mean(tprs, axis=0)\n",
    "mean_tpr[-1] = 1.0\n",
    "mean_auc = auc(mean_fpr, mean_tpr)\n",
    "std_auc = np.std(aucs)\n",
    "ax.plot(mean_fpr, mean_tpr, color='b',\n",
    "        label=r'Mean ROC (AUC = %0.4f $\\pm$ %0.4f)' % (mean_auc, std_auc),\n",
    "        lw=2, alpha=.8)\n",
    "\n",
    "std_tpr = np.std(tprs, axis=0)\n",
    "tprs_upper = np.minimum(mean_tpr + std_tpr, 1)\n",
    "tprs_lower = np.maximum(mean_tpr - std_tpr, 0)\n",
    "ax.fill_between(mean_fpr, tprs_lower, tprs_upper, color='grey', alpha=.2,\n",
    "                label=r'$\\pm$ 1 std. dev.')\n",
    "\n",
    "ax.set(xlim=[-0.05, 1.05], ylim=[-0.05, 1.05],\n",
    "       title=\"Receiver operating characteristic of Random Forest Classifier\")\n",
    "ax.legend(loc=\"lower right\")\n",
    "plt.show()"
   ]
  },
  {
   "cell_type": "markdown",
   "metadata": {},
   "source": [
    "## DT"
   ]
  },
  {
   "cell_type": "code",
   "execution_count": 66,
   "metadata": {},
   "outputs": [
    {
     "name": "stdout",
     "output_type": "stream",
     "text": [
      "Accuracy: 0.8397 (0.0044)\n"
     ]
    },
    {
     "data": {
      "text/plain": [
       "array([0.84277238, 0.84600863, 0.84074973, 0.84088457, 0.83171521,\n",
       "       0.84466019, 0.83265912, 0.83994067, 0.8381877 , 0.83913161])"
      ]
     },
     "execution_count": 66,
     "metadata": {},
     "output_type": "execute_result"
    }
   ],
   "source": [
    "from numpy import mean\n",
    "from numpy import std\n",
    "from sklearn.model_selection import KFold\n",
    "from sklearn.model_selection import cross_val_score\n",
    "from sklearn.model_selection import ShuffleSplit\n",
    "from sklearn.tree import DecisionTreeClassifier\n",
    "\n",
    "\n",
    "# create dataset\n",
    "#X, y = make_classification(n_samples=1000, n_features=20, n_informative=15, n_redundant=5, random_state=1)\n",
    "# prepare the cross-validation procedure\n",
    "#cv = KFold(n_splits=5, test_size= 0.2, random_state=0)\n",
    "cv = ShuffleSplit(n_splits=10, test_size=0.2, random_state=42)\n",
    "# create model\n",
    "model = DecisionTreeClassifier(class_weight=class_weight)\n",
    "# evaluate model\n",
    "scores = cross_val_score(model, X, y, scoring='accuracy', cv=cv, n_jobs=-1)\n",
    "# report performance\n",
    "print('Accuracy: %.4f (%.4f)' % (mean(scores), std(scores)))\n",
    "scores"
   ]
  },
  {
   "cell_type": "code",
   "execution_count": 67,
   "metadata": {},
   "outputs": [
    {
     "name": "stderr",
     "output_type": "stream",
     "text": [
      "C:\\Users\\Eigenaar\\AppData\\Roaming\\Python\\Python39\\site-packages\\sklearn\\utils\\deprecation.py:87: FutureWarning: Function plot_roc_curve is deprecated; Function :func:`plot_roc_curve` is deprecated in 1.0 and will be removed in 1.2. Use one of the class methods: :meth:`sklearn.metric.RocCurveDisplay.from_predictions` or :meth:`sklearn.metric.RocCurveDisplay.from_estimator`.\n",
      "  warnings.warn(msg, category=FutureWarning)\n",
      "C:\\Users\\Eigenaar\\AppData\\Roaming\\Python\\Python39\\site-packages\\sklearn\\utils\\deprecation.py:87: FutureWarning: Function plot_roc_curve is deprecated; Function :func:`plot_roc_curve` is deprecated in 1.0 and will be removed in 1.2. Use one of the class methods: :meth:`sklearn.metric.RocCurveDisplay.from_predictions` or :meth:`sklearn.metric.RocCurveDisplay.from_estimator`.\n",
      "  warnings.warn(msg, category=FutureWarning)\n",
      "C:\\Users\\Eigenaar\\AppData\\Roaming\\Python\\Python39\\site-packages\\sklearn\\utils\\deprecation.py:87: FutureWarning: Function plot_roc_curve is deprecated; Function :func:`plot_roc_curve` is deprecated in 1.0 and will be removed in 1.2. Use one of the class methods: :meth:`sklearn.metric.RocCurveDisplay.from_predictions` or :meth:`sklearn.metric.RocCurveDisplay.from_estimator`.\n",
      "  warnings.warn(msg, category=FutureWarning)\n",
      "C:\\Users\\Eigenaar\\AppData\\Roaming\\Python\\Python39\\site-packages\\sklearn\\utils\\deprecation.py:87: FutureWarning: Function plot_roc_curve is deprecated; Function :func:`plot_roc_curve` is deprecated in 1.0 and will be removed in 1.2. Use one of the class methods: :meth:`sklearn.metric.RocCurveDisplay.from_predictions` or :meth:`sklearn.metric.RocCurveDisplay.from_estimator`.\n",
      "  warnings.warn(msg, category=FutureWarning)\n",
      "C:\\Users\\Eigenaar\\AppData\\Roaming\\Python\\Python39\\site-packages\\sklearn\\utils\\deprecation.py:87: FutureWarning: Function plot_roc_curve is deprecated; Function :func:`plot_roc_curve` is deprecated in 1.0 and will be removed in 1.2. Use one of the class methods: :meth:`sklearn.metric.RocCurveDisplay.from_predictions` or :meth:`sklearn.metric.RocCurveDisplay.from_estimator`.\n",
      "  warnings.warn(msg, category=FutureWarning)\n",
      "C:\\Users\\Eigenaar\\AppData\\Roaming\\Python\\Python39\\site-packages\\sklearn\\utils\\deprecation.py:87: FutureWarning: Function plot_roc_curve is deprecated; Function :func:`plot_roc_curve` is deprecated in 1.0 and will be removed in 1.2. Use one of the class methods: :meth:`sklearn.metric.RocCurveDisplay.from_predictions` or :meth:`sklearn.metric.RocCurveDisplay.from_estimator`.\n",
      "  warnings.warn(msg, category=FutureWarning)\n",
      "C:\\Users\\Eigenaar\\AppData\\Roaming\\Python\\Python39\\site-packages\\sklearn\\utils\\deprecation.py:87: FutureWarning: Function plot_roc_curve is deprecated; Function :func:`plot_roc_curve` is deprecated in 1.0 and will be removed in 1.2. Use one of the class methods: :meth:`sklearn.metric.RocCurveDisplay.from_predictions` or :meth:`sklearn.metric.RocCurveDisplay.from_estimator`.\n",
      "  warnings.warn(msg, category=FutureWarning)\n",
      "C:\\Users\\Eigenaar\\AppData\\Roaming\\Python\\Python39\\site-packages\\sklearn\\utils\\deprecation.py:87: FutureWarning: Function plot_roc_curve is deprecated; Function :func:`plot_roc_curve` is deprecated in 1.0 and will be removed in 1.2. Use one of the class methods: :meth:`sklearn.metric.RocCurveDisplay.from_predictions` or :meth:`sklearn.metric.RocCurveDisplay.from_estimator`.\n",
      "  warnings.warn(msg, category=FutureWarning)\n",
      "C:\\Users\\Eigenaar\\AppData\\Roaming\\Python\\Python39\\site-packages\\sklearn\\utils\\deprecation.py:87: FutureWarning: Function plot_roc_curve is deprecated; Function :func:`plot_roc_curve` is deprecated in 1.0 and will be removed in 1.2. Use one of the class methods: :meth:`sklearn.metric.RocCurveDisplay.from_predictions` or :meth:`sklearn.metric.RocCurveDisplay.from_estimator`.\n",
      "  warnings.warn(msg, category=FutureWarning)\n",
      "C:\\Users\\Eigenaar\\AppData\\Roaming\\Python\\Python39\\site-packages\\sklearn\\utils\\deprecation.py:87: FutureWarning: Function plot_roc_curve is deprecated; Function :func:`plot_roc_curve` is deprecated in 1.0 and will be removed in 1.2. Use one of the class methods: :meth:`sklearn.metric.RocCurveDisplay.from_predictions` or :meth:`sklearn.metric.RocCurveDisplay.from_estimator`.\n",
      "  warnings.warn(msg, category=FutureWarning)\n"
     ]
    },
    {
     "data": {
      "image/png": "[encoded data removed]",
      "text/plain": [
       "<Figure size 432x288 with 1 Axes>"
      ]
     },
     "metadata": {},
     "output_type": "display_data"
    }
   ],
   "source": [
    "import numpy as np\n",
    "import matplotlib.pyplot as plt\n",
    "\n",
    "from sklearn import svm, datasets\n",
    "from sklearn.metrics import auc\n",
    "from sklearn.metrics import plot_roc_curve\n",
    "from sklearn.model_selection import StratifiedKFold\n",
    "\n",
    "# #############################################################################\n",
    "# Data IO and generation\n",
    "\n",
    "# Import some data to play with\n",
    "#iris = datasets.load_iris()\n",
    "#X = iris.data\n",
    "#y = iris.target\n",
    "#X, y = X[y != 2], y[y != 2]\n",
    "#n_samples, n_features = X.shape\n",
    "\n",
    "# Add noisy features\n",
    "#random_state = np.random.RandomState(0)\n",
    "#X = np.c_[X, random_state.randn(n_samples, 200 * n_features)]\n",
    "\n",
    "# #############################################################################\n",
    "# Classification and ROC analysis\n",
    "\n",
    "# Run classifier with cross-validation and plot ROC curves\n",
    "cv = ShuffleSplit(n_splits=10, test_size=0.2, random_state=42)\n",
    "classifier = DecisionTreeClassifier(class_weight=class_weight,random_state=42)\n",
    "tprs = []\n",
    "aucs = []\n",
    "mean_fpr = np.linspace(0, 1, 100)\n",
    "\n",
    "fig, ax = plt.subplots()\n",
    "for i, (train, test) in enumerate(cv.split(X, y)):\n",
    "    classifier.fit(X, y)\n",
    "    viz = plot_roc_curve(classifier, X, y,\n",
    "                         name='ROC fold {}'.format(i),\n",
    "                         alpha=0.3, lw=1, ax=ax)\n",
    "    interp_tpr = np.interp(mean_fpr, viz.fpr, viz.tpr)\n",
    "    interp_tpr[0] = 0.0\n",
    "    tprs.append(interp_tpr)\n",
    "    aucs.append(viz.roc_auc)\n",
    "\n",
    "ax.plot([0, 1], [0, 1], linestyle='--', lw=2, color='r',\n",
    "        label='Chance', alpha=.8)\n",
    "\n",
    "mean_tpr = np.mean(tprs, axis=0)\n",
    "mean_tpr[-1] = 1.0\n",
    "mean_auc = auc(mean_fpr, mean_tpr)\n",
    "std_auc = np.std(aucs)\n",
    "ax.plot(mean_fpr, mean_tpr, color='b',\n",
    "        label=r'Mean ROC (AUC = %0.4f $\\pm$ %0.4f)' % (mean_auc, std_auc),\n",
    "        lw=2, alpha=.8)\n",
    "\n",
    "std_tpr = np.std(tprs, axis=0)\n",
    "tprs_upper = np.minimum(mean_tpr + std_tpr, 1)\n",
    "tprs_lower = np.maximum(mean_tpr - std_tpr, 0)\n",
    "ax.fill_between(mean_fpr, tprs_lower, tprs_upper, color='grey', alpha=.2,\n",
    "                label=r'$\\pm$ 1 std. dev.')\n",
    "\n",
    "ax.set(xlim=[-0.05, 1.05], ylim=[-0.05, 1.05],\n",
    "       title=\"Receiver operating characteristic example\")\n",
    "ax.legend(loc=\"lower right\")\n",
    "plt.show()"
   ]
  },
  {
   "cell_type": "code",
   "execution_count": 68,
   "metadata": {},
   "outputs": [],
   "source": [
    "#from sklearn.model_selection import cross_val_score\n",
    "#from sklearn import svm\n",
    "#clf = svm.SVC(kernel='rbf', C=1, class_weight=class_weight)\n",
    "#scores = cross_val_score(clf, X, y, cv=5)\n",
    "#print(\"Accuracy: %0.4f (+/- %0.4f)\" % (scores.mean(), scores.std() * 2))\n",
    "\n",
    "#clf.score(X_test, y_test)"
   ]
  },
  {
   "cell_type": "markdown",
   "metadata": {},
   "source": [
    "## ANN"
   ]
  },
  {
   "cell_type": "code",
   "execution_count": 69,
   "metadata": {},
   "outputs": [],
   "source": [
    "import keras\n",
    "from keras.models import Sequential\n",
    "from keras.layers import Dense,Dropout"
   ]
  },
  {
   "cell_type": "code",
   "execution_count": 70,
   "metadata": {},
   "outputs": [
    {
     "name": "stdout",
     "output_type": "stream",
     "text": [
      "Epoch 1/100\n",
      "2967/2967 [==============================] - 7s 2ms/step - loss: 0.1603 - accuracy: 0.8750 - val_loss: 0.2913 - val_accuracy: 0.8855\n",
      "Epoch 2/100\n",
      "2967/2967 [==============================] - 7s 2ms/step - loss: 0.1477 - accuracy: 0.8864 - val_loss: 0.2798 - val_accuracy: 0.8894\n",
      "Epoch 3/100\n",
      "2967/2967 [==============================] - 6s 2ms/step - loss: 0.1418 - accuracy: 0.8864 - val_loss: 0.2739 - val_accuracy: 0.8889\n",
      "Epoch 4/100\n",
      "2967/2967 [==============================] - 7s 2ms/step - loss: 0.1391 - accuracy: 0.8876 - val_loss: 0.2780 - val_accuracy: 0.8878\n",
      "Epoch 5/100\n",
      "2967/2967 [==============================] - 7s 2ms/step - loss: 0.1370 - accuracy: 0.8907 - val_loss: 0.2640 - val_accuracy: 0.8909\n",
      "Epoch 6/100\n",
      "2967/2967 [==============================] - 7s 2ms/step - loss: 0.1346 - accuracy: 0.8910 - val_loss: 0.2624 - val_accuracy: 0.8893\n",
      "Epoch 7/100\n",
      "2967/2967 [==============================] - 7s 2ms/step - loss: 0.1347 - accuracy: 0.8904 - val_loss: 0.2607 - val_accuracy: 0.8905\n",
      "Epoch 8/100\n",
      "2967/2967 [==============================] - 6s 2ms/step - loss: 0.1332 - accuracy: 0.8907 - val_loss: 0.2600 - val_accuracy: 0.8883\n",
      "Epoch 9/100\n",
      "2967/2967 [==============================] - 7s 2ms/step - loss: 0.1323 - accuracy: 0.8921 - val_loss: 0.2601 - val_accuracy: 0.8883\n",
      "Epoch 10/100\n",
      "2967/2967 [==============================] - 6s 2ms/step - loss: 0.1323 - accuracy: 0.8925 - val_loss: 0.2623 - val_accuracy: 0.8902\n",
      "Epoch 11/100\n",
      "2967/2967 [==============================] - 7s 2ms/step - loss: 0.1322 - accuracy: 0.8910 - val_loss: 0.2607 - val_accuracy: 0.8909\n",
      "Epoch 12/100\n",
      "2967/2967 [==============================] - 7s 2ms/step - loss: 0.1313 - accuracy: 0.8928 - val_loss: 0.2600 - val_accuracy: 0.8889\n",
      "Epoch 13/100\n",
      "2967/2967 [==============================] - 7s 2ms/step - loss: 0.1299 - accuracy: 0.8931 - val_loss: 0.2666 - val_accuracy: 0.8882\n",
      "Epoch 14/100\n",
      "2967/2967 [==============================] - 6s 2ms/step - loss: 0.1303 - accuracy: 0.8942 - val_loss: 0.2635 - val_accuracy: 0.8881\n",
      "Epoch 15/100\n",
      "2967/2967 [==============================] - 7s 2ms/step - loss: 0.1296 - accuracy: 0.8940 - val_loss: 0.2651 - val_accuracy: 0.8879\n",
      "Epoch 16/100\n",
      "2967/2967 [==============================] - 7s 2ms/step - loss: 0.1283 - accuracy: 0.8945 - val_loss: 0.2661 - val_accuracy: 0.8848\n",
      "Epoch 17/100\n",
      "2967/2967 [==============================] - 7s 2ms/step - loss: 0.1281 - accuracy: 0.8966 - val_loss: 0.2618 - val_accuracy: 0.8892\n",
      "Epoch 18/100\n",
      "2967/2967 [==============================] - 7s 2ms/step - loss: 0.1282 - accuracy: 0.8951 - val_loss: 0.2637 - val_accuracy: 0.8902\n",
      "Epoch 19/100\n",
      "2967/2967 [==============================] - 6s 2ms/step - loss: 0.1276 - accuracy: 0.8957 - val_loss: 0.2664 - val_accuracy: 0.8858\n",
      "Epoch 20/100\n",
      "2967/2967 [==============================] - 7s 2ms/step - loss: 0.1272 - accuracy: 0.8960 - val_loss: 0.2665 - val_accuracy: 0.8875\n",
      "Epoch 21/100\n",
      "2967/2967 [==============================] - 7s 2ms/step - loss: 0.1263 - accuracy: 0.8971 - val_loss: 0.2634 - val_accuracy: 0.8859\n",
      "Epoch 22/100\n",
      "2967/2967 [==============================] - 7s 2ms/step - loss: 0.1261 - accuracy: 0.8973 - val_loss: 0.2613 - val_accuracy: 0.8869\n",
      "Epoch 23/100\n",
      "2967/2967 [==============================] - 7s 2ms/step - loss: 0.1254 - accuracy: 0.8977 - val_loss: 0.2662 - val_accuracy: 0.8839\n",
      "Epoch 24/100\n",
      "2967/2967 [==============================] - 7s 2ms/step - loss: 0.1252 - accuracy: 0.8972 - val_loss: 0.2630 - val_accuracy: 0.8858\n",
      "Epoch 25/100\n",
      "2967/2967 [==============================] - 7s 2ms/step - loss: 0.1244 - accuracy: 0.8987 - val_loss: 0.2651 - val_accuracy: 0.8848\n",
      "Epoch 26/100\n",
      "2967/2967 [==============================] - 7s 2ms/step - loss: 0.1240 - accuracy: 0.8996 - val_loss: 0.2669 - val_accuracy: 0.8842\n",
      "Epoch 27/100\n",
      "2967/2967 [==============================] - 7s 2ms/step - loss: 0.1237 - accuracy: 0.8996 - val_loss: 0.2671 - val_accuracy: 0.8877\n",
      "Epoch 28/100\n",
      "2967/2967 [==============================] - 7s 2ms/step - loss: 0.1233 - accuracy: 0.8998 - val_loss: 0.2665 - val_accuracy: 0.8867\n",
      "Epoch 29/100\n",
      "2967/2967 [==============================] - 7s 2ms/step - loss: 0.1228 - accuracy: 0.9001 - val_loss: 0.2648 - val_accuracy: 0.8874\n",
      "Epoch 30/100\n",
      "2967/2967 [==============================] - 7s 2ms/step - loss: 0.1220 - accuracy: 0.9021 - val_loss: 0.2706 - val_accuracy: 0.8881\n",
      "Epoch 31/100\n",
      "2967/2967 [==============================] - 7s 2ms/step - loss: 0.1217 - accuracy: 0.9020 - val_loss: 0.2671 - val_accuracy: 0.8848\n",
      "Epoch 32/100\n",
      "2967/2967 [==============================] - 7s 2ms/step - loss: 0.1211 - accuracy: 0.9020 - val_loss: 0.2691 - val_accuracy: 0.8847\n",
      "Epoch 33/100\n",
      "2967/2967 [==============================] - 7s 2ms/step - loss: 0.1194 - accuracy: 0.9033 - val_loss: 0.2731 - val_accuracy: 0.8826\n",
      "Epoch 34/100\n",
      "2967/2967 [==============================] - 7s 2ms/step - loss: 0.1199 - accuracy: 0.9037 - val_loss: 0.2691 - val_accuracy: 0.8875\n",
      "Epoch 35/100\n",
      "2967/2967 [==============================] - 7s 2ms/step - loss: 0.1195 - accuracy: 0.9033 - val_loss: 0.2747 - val_accuracy: 0.8843\n",
      "Epoch 36/100\n",
      "2967/2967 [==============================] - 7s 2ms/step - loss: 0.1185 - accuracy: 0.9059 - val_loss: 0.2701 - val_accuracy: 0.8879\n",
      "Epoch 37/100\n",
      "2967/2967 [==============================] - 6s 2ms/step - loss: 0.1185 - accuracy: 0.9046 - val_loss: 0.2796 - val_accuracy: 0.8820\n",
      "Epoch 38/100\n",
      "2967/2967 [==============================] - 7s 2ms/step - loss: 0.1172 - accuracy: 0.9067 - val_loss: 0.2699 - val_accuracy: 0.8858\n",
      "Epoch 39/100\n",
      "2967/2967 [==============================] - 7s 2ms/step - loss: 0.1168 - accuracy: 0.9062 - val_loss: 0.2825 - val_accuracy: 0.8852\n",
      "Epoch 40/100\n",
      "2967/2967 [==============================] - 7s 2ms/step - loss: 0.1161 - accuracy: 0.9096 - val_loss: 0.2755 - val_accuracy: 0.8889\n",
      "Epoch 41/100\n",
      "2967/2967 [==============================] - 6s 2ms/step - loss: 0.1166 - accuracy: 0.9076 - val_loss: 0.2765 - val_accuracy: 0.8866\n",
      "Epoch 42/100\n",
      "2967/2967 [==============================] - 7s 2ms/step - loss: 0.1153 - accuracy: 0.9081 - val_loss: 0.2748 - val_accuracy: 0.8840\n",
      "Epoch 43/100\n",
      "2967/2967 [==============================] - 6s 2ms/step - loss: 0.1143 - accuracy: 0.9095 - val_loss: 0.2756 - val_accuracy: 0.8866\n",
      "Epoch 44/100\n",
      "2967/2967 [==============================] - 7s 2ms/step - loss: 0.1144 - accuracy: 0.9099 - val_loss: 0.2864 - val_accuracy: 0.8861\n",
      "Epoch 45/100\n",
      "2967/2967 [==============================] - 7s 2ms/step - loss: 0.1133 - accuracy: 0.9109 - val_loss: 0.2965 - val_accuracy: 0.8821\n",
      "Epoch 46/100\n",
      "2967/2967 [==============================] - 7s 2ms/step - loss: 0.1136 - accuracy: 0.9095 - val_loss: 0.2913 - val_accuracy: 0.8816\n",
      "Epoch 47/100\n",
      "2967/2967 [==============================] - 7s 2ms/step - loss: 0.1130 - accuracy: 0.9111 - val_loss: 0.2905 - val_accuracy: 0.8846\n",
      "Epoch 48/100\n",
      "2967/2967 [==============================] - 7s 2ms/step - loss: 0.1119 - accuracy: 0.9119 - val_loss: 0.2814 - val_accuracy: 0.8832\n",
      "Epoch 49/100\n",
      "2967/2967 [==============================] - 6s 2ms/step - loss: 0.1125 - accuracy: 0.9113 - val_loss: 0.2819 - val_accuracy: 0.8831\n",
      "Epoch 50/100\n",
      "2967/2967 [==============================] - 7s 2ms/step - loss: 0.1125 - accuracy: 0.9108 - val_loss: 0.2943 - val_accuracy: 0.8839\n",
      "Epoch 51/100\n",
      "2967/2967 [==============================] - 7s 2ms/step - loss: 0.1108 - accuracy: 0.9120 - val_loss: 0.2917 - val_accuracy: 0.8808\n",
      "Epoch 52/100\n",
      "2967/2967 [==============================] - 7s 2ms/step - loss: 0.1110 - accuracy: 0.9134 - val_loss: 0.2927 - val_accuracy: 0.8835\n",
      "Epoch 53/100\n",
      "2967/2967 [==============================] - 7s 2ms/step - loss: 0.1114 - accuracy: 0.9117 - val_loss: 0.3085 - val_accuracy: 0.8854\n",
      "Epoch 54/100\n",
      "2967/2967 [==============================] - 7s 2ms/step - loss: 0.1090 - accuracy: 0.9150 - val_loss: 0.2907 - val_accuracy: 0.8823\n",
      "Epoch 55/100\n",
      "2967/2967 [==============================] - 6s 2ms/step - loss: 0.1102 - accuracy: 0.9121 - val_loss: 0.2960 - val_accuracy: 0.8831\n",
      "Epoch 56/100\n",
      "2967/2967 [==============================] - 7s 2ms/step - loss: 0.1091 - accuracy: 0.9152 - val_loss: 0.3039 - val_accuracy: 0.8805\n",
      "Epoch 57/100\n",
      "2967/2967 [==============================] - 7s 2ms/step - loss: 0.1094 - accuracy: 0.9165 - val_loss: 0.3010 - val_accuracy: 0.8803\n",
      "Epoch 58/100\n",
      "2967/2967 [==============================] - 6s 2ms/step - loss: 0.1082 - accuracy: 0.9141 - val_loss: 0.3093 - val_accuracy: 0.8823\n",
      "Epoch 59/100\n",
      "2967/2967 [==============================] - 6s 2ms/step - loss: 0.1072 - accuracy: 0.9157 - val_loss: 0.3220 - val_accuracy: 0.8800\n",
      "Epoch 60/100\n",
      "2967/2967 [==============================] - 7s 2ms/step - loss: 0.1079 - accuracy: 0.9153 - val_loss: 0.3094 - val_accuracy: 0.8807\n",
      "Epoch 61/100\n",
      "2967/2967 [==============================] - 6s 2ms/step - loss: 0.1065 - accuracy: 0.9183 - val_loss: 0.3062 - val_accuracy: 0.8790\n",
      "Epoch 62/100\n",
      "2967/2967 [==============================] - 7s 2ms/step - loss: 0.1058 - accuracy: 0.9192 - val_loss: 0.3109 - val_accuracy: 0.8812\n",
      "Epoch 63/100\n",
      "2967/2967 [==============================] - 7s 2ms/step - loss: 0.1052 - accuracy: 0.9170 - val_loss: 0.3255 - val_accuracy: 0.8819\n",
      "Epoch 64/100\n",
      "2967/2967 [==============================] - 7s 2ms/step - loss: 0.1060 - accuracy: 0.9175 - val_loss: 0.3115 - val_accuracy: 0.8801\n",
      "Epoch 65/100\n",
      "2967/2967 [==============================] - 7s 2ms/step - loss: 0.1045 - accuracy: 0.9192 - val_loss: 0.3273 - val_accuracy: 0.8804\n",
      "Epoch 66/100\n",
      "2967/2967 [==============================] - 7s 2ms/step - loss: 0.1059 - accuracy: 0.9179 - val_loss: 0.3325 - val_accuracy: 0.8811\n",
      "Epoch 67/100\n",
      "2967/2967 [==============================] - 7s 2ms/step - loss: 0.1043 - accuracy: 0.9192 - val_loss: 0.3158 - val_accuracy: 0.8828\n",
      "Epoch 68/100\n",
      "2967/2967 [==============================] - 7s 2ms/step - loss: 0.1043 - accuracy: 0.9195 - val_loss: 0.3157 - val_accuracy: 0.8816\n",
      "Epoch 69/100\n",
      "2967/2967 [==============================] - 7s 2ms/step - loss: 0.1035 - accuracy: 0.9193 - val_loss: 0.3261 - val_accuracy: 0.8830\n",
      "Epoch 70/100\n",
      "2967/2967 [==============================] - 7s 2ms/step - loss: 0.1047 - accuracy: 0.9186 - val_loss: 0.3206 - val_accuracy: 0.8838\n",
      "Epoch 71/100\n",
      "2967/2967 [==============================] - 7s 2ms/step - loss: 0.1029 - accuracy: 0.9195 - val_loss: 0.3417 - val_accuracy: 0.8850\n",
      "Epoch 72/100\n",
      "2967/2967 [==============================] - 7s 2ms/step - loss: 0.1027 - accuracy: 0.9217 - val_loss: 0.3295 - val_accuracy: 0.8828\n",
      "Epoch 73/100\n",
      "2967/2967 [==============================] - 7s 2ms/step - loss: 0.1026 - accuracy: 0.9192 - val_loss: 0.3540 - val_accuracy: 0.8809\n",
      "Epoch 74/100\n",
      "2967/2967 [==============================] - 7s 2ms/step - loss: 0.1020 - accuracy: 0.9210 - val_loss: 0.3325 - val_accuracy: 0.8815\n",
      "Epoch 75/100\n",
      "2967/2967 [==============================] - 7s 2ms/step - loss: 0.1020 - accuracy: 0.9212 - val_loss: 0.3179 - val_accuracy: 0.8823\n",
      "Epoch 76/100\n",
      "2967/2967 [==============================] - 7s 2ms/step - loss: 0.1027 - accuracy: 0.9217 - val_loss: 0.3462 - val_accuracy: 0.8796\n",
      "Epoch 77/100\n",
      "2967/2967 [==============================] - 7s 2ms/step - loss: 0.1020 - accuracy: 0.9198 - val_loss: 0.3670 - val_accuracy: 0.8830\n",
      "Epoch 78/100\n",
      "2967/2967 [==============================] - 7s 2ms/step - loss: 0.1021 - accuracy: 0.9217 - val_loss: 0.3386 - val_accuracy: 0.8835\n",
      "Epoch 79/100\n",
      "2967/2967 [==============================] - 7s 2ms/step - loss: 0.1009 - accuracy: 0.9208 - val_loss: 0.3416 - val_accuracy: 0.8801\n",
      "Epoch 80/100\n",
      "2967/2967 [==============================] - 7s 2ms/step - loss: 0.1005 - accuracy: 0.9219 - val_loss: 0.3624 - val_accuracy: 0.8820\n",
      "Epoch 81/100\n",
      "2967/2967 [==============================] - 7s 2ms/step - loss: 0.1004 - accuracy: 0.9224 - val_loss: 0.3787 - val_accuracy: 0.8778\n",
      "Epoch 82/100\n",
      "2967/2967 [==============================] - 6s 2ms/step - loss: 0.1008 - accuracy: 0.9236 - val_loss: 0.3380 - val_accuracy: 0.8808\n",
      "Epoch 83/100\n",
      "2967/2967 [==============================] - 7s 2ms/step - loss: 0.1003 - accuracy: 0.9217 - val_loss: 0.3572 - val_accuracy: 0.8828\n",
      "Epoch 84/100\n",
      "2967/2967 [==============================] - 7s 2ms/step - loss: 0.0998 - accuracy: 0.9229 - val_loss: 0.3558 - val_accuracy: 0.8813\n",
      "Epoch 85/100\n",
      "2967/2967 [==============================] - 7s 2ms/step - loss: 0.0998 - accuracy: 0.9210 - val_loss: 0.3712 - val_accuracy: 0.8819\n",
      "Epoch 86/100\n",
      "2967/2967 [==============================] - 7s 2ms/step - loss: 0.0990 - accuracy: 0.9240 - val_loss: 0.3848 - val_accuracy: 0.8807\n",
      "Epoch 87/100\n",
      "2967/2967 [==============================] - 7s 2ms/step - loss: 0.0985 - accuracy: 0.9237 - val_loss: 0.3476 - val_accuracy: 0.8831\n",
      "Epoch 88/100\n",
      "2967/2967 [==============================] - 7s 2ms/step - loss: 0.0983 - accuracy: 0.9242 - val_loss: 0.3838 - val_accuracy: 0.8808\n",
      "Epoch 89/100\n",
      "2967/2967 [==============================] - 7s 2ms/step - loss: 0.0977 - accuracy: 0.9247 - val_loss: 0.3837 - val_accuracy: 0.8820\n",
      "Epoch 90/100\n",
      "2967/2967 [==============================] - 7s 2ms/step - loss: 0.0988 - accuracy: 0.9234 - val_loss: 0.3784 - val_accuracy: 0.8793\n",
      "Epoch 91/100\n",
      "2967/2967 [==============================] - 7s 2ms/step - loss: 0.0974 - accuracy: 0.9246 - val_loss: 0.3889 - val_accuracy: 0.8788\n",
      "Epoch 92/100\n",
      "2967/2967 [==============================] - 6s 2ms/step - loss: 0.0967 - accuracy: 0.9249 - val_loss: 0.4350 - val_accuracy: 0.8808\n",
      "Epoch 93/100\n",
      "2967/2967 [==============================] - 7s 2ms/step - loss: 0.0967 - accuracy: 0.9256 - val_loss: 0.3997 - val_accuracy: 0.8809\n",
      "Epoch 94/100\n",
      "2967/2967 [==============================] - 7s 2ms/step - loss: 0.0969 - accuracy: 0.9253 - val_loss: 0.3675 - val_accuracy: 0.8807\n",
      "Epoch 95/100\n",
      "2967/2967 [==============================] - 7s 2ms/step - loss: 0.0976 - accuracy: 0.9252 - val_loss: 0.3503 - val_accuracy: 0.8815\n",
      "Epoch 96/100\n",
      "2967/2967 [==============================] - 7s 2ms/step - loss: 0.0960 - accuracy: 0.9254 - val_loss: 0.3717 - val_accuracy: 0.8803\n",
      "Epoch 97/100\n",
      "2967/2967 [==============================] - 7s 2ms/step - loss: 0.0973 - accuracy: 0.9256 - val_loss: 0.4232 - val_accuracy: 0.8815\n",
      "Epoch 98/100\n",
      "2967/2967 [==============================] - 7s 3ms/step - loss: 0.0964 - accuracy: 0.9238 - val_loss: 0.3512 - val_accuracy: 0.8765\n",
      "Epoch 99/100\n",
      "2967/2967 [==============================] - 7s 3ms/step - loss: 0.0954 - accuracy: 0.9257 - val_loss: 0.4136 - val_accuracy: 0.8824\n",
      "Epoch 100/100\n",
      "2967/2967 [==============================] - 7s 2ms/step - loss: 0.0957 - accuracy: 0.9261 - val_loss: 0.4023 - val_accuracy: 0.8816\n"
     ]
    },
    {
     "data": {
      "text/plain": [
       "<keras.callbacks.History at 0x2ee98852850>"
      ]
     },
     "execution_count": 70,
     "metadata": {},
     "output_type": "execute_result"
    }
   ],
   "source": [
    "classifier=Sequential()\n",
    "classifier.add(Dense(units=256, kernel_initializer='uniform',activation='relu',input_dim=(len(data.columns)-1)))  #changed to length-1 so there is no need to change it everytime we change number of attributes\n",
    "classifier.add(Dense(units=128, kernel_initializer='uniform',activation='relu'))\n",
    "classifier.add(Dropout(0.5))\n",
    "classifier.add(Dense(units=64, kernel_initializer='uniform',activation='relu'))\n",
    "classifier.add(Dropout(0.4))\n",
    "classifier.add(Dense(units=32, kernel_initializer='uniform',activation='relu'))\n",
    "\n",
    "classifier.add(Dense(units=1, kernel_initializer='uniform',activation='sigmoid'))\n",
    "classifier.compile(optimizer='adam',loss=\"binary_crossentropy\",metrics=['accuracy'])\n",
    "classifier.fit(X_train,y_train,batch_size=10,epochs=100,class_weight=class_weight,validation_data=(X_test, y_test))"
   ]
  },
  {
   "cell_type": "code",
   "execution_count": 71,
   "metadata": {},
   "outputs": [
    {
     "name": "stdout",
     "output_type": "stream",
     "text": [
      "232/232 [==============================] - 0s 1ms/step\n",
      "              precision    recall  f1-score   support\n",
      "\n",
      "           0       0.33      0.72      0.46       951\n",
      "           1       0.95      0.79      0.86      6465\n",
      "\n",
      "    accuracy                           0.78      7416\n",
      "   macro avg       0.64      0.76      0.66      7416\n",
      "weighted avg       0.87      0.78      0.81      7416\n",
      "\n"
     ]
    },
    {
     "data": {
      "text/plain": [
       "0.7558310826800949"
      ]
     },
     "execution_count": 71,
     "metadata": {},
     "output_type": "execute_result"
    }
   ],
   "source": [
    "#clf_svc_rbf.fit(X_train,y_train)\n",
    "from sklearn.metrics import confusion_matrix,classification_report,roc_auc_score,auc,f1_score\n",
    "y_pred = classifier.predict(X_test)>0.9\n",
    "\n",
    "\n",
    "import matplotlib.pyplot as plt\n",
    "cm = confusion_matrix(y_test,y_pred)\n",
    "\n",
    "#plt.figure(figsize=(5,5))\n",
    "#sns.heatmap(cm,annot=True)\n",
    "#plt.show()\n",
    "\n",
    "#print(classification_report(y_test,y_pred_clf_svc_rbf))\n",
    "\n",
    "print(classification_report(y_test, y_pred))\n",
    "#plot_confusion_matrix(confusion_matrix(y_test, y_pred))\n",
    "\n",
    "from sklearn.metrics import roc_curve, auc\n",
    "false_positive_rate, true_positive_rate, thresholds = roc_curve(y_test, y_pred)\n",
    "roc_auc = auc(false_positive_rate, true_positive_rate)\n",
    "roc_auc"
   ]
  },
  {
   "cell_type": "code",
   "execution_count": 72,
   "metadata": {},
   "outputs": [
    {
     "name": "stdout",
     "output_type": "stream",
     "text": [
      "AUC Score: 0.7558310826800949\n"
     ]
    },
    {
     "data": {
      "image/png": "[encoded data removed]",
      "text/plain": [
       "<Figure size 432x288 with 1 Axes>"
      ]
     },
     "metadata": {},
     "output_type": "display_data"
    }
   ],
   "source": [
    "from sklearn.metrics import roc_curve,roc_auc_score\n",
    "from sklearn.metrics import auc\n",
    "\n",
    "fpr , tpr , thresholds = roc_curve ( y_test , y_pred)\n",
    "auc_keras = auc(fpr, tpr)\n",
    "print(\"AUC Score:\",auc_keras)\n",
    "plt.figure()\n",
    "lw = 2\n",
    "plt.plot(fpr, tpr, color='darkorange',\n",
    "         lw=lw, label='ROC curve (area = %0.4f)' % auc_keras)\n",
    "plt.plot([0, 1], [0, 1], color='navy', lw=lw, linestyle='--')\n",
    "plt.xlim([0.0, 1.0])\n",
    "plt.ylim([0.0, 1.05])\n",
    "plt.xlabel('False Positive Rate')\n",
    "plt.ylabel('True Positive Rate')\n",
    "plt.title('Receiver operating characteristic example')\n",
    "plt.legend(loc=\"lower right\")\n",
    "plt.show()"
   ]
  },
  {
   "cell_type": "code",
   "execution_count": 73,
   "metadata": {},
   "outputs": [],
   "source": [
    "#from sklearn.tree import DecisionTreeClassifier\n",
    "\n",
    "\n",
    "#from sklearn.model_selection import cross_val_score\n",
    "\n",
    "#dt = DecisionTreeClassifier(class_weight=class_weight)\n",
    "#scores = cross_val_score(clf, X, y, cv=5)\n",
    "#print(\"Accuracy: %0.4f (+/- %0.4f)\" % (scores.mean(), scores.std() * 2))"
   ]
  },
  {
   "cell_type": "code",
   "execution_count": null,
   "metadata": {},
   "outputs": [],
   "source": []
  },
  {
   "cell_type": "code",
   "execution_count": 74,
   "metadata": {},
   "outputs": [
    {
     "data": {
      "text/plain": [
       "'\\n\\nfrom sklearn.linear_model import LogisticRegression\\nfrom sklearn.metrics import confusion_matrix,classification_report,roc_auc_score,auc,f1_score\\n\\nlr = LogisticRegression()\\nlr.fit(X_train,y_train)\\ny_pred_logistic = lr.predict(X_test)\\n\\nimport matplotlib.pyplot as plt\\ncm = confusion_matrix(y_test,y_pred_logistic)\\n\\nplt.figure(figsize=(5,5))\\nsns.heatmap(cm,annot=True,linewidths=.3)\\nplt.show()\\n\\nprint(classification_report(y_test,y_pred_logistic))\\n\\n\\nfrom sklearn.metrics import roc_curve, auc\\nfalse_positive_rate, true_positive_rate, thresholds = roc_curve(y_test, y_pred_logistic)\\nroc_auc = auc(false_positive_rate, true_positive_rate)\\nroc_auc\\nprint(f1_score(y_test, y_pred_logistic,average=\"macro\"))\\n'"
      ]
     },
     "execution_count": 74,
     "metadata": {},
     "output_type": "execute_result"
    }
   ],
   "source": [
    "'''\n",
    "\n",
    "from sklearn.linear_model import LogisticRegression\n",
    "from sklearn.metrics import confusion_matrix,classification_report,roc_auc_score,auc,f1_score\n",
    "\n",
    "lr = LogisticRegression()\n",
    "lr.fit(X_train,y_train)\n",
    "y_pred_logistic = lr.predict(X_test)\n",
    "\n",
    "import matplotlib.pyplot as plt\n",
    "cm = confusion_matrix(y_test,y_pred_logistic)\n",
    "\n",
    "plt.figure(figsize=(5,5))\n",
    "sns.heatmap(cm,annot=True,linewidths=.3)\n",
    "plt.show()\n",
    "\n",
    "print(classification_report(y_test,y_pred_logistic))\n",
    "\n",
    "\n",
    "from sklearn.metrics import roc_curve, auc\n",
    "false_positive_rate, true_positive_rate, thresholds = roc_curve(y_test, y_pred_logistic)\n",
    "roc_auc = auc(false_positive_rate, true_positive_rate)\n",
    "roc_auc\n",
    "print(f1_score(y_test, y_pred_logistic,average=\"macro\"))\n",
    "'''"
   ]
  },
  {
   "cell_type": "code",
   "execution_count": 75,
   "metadata": {},
   "outputs": [],
   "source": [
    "from sklearn import datasets\n",
    "from sklearn.model_selection import cross_val_score\n",
    "from sklearn.linear_model import LogisticRegression\n",
    "from sklearn.naive_bayes import GaussianNB\n",
    "from sklearn.ensemble import RandomForestClassifier\n",
    "from sklearn.ensemble import VotingClassifier"
   ]
  },
  {
   "cell_type": "code",
   "execution_count": 76,
   "metadata": {},
   "outputs": [],
   "source": [
    "clf1 = SVC(kernel='rbf', C=1, class_weight=class_weight,random_state=42)\n",
    "clf2 = LogisticRegression(class_weight=class_weight,random_state=42)\n",
    "clf3 = RandomForestClassifier(class_weight=class_weight,random_state=42)\n",
    "clf4 = DecisionTreeClassifier(class_weight=class_weight,random_state=42)\n",
    "#clf5 = Sequential()"
   ]
  },
  {
   "cell_type": "code",
   "execution_count": 77,
   "metadata": {},
   "outputs": [],
   "source": [
    "eclf = VotingClassifier( estimators=[('svm', clf1), ('lr', clf2), ('rf', clf3), ('dt',clf4)],\n",
    "     voting='hard')"
   ]
  },
  {
   "cell_type": "code",
   "execution_count": 82,
   "metadata": {},
   "outputs": [
    {
     "name": "stdout",
     "output_type": "stream",
     "text": [
      "Accuracy: ['0.8729 (+/- 0.0018)', '0.8674 (+/- 0.0029)', '0.8890 (+/- 0.0047)', '0.8365 (+/- 0.0078)', '0.8822 (+/- 0.0044)']\n"
     ]
    }
   ],
   "source": [
    "acc_score_list=[]\n",
    "for clf, label in zip([clf1, clf2, clf3,clf4 ,eclf], ['SVM', 'LR', 'RF','DT', 'Ensemble']):\n",
    "    scores = cross_val_score(clf, X, y, scoring='accuracy', cv=10)\n",
    "    acc_score_list.append(\"%0.4f (+/- %0.4f)\" % (scores.mean(), scores.std()))\n",
    "scores\n",
    "print(\"Accuracy:\", acc_score_list)"
   ]
  },
  {
   "cell_type": "code",
   "execution_count": 83,
   "metadata": {},
   "outputs": [
    {
     "data": {
      "application/vnd.plotly.v1+json": {
       "config": {
        "plotlyServerURL": "https://plot.ly"
       },
       "data": [
        {
         "cells": {
          "values": [
           [
            "SVM",
            "LR",
            "RF",
            "DT",
            "Ensemble"
           ],
           [
            0.89,
            0.88,
            0.9,
            0.86,
            0.9
           ],
           [
            "0.8729 (+/- 0.0018)",
            "0.8674 (+/- 0.0029)",
            "0.8890 (+/- 0.0047)",
            "0.8365 (+/- 0.0078)",
            "0.8822 (+/- 0.0044)"
           ]
          ]
         },
         "header": {
          "values": [
           "Method",
           "Paper Accuracy",
           "Lab Accuracy"
          ]
         },
         "type": "table"
        }
       ],
       "layout": {
        "template": {
         "data": {
          "bar": [
           {
            "error_x": {
             "color": "#2a3f5f"
            },
            "error_y": {
             "color": "#2a3f5f"
            },
            "marker": {
             "line": {
              "color": "#E5ECF6",
              "width": 0.5
             },
             "pattern": {
              "fillmode": "overlay",
              "size": 10,
              "solidity": 0.2
             }
            },
            "type": "bar"
           }
          ],
          "barpolar": [
           {
            "marker": {
             "line": {
              "color": "#E5ECF6",
              "width": 0.5
             },
             "pattern": {
              "fillmode": "overlay",
              "size": 10,
              "solidity": 0.2
             }
            },
            "type": "barpolar"
           }
          ],
          "carpet": [
           {
            "aaxis": {
             "endlinecolor": "#2a3f5f",
             "gridcolor": "white",
             "linecolor": "white",
             "minorgridcolor": "white",
             "startlinecolor": "#2a3f5f"
            },
            "baxis": {
             "endlinecolor": "#2a3f5f",
             "gridcolor": "white",
             "linecolor": "white",
             "minorgridcolor": "white",
             "startlinecolor": "#2a3f5f"
            },
            "type": "carpet"
           }
          ],
          "choropleth": [
           {
            "colorbar": {
             "outlinewidth": 0,
             "ticks": ""
            },
            "type": "choropleth"
           }
          ],
          "contour": [
           {
            "colorbar": {
             "outlinewidth": 0,
             "ticks": ""
            },
            "colorscale": [
             [
              0,
              "#0d0887"
             ],
             [
              0.1111111111111111,
              "#46039f"
             ],
             [
              0.2222222222222222,
              "#7201a8"
             ],
             [
              0.3333333333333333,
              "#9c179e"
             ],
             [
              0.4444444444444444,
              "#bd3786"
             ],
             [
              0.5555555555555556,
              "#d8576b"
             ],
             [
              0.6666666666666666,
              "#ed7953"
             ],
             [
              0.7777777777777778,
              "#fb9f3a"
             ],
             [
              0.8888888888888888,
              "#fdca26"
             ],
             [
              1,
              "#f0f921"
             ]
            ],
            "type": "contour"
           }
          ],
          "contourcarpet": [
           {
            "colorbar": {
             "outlinewidth": 0,
             "ticks": ""
            },
            "type": "contourcarpet"
           }
          ],
          "heatmap": [
           {
            "colorbar": {
             "outlinewidth": 0,
             "ticks": ""
            },
            "colorscale": [
             [
              0,
              "#0d0887"
             ],
             [
              0.1111111111111111,
              "#46039f"
             ],
             [
              0.2222222222222222,
              "#7201a8"
             ],
             [
              0.3333333333333333,
              "#9c179e"
             ],
             [
              0.4444444444444444,
              "#bd3786"
             ],
             [
              0.5555555555555556,
              "#d8576b"
             ],
             [
              0.6666666666666666,
              "#ed7953"
             ],
             [
              0.7777777777777778,
              "#fb9f3a"
             ],
             [
              0.8888888888888888,
              "#fdca26"
             ],
             [
              1,
              "#f0f921"
             ]
            ],
            "type": "heatmap"
           }
          ],
          "heatmapgl": [
           {
            "colorbar": {
             "outlinewidth": 0,
             "ticks": ""
            },
            "colorscale": [
             [
              0,
              "#0d0887"
             ],
             [
              0.1111111111111111,
              "#46039f"
             ],
             [
              0.2222222222222222,
              "#7201a8"
             ],
             [
              0.3333333333333333,
              "#9c179e"
             ],
             [
              0.4444444444444444,
              "#bd3786"
             ],
             [
              0.5555555555555556,
              "#d8576b"
             ],
             [
              0.6666666666666666,
              "#ed7953"
             ],
             [
              0.7777777777777778,
              "#fb9f3a"
             ],
             [
              0.8888888888888888,
              "#fdca26"
             ],
             [
              1,
              "#f0f921"
             ]
            ],
            "type": "heatmapgl"
           }
          ],
          "histogram": [
           {
            "marker": {
             "pattern": {
              "fillmode": "overlay",
              "size": 10,
              "solidity": 0.2
             }
            },
            "type": "histogram"
           }
          ],
          "histogram2d": [
           {
            "colorbar": {
             "outlinewidth": 0,
             "ticks": ""
            },
            "colorscale": [
             [
              0,
              "#0d0887"
             ],
             [
              0.1111111111111111,
              "#46039f"
             ],
             [
              0.2222222222222222,
              "#7201a8"
             ],
             [
              0.3333333333333333,
              "#9c179e"
             ],
             [
              0.4444444444444444,
              "#bd3786"
             ],
             [
              0.5555555555555556,
              "#d8576b"
             ],
             [
              0.6666666666666666,
              "#ed7953"
             ],
             [
              0.7777777777777778,
              "#fb9f3a"
             ],
             [
              0.8888888888888888,
              "#fdca26"
             ],
             [
              1,
              "#f0f921"
             ]
            ],
            "type": "histogram2d"
           }
          ],
          "histogram2dcontour": [
           {
            "colorbar": {
             "outlinewidth": 0,
             "ticks": ""
            },
            "colorscale": [
             [
              0,
              "#0d0887"
             ],
             [
              0.1111111111111111,
              "#46039f"
             ],
             [
              0.2222222222222222,
              "#7201a8"
             ],
             [
              0.3333333333333333,
              "#9c179e"
             ],
             [
              0.4444444444444444,
              "#bd3786"
             ],
             [
              0.5555555555555556,
              "#d8576b"
             ],
             [
              0.6666666666666666,
              "#ed7953"
             ],
             [
              0.7777777777777778,
              "#fb9f3a"
             ],
             [
              0.8888888888888888,
              "#fdca26"
             ],
             [
              1,
              "#f0f921"
             ]
            ],
            "type": "histogram2dcontour"
           }
          ],
          "mesh3d": [
           {
            "colorbar": {
             "outlinewidth": 0,
             "ticks": ""
            },
            "type": "mesh3d"
           }
          ],
          "parcoords": [
           {
            "line": {
             "colorbar": {
              "outlinewidth": 0,
              "ticks": ""
             }
            },
            "type": "parcoords"
           }
          ],
          "pie": [
           {
            "automargin": true,
            "type": "pie"
           }
          ],
          "scatter": [
           {
            "fillpattern": {
             "fillmode": "overlay",
             "size": 10,
             "solidity": 0.2
            },
            "type": "scatter"
           }
          ],
          "scatter3d": [
           {
            "line": {
             "colorbar": {
              "outlinewidth": 0,
              "ticks": ""
             }
            },
            "marker": {
             "colorbar": {
              "outlinewidth": 0,
              "ticks": ""
             }
            },
            "type": "scatter3d"
           }
          ],
          "scattercarpet": [
           {
            "marker": {
             "colorbar": {
              "outlinewidth": 0,
              "ticks": ""
             }
            },
            "type": "scattercarpet"
           }
          ],
          "scattergeo": [
           {
            "marker": {
             "colorbar": {
              "outlinewidth": 0,
              "ticks": ""
             }
            },
            "type": "scattergeo"
           }
          ],
          "scattergl": [
           {
            "marker": {
             "colorbar": {
              "outlinewidth": 0,
              "ticks": ""
             }
            },
            "type": "scattergl"
           }
          ],
          "scattermapbox": [
           {
            "marker": {
             "colorbar": {
              "outlinewidth": 0,
              "ticks": ""
             }
            },
            "type": "scattermapbox"
           }
          ],
          "scatterpolar": [
           {
            "marker": {
             "colorbar": {
              "outlinewidth": 0,
              "ticks": ""
             }
            },
            "type": "scatterpolar"
           }
          ],
          "scatterpolargl": [
           {
            "marker": {
             "colorbar": {
              "outlinewidth": 0,
              "ticks": ""
             }
            },
            "type": "scatterpolargl"
           }
          ],
          "scatterternary": [
           {
            "marker": {
             "colorbar": {
              "outlinewidth": 0,
              "ticks": ""
             }
            },
            "type": "scatterternary"
           }
          ],
          "surface": [
           {
            "colorbar": {
             "outlinewidth": 0,
             "ticks": ""
            },
            "colorscale": [
             [
              0,
              "#0d0887"
             ],
             [
              0.1111111111111111,
              "#46039f"
             ],
             [
              0.2222222222222222,
              "#7201a8"
             ],
             [
              0.3333333333333333,
              "#9c179e"
             ],
             [
              0.4444444444444444,
              "#bd3786"
             ],
             [
              0.5555555555555556,
              "#d8576b"
             ],
             [
              0.6666666666666666,
              "#ed7953"
             ],
             [
              0.7777777777777778,
              "#fb9f3a"
             ],
             [
              0.8888888888888888,
              "#fdca26"
             ],
             [
              1,
              "#f0f921"
             ]
            ],
            "type": "surface"
           }
          ],
          "table": [
           {
            "cells": {
             "fill": {
              "color": "#EBF0F8"
             },
             "line": {
              "color": "white"
             }
            },
            "header": {
             "fill": {
              "color": "#C8D4E3"
             },
             "line": {
              "color": "white"
             }
            },
            "type": "table"
           }
          ]
         },
         "layout": {
          "annotationdefaults": {
           "arrowcolor": "#2a3f5f",
           "arrowhead": 0,
           "arrowwidth": 1
          },
          "autotypenumbers": "strict",
          "coloraxis": {
           "colorbar": {
            "outlinewidth": 0,
            "ticks": ""
           }
          },
          "colorscale": {
           "diverging": [
            [
             0,
             "#8e0152"
            ],
            [
             0.1,
             "#c51b7d"
            ],
            [
             0.2,
             "#de77ae"
            ],
            [
             0.3,
             "#f1b6da"
            ],
            [
             0.4,
             "#fde0ef"
            ],
            [
             0.5,
             "#f7f7f7"
            ],
            [
             0.6,
             "#e6f5d0"
            ],
            [
             0.7,
             "#b8e186"
            ],
            [
             0.8,
             "#7fbc41"
            ],
            [
             0.9,
             "#4d9221"
            ],
            [
             1,
             "#276419"
            ]
           ],
           "sequential": [
            [
             0,
             "#0d0887"
            ],
            [
             0.1111111111111111,
             "#46039f"
            ],
            [
             0.2222222222222222,
             "#7201a8"
            ],
            [
             0.3333333333333333,
             "#9c179e"
            ],
            [
             0.4444444444444444,
             "#bd3786"
            ],
            [
             0.5555555555555556,
             "#d8576b"
            ],
            [
             0.6666666666666666,
             "#ed7953"
            ],
            [
             0.7777777777777778,
             "#fb9f3a"
            ],
            [
             0.8888888888888888,
             "#fdca26"
            ],
            [
             1,
             "#f0f921"
            ]
           ],
           "sequentialminus": [
            [
             0,
             "#0d0887"
            ],
            [
             0.1111111111111111,
             "#46039f"
            ],
            [
             0.2222222222222222,
             "#7201a8"
            ],
            [
             0.3333333333333333,
             "#9c179e"
            ],
            [
             0.4444444444444444,
             "#bd3786"
            ],
            [
             0.5555555555555556,
             "#d8576b"
            ],
            [
             0.6666666666666666,
             "#ed7953"
            ],
            [
             0.7777777777777778,
             "#fb9f3a"
            ],
            [
             0.8888888888888888,
             "#fdca26"
            ],
            [
             1,
             "#f0f921"
            ]
           ]
          },
          "colorway": [
           "#636efa",
           "#EF553B",
           "#00cc96",
           "#ab63fa",
           "#FFA15A",
           "#19d3f3",
           "#FF6692",
           "#B6E880",
           "#FF97FF",
           "#FECB52"
          ],
          "font": {
           "color": "#2a3f5f"
          },
          "geo": {
           "bgcolor": "white",
           "lakecolor": "white",
           "landcolor": "#E5ECF6",
           "showlakes": true,
           "showland": true,
           "subunitcolor": "white"
          },
          "hoverlabel": {
           "align": "left"
          },
          "hovermode": "closest",
          "mapbox": {
           "style": "light"
          },
          "paper_bgcolor": "white",
          "plot_bgcolor": "#E5ECF6",
          "polar": {
           "angularaxis": {
            "gridcolor": "white",
            "linecolor": "white",
            "ticks": ""
           },
           "bgcolor": "#E5ECF6",
           "radialaxis": {
            "gridcolor": "white",
            "linecolor": "white",
            "ticks": ""
           }
          },
          "scene": {
           "xaxis": {
            "backgroundcolor": "#E5ECF6",
            "gridcolor": "white",
            "gridwidth": 2,
            "linecolor": "white",
            "showbackground": true,
            "ticks": "",
            "zerolinecolor": "white"
           },
           "yaxis": {
            "backgroundcolor": "#E5ECF6",
            "gridcolor": "white",
            "gridwidth": 2,
            "linecolor": "white",
            "showbackground": true,
            "ticks": "",
            "zerolinecolor": "white"
           },
           "zaxis": {
            "backgroundcolor": "#E5ECF6",
            "gridcolor": "white",
            "gridwidth": 2,
            "linecolor": "white",
            "showbackground": true,
            "ticks": "",
            "zerolinecolor": "white"
           }
          },
          "shapedefaults": {
           "line": {
            "color": "#2a3f5f"
           }
          },
          "ternary": {
           "aaxis": {
            "gridcolor": "white",
            "linecolor": "white",
            "ticks": ""
           },
           "baxis": {
            "gridcolor": "white",
            "linecolor": "white",
            "ticks": ""
           },
           "bgcolor": "#E5ECF6",
           "caxis": {
            "gridcolor": "white",
            "linecolor": "white",
            "ticks": ""
           }
          },
          "title": {
           "x": 0.05
          },
          "xaxis": {
           "automargin": true,
           "gridcolor": "white",
           "linecolor": "white",
           "ticks": "",
           "title": {
            "standoff": 15
           },
           "zerolinecolor": "white",
           "zerolinewidth": 2
          },
          "yaxis": {
           "automargin": true,
           "gridcolor": "white",
           "linecolor": "white",
           "ticks": "",
           "title": {
            "standoff": 15
           },
           "zerolinecolor": "white",
           "zerolinewidth": 2
          }
         }
        }
       }
      }
     },
     "metadata": {},
     "output_type": "display_data"
    }
   ],
   "source": [
    "#adding nice table for comparative purposes (to be tested)\n",
    "\n",
    "import plotly.graph_objects as go\n",
    "paper_accuracy=[0.89, 0.88, 0.90, 0.86, 0.90]  #taken from the paper diabetic study, table II\n",
    "fig = go.Figure(data=[go.Table(header=dict(values=['Method', 'Paper Accuracy','Lab Accuracy']),\n",
    "                 cells=dict(values=[['SVM', 'LR', 'RF','DT', 'Ensemble'], paper_accuracy, acc_score_list]))\n",
    "                     ])\n",
    "fig.show()\n"
   ]
  },
  {
   "cell_type": "code",
   "execution_count": null,
   "metadata": {},
   "outputs": [],
   "source": []
  }
 ],
 "metadata": {
  "kernelspec": {
   "display_name": "Python 3.9.6 64-bit",
   "language": "python",
   "name": "python3"
  },
  "language_info": {
   "codemirror_mode": {
    "name": "ipython",
    "version": 3
   },
   "file_extension": ".py",
   "mimetype": "text/x-python",
   "name": "python",
   "nbconvert_exporter": "python",
   "pygments_lexer": "ipython3",
   "version": "3.9.6"
  },
  "vscode": {
   "interpreter": {
    "hash": "11938c6bc6919ae2720b4d5011047913343b08a43b18698fd82dedb0d4417594"
   }
  }
 },
 "nbformat": 4,
 "nbformat_minor": 4
}
