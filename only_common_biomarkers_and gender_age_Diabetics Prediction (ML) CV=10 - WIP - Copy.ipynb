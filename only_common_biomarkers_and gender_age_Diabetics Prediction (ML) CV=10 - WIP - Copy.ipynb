{
 "cells": [
  {
   "cell_type": "code",
   "execution_count": 86,
   "metadata": {},
   "outputs": [],
   "source": [
    "import numpy as np\n",
    "import copy\n",
    "from sklearn import preprocessing\n",
    "import tensorflow as tf\n",
    "from tensorflow import keras  #v. 2.9.0\n",
    "import os\n",
    "import pandas as pd\n",
    "from matplotlib import pyplot as plt\n",
    "from numpy.random import seed\n",
    "np.random.seed(2095)\n",
    "\n",
    "import numpy as np \n",
    "import pandas as pd\n",
    "import matplotlib.pyplot as plt\n",
    "%matplotlib inline\n",
    "\n",
    "import seaborn as sns\n",
    "sns.set()\n",
    "from sklearn.preprocessing import MinMaxScaler, StandardScaler, LabelEncoder\n",
    "from sklearn.svm import SVC\n",
    "from sklearn.naive_bayes import GaussianNB\n",
    "from sklearn.linear_model import LogisticRegression\n",
    "#from xgboost import XGBClassifier, plot_importance\n",
    "from sklearn.model_selection import train_test_split\n",
    "from sklearn.metrics import accuracy_score,confusion_matrix\n",
    "\n",
    "import warnings\n",
    "warnings.filterwarnings(\"ignore\")\n",
    "\n"
   ]
  },
  {
   "cell_type": "markdown",
   "metadata": {},
   "source": [
    "# Reading and Exploring the dataframe"
   ]
  },
  {
   "cell_type": "code",
   "execution_count": 2,
   "metadata": {},
   "outputs": [],
   "source": [
    "#### --------------------------------------------   COMMENT IT WHEN USING DATABRICKS   ---------------------------------\n",
    "\n",
    "#reading the csv file (locally)\n",
    "data = pd.read_csv('CardiacPrediction_csv.csv')"
   ]
  },
  {
   "cell_type": "code",
   "execution_count": 3,
   "metadata": {},
   "outputs": [],
   "source": [
    "#### --------------------------------------------   UNCOMMENT IT WHEN USING DATABRICKS   ---------------------------------\n",
    "#Reading csv file in databricks\n",
    "\n",
    "# # File location and type \n",
    "# file_location = \"/FileStore/tables/CardiacPrediction_csv.csv\"\n",
    "# file_type = \"csv\"\n",
    "\n",
    "# # CSV options\n",
    "# infer_schema = \"false\"\n",
    "# first_row_is_header = \"true\"\n",
    "# delimiter = \",\"\n",
    "\n",
    "# # The applied options are for CSV files. For other file types, these will be ignored.\n",
    "# df = spark.read.format(file_type) \\\n",
    "#   .option(\"inferSchema\", infer_schema) \\\n",
    "#   .option(\"header\", first_row_is_header) \\\n",
    "#   .option(\"sep\", delimiter) \\\n",
    "#   .load(file_location)\n",
    "\n",
    "# display(df)"
   ]
  },
  {
   "cell_type": "code",
   "execution_count": 4,
   "metadata": {},
   "outputs": [],
   "source": [
    "#### --------------------------------------------   UNCOMMENT IT WHEN USING DATABRICKS   ---------------------------------\n",
    "\n",
    "#dataframe 'df' in spark is different than in pandas. I convert it and call it 'data'. \n",
    "# data = df.toPandas()\n",
    "# print(data)"
   ]
  },
  {
   "cell_type": "code",
   "execution_count": 5,
   "metadata": {},
   "outputs": [
    {
     "data": {
      "text/html": [
       "<div>\n",
       "<style scoped>\n",
       "    .dataframe tbody tr th:only-of-type {\n",
       "        vertical-align: middle;\n",
       "    }\n",
       "\n",
       "    .dataframe tbody tr th {\n",
       "        vertical-align: top;\n",
       "    }\n",
       "\n",
       "    .dataframe thead th {\n",
       "        text-align: right;\n",
       "    }\n",
       "</style>\n",
       "<table border=\"1\" class=\"dataframe\">\n",
       "  <thead>\n",
       "    <tr style=\"text-align: right;\">\n",
       "      <th></th>\n",
       "      <th>SEQN</th>\n",
       "      <th>Gender</th>\n",
       "      <th>Age</th>\n",
       "      <th>Annual-Family-Income</th>\n",
       "      <th>Ratio-Family-Income-Poverty</th>\n",
       "      <th>X60-sec-pulse</th>\n",
       "      <th>Systolic</th>\n",
       "      <th>Diastolic</th>\n",
       "      <th>Weight</th>\n",
       "      <th>Height</th>\n",
       "      <th>...</th>\n",
       "      <th>Total-Cholesterol</th>\n",
       "      <th>HDL</th>\n",
       "      <th>Glycohemoglobin</th>\n",
       "      <th>Vigorous-work</th>\n",
       "      <th>Moderate-work</th>\n",
       "      <th>Health-Insurance</th>\n",
       "      <th>Diabetes</th>\n",
       "      <th>Blood-Rel-Diabetes</th>\n",
       "      <th>Blood-Rel-Stroke</th>\n",
       "      <th>CoronaryHeartDisease</th>\n",
       "    </tr>\n",
       "  </thead>\n",
       "  <tbody>\n",
       "    <tr>\n",
       "      <th>0</th>\n",
       "      <td>2</td>\n",
       "      <td>1</td>\n",
       "      <td>77</td>\n",
       "      <td>8</td>\n",
       "      <td>5.00</td>\n",
       "      <td>68</td>\n",
       "      <td>98</td>\n",
       "      <td>56</td>\n",
       "      <td>75.4</td>\n",
       "      <td>174.0</td>\n",
       "      <td>...</td>\n",
       "      <td>5.56</td>\n",
       "      <td>1.39</td>\n",
       "      <td>4.7</td>\n",
       "      <td>3</td>\n",
       "      <td>3</td>\n",
       "      <td>1</td>\n",
       "      <td>2</td>\n",
       "      <td>2</td>\n",
       "      <td>2</td>\n",
       "      <td>0</td>\n",
       "    </tr>\n",
       "    <tr>\n",
       "      <th>1</th>\n",
       "      <td>5</td>\n",
       "      <td>1</td>\n",
       "      <td>49</td>\n",
       "      <td>11</td>\n",
       "      <td>5.00</td>\n",
       "      <td>66</td>\n",
       "      <td>122</td>\n",
       "      <td>83</td>\n",
       "      <td>92.5</td>\n",
       "      <td>178.3</td>\n",
       "      <td>...</td>\n",
       "      <td>7.21</td>\n",
       "      <td>1.08</td>\n",
       "      <td>5.5</td>\n",
       "      <td>1</td>\n",
       "      <td>1</td>\n",
       "      <td>1</td>\n",
       "      <td>2</td>\n",
       "      <td>2</td>\n",
       "      <td>2</td>\n",
       "      <td>0</td>\n",
       "    </tr>\n",
       "    <tr>\n",
       "      <th>2</th>\n",
       "      <td>12</td>\n",
       "      <td>1</td>\n",
       "      <td>37</td>\n",
       "      <td>11</td>\n",
       "      <td>4.93</td>\n",
       "      <td>64</td>\n",
       "      <td>174</td>\n",
       "      <td>99</td>\n",
       "      <td>99.2</td>\n",
       "      <td>180.0</td>\n",
       "      <td>...</td>\n",
       "      <td>4.03</td>\n",
       "      <td>0.98</td>\n",
       "      <td>5.2</td>\n",
       "      <td>2</td>\n",
       "      <td>1</td>\n",
       "      <td>1</td>\n",
       "      <td>2</td>\n",
       "      <td>1</td>\n",
       "      <td>1</td>\n",
       "      <td>0</td>\n",
       "    </tr>\n",
       "    <tr>\n",
       "      <th>3</th>\n",
       "      <td>13</td>\n",
       "      <td>1</td>\n",
       "      <td>70</td>\n",
       "      <td>3</td>\n",
       "      <td>1.07</td>\n",
       "      <td>102</td>\n",
       "      <td>130</td>\n",
       "      <td>66</td>\n",
       "      <td>63.6</td>\n",
       "      <td>157.7</td>\n",
       "      <td>...</td>\n",
       "      <td>8.12</td>\n",
       "      <td>1.28</td>\n",
       "      <td>7.6</td>\n",
       "      <td>3</td>\n",
       "      <td>3</td>\n",
       "      <td>1</td>\n",
       "      <td>1</td>\n",
       "      <td>1</td>\n",
       "      <td>2</td>\n",
       "      <td>0</td>\n",
       "    </tr>\n",
       "    <tr>\n",
       "      <th>4</th>\n",
       "      <td>14</td>\n",
       "      <td>1</td>\n",
       "      <td>81</td>\n",
       "      <td>5</td>\n",
       "      <td>2.67</td>\n",
       "      <td>72</td>\n",
       "      <td>136</td>\n",
       "      <td>61</td>\n",
       "      <td>75.5</td>\n",
       "      <td>166.2</td>\n",
       "      <td>...</td>\n",
       "      <td>4.50</td>\n",
       "      <td>1.04</td>\n",
       "      <td>5.8</td>\n",
       "      <td>1</td>\n",
       "      <td>1</td>\n",
       "      <td>1</td>\n",
       "      <td>2</td>\n",
       "      <td>2</td>\n",
       "      <td>2</td>\n",
       "      <td>0</td>\n",
       "    </tr>\n",
       "  </tbody>\n",
       "</table>\n",
       "<p>5 rows × 51 columns</p>\n",
       "</div>"
      ],
      "text/plain": [
       "   SEQN  Gender  Age  Annual-Family-Income  Ratio-Family-Income-Poverty  \\\n",
       "0     2       1   77                     8                         5.00   \n",
       "1     5       1   49                    11                         5.00   \n",
       "2    12       1   37                    11                         4.93   \n",
       "3    13       1   70                     3                         1.07   \n",
       "4    14       1   81                     5                         2.67   \n",
       "\n",
       "   X60-sec-pulse  Systolic  Diastolic  Weight  Height  ...  Total-Cholesterol  \\\n",
       "0             68        98         56    75.4   174.0  ...               5.56   \n",
       "1             66       122         83    92.5   178.3  ...               7.21   \n",
       "2             64       174         99    99.2   180.0  ...               4.03   \n",
       "3            102       130         66    63.6   157.7  ...               8.12   \n",
       "4             72       136         61    75.5   166.2  ...               4.50   \n",
       "\n",
       "    HDL  Glycohemoglobin  Vigorous-work  Moderate-work  Health-Insurance  \\\n",
       "0  1.39              4.7              3              3                 1   \n",
       "1  1.08              5.5              1              1                 1   \n",
       "2  0.98              5.2              2              1                 1   \n",
       "3  1.28              7.6              3              3                 1   \n",
       "4  1.04              5.8              1              1                 1   \n",
       "\n",
       "   Diabetes  Blood-Rel-Diabetes  Blood-Rel-Stroke  CoronaryHeartDisease  \n",
       "0         2                   2                 2                     0  \n",
       "1         2                   2                 2                     0  \n",
       "2         2                   1                 1                     0  \n",
       "3         1                   1                 2                     0  \n",
       "4         2                   2                 2                     0  \n",
       "\n",
       "[5 rows x 51 columns]"
      ]
     },
     "execution_count": 5,
     "metadata": {},
     "output_type": "execute_result"
    }
   ],
   "source": [
    "data.head()"
   ]
  },
  {
   "cell_type": "markdown",
   "metadata": {},
   "source": [
    "# Dropping features"
   ]
  },
  {
   "cell_type": "code",
   "execution_count": 6,
   "metadata": {},
   "outputs": [],
   "source": [
    "#dropping these features as mentioned in paper 'An efficient convolutional neural network for coronary heart disease prediction'\n",
    "data.drop(['SEQN','Annual-Family-Income','Height','Ratio-Family-Income-Poverty','X60-sec-pulse',\n",
    "          'Health-Insurance','Glucose','Vigorous-work','Total-Cholesterol','CoronaryHeartDisease','Blood-Rel-Stroke','Red-Cell-Distribution-Width','Triglycerides','Mean-Platelet-Vol','Platelet-count','Lymphocyte','Monocyte','Eosinophils','Mean-cell-Hemoglobin','White-Blood-Cells','Red-Blood-Cells','Basophils','Mean-Cell-Vol','Mean-Cell-Hgb-Conc.','Hematocrit','Segmented-Neutrophils'], axis = 1, inplace=True)\n",
    "\n"
   ]
  },
  {
   "cell_type": "code",
   "execution_count": 7,
   "metadata": {},
   "outputs": [],
   "source": [
    "#dropping other features and using only common biomarkers features with Lab and Gender and Age. So excluding Weight and Body-Mass-Index \n",
    "\n",
    "data.drop(['Systolic', 'Diastolic','LDH','Phosphorus','Bilirubin','Uric.Acid','Moderate-work', 'Weight', 'Body-Mass-Index'], axis = 1, inplace=True)\n",
    "\n",
    "#if you see error it's because it was already dropped"
   ]
  },
  {
   "cell_type": "code",
   "execution_count": 9,
   "metadata": {},
   "outputs": [
    {
     "name": "stderr",
     "output_type": "stream",
     "text": [
      "C:\\Users\\Eigenaar\\AppData\\Local\\Temp\\ipykernel_4196\\3794381626.py:1: SettingWithCopyWarning: \n",
      "A value is trying to be set on a copy of a slice from a DataFrame\n",
      "\n",
      "See the caveats in the documentation: https://pandas.pydata.org/pandas-docs/stable/user_guide/indexing.html#returning-a-view-versus-a-copy\n",
      "  data['Diabetes'].loc[(data['Diabetes'] == 3 )] = 1\n"
     ]
    }
   ],
   "source": [
    "data['Diabetes'].loc[(data['Diabetes'] == 3 )] = 1"
   ]
  },
  {
   "cell_type": "code",
   "execution_count": null,
   "metadata": {},
   "outputs": [],
   "source": [
    "#adding a modification to consider 3 as 1 and only work with two classes\n",
    "\n",
    "data[\"Diabetes\"]==data[\"Diabetes\"].replace([3],1)"
   ]
  },
  {
   "cell_type": "code",
   "execution_count": 10,
   "metadata": {},
   "outputs": [],
   "source": [
    "# data[\"Diabetes\"].describe()"
   ]
  },
  {
   "cell_type": "code",
   "execution_count": 11,
   "metadata": {},
   "outputs": [
    {
     "data": {
      "text/html": [
       "<div>\n",
       "<style scoped>\n",
       "    .dataframe tbody tr th:only-of-type {\n",
       "        vertical-align: middle;\n",
       "    }\n",
       "\n",
       "    .dataframe tbody tr th {\n",
       "        vertical-align: top;\n",
       "    }\n",
       "\n",
       "    .dataframe thead th {\n",
       "        text-align: right;\n",
       "    }\n",
       "</style>\n",
       "<table border=\"1\" class=\"dataframe\">\n",
       "  <thead>\n",
       "    <tr style=\"text-align: right;\">\n",
       "      <th></th>\n",
       "      <th>Gender</th>\n",
       "      <th>Age</th>\n",
       "      <th>Weight</th>\n",
       "      <th>Body-Mass-Index</th>\n",
       "      <th>Hemoglobin</th>\n",
       "      <th>Albumin</th>\n",
       "      <th>ALP</th>\n",
       "      <th>AST</th>\n",
       "      <th>ALT</th>\n",
       "      <th>Cholesterol</th>\n",
       "      <th>Creatinine</th>\n",
       "      <th>GGT</th>\n",
       "      <th>Iron</th>\n",
       "      <th>Protein</th>\n",
       "      <th>HDL</th>\n",
       "      <th>Glycohemoglobin</th>\n",
       "      <th>Diabetes</th>\n",
       "      <th>Blood-Rel-Diabetes</th>\n",
       "    </tr>\n",
       "  </thead>\n",
       "  <tbody>\n",
       "    <tr>\n",
       "      <th>0</th>\n",
       "      <td>1</td>\n",
       "      <td>77</td>\n",
       "      <td>75.4</td>\n",
       "      <td>24.90</td>\n",
       "      <td>14.1</td>\n",
       "      <td>45</td>\n",
       "      <td>62</td>\n",
       "      <td>19</td>\n",
       "      <td>16</td>\n",
       "      <td>5.25</td>\n",
       "      <td>61.9</td>\n",
       "      <td>20</td>\n",
       "      <td>11.28</td>\n",
       "      <td>72.0</td>\n",
       "      <td>1.39</td>\n",
       "      <td>4.7</td>\n",
       "      <td>2</td>\n",
       "      <td>2</td>\n",
       "    </tr>\n",
       "    <tr>\n",
       "      <th>1</th>\n",
       "      <td>1</td>\n",
       "      <td>49</td>\n",
       "      <td>92.5</td>\n",
       "      <td>29.10</td>\n",
       "      <td>14.5</td>\n",
       "      <td>45</td>\n",
       "      <td>63</td>\n",
       "      <td>22</td>\n",
       "      <td>28</td>\n",
       "      <td>7.16</td>\n",
       "      <td>70.7</td>\n",
       "      <td>34</td>\n",
       "      <td>24.54</td>\n",
       "      <td>73.0</td>\n",
       "      <td>1.08</td>\n",
       "      <td>5.5</td>\n",
       "      <td>2</td>\n",
       "      <td>2</td>\n",
       "    </tr>\n",
       "    <tr>\n",
       "      <th>2</th>\n",
       "      <td>1</td>\n",
       "      <td>37</td>\n",
       "      <td>99.2</td>\n",
       "      <td>30.62</td>\n",
       "      <td>16.0</td>\n",
       "      <td>47</td>\n",
       "      <td>63</td>\n",
       "      <td>17</td>\n",
       "      <td>35</td>\n",
       "      <td>3.90</td>\n",
       "      <td>88.4</td>\n",
       "      <td>32</td>\n",
       "      <td>11.28</td>\n",
       "      <td>72.0</td>\n",
       "      <td>0.98</td>\n",
       "      <td>5.2</td>\n",
       "      <td>2</td>\n",
       "      <td>1</td>\n",
       "    </tr>\n",
       "    <tr>\n",
       "      <th>3</th>\n",
       "      <td>1</td>\n",
       "      <td>70</td>\n",
       "      <td>63.6</td>\n",
       "      <td>25.57</td>\n",
       "      <td>16.8</td>\n",
       "      <td>40</td>\n",
       "      <td>103</td>\n",
       "      <td>24</td>\n",
       "      <td>35</td>\n",
       "      <td>7.94</td>\n",
       "      <td>61.9</td>\n",
       "      <td>24</td>\n",
       "      <td>12.18</td>\n",
       "      <td>66.0</td>\n",
       "      <td>1.28</td>\n",
       "      <td>7.6</td>\n",
       "      <td>1</td>\n",
       "      <td>1</td>\n",
       "    </tr>\n",
       "    <tr>\n",
       "      <th>4</th>\n",
       "      <td>1</td>\n",
       "      <td>81</td>\n",
       "      <td>75.5</td>\n",
       "      <td>27.33</td>\n",
       "      <td>16.6</td>\n",
       "      <td>45</td>\n",
       "      <td>110</td>\n",
       "      <td>23</td>\n",
       "      <td>18</td>\n",
       "      <td>4.42</td>\n",
       "      <td>88.4</td>\n",
       "      <td>24</td>\n",
       "      <td>11.82</td>\n",
       "      <td>79.0</td>\n",
       "      <td>1.04</td>\n",
       "      <td>5.8</td>\n",
       "      <td>2</td>\n",
       "      <td>2</td>\n",
       "    </tr>\n",
       "  </tbody>\n",
       "</table>\n",
       "</div>"
      ],
      "text/plain": [
       "   Gender  Age  Weight  Body-Mass-Index  Hemoglobin  Albumin  ALP  AST  ALT  \\\n",
       "0       1   77    75.4            24.90        14.1       45   62   19   16   \n",
       "1       1   49    92.5            29.10        14.5       45   63   22   28   \n",
       "2       1   37    99.2            30.62        16.0       47   63   17   35   \n",
       "3       1   70    63.6            25.57        16.8       40  103   24   35   \n",
       "4       1   81    75.5            27.33        16.6       45  110   23   18   \n",
       "\n",
       "   Cholesterol  Creatinine  GGT   Iron  Protein   HDL  Glycohemoglobin  \\\n",
       "0         5.25        61.9   20  11.28     72.0  1.39              4.7   \n",
       "1         7.16        70.7   34  24.54     73.0  1.08              5.5   \n",
       "2         3.90        88.4   32  11.28     72.0  0.98              5.2   \n",
       "3         7.94        61.9   24  12.18     66.0  1.28              7.6   \n",
       "4         4.42        88.4   24  11.82     79.0  1.04              5.8   \n",
       "\n",
       "   Diabetes  Blood-Rel-Diabetes  \n",
       "0         2                   2  \n",
       "1         2                   2  \n",
       "2         2                   1  \n",
       "3         1                   1  \n",
       "4         2                   2  "
      ]
     },
     "execution_count": 11,
     "metadata": {},
     "output_type": "execute_result"
    }
   ],
   "source": [
    "data.head()"
   ]
  },
  {
   "cell_type": "code",
   "execution_count": 12,
   "metadata": {},
   "outputs": [
    {
     "data": {
      "text/plain": [
       "(37079, 18)"
      ]
     },
     "execution_count": 12,
     "metadata": {},
     "output_type": "execute_result"
    }
   ],
   "source": [
    "data.shape"
   ]
  },
  {
   "cell_type": "code",
   "execution_count": 13,
   "metadata": {},
   "outputs": [
    {
     "data": {
      "text/plain": [
       "18"
      ]
     },
     "execution_count": 13,
     "metadata": {},
     "output_type": "execute_result"
    }
   ],
   "source": [
    "len(data.columns)"
   ]
  },
  {
   "cell_type": "code",
   "execution_count": 14,
   "metadata": {},
   "outputs": [
    {
     "data": {
      "text/plain": [
       "Gender                0\n",
       "Age                   0\n",
       "Weight                0\n",
       "Body-Mass-Index       0\n",
       "Hemoglobin            0\n",
       "Albumin               0\n",
       "ALP                   0\n",
       "AST                   0\n",
       "ALT                   0\n",
       "Cholesterol           0\n",
       "Creatinine            0\n",
       "GGT                   0\n",
       "Iron                  0\n",
       "Protein               0\n",
       "HDL                   0\n",
       "Glycohemoglobin       0\n",
       "Diabetes              0\n",
       "Blood-Rel-Diabetes    0\n",
       "dtype: int64"
      ]
     },
     "execution_count": 14,
     "metadata": {},
     "output_type": "execute_result"
    }
   ],
   "source": [
    "#checking for missing data\n",
    "data.isnull().sum()"
   ]
  },
  {
   "cell_type": "code",
   "execution_count": 15,
   "metadata": {},
   "outputs": [
    {
     "data": {
      "text/html": [
       "<div>\n",
       "<style scoped>\n",
       "    .dataframe tbody tr th:only-of-type {\n",
       "        vertical-align: middle;\n",
       "    }\n",
       "\n",
       "    .dataframe tbody tr th {\n",
       "        vertical-align: top;\n",
       "    }\n",
       "\n",
       "    .dataframe thead th {\n",
       "        text-align: right;\n",
       "    }\n",
       "</style>\n",
       "<table border=\"1\" class=\"dataframe\">\n",
       "  <thead>\n",
       "    <tr style=\"text-align: right;\">\n",
       "      <th></th>\n",
       "      <th>Gender</th>\n",
       "      <th>Age</th>\n",
       "      <th>Weight</th>\n",
       "      <th>Body-Mass-Index</th>\n",
       "      <th>Hemoglobin</th>\n",
       "      <th>Albumin</th>\n",
       "      <th>ALP</th>\n",
       "      <th>AST</th>\n",
       "      <th>ALT</th>\n",
       "      <th>Cholesterol</th>\n",
       "      <th>Creatinine</th>\n",
       "      <th>GGT</th>\n",
       "      <th>Iron</th>\n",
       "      <th>Protein</th>\n",
       "      <th>HDL</th>\n",
       "      <th>Glycohemoglobin</th>\n",
       "      <th>Diabetes</th>\n",
       "      <th>Blood-Rel-Diabetes</th>\n",
       "    </tr>\n",
       "  </thead>\n",
       "  <tbody>\n",
       "    <tr>\n",
       "      <th>count</th>\n",
       "      <td>37079.000000</td>\n",
       "      <td>37079.000000</td>\n",
       "      <td>37079.000000</td>\n",
       "      <td>37079.000000</td>\n",
       "      <td>37079.000000</td>\n",
       "      <td>37079.000000</td>\n",
       "      <td>37079.000000</td>\n",
       "      <td>37079.000000</td>\n",
       "      <td>37079.000000</td>\n",
       "      <td>37079.000000</td>\n",
       "      <td>37079.000000</td>\n",
       "      <td>37079.000000</td>\n",
       "      <td>37079.000000</td>\n",
       "      <td>37079.000000</td>\n",
       "      <td>37079.000000</td>\n",
       "      <td>37079.000000</td>\n",
       "      <td>37079.000000</td>\n",
       "      <td>37079.000000</td>\n",
       "    </tr>\n",
       "    <tr>\n",
       "      <th>mean</th>\n",
       "      <td>1.513282</td>\n",
       "      <td>48.943661</td>\n",
       "      <td>80.988276</td>\n",
       "      <td>28.824588</td>\n",
       "      <td>14.139073</td>\n",
       "      <td>42.528116</td>\n",
       "      <td>70.789611</td>\n",
       "      <td>25.722511</td>\n",
       "      <td>25.601850</td>\n",
       "      <td>5.077399</td>\n",
       "      <td>78.632276</td>\n",
       "      <td>29.459667</td>\n",
       "      <td>15.266181</td>\n",
       "      <td>72.050158</td>\n",
       "      <td>1.370344</td>\n",
       "      <td>5.676496</td>\n",
       "      <td>1.869144</td>\n",
       "      <td>1.549502</td>\n",
       "    </tr>\n",
       "    <tr>\n",
       "      <th>std</th>\n",
       "      <td>0.499830</td>\n",
       "      <td>18.010440</td>\n",
       "      <td>20.678734</td>\n",
       "      <td>6.608982</td>\n",
       "      <td>1.541599</td>\n",
       "      <td>3.585254</td>\n",
       "      <td>26.073559</td>\n",
       "      <td>19.695625</td>\n",
       "      <td>25.889693</td>\n",
       "      <td>1.079629</td>\n",
       "      <td>39.157384</td>\n",
       "      <td>43.576787</td>\n",
       "      <td>6.416872</td>\n",
       "      <td>4.967992</td>\n",
       "      <td>0.415985</td>\n",
       "      <td>1.050223</td>\n",
       "      <td>0.337247</td>\n",
       "      <td>0.497550</td>\n",
       "    </tr>\n",
       "    <tr>\n",
       "      <th>min</th>\n",
       "      <td>1.000000</td>\n",
       "      <td>20.000000</td>\n",
       "      <td>32.300000</td>\n",
       "      <td>13.180000</td>\n",
       "      <td>5.800000</td>\n",
       "      <td>19.000000</td>\n",
       "      <td>7.000000</td>\n",
       "      <td>7.000000</td>\n",
       "      <td>4.000000</td>\n",
       "      <td>0.155000</td>\n",
       "      <td>17.700000</td>\n",
       "      <td>3.000000</td>\n",
       "      <td>0.900000</td>\n",
       "      <td>47.000000</td>\n",
       "      <td>0.160000</td>\n",
       "      <td>2.000000</td>\n",
       "      <td>1.000000</td>\n",
       "      <td>1.000000</td>\n",
       "    </tr>\n",
       "    <tr>\n",
       "      <th>25%</th>\n",
       "      <td>1.000000</td>\n",
       "      <td>33.000000</td>\n",
       "      <td>66.500000</td>\n",
       "      <td>24.220000</td>\n",
       "      <td>13.100000</td>\n",
       "      <td>40.000000</td>\n",
       "      <td>55.000000</td>\n",
       "      <td>19.000000</td>\n",
       "      <td>16.000000</td>\n",
       "      <td>4.319000</td>\n",
       "      <td>61.880000</td>\n",
       "      <td>14.000000</td>\n",
       "      <td>10.900000</td>\n",
       "      <td>69.000000</td>\n",
       "      <td>1.070000</td>\n",
       "      <td>5.200000</td>\n",
       "      <td>2.000000</td>\n",
       "      <td>1.000000</td>\n",
       "    </tr>\n",
       "    <tr>\n",
       "      <th>50%</th>\n",
       "      <td>2.000000</td>\n",
       "      <td>48.000000</td>\n",
       "      <td>78.200000</td>\n",
       "      <td>27.800000</td>\n",
       "      <td>14.100000</td>\n",
       "      <td>43.000000</td>\n",
       "      <td>67.000000</td>\n",
       "      <td>23.000000</td>\n",
       "      <td>21.000000</td>\n",
       "      <td>4.991000</td>\n",
       "      <td>73.370000</td>\n",
       "      <td>20.000000</td>\n",
       "      <td>14.500000</td>\n",
       "      <td>72.000000</td>\n",
       "      <td>1.290000</td>\n",
       "      <td>5.400000</td>\n",
       "      <td>2.000000</td>\n",
       "      <td>2.000000</td>\n",
       "    </tr>\n",
       "    <tr>\n",
       "      <th>75%</th>\n",
       "      <td>2.000000</td>\n",
       "      <td>63.000000</td>\n",
       "      <td>92.100000</td>\n",
       "      <td>32.100000</td>\n",
       "      <td>15.200000</td>\n",
       "      <td>45.000000</td>\n",
       "      <td>82.000000</td>\n",
       "      <td>27.000000</td>\n",
       "      <td>28.000000</td>\n",
       "      <td>5.740000</td>\n",
       "      <td>88.400000</td>\n",
       "      <td>31.000000</td>\n",
       "      <td>18.800000</td>\n",
       "      <td>75.000000</td>\n",
       "      <td>1.600000</td>\n",
       "      <td>5.800000</td>\n",
       "      <td>2.000000</td>\n",
       "      <td>2.000000</td>\n",
       "    </tr>\n",
       "    <tr>\n",
       "      <th>max</th>\n",
       "      <td>2.000000</td>\n",
       "      <td>85.000000</td>\n",
       "      <td>371.000000</td>\n",
       "      <td>130.210000</td>\n",
       "      <td>19.700000</td>\n",
       "      <td>57.000000</td>\n",
       "      <td>729.000000</td>\n",
       "      <td>1672.000000</td>\n",
       "      <td>1997.000000</td>\n",
       "      <td>14.611000</td>\n",
       "      <td>1573.520000</td>\n",
       "      <td>2274.000000</td>\n",
       "      <td>99.800000</td>\n",
       "      <td>113.000000</td>\n",
       "      <td>5.840000</td>\n",
       "      <td>18.800000</td>\n",
       "      <td>2.000000</td>\n",
       "      <td>2.000000</td>\n",
       "    </tr>\n",
       "  </tbody>\n",
       "</table>\n",
       "</div>"
      ],
      "text/plain": [
       "             Gender           Age        Weight  Body-Mass-Index  \\\n",
       "count  37079.000000  37079.000000  37079.000000     37079.000000   \n",
       "mean       1.513282     48.943661     80.988276        28.824588   \n",
       "std        0.499830     18.010440     20.678734         6.608982   \n",
       "min        1.000000     20.000000     32.300000        13.180000   \n",
       "25%        1.000000     33.000000     66.500000        24.220000   \n",
       "50%        2.000000     48.000000     78.200000        27.800000   \n",
       "75%        2.000000     63.000000     92.100000        32.100000   \n",
       "max        2.000000     85.000000    371.000000       130.210000   \n",
       "\n",
       "         Hemoglobin       Albumin           ALP           AST           ALT  \\\n",
       "count  37079.000000  37079.000000  37079.000000  37079.000000  37079.000000   \n",
       "mean      14.139073     42.528116     70.789611     25.722511     25.601850   \n",
       "std        1.541599      3.585254     26.073559     19.695625     25.889693   \n",
       "min        5.800000     19.000000      7.000000      7.000000      4.000000   \n",
       "25%       13.100000     40.000000     55.000000     19.000000     16.000000   \n",
       "50%       14.100000     43.000000     67.000000     23.000000     21.000000   \n",
       "75%       15.200000     45.000000     82.000000     27.000000     28.000000   \n",
       "max       19.700000     57.000000    729.000000   1672.000000   1997.000000   \n",
       "\n",
       "        Cholesterol    Creatinine           GGT          Iron       Protein  \\\n",
       "count  37079.000000  37079.000000  37079.000000  37079.000000  37079.000000   \n",
       "mean       5.077399     78.632276     29.459667     15.266181     72.050158   \n",
       "std        1.079629     39.157384     43.576787      6.416872      4.967992   \n",
       "min        0.155000     17.700000      3.000000      0.900000     47.000000   \n",
       "25%        4.319000     61.880000     14.000000     10.900000     69.000000   \n",
       "50%        4.991000     73.370000     20.000000     14.500000     72.000000   \n",
       "75%        5.740000     88.400000     31.000000     18.800000     75.000000   \n",
       "max       14.611000   1573.520000   2274.000000     99.800000    113.000000   \n",
       "\n",
       "                HDL  Glycohemoglobin      Diabetes  Blood-Rel-Diabetes  \n",
       "count  37079.000000     37079.000000  37079.000000        37079.000000  \n",
       "mean       1.370344         5.676496      1.869144            1.549502  \n",
       "std        0.415985         1.050223      0.337247            0.497550  \n",
       "min        0.160000         2.000000      1.000000            1.000000  \n",
       "25%        1.070000         5.200000      2.000000            1.000000  \n",
       "50%        1.290000         5.400000      2.000000            2.000000  \n",
       "75%        1.600000         5.800000      2.000000            2.000000  \n",
       "max        5.840000        18.800000      2.000000            2.000000  "
      ]
     },
     "execution_count": 15,
     "metadata": {},
     "output_type": "execute_result"
    }
   ],
   "source": [
    "data.describe()"
   ]
  },
  {
   "cell_type": "code",
   "execution_count": 16,
   "metadata": {},
   "outputs": [
    {
     "data": {
      "text/plain": [
       "count    37079.000000\n",
       "mean         1.869144\n",
       "std          0.337247\n",
       "min          1.000000\n",
       "25%          2.000000\n",
       "50%          2.000000\n",
       "75%          2.000000\n",
       "max          2.000000\n",
       "Name: Diabetes, dtype: float64"
      ]
     },
     "execution_count": 16,
     "metadata": {},
     "output_type": "execute_result"
    }
   ],
   "source": [
    "data['Diabetes'].describe()"
   ]
  },
  {
   "cell_type": "code",
   "execution_count": 17,
   "metadata": {},
   "outputs": [
    {
     "data": {
      "text/plain": [
       "<AxesSubplot:>"
      ]
     },
     "execution_count": 17,
     "metadata": {},
     "output_type": "execute_result"
    },
    {
     "data": {
      "image/png": "[encoded data removed]",
      "text/plain": [
       "<Figure size 432x288 with 1 Axes>"
      ]
     },
     "metadata": {},
     "output_type": "display_data"
    }
   ],
   "source": [
    "data[\"Diabetes\"].value_counts().sort_index().plot.barh()\n"
   ]
  },
  {
   "cell_type": "code",
   "execution_count": 18,
   "metadata": {},
   "outputs": [
    {
     "name": "stdout",
     "output_type": "stream",
     "text": [
      "<class 'pandas.core.frame.DataFrame'>\n",
      "RangeIndex: 37079 entries, 0 to 37078\n",
      "Data columns (total 18 columns):\n",
      " #   Column              Non-Null Count  Dtype  \n",
      "---  ------              --------------  -----  \n",
      " 0   Gender              37079 non-null  int64  \n",
      " 1   Age                 37079 non-null  int64  \n",
      " 2   Weight              37079 non-null  float64\n",
      " 3   Body-Mass-Index     37079 non-null  float64\n",
      " 4   Hemoglobin          37079 non-null  float64\n",
      " 5   Albumin             37079 non-null  int64  \n",
      " 6   ALP                 37079 non-null  int64  \n",
      " 7   AST                 37079 non-null  int64  \n",
      " 8   ALT                 37079 non-null  int64  \n",
      " 9   Cholesterol         37079 non-null  float64\n",
      " 10  Creatinine          37079 non-null  float64\n",
      " 11  GGT                 37079 non-null  int64  \n",
      " 12  Iron                37079 non-null  float64\n",
      " 13  Protein             37079 non-null  float64\n",
      " 14  HDL                 37079 non-null  float64\n",
      " 15  Glycohemoglobin     37079 non-null  float64\n",
      " 16  Diabetes            37079 non-null  int64  \n",
      " 17  Blood-Rel-Diabetes  37079 non-null  int64  \n",
      "dtypes: float64(9), int64(9)\n",
      "memory usage: 5.1 MB\n"
     ]
    }
   ],
   "source": [
    "data.info()"
   ]
  },
  {
   "cell_type": "code",
   "execution_count": 19,
   "metadata": {},
   "outputs": [],
   "source": [
    "data = data.astype(float)\n"
   ]
  },
  {
   "cell_type": "code",
   "execution_count": 20,
   "metadata": {},
   "outputs": [
    {
     "name": "stdout",
     "output_type": "stream",
     "text": [
      "<class 'pandas.core.frame.DataFrame'>\n",
      "RangeIndex: 37079 entries, 0 to 37078\n",
      "Data columns (total 18 columns):\n",
      " #   Column              Non-Null Count  Dtype  \n",
      "---  ------              --------------  -----  \n",
      " 0   Gender              37079 non-null  float64\n",
      " 1   Age                 37079 non-null  float64\n",
      " 2   Weight              37079 non-null  float64\n",
      " 3   Body-Mass-Index     37079 non-null  float64\n",
      " 4   Hemoglobin          37079 non-null  float64\n",
      " 5   Albumin             37079 non-null  float64\n",
      " 6   ALP                 37079 non-null  float64\n",
      " 7   AST                 37079 non-null  float64\n",
      " 8   ALT                 37079 non-null  float64\n",
      " 9   Cholesterol         37079 non-null  float64\n",
      " 10  Creatinine          37079 non-null  float64\n",
      " 11  GGT                 37079 non-null  float64\n",
      " 12  Iron                37079 non-null  float64\n",
      " 13  Protein             37079 non-null  float64\n",
      " 14  HDL                 37079 non-null  float64\n",
      " 15  Glycohemoglobin     37079 non-null  float64\n",
      " 16  Diabetes            37079 non-null  float64\n",
      " 17  Blood-Rel-Diabetes  37079 non-null  float64\n",
      "dtypes: float64(18)\n",
      "memory usage: 5.1 MB\n"
     ]
    }
   ],
   "source": [
    "data.info()"
   ]
  },
  {
   "cell_type": "code",
   "execution_count": 21,
   "metadata": {},
   "outputs": [
    {
     "data": {
      "text/plain": [
       "<AxesSubplot:>"
      ]
     },
     "execution_count": 21,
     "metadata": {},
     "output_type": "execute_result"
    },
    {
     "data": {
      "image/png": "[encoded data removed]",
      "text/plain": [
       "<Figure size 864x576 with 2 Axes>"
      ]
     },
     "metadata": {},
     "output_type": "display_data"
    }
   ],
   "source": [
    "\n",
    "plt.subplots(figsize=(12,8))\n",
    "sns.heatmap(data.corr(),cmap='inferno', annot=True)"
   ]
  },
  {
   "cell_type": "markdown",
   "metadata": {},
   "source": [
    "# Ouliers detection and removal"
   ]
  },
  {
   "cell_type": "code",
   "execution_count": 22,
   "metadata": {},
   "outputs": [
    {
     "data": {
      "text/plain": [
       "(array([ 1,  2,  3,  4,  5,  6,  7,  8,  9, 10, 11, 12, 13, 14, 15, 16, 17,\n",
       "        18]),\n",
       " [Text(1, 0, 'Gender'),\n",
       "  Text(2, 0, 'Age'),\n",
       "  Text(3, 0, 'Weight'),\n",
       "  Text(4, 0, 'Body-Mass-Index'),\n",
       "  Text(5, 0, 'Hemoglobin'),\n",
       "  Text(6, 0, 'Albumin'),\n",
       "  Text(7, 0, 'ALP'),\n",
       "  Text(8, 0, 'AST'),\n",
       "  Text(9, 0, 'ALT'),\n",
       "  Text(10, 0, 'Cholesterol'),\n",
       "  Text(11, 0, 'Creatinine'),\n",
       "  Text(12, 0, 'GGT'),\n",
       "  Text(13, 0, 'Iron'),\n",
       "  Text(14, 0, 'Protein'),\n",
       "  Text(15, 0, 'HDL'),\n",
       "  Text(16, 0, 'Glycohemoglobin'),\n",
       "  Text(17, 0, 'Diabetes'),\n",
       "  Text(18, 0, 'Blood-Rel-Diabetes')])"
      ]
     },
     "execution_count": 22,
     "metadata": {},
     "output_type": "execute_result"
    },
    {
     "data": {
      "image/png": "[encoded data removed]",
      "text/plain": [
       "<Figure size 1800x1080 with 1 Axes>"
      ]
     },
     "metadata": {},
     "output_type": "display_data"
    }
   ],
   "source": [
    "plt.subplots(figsize=(25,15))\n",
    "data.boxplot(patch_artist=True, sym=\"k.\")\n",
    "plt.xticks(rotation=90)"
   ]
  },
  {
   "cell_type": "code",
   "execution_count": 23,
   "metadata": {},
   "outputs": [],
   "source": [
    "minimum = 0\n",
    "maximum = 0\n",
    "\n",
    "def detect_outlier(feature):\n",
    "    first_q = np.percentile(feature, 25)\n",
    "    third_q = np.percentile(feature, 75) \n",
    "    IQR = third_q - first_q\n",
    "    IQR *= 1.5\n",
    "    minimum = first_q - IQR \n",
    "    maximum = third_q + IQR\n",
    "    flag = False\n",
    "    \n",
    "    if(minimum > np.min(feature)):\n",
    "        flag = True\n",
    "    if(maximum < np.max(feature)):\n",
    "        flag = True\n",
    "    \n",
    "    return flag"
   ]
  },
  {
   "cell_type": "code",
   "execution_count": 24,
   "metadata": {},
   "outputs": [],
   "source": [
    "#function to remove outliers\n",
    "\n",
    "def  remove_outlier(feature):\n",
    "    first_q = np.percentile(X[feature], 25)\n",
    "    third_q = np.percentile(X[feature], 75)\n",
    "    IQR = third_q - first_q\n",
    "    IQR *= 1.5\n",
    "    \n",
    "    minimum = first_q - IQR # the acceptable minimum value\n",
    "    maximum = third_q + IQR # the acceptable maximum value\n",
    "    \n",
    "    median = X[feature].median()\n",
    "    \n",
    "    \"\"\"\n",
    "    # any value beyond the acceptance range are considered\n",
    "    as outliers. \n",
    "    # we replace the outliers with the median value of that \n",
    "      feature.\n",
    "    \"\"\"\n",
    "    \n",
    "    X.loc[X[feature] < minimum, feature] = median \n",
    "    X.loc[X[feature] > maximum, feature] = median\n",
    "\n",
    "# taking all the columns except the last one\n",
    "# last column is the label\n",
    "\n",
    "X = data.iloc[:, :-1]\n",
    "for i in range(len(X.columns)): \n",
    "        remove_outlier(X.columns[i])"
   ]
  },
  {
   "cell_type": "code",
   "execution_count": 25,
   "metadata": {},
   "outputs": [],
   "source": [
    "X = data.iloc[:, :-1]\n"
   ]
  },
  {
   "cell_type": "code",
   "execution_count": 26,
   "metadata": {},
   "outputs": [
    {
     "name": "stdout",
     "output_type": "stream",
     "text": [
      "Weight Contains Outlier\n",
      "Body-Mass-Index Contains Outlier\n",
      "Hemoglobin Contains Outlier\n",
      "Albumin Contains Outlier\n",
      "ALP Contains Outlier\n",
      "AST Contains Outlier\n",
      "ALT Contains Outlier\n",
      "Cholesterol Contains Outlier\n",
      "Creatinine Contains Outlier\n",
      "GGT Contains Outlier\n",
      "Iron Contains Outlier\n",
      "Protein Contains Outlier\n",
      "HDL Contains Outlier\n",
      "Glycohemoglobin Contains Outlier\n",
      "Diabetes Contains Outlier\n"
     ]
    }
   ],
   "source": [
    "#printing all features with outliers\n",
    "\n",
    "for i in range(len(X.columns)):\n",
    "    if(detect_outlier(X[X.columns[i]])):\n",
    "        print(X.columns[i], \"Contains Outlier\")"
   ]
  },
  {
   "cell_type": "code",
   "execution_count": 27,
   "metadata": {},
   "outputs": [],
   "source": [
    "for i in range (50):\n",
    "    for i in range(len(X.columns)):\n",
    "        remove_outlier(X.columns[i])"
   ]
  },
  {
   "cell_type": "code",
   "execution_count": 28,
   "metadata": {},
   "outputs": [
    {
     "data": {
      "text/plain": [
       "(array([ 1,  2,  3,  4,  5,  6,  7,  8,  9, 10, 11, 12, 13, 14, 15, 16, 17]),\n",
       " [Text(1, 0, 'Gender'),\n",
       "  Text(2, 0, 'Age'),\n",
       "  Text(3, 0, 'Weight'),\n",
       "  Text(4, 0, 'Body-Mass-Index'),\n",
       "  Text(5, 0, 'Hemoglobin'),\n",
       "  Text(6, 0, 'Albumin'),\n",
       "  Text(7, 0, 'ALP'),\n",
       "  Text(8, 0, 'AST'),\n",
       "  Text(9, 0, 'ALT'),\n",
       "  Text(10, 0, 'Cholesterol'),\n",
       "  Text(11, 0, 'Creatinine'),\n",
       "  Text(12, 0, 'GGT'),\n",
       "  Text(13, 0, 'Iron'),\n",
       "  Text(14, 0, 'Protein'),\n",
       "  Text(15, 0, 'HDL'),\n",
       "  Text(16, 0, 'Glycohemoglobin'),\n",
       "  Text(17, 0, 'Diabetes')])"
      ]
     },
     "execution_count": 28,
     "metadata": {},
     "output_type": "execute_result"
    },
    {
     "data": {
      "image/png": "[encoded data removed]",
      "text/plain": [
       "<Figure size 1080x432 with 1 Axes>"
      ]
     },
     "metadata": {},
     "output_type": "display_data"
    }
   ],
   "source": [
    "plt.subplots(figsize=(15,6))\n",
    "X.boxplot(patch_artist=True, sym=\"k.\")\n",
    "plt.xticks(rotation=90)"
   ]
  },
  {
   "cell_type": "code",
   "execution_count": 29,
   "metadata": {},
   "outputs": [],
   "source": [
    "for i in range(len(X.columns)):\n",
    "    if(detect_outlier(X[X.columns[i]])):\n",
    "        print(X.columns[i], \"Contains Outlier\")"
   ]
  },
  {
   "cell_type": "code",
   "execution_count": 30,
   "metadata": {},
   "outputs": [
    {
     "data": {
      "text/html": [
       "<div>\n",
       "<style scoped>\n",
       "    .dataframe tbody tr th:only-of-type {\n",
       "        vertical-align: middle;\n",
       "    }\n",
       "\n",
       "    .dataframe tbody tr th {\n",
       "        vertical-align: top;\n",
       "    }\n",
       "\n",
       "    .dataframe thead th {\n",
       "        text-align: right;\n",
       "    }\n",
       "</style>\n",
       "<table border=\"1\" class=\"dataframe\">\n",
       "  <thead>\n",
       "    <tr style=\"text-align: right;\">\n",
       "      <th></th>\n",
       "      <th>Gender</th>\n",
       "      <th>Age</th>\n",
       "      <th>Weight</th>\n",
       "      <th>Body-Mass-Index</th>\n",
       "      <th>Hemoglobin</th>\n",
       "      <th>Albumin</th>\n",
       "      <th>ALP</th>\n",
       "      <th>AST</th>\n",
       "      <th>ALT</th>\n",
       "      <th>Cholesterol</th>\n",
       "      <th>Creatinine</th>\n",
       "      <th>GGT</th>\n",
       "      <th>Iron</th>\n",
       "      <th>Protein</th>\n",
       "      <th>HDL</th>\n",
       "      <th>Glycohemoglobin</th>\n",
       "      <th>Diabetes</th>\n",
       "    </tr>\n",
       "  </thead>\n",
       "  <tbody>\n",
       "    <tr>\n",
       "      <th>0</th>\n",
       "      <td>-1.026927</td>\n",
       "      <td>1.557803</td>\n",
       "      <td>-0.200522</td>\n",
       "      <td>-0.594546</td>\n",
       "      <td>-0.057520</td>\n",
       "      <td>0.726296</td>\n",
       "      <td>-0.309102</td>\n",
       "      <td>-0.790869</td>\n",
       "      <td>-0.762329</td>\n",
       "      <td>0.224169</td>\n",
       "      <td>-0.716753</td>\n",
       "      <td>0.401809</td>\n",
       "      <td>-0.630587</td>\n",
       "      <td>-0.000498</td>\n",
       "      <td>0.177571</td>\n",
       "      <td>-2.261760</td>\n",
       "      <td>0.0</td>\n",
       "    </tr>\n",
       "    <tr>\n",
       "      <th>1</th>\n",
       "      <td>-1.026927</td>\n",
       "      <td>0.003128</td>\n",
       "      <td>0.809160</td>\n",
       "      <td>0.228165</td>\n",
       "      <td>0.220450</td>\n",
       "      <td>0.726296</td>\n",
       "      <td>-0.252824</td>\n",
       "      <td>-0.174965</td>\n",
       "      <td>1.256736</td>\n",
       "      <td>2.155224</td>\n",
       "      <td>-0.233379</td>\n",
       "      <td>0.401809</td>\n",
       "      <td>1.813833</td>\n",
       "      <td>0.219406</td>\n",
       "      <td>-0.715435</td>\n",
       "      <td>0.338547</td>\n",
       "      <td>0.0</td>\n",
       "    </tr>\n",
       "    <tr>\n",
       "      <th>2</th>\n",
       "      <td>-1.026927</td>\n",
       "      <td>-0.663161</td>\n",
       "      <td>1.204766</td>\n",
       "      <td>0.525908</td>\n",
       "      <td>1.262840</td>\n",
       "      <td>1.374143</td>\n",
       "      <td>-0.252824</td>\n",
       "      <td>-1.201472</td>\n",
       "      <td>2.434524</td>\n",
       "      <td>-1.140713</td>\n",
       "      <td>0.738864</td>\n",
       "      <td>0.401809</td>\n",
       "      <td>-0.630587</td>\n",
       "      <td>-0.000498</td>\n",
       "      <td>-1.003501</td>\n",
       "      <td>-0.636568</td>\n",
       "      <td>0.0</td>\n",
       "    </tr>\n",
       "    <tr>\n",
       "      <th>3</th>\n",
       "      <td>-1.026927</td>\n",
       "      <td>1.169134</td>\n",
       "      <td>-0.897262</td>\n",
       "      <td>-0.463304</td>\n",
       "      <td>1.818781</td>\n",
       "      <td>-0.893321</td>\n",
       "      <td>1.998322</td>\n",
       "      <td>0.235638</td>\n",
       "      <td>2.434524</td>\n",
       "      <td>-0.037686</td>\n",
       "      <td>-0.716753</td>\n",
       "      <td>1.186672</td>\n",
       "      <td>-0.464676</td>\n",
       "      <td>-1.319924</td>\n",
       "      <td>-0.139302</td>\n",
       "      <td>0.013509</td>\n",
       "      <td>0.0</td>\n",
       "    </tr>\n",
       "    <tr>\n",
       "      <th>4</th>\n",
       "      <td>-1.026927</td>\n",
       "      <td>1.779899</td>\n",
       "      <td>-0.194617</td>\n",
       "      <td>-0.118549</td>\n",
       "      <td>1.679795</td>\n",
       "      <td>0.726296</td>\n",
       "      <td>2.392272</td>\n",
       "      <td>0.030336</td>\n",
       "      <td>-0.425818</td>\n",
       "      <td>-0.614980</td>\n",
       "      <td>0.738864</td>\n",
       "      <td>1.186672</td>\n",
       "      <td>-0.531040</td>\n",
       "      <td>1.538832</td>\n",
       "      <td>-0.830661</td>\n",
       "      <td>1.313662</td>\n",
       "      <td>0.0</td>\n",
       "    </tr>\n",
       "  </tbody>\n",
       "</table>\n",
       "</div>"
      ],
      "text/plain": [
       "     Gender       Age    Weight  Body-Mass-Index  Hemoglobin   Albumin  \\\n",
       "0 -1.026927  1.557803 -0.200522        -0.594546   -0.057520  0.726296   \n",
       "1 -1.026927  0.003128  0.809160         0.228165    0.220450  0.726296   \n",
       "2 -1.026927 -0.663161  1.204766         0.525908    1.262840  1.374143   \n",
       "3 -1.026927  1.169134 -0.897262        -0.463304    1.818781 -0.893321   \n",
       "4 -1.026927  1.779899 -0.194617        -0.118549    1.679795  0.726296   \n",
       "\n",
       "        ALP       AST       ALT  Cholesterol  Creatinine       GGT      Iron  \\\n",
       "0 -0.309102 -0.790869 -0.762329     0.224169   -0.716753  0.401809 -0.630587   \n",
       "1 -0.252824 -0.174965  1.256736     2.155224   -0.233379  0.401809  1.813833   \n",
       "2 -0.252824 -1.201472  2.434524    -1.140713    0.738864  0.401809 -0.630587   \n",
       "3  1.998322  0.235638  2.434524    -0.037686   -0.716753  1.186672 -0.464676   \n",
       "4  2.392272  0.030336 -0.425818    -0.614980    0.738864  1.186672 -0.531040   \n",
       "\n",
       "    Protein       HDL  Glycohemoglobin  Diabetes  \n",
       "0 -0.000498  0.177571        -2.261760       0.0  \n",
       "1  0.219406 -0.715435         0.338547       0.0  \n",
       "2 -0.000498 -1.003501        -0.636568       0.0  \n",
       "3 -1.319924 -0.139302         0.013509       0.0  \n",
       "4  1.538832 -0.830661         1.313662       0.0  "
      ]
     },
     "execution_count": 30,
     "metadata": {},
     "output_type": "execute_result"
    }
   ],
   "source": [
    "#new dataframe with standardize features (by removing the mean and scaling to unit variance)\n",
    "\n",
    "scaler = StandardScaler()\n",
    "scaled_data = scaler.fit_transform(X)\n",
    "scaled_df = pd.DataFrame(data = scaled_data, columns = X.columns)\n",
    "scaled_df.head()\n"
   ]
  },
  {
   "cell_type": "code",
   "execution_count": 31,
   "metadata": {},
   "outputs": [],
   "source": [
    "label = data[\"Diabetes\"]\n"
   ]
  },
  {
   "cell_type": "code",
   "execution_count": 32,
   "metadata": {},
   "outputs": [],
   "source": [
    "encoder = LabelEncoder()\n",
    "label = encoder.fit_transform(label)"
   ]
  },
  {
   "cell_type": "code",
   "execution_count": 33,
   "metadata": {},
   "outputs": [],
   "source": [
    "X = scaled_df\n",
    "y = label \n",
    "\n",
    "X_train, X_test, y_train, y_test = train_test_split(X, y, test_size=0.2, random_state=420)"
   ]
  },
  {
   "cell_type": "code",
   "execution_count": 34,
   "metadata": {},
   "outputs": [
    {
     "name": "stdout",
     "output_type": "stream",
     "text": [
      "(29663, 17) (7416,)\n",
      "(29663,) (7416,)\n"
     ]
    }
   ],
   "source": [
    "print(X_train.shape, y_test.shape)\n",
    "print(y_train.shape, y_test.shape)"
   ]
  },
  {
   "cell_type": "code",
   "execution_count": 35,
   "metadata": {},
   "outputs": [
    {
     "name": "stderr",
     "output_type": "stream",
     "text": [
      "C:\\Users\\Eigenaar\\AppData\\Roaming\\Python\\Python39\\site-packages\\sklearn\\feature_selection\\_univariate_selection.py:112: UserWarning: Features [16] are constant.\n",
      "  warnings.warn(\"Features %s are constant.\" % constant_features_idx, UserWarning)\n",
      "C:\\Users\\Eigenaar\\AppData\\Roaming\\Python\\Python39\\site-packages\\sklearn\\feature_selection\\_univariate_selection.py:113: RuntimeWarning: invalid value encountered in true_divide\n",
      "  f = msb / msw\n"
     ]
    }
   ],
   "source": [
    "from sklearn.feature_selection import SelectKBest\n",
    "from sklearn.feature_selection import f_classif\n",
    "\n",
    "xnew2=SelectKBest(f_classif, k=(len(data.columns)-5)).fit_transform(X, y)  #choosing k=n-5 because it has to be a bit less than total number of features. Originally k=20 out of 25 features"
   ]
  },
  {
   "cell_type": "code",
   "execution_count": 83,
   "metadata": {},
   "outputs": [
    {
     "name": "stdout",
     "output_type": "stream",
     "text": [
      "Feature importance based on their ANOVA F-score: \n",
      "            Features     F_Scores\n",
      "1               Age  2686.409705\n",
      "3   Body-Mass-Index  1000.670115\n",
      "2            Weight   526.900940\n",
      "5           Albumin   525.811066\n",
      "15  Glycohemoglobin   477.417483\n",
      "14              HDL   378.750379\n",
      "9       Cholesterol   334.923024\n",
      "11              GGT   305.472574\n",
      "4        Hemoglobin   271.220818\n",
      "12             Iron   211.216877\n",
      "6               ALP   156.172300\n",
      "10       Creatinine   102.880413\n",
      "8               ALT    27.645892\n",
      "7               AST    22.682305\n",
      "0            Gender    12.219556\n",
      "13          Protein     8.581358\n",
      "16         Diabetes          NaN\n"
     ]
    },
    {
     "name": "stderr",
     "output_type": "stream",
     "text": [
      "C:\\Users\\Eigenaar\\AppData\\Roaming\\Python\\Python39\\site-packages\\sklearn\\feature_selection\\_univariate_selection.py:112: UserWarning:\n",
      "\n",
      "Features [16] are constant.\n",
      "\n",
      "C:\\Users\\Eigenaar\\AppData\\Roaming\\Python\\Python39\\site-packages\\sklearn\\feature_selection\\_univariate_selection.py:113: RuntimeWarning:\n",
      "\n",
      "invalid value encountered in true_divide\n",
      "\n"
     ]
    }
   ],
   "source": [
    " import sklearn.feature_selection as fs\n",
    " import matplotlib.pyplot as plt\n",
    " df2 = fs.SelectKBest(k='all')\n",
    "\n",
    " df2.fit(X, y)\n",
    "\n",
    " names = X.columns.values[df2.get_support()]\n",
    "\n",
    " scores = df2.scores_[df2.get_support()]\n",
    "\n",
    " names_scores = list(zip(names, scores))\n",
    "\n",
    " ns_df = pd.DataFrame(data = names_scores, columns=['Features','F_Scores'])\n",
    "\n",
    " ns_df_sorted = ns_df.sort_values(['F_Scores','Features'], ascending =[False, True])\n",
    "\n",
    " print('Feature importance based on their ANOVA F-score: \\n', ns_df_sorted)"
   ]
  },
  {
   "cell_type": "code",
   "execution_count": 37,
   "metadata": {},
   "outputs": [],
   "source": [
    "#import statsmodels.api as sm\n",
    "#import pandas\n",
    "#from patsy import dmatrices\n",
    "#logit_model = sm.OLS(y_train, X_train)\n",
    "#result = logit_model.fit()\n",
    "#print(result.summary2())"
   ]
  },
  {
   "cell_type": "code",
   "execution_count": 38,
   "metadata": {},
   "outputs": [],
   "source": [
    "#np.exp(result.params)\n"
   ]
  },
  {
   "cell_type": "code",
   "execution_count": 39,
   "metadata": {},
   "outputs": [],
   "source": [
    "#params = result.params\n",
    "#conf = result.conf_int()\n",
    "#conf['Odds Ratio'] = params.sort_index()\n",
    "#conf.columns = ['5%', '95%', 'Odds Ratio']\n",
    "#print(np.exp(conf))"
   ]
  },
  {
   "cell_type": "code",
   "execution_count": 40,
   "metadata": {},
   "outputs": [],
   "source": [
    "#result.pvalues.sort_values()\n"
   ]
  },
  {
   "cell_type": "code",
   "execution_count": 41,
   "metadata": {},
   "outputs": [],
   "source": [
    "#from sklearn.utils import class_weight\n",
    "#class_weights = class_weight.compute_class_weight('balanced',\n",
    "                                                # np.unique(y_train),\n",
    "                                                # y_train)\n",
    "#model.fit(X_train, y_train, class_weight=class_weights)\n"
   ]
  },
  {
   "cell_type": "code",
   "execution_count": 42,
   "metadata": {},
   "outputs": [
    {
     "name": "stdout",
     "output_type": "stream",
     "text": [
      "Best parameters : {'class_weight': {0: 0.47631578947368414, 1: 0.5236842105263159}}\n"
     ]
    },
    {
     "data": {
      "text/plain": [
       "<AxesSubplot:xlabel='weight'>"
      ]
     },
     "execution_count": 42,
     "metadata": {},
     "output_type": "execute_result"
    },
    {
     "data": {
      "image/png": "[encoded data removed]",
      "text/plain": [
       "<Figure size 432x288 with 1 Axes>"
      ]
     },
     "metadata": {},
     "output_type": "display_data"
    }
   ],
   "source": [
    "from sklearn.model_selection import GridSearchCV\n",
    "\n",
    "weights = np.linspace(0.05, 0.95, 20)\n",
    "\n",
    "gsc = GridSearchCV(\n",
    "    estimator=LogisticRegression(),\n",
    "    param_grid={\n",
    "        'class_weight': [{0: x, 1: 1.0-x} for x in weights]\n",
    "    },\n",
    "    scoring='accuracy',\n",
    "    cv=15\n",
    ")\n",
    "grid_result = gsc.fit(X, y)\n",
    "\n",
    "print(\"Best parameters : %s\" % grid_result.best_params_)\n",
    "\n",
    "# Plot the weights vs f1 score\n",
    "dataz = pd.DataFrame({ 'score': grid_result.cv_results_['mean_test_score'],\n",
    "                       'weight': weights })\n",
    "dataz.plot(x='weight')"
   ]
  },
  {
   "cell_type": "code",
   "execution_count": 43,
   "metadata": {},
   "outputs": [],
   "source": [
    "class_weight = {0: 0.5236842105263158,\n",
    "                1: 0.47631578947368425}"
   ]
  },
  {
   "cell_type": "markdown",
   "metadata": {},
   "source": [
    "LR"
   ]
  },
  {
   "cell_type": "code",
   "execution_count": 44,
   "metadata": {},
   "outputs": [
    {
     "data": {
      "text/plain": [
       "\"\\nfrom sklearn.linear_model import LogisticRegression\\nfrom sklearn.metrics import confusion_matrix, classification_report\\nfrom mlxtend.plotting import plot_decision_regions, plot_confusion_matrix\\nfrom matplotlib import pyplot as plt\\nlr = LogisticRegression(class_weight='balanced',random_state=420)\\n\\n# Fit..\\nlr.fit(X_train, y_train)\\n\\n# Predict..\\ny_pred = lr.predict(X_test)\\n\\n# Evaluate the model\\nprint(classification_report(y_test, y_pred))\\nplot_confusion_matrix(confusion_matrix(y_test, y_pred))\\nfrom sklearn.metrics import roc_curve, auc\\nfalse_positive_rate, true_positive_rate, thresholds = roc_curve(y_test, y_pred)\\nroc_auc = auc(false_positive_rate, true_positive_rate)\\nroc_auc\\n\""
      ]
     },
     "execution_count": 44,
     "metadata": {},
     "output_type": "execute_result"
    }
   ],
   "source": [
    "'''\n",
    "from sklearn.linear_model import LogisticRegression\n",
    "from sklearn.metrics import confusion_matrix, classification_report\n",
    "from mlxtend.plotting import plot_decision_regions, plot_confusion_matrix\n",
    "from matplotlib import pyplot as plt\n",
    "lr = LogisticRegression(class_weight='balanced',random_state=420)\n",
    "\n",
    "# Fit..\n",
    "lr.fit(X_train, y_train)\n",
    "\n",
    "# Predict..\n",
    "y_pred = lr.predict(X_test)\n",
    "\n",
    "# Evaluate the model\n",
    "print(classification_report(y_test, y_pred))\n",
    "plot_confusion_matrix(confusion_matrix(y_test, y_pred))\n",
    "from sklearn.metrics import roc_curve, auc\n",
    "false_positive_rate, true_positive_rate, thresholds = roc_curve(y_test, y_pred)\n",
    "roc_auc = auc(false_positive_rate, true_positive_rate)\n",
    "roc_auc\n",
    "'''"
   ]
  },
  {
   "cell_type": "code",
   "execution_count": 45,
   "metadata": {},
   "outputs": [
    {
     "data": {
      "text/plain": [
       "'\\nfrom sklearn.svm import SVC\\n\\nclf_svc_rbf = SVC(kernel=\"rbf\",class_weight=\\'balanced\\',random_state=4200)\\nclf_svc_rbf.fit(X_train,y_train)\\ny_pred_clf_svc_rbf = clf_svc_rbf.predict(X_test)\\n\\n\\nimport matplotlib.pyplot as plt\\ncm = confusion_matrix(y_test,y_pred_clf_svc_rbf)\\n\\n#plt.figure(figsize=(5,5))\\n#sns.heatmap(cm,annot=True)\\n#plt.show()\\n\\n#print(classification_report(y_test,y_pred_clf_svc_rbf))\\n\\nprint(classification_report(y_test, y_pred_clf_svc_rbf))\\nplot_confusion_matrix(confusion_matrix(y_test, y_pred_clf_svc_rbf))\\n\\nfrom sklearn.metrics import roc_curve, auc\\nfalse_positive_rate, true_positive_rate, thresholds = roc_curve(y_test, y_pred_clf_svc_rbf)\\nroc_auc = auc(false_positive_rate, true_positive_rate)\\nroc_auc\\n'"
      ]
     },
     "execution_count": 45,
     "metadata": {},
     "output_type": "execute_result"
    }
   ],
   "source": [
    "'''\n",
    "from sklearn.svm import SVC\n",
    "\n",
    "clf_svc_rbf = SVC(kernel=\"rbf\",class_weight='balanced',random_state=4200)\n",
    "clf_svc_rbf.fit(X_train,y_train)\n",
    "y_pred_clf_svc_rbf = clf_svc_rbf.predict(X_test)\n",
    "\n",
    "\n",
    "import matplotlib.pyplot as plt\n",
    "cm = confusion_matrix(y_test,y_pred_clf_svc_rbf)\n",
    "\n",
    "#plt.figure(figsize=(5,5))\n",
    "#sns.heatmap(cm,annot=True)\n",
    "#plt.show()\n",
    "\n",
    "#print(classification_report(y_test,y_pred_clf_svc_rbf))\n",
    "\n",
    "print(classification_report(y_test, y_pred_clf_svc_rbf))\n",
    "plot_confusion_matrix(confusion_matrix(y_test, y_pred_clf_svc_rbf))\n",
    "\n",
    "from sklearn.metrics import roc_curve, auc\n",
    "false_positive_rate, true_positive_rate, thresholds = roc_curve(y_test, y_pred_clf_svc_rbf)\n",
    "roc_auc = auc(false_positive_rate, true_positive_rate)\n",
    "roc_auc\n",
    "'''"
   ]
  },
  {
   "cell_type": "code",
   "execution_count": 46,
   "metadata": {},
   "outputs": [
    {
     "name": "stdout",
     "output_type": "stream",
     "text": [
      "              precision    recall  f1-score   support\n",
      "\n",
      "           0       0.62      0.26      0.37       951\n",
      "           1       0.90      0.98      0.94      6465\n",
      "\n",
      "    accuracy                           0.88      7416\n",
      "   macro avg       0.76      0.62      0.65      7416\n",
      "weighted avg       0.86      0.88      0.86      7416\n",
      "\n"
     ]
    },
    {
     "data": {
      "text/plain": [
       "0.6198240464915427"
      ]
     },
     "execution_count": 46,
     "metadata": {},
     "output_type": "execute_result"
    },
    {
     "data": {
      "image/png": "[encoded data removed]",
      "text/plain": [
       "<Figure size 432x288 with 2 Axes>"
      ]
     },
     "metadata": {},
     "output_type": "display_data"
    }
   ],
   "source": [
    "\n",
    "from sklearn.ensemble import RandomForestClassifier\n",
    "from sklearn.metrics import classification_report\n",
    "from sklearn.metrics import confusion_matrix, ConfusionMatrixDisplay\n",
    "\n",
    "rd = RandomForestClassifier(class_weight='balanced',random_state=4200)\n",
    "rd.fit(X_train,y_train)\n",
    "y_pred_rd = rd.predict(X_test)\n",
    "\n",
    "\n",
    "import matplotlib.pyplot as plt\n",
    "cm = confusion_matrix(y_test,y_pred_rd)\n",
    "\n",
    "#plt.figure(figsize=(5,5))\n",
    "#sns.heatmap(cm,annot=True,linewidths=.3)\n",
    "#plt.show()\n",
    "\n",
    "print(classification_report(y_test,y_pred_rd))\n",
    "ConfusionMatrixDisplay.from_predictions(y_test,y_pred_rd)  #added by Elena because of confusion matrix error \n",
    "\n",
    "\n",
    "from sklearn.metrics import roc_curve, auc\n",
    "false_positive_rate, true_positive_rate, thresholds = roc_curve(y_test, y_pred_rd)\n",
    "roc_auc = auc(false_positive_rate, true_positive_rate)\n",
    "roc_auc\n"
   ]
  },
  {
   "cell_type": "code",
   "execution_count": 47,
   "metadata": {},
   "outputs": [],
   "source": [
    "#CV appraoach"
   ]
  },
  {
   "cell_type": "markdown",
   "metadata": {},
   "source": [
    "# Methods"
   ]
  },
  {
   "cell_type": "markdown",
   "metadata": {},
   "source": [
    "## SVM (Support Vector Machine)"
   ]
  },
  {
   "cell_type": "code",
   "execution_count": 48,
   "metadata": {},
   "outputs": [
    {
     "name": "stdout",
     "output_type": "stream",
     "text": [
      "Accuracy: 0.8739 (0.0035)\n"
     ]
    },
    {
     "data": {
      "text/plain": [
       "array([0.87607875, 0.87351672, 0.87378641, 0.87648328, 0.87001079,\n",
       "       0.87729234, 0.86731392, 0.87419094, 0.87068501, 0.87918015])"
      ]
     },
     "execution_count": 48,
     "metadata": {},
     "output_type": "execute_result"
    }
   ],
   "source": [
    "\n",
    "# evaluate a logistic regression model using k-fold cross-validation\n",
    "from numpy import mean\n",
    "from numpy import std\n",
    "from sklearn.model_selection import KFold\n",
    "from sklearn.model_selection import cross_val_score\n",
    "from sklearn.model_selection import ShuffleSplit\n",
    "\n",
    "from sklearn.linear_model import LogisticRegression\n",
    "# create dataset\n",
    "#X, y = make_classification(n_samples=1000, n_features=20, n_informative=15, n_redundant=5, random_state=1)\n",
    "# prepare the cross-validation procedure\n",
    "#cv = KFold(n_splits=5, test_size= 0.2, random_state=0)\n",
    "cv = ShuffleSplit(n_splits=10, test_size=0.2, random_state=42)\n",
    "# create model\n",
    "model = SVC(kernel='rbf', C=1, class_weight=class_weight)\n",
    "# evaluate model\n",
    "scores = cross_val_score(model, X, y, scoring='accuracy', cv=cv, n_jobs=-1)\n",
    "# report performance\n",
    "print('Accuracy: %.4f (%.4f)' % (mean(scores), std(scores)))\n",
    "scores"
   ]
  },
  {
   "cell_type": "code",
   "execution_count": 96,
   "metadata": {},
   "outputs": [
    {
     "ename": "KeyboardInterrupt",
     "evalue": "",
     "output_type": "error",
     "traceback": [
      "\u001b[1;31m---------------------------------------------------------------------------\u001b[0m",
      "\u001b[1;31mKeyboardInterrupt\u001b[0m                         Traceback (most recent call last)",
      "\u001b[1;32mc:\\Users\\Eigenaar\\Documents\\GitHub\\Diabetic_study\\common_features_Diabetics Prediction (ML) CV=10 - WIP.ipynb Cell 55\u001b[0m in \u001b[0;36m<cell line: 24>\u001b[1;34m()\u001b[0m\n\u001b[0;32m     <a href='vscode-notebook-cell:/c%3A/Users/Eigenaar/Documents/GitHub/Diabetic_study/common_features_Diabetics%20Prediction%20%28ML%29%20CV%3D10%20-%20WIP.ipynb#Y103sZmlsZQ%3D%3D?line=22'>23</a>\u001b[0m fig, ax \u001b[39m=\u001b[39m plt\u001b[39m.\u001b[39msubplots()\n\u001b[0;32m     <a href='vscode-notebook-cell:/c%3A/Users/Eigenaar/Documents/GitHub/Diabetic_study/common_features_Diabetics%20Prediction%20%28ML%29%20CV%3D10%20-%20WIP.ipynb#Y103sZmlsZQ%3D%3D?line=23'>24</a>\u001b[0m \u001b[39mfor\u001b[39;00m i, (train, test) \u001b[39min\u001b[39;00m \u001b[39menumerate\u001b[39m(cv\u001b[39m.\u001b[39msplit(X, y)):\n\u001b[1;32m---> <a href='vscode-notebook-cell:/c%3A/Users/Eigenaar/Documents/GitHub/Diabetic_study/common_features_Diabetics%20Prediction%20%28ML%29%20CV%3D10%20-%20WIP.ipynb#Y103sZmlsZQ%3D%3D?line=24'>25</a>\u001b[0m     classifier\u001b[39m.\u001b[39;49mfit(X, y)\n\u001b[0;32m     <a href='vscode-notebook-cell:/c%3A/Users/Eigenaar/Documents/GitHub/Diabetic_study/common_features_Diabetics%20Prediction%20%28ML%29%20CV%3D10%20-%20WIP.ipynb#Y103sZmlsZQ%3D%3D?line=25'>26</a>\u001b[0m     viz \u001b[39m=\u001b[39m plot_roc_curve(classifier, X, y,\n\u001b[0;32m     <a href='vscode-notebook-cell:/c%3A/Users/Eigenaar/Documents/GitHub/Diabetic_study/common_features_Diabetics%20Prediction%20%28ML%29%20CV%3D10%20-%20WIP.ipynb#Y103sZmlsZQ%3D%3D?line=26'>27</a>\u001b[0m                          name\u001b[39m=\u001b[39m\u001b[39m'\u001b[39m\u001b[39mROC fold \u001b[39m\u001b[39m{}\u001b[39;00m\u001b[39m'\u001b[39m\u001b[39m.\u001b[39mformat(i),\n\u001b[0;32m     <a href='vscode-notebook-cell:/c%3A/Users/Eigenaar/Documents/GitHub/Diabetic_study/common_features_Diabetics%20Prediction%20%28ML%29%20CV%3D10%20-%20WIP.ipynb#Y103sZmlsZQ%3D%3D?line=27'>28</a>\u001b[0m                          alpha\u001b[39m=\u001b[39m\u001b[39m0.3\u001b[39m, lw\u001b[39m=\u001b[39m\u001b[39m1\u001b[39m, ax\u001b[39m=\u001b[39max)\n\u001b[0;32m     <a href='vscode-notebook-cell:/c%3A/Users/Eigenaar/Documents/GitHub/Diabetic_study/common_features_Diabetics%20Prediction%20%28ML%29%20CV%3D10%20-%20WIP.ipynb#Y103sZmlsZQ%3D%3D?line=28'>29</a>\u001b[0m     interp_tpr \u001b[39m=\u001b[39m np\u001b[39m.\u001b[39minterp(mean_fpr, viz\u001b[39m.\u001b[39mfpr, viz\u001b[39m.\u001b[39mtpr)\n",
      "File \u001b[1;32m~\\AppData\\Roaming\\Python\\Python39\\site-packages\\sklearn\\svm\\_base.py:255\u001b[0m, in \u001b[0;36mBaseLibSVM.fit\u001b[1;34m(self, X, y, sample_weight)\u001b[0m\n\u001b[0;32m    252\u001b[0m     \u001b[39mprint\u001b[39m(\u001b[39m\"\u001b[39m\u001b[39m[LibSVM]\u001b[39m\u001b[39m\"\u001b[39m, end\u001b[39m=\u001b[39m\u001b[39m\"\u001b[39m\u001b[39m\"\u001b[39m)\n\u001b[0;32m    254\u001b[0m seed \u001b[39m=\u001b[39m rnd\u001b[39m.\u001b[39mrandint(np\u001b[39m.\u001b[39miinfo(\u001b[39m\"\u001b[39m\u001b[39mi\u001b[39m\u001b[39m\"\u001b[39m)\u001b[39m.\u001b[39mmax)\n\u001b[1;32m--> 255\u001b[0m fit(X, y, sample_weight, solver_type, kernel, random_seed\u001b[39m=\u001b[39;49mseed)\n\u001b[0;32m    256\u001b[0m \u001b[39m# see comment on the other call to np.iinfo in this file\u001b[39;00m\n\u001b[0;32m    258\u001b[0m \u001b[39mself\u001b[39m\u001b[39m.\u001b[39mshape_fit_ \u001b[39m=\u001b[39m X\u001b[39m.\u001b[39mshape \u001b[39mif\u001b[39;00m \u001b[39mhasattr\u001b[39m(X, \u001b[39m\"\u001b[39m\u001b[39mshape\u001b[39m\u001b[39m\"\u001b[39m) \u001b[39melse\u001b[39;00m (n_samples,)\n",
      "File \u001b[1;32m~\\AppData\\Roaming\\Python\\Python39\\site-packages\\sklearn\\svm\\_base.py:315\u001b[0m, in \u001b[0;36mBaseLibSVM._dense_fit\u001b[1;34m(self, X, y, sample_weight, solver_type, kernel, random_seed)\u001b[0m\n\u001b[0;32m    302\u001b[0m libsvm\u001b[39m.\u001b[39mset_verbosity_wrap(\u001b[39mself\u001b[39m\u001b[39m.\u001b[39mverbose)\n\u001b[0;32m    304\u001b[0m \u001b[39m# we don't pass **self.get_params() to allow subclasses to\u001b[39;00m\n\u001b[0;32m    305\u001b[0m \u001b[39m# add other parameters to __init__\u001b[39;00m\n\u001b[0;32m    306\u001b[0m (\n\u001b[0;32m    307\u001b[0m     \u001b[39mself\u001b[39m\u001b[39m.\u001b[39msupport_,\n\u001b[0;32m    308\u001b[0m     \u001b[39mself\u001b[39m\u001b[39m.\u001b[39msupport_vectors_,\n\u001b[0;32m    309\u001b[0m     \u001b[39mself\u001b[39m\u001b[39m.\u001b[39m_n_support,\n\u001b[0;32m    310\u001b[0m     \u001b[39mself\u001b[39m\u001b[39m.\u001b[39mdual_coef_,\n\u001b[0;32m    311\u001b[0m     \u001b[39mself\u001b[39m\u001b[39m.\u001b[39mintercept_,\n\u001b[0;32m    312\u001b[0m     \u001b[39mself\u001b[39m\u001b[39m.\u001b[39m_probA,\n\u001b[0;32m    313\u001b[0m     \u001b[39mself\u001b[39m\u001b[39m.\u001b[39m_probB,\n\u001b[0;32m    314\u001b[0m     \u001b[39mself\u001b[39m\u001b[39m.\u001b[39mfit_status_,\n\u001b[1;32m--> 315\u001b[0m ) \u001b[39m=\u001b[39m libsvm\u001b[39m.\u001b[39;49mfit(\n\u001b[0;32m    316\u001b[0m     X,\n\u001b[0;32m    317\u001b[0m     y,\n\u001b[0;32m    318\u001b[0m     svm_type\u001b[39m=\u001b[39;49msolver_type,\n\u001b[0;32m    319\u001b[0m     sample_weight\u001b[39m=\u001b[39;49msample_weight,\n\u001b[0;32m    320\u001b[0m     class_weight\u001b[39m=\u001b[39;49m\u001b[39mself\u001b[39;49m\u001b[39m.\u001b[39;49mclass_weight_,\n\u001b[0;32m    321\u001b[0m     kernel\u001b[39m=\u001b[39;49mkernel,\n\u001b[0;32m    322\u001b[0m     C\u001b[39m=\u001b[39;49m\u001b[39mself\u001b[39;49m\u001b[39m.\u001b[39;49mC,\n\u001b[0;32m    323\u001b[0m     nu\u001b[39m=\u001b[39;49m\u001b[39mself\u001b[39;49m\u001b[39m.\u001b[39;49mnu,\n\u001b[0;32m    324\u001b[0m     probability\u001b[39m=\u001b[39;49m\u001b[39mself\u001b[39;49m\u001b[39m.\u001b[39;49mprobability,\n\u001b[0;32m    325\u001b[0m     degree\u001b[39m=\u001b[39;49m\u001b[39mself\u001b[39;49m\u001b[39m.\u001b[39;49mdegree,\n\u001b[0;32m    326\u001b[0m     shrinking\u001b[39m=\u001b[39;49m\u001b[39mself\u001b[39;49m\u001b[39m.\u001b[39;49mshrinking,\n\u001b[0;32m    327\u001b[0m     tol\u001b[39m=\u001b[39;49m\u001b[39mself\u001b[39;49m\u001b[39m.\u001b[39;49mtol,\n\u001b[0;32m    328\u001b[0m     cache_size\u001b[39m=\u001b[39;49m\u001b[39mself\u001b[39;49m\u001b[39m.\u001b[39;49mcache_size,\n\u001b[0;32m    329\u001b[0m     coef0\u001b[39m=\u001b[39;49m\u001b[39mself\u001b[39;49m\u001b[39m.\u001b[39;49mcoef0,\n\u001b[0;32m    330\u001b[0m     gamma\u001b[39m=\u001b[39;49m\u001b[39mself\u001b[39;49m\u001b[39m.\u001b[39;49m_gamma,\n\u001b[0;32m    331\u001b[0m     epsilon\u001b[39m=\u001b[39;49m\u001b[39mself\u001b[39;49m\u001b[39m.\u001b[39;49mepsilon,\n\u001b[0;32m    332\u001b[0m     max_iter\u001b[39m=\u001b[39;49m\u001b[39mself\u001b[39;49m\u001b[39m.\u001b[39;49mmax_iter,\n\u001b[0;32m    333\u001b[0m     random_seed\u001b[39m=\u001b[39;49mrandom_seed,\n\u001b[0;32m    334\u001b[0m )\n\u001b[0;32m    336\u001b[0m \u001b[39mself\u001b[39m\u001b[39m.\u001b[39m_warn_from_fit_status()\n",
      "\u001b[1;31mKeyboardInterrupt\u001b[0m: "
     ]
    },
    {
     "data": {
      "image/png": "[encoded data removed]",
      "text/plain": [
       "<Figure size 432x288 with 1 Axes>"
      ]
     },
     "metadata": {},
     "output_type": "display_data"
    }
   ],
   "source": [
    "import numpy as np\n",
    "import matplotlib.pyplot as plt\n",
    "\n",
    "from sklearn import svm, datasets\n",
    "from sklearn.metrics import auc\n",
    "from sklearn.metrics import plot_roc_curve\n",
    "from sklearn.model_selection import StratifiedKFold\n",
    "\n",
    "\n",
    "\n",
    "# #############################################################################\n",
    "# Classification and ROC analysis\n",
    "\n",
    "# Run classifier with cross-validation and plot ROC curves\n",
    "cv = ShuffleSplit(n_splits=10, test_size=0.2, random_state=42)\n",
    "classifier = svm.SVC(kernel='rbf', probability=True, class_weight=class_weight,\n",
    "                     random_state=42)\n",
    "\n",
    "tprs = []\n",
    "aucs = []\n",
    "mean_fpr = np.linspace(0, 1, 100)\n",
    "\n",
    "fig, ax = plt.subplots()\n",
    "for i, (train, test) in enumerate(cv.split(X, y)):\n",
    "    classifier.fit(X, y)\n",
    "    viz = plot_roc_curve(classifier, X, y,\n",
    "                         name='ROC fold {}'.format(i),\n",
    "                         alpha=0.3, lw=1, ax=ax)\n",
    "    interp_tpr = np.interp(mean_fpr, viz.fpr, viz.tpr)\n",
    "    interp_tpr[0] = 0.0\n",
    "    tprs.append(interp_tpr)\n",
    "    aucs.append(viz.roc_auc)\n",
    "\n",
    "ax.plot([0, 1], [0, 1], linestyle='--', lw=2, color='r',\n",
    "        label='Chance', alpha=.8)\n",
    "\n",
    "mean_tpr = np.mean(tprs, axis=0)\n",
    "mean_tpr[-1] = 1.0\n",
    "mean_auc = auc(mean_fpr, mean_tpr)\n",
    "std_auc = np.std(aucs)\n",
    "ax.plot(mean_fpr, mean_tpr, color='b',\n",
    "        label=r'Mean ROC (AUC = %0.4f $\\pm$ %0.4f)' % (mean_auc, std_auc),\n",
    "        lw=2, alpha=.8)\n",
    "\n",
    "std_tpr = np.std(tprs, axis=0)\n",
    "tprs_upper = np.minimum(mean_tpr + std_tpr, 1)\n",
    "tprs_lower = np.maximum(mean_tpr - std_tpr, 0)\n",
    "ax.fill_between(mean_fpr, tprs_lower, tprs_upper, color='grey', alpha=.2,\n",
    "                label=r'$\\pm$ 1 std. dev.')\n",
    "\n",
    "ax.set(xlim=[-0.05, 1.05], ylim=[-0.05, 1.05],\n",
    "       title=\"Receiver operating characteristic\")\n",
    "ax.legend(loc=\"lower right\")\n",
    "plt.show()\n",
    "\n",
    "\n"
   ]
  },
  {
   "cell_type": "code",
   "execution_count": null,
   "metadata": {},
   "outputs": [],
   "source": [
    "#confusion matrix (added by Elena)\n",
    "conf_matrix = confusion_matrix(y_test, y_pred)\n",
    "\n",
    "# Print the confusion matrix using Matplotlib\n",
    "#\n",
    "fig, ax = plt.subplots(figsize=(5, 5))\n",
    "ax.matshow(conf_matrix, cmap=plt.cm.Oranges, alpha=0.3)\n",
    "for i in range(conf_matrix.shape[0]):\n",
    "    for j in range(conf_matrix.shape[1]):\n",
    "        ax.text(x=j, y=i,s=conf_matrix[i, j], va='center', ha='center', size='xx-large')\n",
    " \n",
    "plt.xlabel('Predictions', fontsize=18)\n",
    "plt.ylabel('Actuals', fontsize=18)\n",
    "plt.title('Confusion Matrix', fontsize=18)\n",
    "plt.show()"
   ]
  },
  {
   "cell_type": "markdown",
   "metadata": {},
   "source": [
    "# LR (Logistic Regression)"
   ]
  },
  {
   "cell_type": "code",
   "execution_count": 50,
   "metadata": {},
   "outputs": [
    {
     "name": "stdout",
     "output_type": "stream",
     "text": [
      "Accuracy: 0.8693 (0.0040)\n"
     ]
    },
    {
     "data": {
      "text/plain": [
       "array([0.87243797, 0.87041532, 0.86771845, 0.87068501, 0.86380798,\n",
       "       0.8718986 , 0.8613808 , 0.87176375, 0.86717907, 0.87540453])"
      ]
     },
     "execution_count": 50,
     "metadata": {},
     "output_type": "execute_result"
    }
   ],
   "source": [
    "from numpy import mean\n",
    "from numpy import std\n",
    "from sklearn.model_selection import KFold\n",
    "from sklearn.model_selection import cross_val_score\n",
    "from sklearn.model_selection import ShuffleSplit\n",
    "\n",
    "from sklearn.linear_model import LogisticRegression\n",
    "# create dataset\n",
    "#X, y = make_classification(n_samples=1000, n_features=20, n_informative=15, n_redundant=5, random_state=1)\n",
    "# prepare the cross-validation procedure\n",
    "#cv = KFold(n_splits=5, test_size= 0.2, random_state=0)\n",
    "cv = ShuffleSplit(n_splits=10, test_size=0.2, random_state=42)\n",
    "# create model\n",
    "model = LogisticRegression(class_weight=class_weight)\n",
    "# evaluate model\n",
    "scores = cross_val_score(model, X, y, scoring='accuracy', cv=cv, n_jobs=-1)\n",
    "# report performance\n",
    "print('Accuracy: %.4f (%.4f)' % (mean(scores), std(scores)))\n",
    "scores"
   ]
  },
  {
   "cell_type": "code",
   "execution_count": 51,
   "metadata": {},
   "outputs": [
    {
     "name": "stderr",
     "output_type": "stream",
     "text": [
      "C:\\Users\\Eigenaar\\AppData\\Roaming\\Python\\Python39\\site-packages\\sklearn\\utils\\deprecation.py:87: FutureWarning: Function plot_roc_curve is deprecated; Function :func:`plot_roc_curve` is deprecated in 1.0 and will be removed in 1.2. Use one of the class methods: :meth:`sklearn.metric.RocCurveDisplay.from_predictions` or :meth:`sklearn.metric.RocCurveDisplay.from_estimator`.\n",
      "  warnings.warn(msg, category=FutureWarning)\n",
      "C:\\Users\\Eigenaar\\AppData\\Roaming\\Python\\Python39\\site-packages\\sklearn\\utils\\deprecation.py:87: FutureWarning: Function plot_roc_curve is deprecated; Function :func:`plot_roc_curve` is deprecated in 1.0 and will be removed in 1.2. Use one of the class methods: :meth:`sklearn.metric.RocCurveDisplay.from_predictions` or :meth:`sklearn.metric.RocCurveDisplay.from_estimator`.\n",
      "  warnings.warn(msg, category=FutureWarning)\n",
      "C:\\Users\\Eigenaar\\AppData\\Roaming\\Python\\Python39\\site-packages\\sklearn\\utils\\deprecation.py:87: FutureWarning: Function plot_roc_curve is deprecated; Function :func:`plot_roc_curve` is deprecated in 1.0 and will be removed in 1.2. Use one of the class methods: :meth:`sklearn.metric.RocCurveDisplay.from_predictions` or :meth:`sklearn.metric.RocCurveDisplay.from_estimator`.\n",
      "  warnings.warn(msg, category=FutureWarning)\n",
      "C:\\Users\\Eigenaar\\AppData\\Roaming\\Python\\Python39\\site-packages\\sklearn\\utils\\deprecation.py:87: FutureWarning: Function plot_roc_curve is deprecated; Function :func:`plot_roc_curve` is deprecated in 1.0 and will be removed in 1.2. Use one of the class methods: :meth:`sklearn.metric.RocCurveDisplay.from_predictions` or :meth:`sklearn.metric.RocCurveDisplay.from_estimator`.\n",
      "  warnings.warn(msg, category=FutureWarning)\n",
      "C:\\Users\\Eigenaar\\AppData\\Roaming\\Python\\Python39\\site-packages\\sklearn\\utils\\deprecation.py:87: FutureWarning: Function plot_roc_curve is deprecated; Function :func:`plot_roc_curve` is deprecated in 1.0 and will be removed in 1.2. Use one of the class methods: :meth:`sklearn.metric.RocCurveDisplay.from_predictions` or :meth:`sklearn.metric.RocCurveDisplay.from_estimator`.\n",
      "  warnings.warn(msg, category=FutureWarning)\n",
      "C:\\Users\\Eigenaar\\AppData\\Roaming\\Python\\Python39\\site-packages\\sklearn\\utils\\deprecation.py:87: FutureWarning: Function plot_roc_curve is deprecated; Function :func:`plot_roc_curve` is deprecated in 1.0 and will be removed in 1.2. Use one of the class methods: :meth:`sklearn.metric.RocCurveDisplay.from_predictions` or :meth:`sklearn.metric.RocCurveDisplay.from_estimator`.\n",
      "  warnings.warn(msg, category=FutureWarning)\n",
      "C:\\Users\\Eigenaar\\AppData\\Roaming\\Python\\Python39\\site-packages\\sklearn\\utils\\deprecation.py:87: FutureWarning: Function plot_roc_curve is deprecated; Function :func:`plot_roc_curve` is deprecated in 1.0 and will be removed in 1.2. Use one of the class methods: :meth:`sklearn.metric.RocCurveDisplay.from_predictions` or :meth:`sklearn.metric.RocCurveDisplay.from_estimator`.\n",
      "  warnings.warn(msg, category=FutureWarning)\n",
      "C:\\Users\\Eigenaar\\AppData\\Roaming\\Python\\Python39\\site-packages\\sklearn\\utils\\deprecation.py:87: FutureWarning: Function plot_roc_curve is deprecated; Function :func:`plot_roc_curve` is deprecated in 1.0 and will be removed in 1.2. Use one of the class methods: :meth:`sklearn.metric.RocCurveDisplay.from_predictions` or :meth:`sklearn.metric.RocCurveDisplay.from_estimator`.\n",
      "  warnings.warn(msg, category=FutureWarning)\n",
      "C:\\Users\\Eigenaar\\AppData\\Roaming\\Python\\Python39\\site-packages\\sklearn\\utils\\deprecation.py:87: FutureWarning: Function plot_roc_curve is deprecated; Function :func:`plot_roc_curve` is deprecated in 1.0 and will be removed in 1.2. Use one of the class methods: :meth:`sklearn.metric.RocCurveDisplay.from_predictions` or :meth:`sklearn.metric.RocCurveDisplay.from_estimator`.\n",
      "  warnings.warn(msg, category=FutureWarning)\n",
      "C:\\Users\\Eigenaar\\AppData\\Roaming\\Python\\Python39\\site-packages\\sklearn\\utils\\deprecation.py:87: FutureWarning: Function plot_roc_curve is deprecated; Function :func:`plot_roc_curve` is deprecated in 1.0 and will be removed in 1.2. Use one of the class methods: :meth:`sklearn.metric.RocCurveDisplay.from_predictions` or :meth:`sklearn.metric.RocCurveDisplay.from_estimator`.\n",
      "  warnings.warn(msg, category=FutureWarning)\n"
     ]
    },
    {
     "data": {
      "image/png": "[encoded data removed]",
      "text/plain": [
       "<Figure size 432x288 with 1 Axes>"
      ]
     },
     "metadata": {},
     "output_type": "display_data"
    }
   ],
   "source": [
    "import numpy as np\n",
    "import matplotlib.pyplot as plt\n",
    "\n",
    "from sklearn import svm, datasets\n",
    "from sklearn.metrics import auc\n",
    "from sklearn.metrics import plot_roc_curve\n",
    "from sklearn.model_selection import StratifiedKFold\n",
    "\n",
    "# #############################################################################\n",
    "# Data IO and generation\n",
    "\n",
    "# Import some data to play with\n",
    "#iris = datasets.load_iris()\n",
    "#X = iris.data\n",
    "#y = iris.target\n",
    "#X, y = X[y != 2], y[y != 2]\n",
    "#n_samples, n_features = X.shape\n",
    "\n",
    "# Add noisy features\n",
    "#random_state = np.random.RandomState(0)\n",
    "#X = np.c_[X, random_state.randn(n_samples, 200 * n_features)]\n",
    "\n",
    "# #############################################################################\n",
    "# Classification and ROC analysis\n",
    "\n",
    "# Run classifier with cross-validation and plot ROC curves\n",
    "cv = ShuffleSplit(n_splits=10, test_size=0.2, random_state=42)\n",
    "classifier = LogisticRegression(class_weight=class_weight,random_state=42)\n",
    "tprs = []\n",
    "aucs = []\n",
    "mean_fpr = np.linspace(0, 1, 100)\n",
    "\n",
    "fig, ax = plt.subplots()\n",
    "for i, (train, test) in enumerate(cv.split(X, y)):\n",
    "    classifier.fit(X, y)\n",
    "    viz = plot_roc_curve(classifier, X, y,\n",
    "                         name='ROC fold {}'.format(i),\n",
    "                         alpha=0.3, lw=1, ax=ax)\n",
    "    interp_tpr = np.interp(mean_fpr, viz.fpr, viz.tpr)\n",
    "    interp_tpr[0] = 0.0\n",
    "    tprs.append(interp_tpr)\n",
    "    aucs.append(viz.roc_auc)\n",
    "\n",
    "ax.plot([0, 1], [0, 1], linestyle='--', lw=2, color='r',\n",
    "        label='Chance', alpha=.8)\n",
    "\n",
    "mean_tpr = np.mean(tprs, axis=0)\n",
    "mean_tpr[-1] = 1.0\n",
    "mean_auc = auc(mean_fpr, mean_tpr)\n",
    "std_auc = np.std(aucs)\n",
    "ax.plot(mean_fpr, mean_tpr, color='b',\n",
    "        label=r'Mean ROC (AUC = %0.4f $\\pm$ %0.4f)' % (mean_auc, std_auc),\n",
    "        lw=2, alpha=.8)\n",
    "\n",
    "std_tpr = np.std(tprs, axis=0)\n",
    "tprs_upper = np.minimum(mean_tpr + std_tpr, 1)\n",
    "tprs_lower = np.maximum(mean_tpr - std_tpr, 0)\n",
    "ax.fill_between(mean_fpr, tprs_lower, tprs_upper, color='grey', alpha=.2,\n",
    "                label=r'$\\pm$ 1 std. dev.')\n",
    "\n",
    "ax.set(xlim=[-0.05, 1.05], ylim=[-0.05, 1.05],\n",
    "       title=\"Receiver operating characteristic example\")\n",
    "ax.legend(loc=\"lower right\")\n",
    "plt.show()"
   ]
  },
  {
   "cell_type": "code",
   "execution_count": 97,
   "metadata": {},
   "outputs": [],
   "source": [
    "#confusion matrix (added by Elena)\n",
    "conf_matrix = confusion_matrix(y_test, y_pred)\n",
    "\n",
    "# Print the confusion matrix using Matplotlib\n",
    "#\n",
    "fig, ax = plt.subplots(figsize=(5, 5))\n",
    "ax.matshow(conf_matrix, cmap=plt.cm.Oranges, alpha=0.3)\n",
    "for i in range(conf_matrix.shape[0]):\n",
    "    for j in range(conf_matrix.shape[1]):\n",
    "        ax.text(x=j, y=i,s=conf_matrix[i, j], va='center', ha='center', size='xx-large')\n",
    " \n",
    "plt.xlabel('Predictions', fontsize=18)\n",
    "plt.ylabel('Actuals', fontsize=18)\n",
    "plt.title('Confusion Matrix', fontsize=18)\n",
    "plt.show()"
   ]
  },
  {
   "cell_type": "markdown",
   "metadata": {},
   "source": [
    "## RF (Random Forest)"
   ]
  },
  {
   "cell_type": "code",
   "execution_count": 52,
   "metadata": {},
   "outputs": [
    {
     "name": "stdout",
     "output_type": "stream",
     "text": [
      "Accuracy: 0.8913 (0.0042)\n"
     ]
    },
    {
     "data": {
      "text/plain": [
       "array([0.89266451, 0.8969795 , 0.89145092, 0.89225998, 0.88740561,\n",
       "       0.89724919, 0.88632686, 0.89239482, 0.88362999, 0.89306904])"
      ]
     },
     "execution_count": 52,
     "metadata": {},
     "output_type": "execute_result"
    }
   ],
   "source": [
    "from numpy import mean\n",
    "from numpy import std\n",
    "from sklearn.model_selection import KFold\n",
    "from sklearn.model_selection import cross_val_score\n",
    "from sklearn.ensemble import RandomForestClassifier\n",
    "\n",
    "from sklearn.model_selection import ShuffleSplit\n",
    "\n",
    "# create dataset\n",
    "#X, y = make_classification(n_samples=1000, n_features=20, n_informative=15, n_redundant=5, random_state=1)\n",
    "# prepare the cross-validation procedure\n",
    "#cv = KFold(n_splits=5, test_size= 0.2, random_state=0)\n",
    "cv = ShuffleSplit(n_splits=10, test_size=0.2, random_state=42)\n",
    "# create model\n",
    "model = RandomForestClassifier(class_weight=class_weight)\n",
    "# evaluate model\n",
    "scores = cross_val_score(model, X, y, scoring='accuracy', cv=cv, n_jobs=-1)\n",
    "# report performance\n",
    "print('Accuracy: %.4f (%.4f)' % (mean(scores), std(scores)))\n",
    "scores"
   ]
  },
  {
   "cell_type": "code",
   "execution_count": null,
   "metadata": {},
   "outputs": [],
   "source": []
  },
  {
   "cell_type": "code",
   "execution_count": 53,
   "metadata": {},
   "outputs": [
    {
     "data": {
      "image/png": "[encoded data removed]",
      "text/plain": [
       "<Figure size 432x288 with 1 Axes>"
      ]
     },
     "metadata": {},
     "output_type": "display_data"
    }
   ],
   "source": [
    "import numpy as np\n",
    "import matplotlib.pyplot as plt\n",
    "\n",
    "from sklearn import svm, datasets\n",
    "from sklearn.metrics import auc\n",
    "from sklearn.metrics import plot_roc_curve\n",
    "from sklearn.model_selection import StratifiedKFold\n",
    "\n",
    "# #############################################################################\n",
    "# Data IO and generation\n",
    "\n",
    "# Import some data to play with\n",
    "#iris = datasets.load_iris()\n",
    "#X = iris.data\n",
    "#y = iris.target\n",
    "#X, y = X[y != 2], y[y != 2]\n",
    "#n_samples, n_features = X.shape\n",
    "\n",
    "# Add noisy features\n",
    "#random_state = np.random.RandomState(0)\n",
    "#X = np.c_[X, random_state.randn(n_samples, 200 * n_features)]\n",
    "\n",
    "# #############################################################################\n",
    "# Classification and ROC analysis\n",
    "\n",
    "# Run classifier with cross-validation and plot ROC curves\n",
    "cv = ShuffleSplit(n_splits=10, test_size=0.2, random_state=42)\n",
    "classifier = RandomForestClassifier(class_weight=class_weight,random_state=42)\n",
    "tprs = []\n",
    "aucs = []\n",
    "mean_fpr = np.linspace(0, 1, 100)\n",
    "\n",
    "fig, ax = plt.subplots()\n",
    "for i, (train, test) in enumerate(cv.split(X, y)):\n",
    "    classifier.fit(X, y)\n",
    "    #viz = plot_roc_curve(classifier, X, y,\n",
    "                  #       name='ROC fold {}'.format(i),\n",
    "                    #     alpha=0.3, lw=1, ax=ax)\n",
    "    interp_tpr = np.interp(mean_fpr, viz.fpr, viz.tpr)\n",
    "    interp_tpr[0] = 0.0\n",
    "    tprs.append(interp_tpr)\n",
    "    aucs.append(viz.roc_auc)\n",
    "\n",
    "ax.plot([0, 1], [0, 1], linestyle='--', lw=2, color='r',\n",
    "        label='Chance', alpha=.8)\n",
    "\n",
    "mean_tpr = np.mean(tprs, axis=0)\n",
    "mean_tpr[-1] = 1.0\n",
    "mean_auc = auc(mean_fpr, mean_tpr)\n",
    "std_auc = np.std(aucs)\n",
    "ax.plot(mean_fpr, mean_tpr, color='b',\n",
    "        label=r'Mean ROC (AUC = %0.4f $\\pm$ %0.4f)' % (mean_auc, std_auc),\n",
    "        lw=2, alpha=.8)\n",
    "\n",
    "std_tpr = np.std(tprs, axis=0)\n",
    "tprs_upper = np.minimum(mean_tpr + std_tpr, 1)\n",
    "tprs_lower = np.maximum(mean_tpr - std_tpr, 0)\n",
    "ax.fill_between(mean_fpr, tprs_lower, tprs_upper, color='grey', alpha=.2,\n",
    "                label=r'$\\pm$ 1 std. dev.')\n",
    "\n",
    "ax.set(xlim=[-0.05, 1.05], ylim=[-0.05, 1.05],\n",
    "       title=\"Receiver operating characteristic of Random Forest Classifier\")\n",
    "ax.legend(loc=\"lower right\")\n",
    "plt.show()"
   ]
  },
  {
   "cell_type": "markdown",
   "metadata": {},
   "source": [
    "## DT (Decision Tree)"
   ]
  },
  {
   "cell_type": "code",
   "execution_count": 54,
   "metadata": {},
   "outputs": [
    {
     "name": "stdout",
     "output_type": "stream",
     "text": [
      "Accuracy: 0.8405 (0.0028)\n"
     ]
    },
    {
     "data": {
      "text/plain": [
       "array([0.84358145, 0.84546926, 0.83940129, 0.84169364, 0.83683927,\n",
       "       0.84196332, 0.83940129, 0.8360302 , 0.83859223, 0.84155879])"
      ]
     },
     "execution_count": 54,
     "metadata": {},
     "output_type": "execute_result"
    }
   ],
   "source": [
    "from numpy import mean\n",
    "from numpy import std\n",
    "from sklearn.model_selection import KFold\n",
    "from sklearn.model_selection import cross_val_score\n",
    "from sklearn.model_selection import ShuffleSplit\n",
    "from sklearn.tree import DecisionTreeClassifier\n",
    "\n",
    "\n",
    "# create dataset\n",
    "#X, y = make_classification(n_samples=1000, n_features=20, n_informative=15, n_redundant=5, random_state=1)\n",
    "# prepare the cross-validation procedure\n",
    "#cv = KFold(n_splits=5, test_size= 0.2, random_state=0)\n",
    "cv = ShuffleSplit(n_splits=10, test_size=0.2, random_state=42)\n",
    "# create model\n",
    "model = DecisionTreeClassifier(class_weight=class_weight)\n",
    "# evaluate model\n",
    "scores = cross_val_score(model, X, y, scoring='accuracy', cv=cv, n_jobs=-1)\n",
    "# report performance\n",
    "print('Accuracy: %.4f (%.4f)' % (mean(scores), std(scores)))\n",
    "scores"
   ]
  },
  {
   "cell_type": "code",
   "execution_count": 55,
   "metadata": {},
   "outputs": [
    {
     "name": "stderr",
     "output_type": "stream",
     "text": [
      "C:\\Users\\Eigenaar\\AppData\\Roaming\\Python\\Python39\\site-packages\\sklearn\\utils\\deprecation.py:87: FutureWarning: Function plot_roc_curve is deprecated; Function :func:`plot_roc_curve` is deprecated in 1.0 and will be removed in 1.2. Use one of the class methods: :meth:`sklearn.metric.RocCurveDisplay.from_predictions` or :meth:`sklearn.metric.RocCurveDisplay.from_estimator`.\n",
      "  warnings.warn(msg, category=FutureWarning)\n",
      "C:\\Users\\Eigenaar\\AppData\\Roaming\\Python\\Python39\\site-packages\\sklearn\\utils\\deprecation.py:87: FutureWarning: Function plot_roc_curve is deprecated; Function :func:`plot_roc_curve` is deprecated in 1.0 and will be removed in 1.2. Use one of the class methods: :meth:`sklearn.metric.RocCurveDisplay.from_predictions` or :meth:`sklearn.metric.RocCurveDisplay.from_estimator`.\n",
      "  warnings.warn(msg, category=FutureWarning)\n",
      "C:\\Users\\Eigenaar\\AppData\\Roaming\\Python\\Python39\\site-packages\\sklearn\\utils\\deprecation.py:87: FutureWarning: Function plot_roc_curve is deprecated; Function :func:`plot_roc_curve` is deprecated in 1.0 and will be removed in 1.2. Use one of the class methods: :meth:`sklearn.metric.RocCurveDisplay.from_predictions` or :meth:`sklearn.metric.RocCurveDisplay.from_estimator`.\n",
      "  warnings.warn(msg, category=FutureWarning)\n",
      "C:\\Users\\Eigenaar\\AppData\\Roaming\\Python\\Python39\\site-packages\\sklearn\\utils\\deprecation.py:87: FutureWarning: Function plot_roc_curve is deprecated; Function :func:`plot_roc_curve` is deprecated in 1.0 and will be removed in 1.2. Use one of the class methods: :meth:`sklearn.metric.RocCurveDisplay.from_predictions` or :meth:`sklearn.metric.RocCurveDisplay.from_estimator`.\n",
      "  warnings.warn(msg, category=FutureWarning)\n",
      "C:\\Users\\Eigenaar\\AppData\\Roaming\\Python\\Python39\\site-packages\\sklearn\\utils\\deprecation.py:87: FutureWarning: Function plot_roc_curve is deprecated; Function :func:`plot_roc_curve` is deprecated in 1.0 and will be removed in 1.2. Use one of the class methods: :meth:`sklearn.metric.RocCurveDisplay.from_predictions` or :meth:`sklearn.metric.RocCurveDisplay.from_estimator`.\n",
      "  warnings.warn(msg, category=FutureWarning)\n",
      "C:\\Users\\Eigenaar\\AppData\\Roaming\\Python\\Python39\\site-packages\\sklearn\\utils\\deprecation.py:87: FutureWarning: Function plot_roc_curve is deprecated; Function :func:`plot_roc_curve` is deprecated in 1.0 and will be removed in 1.2. Use one of the class methods: :meth:`sklearn.metric.RocCurveDisplay.from_predictions` or :meth:`sklearn.metric.RocCurveDisplay.from_estimator`.\n",
      "  warnings.warn(msg, category=FutureWarning)\n",
      "C:\\Users\\Eigenaar\\AppData\\Roaming\\Python\\Python39\\site-packages\\sklearn\\utils\\deprecation.py:87: FutureWarning: Function plot_roc_curve is deprecated; Function :func:`plot_roc_curve` is deprecated in 1.0 and will be removed in 1.2. Use one of the class methods: :meth:`sklearn.metric.RocCurveDisplay.from_predictions` or :meth:`sklearn.metric.RocCurveDisplay.from_estimator`.\n",
      "  warnings.warn(msg, category=FutureWarning)\n",
      "C:\\Users\\Eigenaar\\AppData\\Roaming\\Python\\Python39\\site-packages\\sklearn\\utils\\deprecation.py:87: FutureWarning: Function plot_roc_curve is deprecated; Function :func:`plot_roc_curve` is deprecated in 1.0 and will be removed in 1.2. Use one of the class methods: :meth:`sklearn.metric.RocCurveDisplay.from_predictions` or :meth:`sklearn.metric.RocCurveDisplay.from_estimator`.\n",
      "  warnings.warn(msg, category=FutureWarning)\n",
      "C:\\Users\\Eigenaar\\AppData\\Roaming\\Python\\Python39\\site-packages\\sklearn\\utils\\deprecation.py:87: FutureWarning: Function plot_roc_curve is deprecated; Function :func:`plot_roc_curve` is deprecated in 1.0 and will be removed in 1.2. Use one of the class methods: :meth:`sklearn.metric.RocCurveDisplay.from_predictions` or :meth:`sklearn.metric.RocCurveDisplay.from_estimator`.\n",
      "  warnings.warn(msg, category=FutureWarning)\n",
      "C:\\Users\\Eigenaar\\AppData\\Roaming\\Python\\Python39\\site-packages\\sklearn\\utils\\deprecation.py:87: FutureWarning: Function plot_roc_curve is deprecated; Function :func:`plot_roc_curve` is deprecated in 1.0 and will be removed in 1.2. Use one of the class methods: :meth:`sklearn.metric.RocCurveDisplay.from_predictions` or :meth:`sklearn.metric.RocCurveDisplay.from_estimator`.\n",
      "  warnings.warn(msg, category=FutureWarning)\n"
     ]
    },
    {
     "data": {
      "image/png": "[encoded data removed]",
      "text/plain": [
       "<Figure size 432x288 with 1 Axes>"
      ]
     },
     "metadata": {},
     "output_type": "display_data"
    }
   ],
   "source": [
    "import numpy as np\n",
    "import matplotlib.pyplot as plt\n",
    "\n",
    "from sklearn import svm, datasets\n",
    "from sklearn.metrics import auc\n",
    "from sklearn.metrics import plot_roc_curve\n",
    "from sklearn.model_selection import StratifiedKFold\n",
    "\n",
    "# #############################################################################\n",
    "# Data IO and generation\n",
    "\n",
    "# Import some data to play with\n",
    "#iris = datasets.load_iris()\n",
    "#X = iris.data\n",
    "#y = iris.target\n",
    "#X, y = X[y != 2], y[y != 2]\n",
    "#n_samples, n_features = X.shape\n",
    "\n",
    "# Add noisy features\n",
    "#random_state = np.random.RandomState(0)\n",
    "#X = np.c_[X, random_state.randn(n_samples, 200 * n_features)]\n",
    "\n",
    "# #############################################################################\n",
    "# Classification and ROC analysis\n",
    "\n",
    "# Run classifier with cross-validation and plot ROC curves\n",
    "cv = ShuffleSplit(n_splits=10, test_size=0.2, random_state=42)\n",
    "classifier = DecisionTreeClassifier(class_weight=class_weight,random_state=42)\n",
    "tprs = []\n",
    "aucs = []\n",
    "mean_fpr = np.linspace(0, 1, 100)\n",
    "\n",
    "fig, ax = plt.subplots()\n",
    "for i, (train, test) in enumerate(cv.split(X, y)):\n",
    "    classifier.fit(X, y)\n",
    "    viz = plot_roc_curve(classifier, X, y,\n",
    "                         name='ROC fold {}'.format(i),\n",
    "                         alpha=0.3, lw=1, ax=ax)\n",
    "    interp_tpr = np.interp(mean_fpr, viz.fpr, viz.tpr)\n",
    "    interp_tpr[0] = 0.0\n",
    "    tprs.append(interp_tpr)\n",
    "    aucs.append(viz.roc_auc)\n",
    "\n",
    "ax.plot([0, 1], [0, 1], linestyle='--', lw=2, color='r',\n",
    "        label='Chance', alpha=.8)\n",
    "\n",
    "mean_tpr = np.mean(tprs, axis=0)\n",
    "mean_tpr[-1] = 1.0\n",
    "mean_auc = auc(mean_fpr, mean_tpr)\n",
    "std_auc = np.std(aucs)\n",
    "ax.plot(mean_fpr, mean_tpr, color='b',\n",
    "        label=r'Mean ROC (AUC = %0.4f $\\pm$ %0.4f)' % (mean_auc, std_auc),\n",
    "        lw=2, alpha=.8)\n",
    "\n",
    "std_tpr = np.std(tprs, axis=0)\n",
    "tprs_upper = np.minimum(mean_tpr + std_tpr, 1)\n",
    "tprs_lower = np.maximum(mean_tpr - std_tpr, 0)\n",
    "ax.fill_between(mean_fpr, tprs_lower, tprs_upper, color='grey', alpha=.2,\n",
    "                label=r'$\\pm$ 1 std. dev.')\n",
    "\n",
    "ax.set(xlim=[-0.05, 1.05], ylim=[-0.05, 1.05],\n",
    "       title=\"Receiver operating characteristic example\")\n",
    "ax.legend(loc=\"lower right\")\n",
    "plt.show()"
   ]
  },
  {
   "cell_type": "code",
   "execution_count": 99,
   "metadata": {},
   "outputs": [],
   "source": [
    "# from sklearn.model_selection import cross_val_score\n",
    "# from sklearn import svm\n",
    "# clf = svm.SVC(kernel='rbf', C=1, class_weight=class_weight)\n",
    "# scores = cross_val_score(clf, X, y, cv=5)\n",
    "# print(\"Accuracy: %0.4f (+/- %0.4f)\" % (scores.mean(), scores.std() * 2))\n",
    "\n",
    "# clf.score(X_test, y_test)"
   ]
  },
  {
   "cell_type": "markdown",
   "metadata": {},
   "source": [
    "## ANN (Artificial Neural Network)"
   ]
  },
  {
   "cell_type": "code",
   "execution_count": 57,
   "metadata": {},
   "outputs": [],
   "source": [
    "import keras\n",
    "from keras.models import Sequential\n",
    "from keras.layers import Dense,Dropout"
   ]
  },
  {
   "cell_type": "code",
   "execution_count": 58,
   "metadata": {},
   "outputs": [
    {
     "name": "stdout",
     "output_type": "stream",
     "text": [
      "Epoch 1/100\n",
      "2967/2967 [==============================] - 12s 4ms/step - loss: 0.1605 - accuracy: 0.8742 - val_loss: 0.2963 - val_accuracy: 0.8832\n",
      "Epoch 2/100\n",
      "2967/2967 [==============================] - 9s 3ms/step - loss: 0.1485 - accuracy: 0.8852 - val_loss: 0.2820 - val_accuracy: 0.8900\n",
      "Epoch 3/100\n",
      "2967/2967 [==============================] - 9s 3ms/step - loss: 0.1424 - accuracy: 0.8885 - val_loss: 0.2729 - val_accuracy: 0.8913\n",
      "Epoch 4/100\n",
      "2967/2967 [==============================] - 8s 3ms/step - loss: 0.1383 - accuracy: 0.8912 - val_loss: 0.2681 - val_accuracy: 0.8881\n",
      "Epoch 5/100\n",
      "2967/2967 [==============================] - 10s 3ms/step - loss: 0.1357 - accuracy: 0.8916 - val_loss: 0.2654 - val_accuracy: 0.8894\n",
      "Epoch 6/100\n",
      "2967/2967 [==============================] - 9s 3ms/step - loss: 0.1345 - accuracy: 0.8918 - val_loss: 0.2649 - val_accuracy: 0.8908\n",
      "Epoch 7/100\n",
      "2967/2967 [==============================] - 9s 3ms/step - loss: 0.1331 - accuracy: 0.8940 - val_loss: 0.2617 - val_accuracy: 0.8898\n",
      "Epoch 8/100\n",
      "2967/2967 [==============================] - 10s 3ms/step - loss: 0.1312 - accuracy: 0.8955 - val_loss: 0.2606 - val_accuracy: 0.8935\n",
      "Epoch 9/100\n",
      "2967/2967 [==============================] - 9s 3ms/step - loss: 0.1307 - accuracy: 0.8960 - val_loss: 0.2641 - val_accuracy: 0.8904\n",
      "Epoch 10/100\n",
      "2967/2967 [==============================] - 9s 3ms/step - loss: 0.1301 - accuracy: 0.8950 - val_loss: 0.2611 - val_accuracy: 0.8921\n",
      "Epoch 11/100\n",
      "2967/2967 [==============================] - 8s 3ms/step - loss: 0.1297 - accuracy: 0.8957 - val_loss: 0.2604 - val_accuracy: 0.8931\n",
      "Epoch 12/100\n",
      "2967/2967 [==============================] - 8s 3ms/step - loss: 0.1294 - accuracy: 0.8955 - val_loss: 0.2652 - val_accuracy: 0.8892\n",
      "Epoch 13/100\n",
      "2967/2967 [==============================] - 8s 3ms/step - loss: 0.1281 - accuracy: 0.8971 - val_loss: 0.2650 - val_accuracy: 0.8890\n",
      "Epoch 14/100\n",
      "2967/2967 [==============================] - 8s 3ms/step - loss: 0.1280 - accuracy: 0.8982 - val_loss: 0.2621 - val_accuracy: 0.8886\n",
      "Epoch 15/100\n",
      "2967/2967 [==============================] - 12s 4ms/step - loss: 0.1262 - accuracy: 0.8980 - val_loss: 0.2645 - val_accuracy: 0.8865\n",
      "Epoch 16/100\n",
      "2967/2967 [==============================] - 17s 6ms/step - loss: 0.1260 - accuracy: 0.8998 - val_loss: 0.2610 - val_accuracy: 0.8883\n",
      "Epoch 17/100\n",
      "2967/2967 [==============================] - 14s 5ms/step - loss: 0.1255 - accuracy: 0.9010 - val_loss: 0.2679 - val_accuracy: 0.8873\n",
      "Epoch 18/100\n",
      "2967/2967 [==============================] - 12s 4ms/step - loss: 0.1254 - accuracy: 0.9010 - val_loss: 0.2626 - val_accuracy: 0.8889\n",
      "Epoch 19/100\n",
      "2967/2967 [==============================] - 8s 3ms/step - loss: 0.1238 - accuracy: 0.9012 - val_loss: 0.2667 - val_accuracy: 0.8879\n",
      "Epoch 20/100\n",
      "2967/2967 [==============================] - 8s 3ms/step - loss: 0.1225 - accuracy: 0.9029 - val_loss: 0.2692 - val_accuracy: 0.8870\n",
      "Epoch 21/100\n",
      "2967/2967 [==============================] - 8s 3ms/step - loss: 0.1224 - accuracy: 0.9025 - val_loss: 0.2633 - val_accuracy: 0.8883\n",
      "Epoch 22/100\n",
      "2967/2967 [==============================] - 8s 3ms/step - loss: 0.1216 - accuracy: 0.9041 - val_loss: 0.2703 - val_accuracy: 0.8888\n",
      "Epoch 23/100\n",
      "2967/2967 [==============================] - 9s 3ms/step - loss: 0.1227 - accuracy: 0.9036 - val_loss: 0.2670 - val_accuracy: 0.8896\n",
      "Epoch 24/100\n",
      "2967/2967 [==============================] - 8s 3ms/step - loss: 0.1217 - accuracy: 0.9037 - val_loss: 0.2692 - val_accuracy: 0.8885\n",
      "Epoch 25/100\n",
      "2967/2967 [==============================] - 8s 3ms/step - loss: 0.1197 - accuracy: 0.9071 - val_loss: 0.2743 - val_accuracy: 0.8854\n",
      "Epoch 26/100\n",
      "2967/2967 [==============================] - 9s 3ms/step - loss: 0.1191 - accuracy: 0.9075 - val_loss: 0.2731 - val_accuracy: 0.8883\n",
      "Epoch 27/100\n",
      "2967/2967 [==============================] - 8s 3ms/step - loss: 0.1189 - accuracy: 0.9066 - val_loss: 0.2769 - val_accuracy: 0.8842\n",
      "Epoch 28/100\n",
      "2967/2967 [==============================] - 9s 3ms/step - loss: 0.1179 - accuracy: 0.9081 - val_loss: 0.2734 - val_accuracy: 0.8869\n",
      "Epoch 29/100\n",
      "2967/2967 [==============================] - 9s 3ms/step - loss: 0.1178 - accuracy: 0.9088 - val_loss: 0.2764 - val_accuracy: 0.8866\n",
      "Epoch 30/100\n",
      "2967/2967 [==============================] - 9s 3ms/step - loss: 0.1166 - accuracy: 0.9109 - val_loss: 0.2718 - val_accuracy: 0.8870\n",
      "Epoch 31/100\n",
      "2967/2967 [==============================] - 8s 3ms/step - loss: 0.1155 - accuracy: 0.9104 - val_loss: 0.2766 - val_accuracy: 0.8881\n",
      "Epoch 32/100\n",
      "2967/2967 [==============================] - 9s 3ms/step - loss: 0.1158 - accuracy: 0.9109 - val_loss: 0.2895 - val_accuracy: 0.8840\n",
      "Epoch 33/100\n",
      "2967/2967 [==============================] - 9s 3ms/step - loss: 0.1150 - accuracy: 0.9128 - val_loss: 0.2804 - val_accuracy: 0.8873\n",
      "Epoch 34/100\n",
      "2967/2967 [==============================] - 8s 3ms/step - loss: 0.1142 - accuracy: 0.9126 - val_loss: 0.2758 - val_accuracy: 0.8850\n",
      "Epoch 35/100\n",
      "2967/2967 [==============================] - 9s 3ms/step - loss: 0.1137 - accuracy: 0.9128 - val_loss: 0.2796 - val_accuracy: 0.8855\n",
      "Epoch 36/100\n",
      "2967/2967 [==============================] - 10s 3ms/step - loss: 0.1125 - accuracy: 0.9142 - val_loss: 0.2783 - val_accuracy: 0.8865\n",
      "Epoch 37/100\n",
      "2967/2967 [==============================] - 9s 3ms/step - loss: 0.1117 - accuracy: 0.9143 - val_loss: 0.2818 - val_accuracy: 0.8859\n",
      "Epoch 38/100\n",
      "2967/2967 [==============================] - 9s 3ms/step - loss: 0.1114 - accuracy: 0.9148 - val_loss: 0.2823 - val_accuracy: 0.8850\n",
      "Epoch 39/100\n",
      "2967/2967 [==============================] - 9s 3ms/step - loss: 0.1109 - accuracy: 0.9150 - val_loss: 0.2853 - val_accuracy: 0.8873\n",
      "Epoch 40/100\n",
      "2967/2967 [==============================] - 8s 3ms/step - loss: 0.1106 - accuracy: 0.9155 - val_loss: 0.2857 - val_accuracy: 0.8862\n",
      "Epoch 41/100\n",
      "2967/2967 [==============================] - 8s 3ms/step - loss: 0.1091 - accuracy: 0.9167 - val_loss: 0.2886 - val_accuracy: 0.8823\n",
      "Epoch 42/100\n",
      "2967/2967 [==============================] - 9s 3ms/step - loss: 0.1092 - accuracy: 0.9178 - val_loss: 0.2855 - val_accuracy: 0.8854\n",
      "Epoch 43/100\n",
      "2967/2967 [==============================] - 9s 3ms/step - loss: 0.1073 - accuracy: 0.9178 - val_loss: 0.2847 - val_accuracy: 0.8817\n",
      "Epoch 44/100\n",
      "2967/2967 [==============================] - 8s 3ms/step - loss: 0.1073 - accuracy: 0.9190 - val_loss: 0.2971 - val_accuracy: 0.8820\n",
      "Epoch 45/100\n",
      "2967/2967 [==============================] - 8s 3ms/step - loss: 0.1066 - accuracy: 0.9179 - val_loss: 0.3000 - val_accuracy: 0.8855\n",
      "Epoch 46/100\n",
      "2967/2967 [==============================] - 8s 3ms/step - loss: 0.1064 - accuracy: 0.9198 - val_loss: 0.2946 - val_accuracy: 0.8855\n",
      "Epoch 47/100\n",
      "2967/2967 [==============================] - 8s 3ms/step - loss: 0.1049 - accuracy: 0.9204 - val_loss: 0.2969 - val_accuracy: 0.8867\n",
      "Epoch 48/100\n",
      "2967/2967 [==============================] - 9s 3ms/step - loss: 0.1056 - accuracy: 0.9189 - val_loss: 0.3037 - val_accuracy: 0.8858\n",
      "Epoch 49/100\n",
      "2967/2967 [==============================] - 13s 4ms/step - loss: 0.1048 - accuracy: 0.9198 - val_loss: 0.3035 - val_accuracy: 0.8846\n",
      "Epoch 50/100\n",
      "2967/2967 [==============================] - 8s 3ms/step - loss: 0.1038 - accuracy: 0.9201 - val_loss: 0.3010 - val_accuracy: 0.8809\n",
      "Epoch 51/100\n",
      "2967/2967 [==============================] - 8s 3ms/step - loss: 0.1034 - accuracy: 0.9223 - val_loss: 0.3018 - val_accuracy: 0.8840\n",
      "Epoch 52/100\n",
      "2967/2967 [==============================] - 6s 2ms/step - loss: 0.1022 - accuracy: 0.9217 - val_loss: 0.3101 - val_accuracy: 0.8869\n",
      "Epoch 53/100\n",
      "2967/2967 [==============================] - 6s 2ms/step - loss: 0.1029 - accuracy: 0.9213 - val_loss: 0.3045 - val_accuracy: 0.8847\n",
      "Epoch 54/100\n",
      "2967/2967 [==============================] - 6s 2ms/step - loss: 0.1024 - accuracy: 0.9210 - val_loss: 0.3061 - val_accuracy: 0.8826\n",
      "Epoch 55/100\n",
      "2967/2967 [==============================] - 6s 2ms/step - loss: 0.1018 - accuracy: 0.9226 - val_loss: 0.3114 - val_accuracy: 0.8828\n",
      "Epoch 56/100\n",
      "2967/2967 [==============================] - 7s 2ms/step - loss: 0.0996 - accuracy: 0.9237 - val_loss: 0.3124 - val_accuracy: 0.8866\n",
      "Epoch 57/100\n",
      "2967/2967 [==============================] - 7s 2ms/step - loss: 0.1006 - accuracy: 0.9241 - val_loss: 0.3125 - val_accuracy: 0.8819\n",
      "Epoch 58/100\n",
      "2967/2967 [==============================] - 8s 3ms/step - loss: 0.1006 - accuracy: 0.9245 - val_loss: 0.3217 - val_accuracy: 0.8807\n",
      "Epoch 59/100\n",
      "2967/2967 [==============================] - 9s 3ms/step - loss: 0.0986 - accuracy: 0.9262 - val_loss: 0.3450 - val_accuracy: 0.8832\n",
      "Epoch 60/100\n",
      "2967/2967 [==============================] - 9s 3ms/step - loss: 0.0991 - accuracy: 0.9249 - val_loss: 0.3355 - val_accuracy: 0.8823\n",
      "Epoch 61/100\n",
      "2967/2967 [==============================] - 14s 5ms/step - loss: 0.0983 - accuracy: 0.9269 - val_loss: 0.3425 - val_accuracy: 0.8827\n",
      "Epoch 62/100\n",
      "2967/2967 [==============================] - 11s 4ms/step - loss: 0.0970 - accuracy: 0.9268 - val_loss: 0.3313 - val_accuracy: 0.8800\n",
      "Epoch 63/100\n",
      "2967/2967 [==============================] - 13s 4ms/step - loss: 0.0974 - accuracy: 0.9268 - val_loss: 0.3386 - val_accuracy: 0.8834\n",
      "Epoch 64/100\n",
      "2967/2967 [==============================] - 11s 4ms/step - loss: 0.0977 - accuracy: 0.9266 - val_loss: 0.3169 - val_accuracy: 0.8836\n",
      "Epoch 65/100\n",
      "2967/2967 [==============================] - 12s 4ms/step - loss: 0.0961 - accuracy: 0.9288 - val_loss: 0.3348 - val_accuracy: 0.8834\n",
      "Epoch 66/100\n",
      "2967/2967 [==============================] - 11s 4ms/step - loss: 0.0959 - accuracy: 0.9276 - val_loss: 0.3543 - val_accuracy: 0.8842\n",
      "Epoch 67/100\n",
      "2967/2967 [==============================] - 9s 3ms/step - loss: 0.0958 - accuracy: 0.9292 - val_loss: 0.3378 - val_accuracy: 0.8839\n",
      "Epoch 68/100\n",
      "2967/2967 [==============================] - 12s 4ms/step - loss: 0.0949 - accuracy: 0.9281 - val_loss: 0.3540 - val_accuracy: 0.8797\n",
      "Epoch 69/100\n",
      "2967/2967 [==============================] - 10s 3ms/step - loss: 0.0946 - accuracy: 0.9284 - val_loss: 0.3441 - val_accuracy: 0.8804\n",
      "Epoch 70/100\n",
      "2967/2967 [==============================] - 13s 4ms/step - loss: 0.0939 - accuracy: 0.9294 - val_loss: 0.3551 - val_accuracy: 0.8838\n",
      "Epoch 71/100\n",
      "2967/2967 [==============================] - 9s 3ms/step - loss: 0.0937 - accuracy: 0.9289 - val_loss: 0.3546 - val_accuracy: 0.8809\n",
      "Epoch 72/100\n",
      "2967/2967 [==============================] - 8s 3ms/step - loss: 0.0955 - accuracy: 0.9283 - val_loss: 0.3663 - val_accuracy: 0.8844\n",
      "Epoch 73/100\n",
      "2967/2967 [==============================] - 11s 4ms/step - loss: 0.0921 - accuracy: 0.9312 - val_loss: 0.3419 - val_accuracy: 0.8821\n",
      "Epoch 74/100\n",
      "2967/2967 [==============================] - 11s 4ms/step - loss: 0.0945 - accuracy: 0.9293 - val_loss: 0.3273 - val_accuracy: 0.8848\n",
      "Epoch 75/100\n",
      "2967/2967 [==============================] - 10s 3ms/step - loss: 0.0920 - accuracy: 0.9310 - val_loss: 0.3603 - val_accuracy: 0.8821\n",
      "Epoch 76/100\n",
      "2967/2967 [==============================] - 11s 4ms/step - loss: 0.0920 - accuracy: 0.9303 - val_loss: 0.3753 - val_accuracy: 0.8805\n",
      "Epoch 77/100\n",
      "2967/2967 [==============================] - 14s 5ms/step - loss: 0.0916 - accuracy: 0.9311 - val_loss: 0.3708 - val_accuracy: 0.8811\n",
      "Epoch 78/100\n",
      "2967/2967 [==============================] - 14s 5ms/step - loss: 0.0910 - accuracy: 0.9320 - val_loss: 0.3659 - val_accuracy: 0.8812\n",
      "Epoch 79/100\n",
      "2967/2967 [==============================] - 13s 4ms/step - loss: 0.0912 - accuracy: 0.9319 - val_loss: 0.3808 - val_accuracy: 0.8801\n",
      "Epoch 80/100\n",
      "2967/2967 [==============================] - 12s 4ms/step - loss: 0.0903 - accuracy: 0.9314 - val_loss: 0.3814 - val_accuracy: 0.8780\n",
      "Epoch 81/100\n",
      "2967/2967 [==============================] - 14s 5ms/step - loss: 0.0901 - accuracy: 0.9332 - val_loss: 0.3795 - val_accuracy: 0.8819\n",
      "Epoch 82/100\n",
      "2967/2967 [==============================] - 14s 5ms/step - loss: 0.0898 - accuracy: 0.9319 - val_loss: 0.3789 - val_accuracy: 0.8790\n",
      "Epoch 83/100\n",
      "2967/2967 [==============================] - 15s 5ms/step - loss: 0.0907 - accuracy: 0.9319 - val_loss: 0.4165 - val_accuracy: 0.8790\n",
      "Epoch 84/100\n",
      "2967/2967 [==============================] - 15s 5ms/step - loss: 0.0894 - accuracy: 0.9333 - val_loss: 0.3687 - val_accuracy: 0.8799\n",
      "Epoch 85/100\n",
      "2967/2967 [==============================] - 13s 4ms/step - loss: 0.0881 - accuracy: 0.9342 - val_loss: 0.3818 - val_accuracy: 0.8812\n",
      "Epoch 86/100\n",
      "2967/2967 [==============================] - 14s 5ms/step - loss: 0.0895 - accuracy: 0.9335 - val_loss: 0.3681 - val_accuracy: 0.8751\n",
      "Epoch 87/100\n",
      "2967/2967 [==============================] - 14s 5ms/step - loss: 0.0895 - accuracy: 0.9313 - val_loss: 0.4261 - val_accuracy: 0.8823\n",
      "Epoch 88/100\n",
      "2967/2967 [==============================] - 15s 5ms/step - loss: 0.0883 - accuracy: 0.9341 - val_loss: 0.3837 - val_accuracy: 0.8819\n",
      "Epoch 89/100\n",
      "2967/2967 [==============================] - 13s 4ms/step - loss: 0.0882 - accuracy: 0.9345 - val_loss: 0.4767 - val_accuracy: 0.8797\n",
      "Epoch 90/100\n",
      "2967/2967 [==============================] - 9s 3ms/step - loss: 0.0877 - accuracy: 0.9332 - val_loss: 0.3775 - val_accuracy: 0.8785\n",
      "Epoch 91/100\n",
      "2967/2967 [==============================] - 9s 3ms/step - loss: 0.0863 - accuracy: 0.9352 - val_loss: 0.4071 - val_accuracy: 0.8776\n",
      "Epoch 92/100\n",
      "2967/2967 [==============================] - 11s 4ms/step - loss: 0.0864 - accuracy: 0.9349 - val_loss: 0.3981 - val_accuracy: 0.8772\n",
      "Epoch 93/100\n",
      "2967/2967 [==============================] - 13s 4ms/step - loss: 0.0873 - accuracy: 0.9347 - val_loss: 0.3994 - val_accuracy: 0.8759\n",
      "Epoch 94/100\n",
      "2967/2967 [==============================] - 10s 3ms/step - loss: 0.0878 - accuracy: 0.9342 - val_loss: 0.4178 - val_accuracy: 0.8800\n",
      "Epoch 95/100\n",
      "2967/2967 [==============================] - 10s 3ms/step - loss: 0.0861 - accuracy: 0.9361 - val_loss: 0.4502 - val_accuracy: 0.8790\n",
      "Epoch 96/100\n",
      "2967/2967 [==============================] - 11s 4ms/step - loss: 0.0868 - accuracy: 0.9344 - val_loss: 0.3847 - val_accuracy: 0.8782\n",
      "Epoch 97/100\n",
      "2967/2967 [==============================] - 11s 4ms/step - loss: 0.0856 - accuracy: 0.9367 - val_loss: 0.4051 - val_accuracy: 0.8773\n",
      "Epoch 98/100\n",
      "2967/2967 [==============================] - 11s 4ms/step - loss: 0.0868 - accuracy: 0.9354 - val_loss: 0.4502 - val_accuracy: 0.8805\n",
      "Epoch 99/100\n",
      "2967/2967 [==============================] - 10s 3ms/step - loss: 0.0853 - accuracy: 0.9351 - val_loss: 0.4418 - val_accuracy: 0.8774\n",
      "Epoch 100/100\n",
      "2967/2967 [==============================] - 9s 3ms/step - loss: 0.0849 - accuracy: 0.9363 - val_loss: 0.4755 - val_accuracy: 0.8776\n"
     ]
    },
    {
     "data": {
      "text/plain": [
       "<keras.callbacks.History at 0x1638a486880>"
      ]
     },
     "execution_count": 58,
     "metadata": {},
     "output_type": "execute_result"
    }
   ],
   "source": [
    "classifier=Sequential()\n",
    "classifier.add(Dense(units=256, kernel_initializer='uniform',activation='relu',input_dim=(len(data.columns)-1)))  #changed to length-1 so there is no need to change it everytime we change number of attributes\n",
    "classifier.add(Dense(units=128, kernel_initializer='uniform',activation='relu'))\n",
    "classifier.add(Dropout(0.5))\n",
    "classifier.add(Dense(units=64, kernel_initializer='uniform',activation='relu'))\n",
    "classifier.add(Dropout(0.4))\n",
    "classifier.add(Dense(units=32, kernel_initializer='uniform',activation='relu'))\n",
    "\n",
    "classifier.add(Dense(units=1, kernel_initializer='uniform',activation='sigmoid'))\n",
    "classifier.compile(optimizer='adam',loss=\"binary_crossentropy\",metrics=['accuracy'])\n",
    "classifier.fit(X_train,y_train,batch_size=10,epochs=100,class_weight=class_weight,validation_data=(X_test, y_test))"
   ]
  },
  {
   "cell_type": "code",
   "execution_count": 59,
   "metadata": {},
   "outputs": [
    {
     "name": "stdout",
     "output_type": "stream",
     "text": [
      "232/232 [==============================] - 1s 2ms/step\n",
      "              precision    recall  f1-score   support\n",
      "\n",
      "           0       0.36      0.68      0.47       951\n",
      "           1       0.95      0.82      0.88      6465\n",
      "\n",
      "    accuracy                           0.80      7416\n",
      "   macro avg       0.65      0.75      0.67      7416\n",
      "weighted avg       0.87      0.80      0.83      7416\n",
      "\n"
     ]
    },
    {
     "data": {
      "text/plain": [
       "0.7512121810964646"
      ]
     },
     "execution_count": 59,
     "metadata": {},
     "output_type": "execute_result"
    }
   ],
   "source": [
    "#clf_svc_rbf.fit(X_train,y_train)\n",
    "from sklearn.metrics import confusion_matrix,classification_report,roc_auc_score,auc,f1_score\n",
    "y_pred = classifier.predict(X_test)>0.9\n",
    "\n",
    "\n",
    "import matplotlib.pyplot as plt\n",
    "cm = confusion_matrix(y_test,y_pred)\n",
    "\n",
    "#plt.figure(figsize=(5,5))\n",
    "#sns.heatmap(cm,annot=True)\n",
    "#plt.show()\n",
    "\n",
    "#print(classification_report(y_test,y_pred_clf_svc_rbf))\n",
    "\n",
    "print(classification_report(y_test, y_pred))\n",
    "#plot_confusion_matrix(confusion_matrix(y_test, y_pred))\n",
    "\n",
    "from sklearn.metrics import roc_curve, auc\n",
    "false_positive_rate, true_positive_rate, thresholds = roc_curve(y_test, y_pred)\n",
    "roc_auc = auc(false_positive_rate, true_positive_rate)\n",
    "roc_auc"
   ]
  },
  {
   "cell_type": "code",
   "execution_count": 60,
   "metadata": {},
   "outputs": [
    {
     "name": "stdout",
     "output_type": "stream",
     "text": [
      "AUC Score: 0.7512121810964646\n"
     ]
    },
    {
     "data": {
      "image/png": "[encoded data removed]",
      "text/plain": [
       "<Figure size 432x288 with 1 Axes>"
      ]
     },
     "metadata": {},
     "output_type": "display_data"
    }
   ],
   "source": [
    "from sklearn.metrics import roc_curve,roc_auc_score\n",
    "from sklearn.metrics import auc\n",
    "\n",
    "fpr , tpr , thresholds = roc_curve ( y_test , y_pred)\n",
    "auc_keras = auc(fpr, tpr)\n",
    "print(\"AUC Score:\",auc_keras)\n",
    "plt.figure()\n",
    "lw = 2\n",
    "plt.plot(fpr, tpr, color='darkorange',\n",
    "         lw=lw, label='ROC curve (area = %0.4f)' % auc_keras)\n",
    "plt.plot([0, 1], [0, 1], color='navy', lw=lw, linestyle='--')\n",
    "plt.xlim([0.0, 1.0])\n",
    "plt.ylim([0.0, 1.05])\n",
    "plt.xlabel('False Positive Rate')\n",
    "plt.ylabel('True Positive Rate')\n",
    "plt.title('Receiver operating characteristic example')\n",
    "plt.legend(loc=\"lower right\")\n",
    "plt.show()"
   ]
  },
  {
   "cell_type": "code",
   "execution_count": 61,
   "metadata": {},
   "outputs": [],
   "source": [
    "#from sklearn.tree import DecisionTreeClassifier\n",
    "\n",
    "\n",
    "#from sklearn.model_selection import cross_val_score\n",
    "\n",
    "#dt = DecisionTreeClassifier(class_weight=class_weight)\n",
    "#scores = cross_val_score(clf, X, y, cv=5)\n",
    "#print(\"Accuracy: %0.4f (+/- %0.4f)\" % (scores.mean(), scores.std() * 2))"
   ]
  },
  {
   "cell_type": "code",
   "execution_count": null,
   "metadata": {},
   "outputs": [],
   "source": []
  },
  {
   "cell_type": "code",
   "execution_count": 62,
   "metadata": {},
   "outputs": [
    {
     "data": {
      "text/plain": [
       "'\\n\\nfrom sklearn.linear_model import LogisticRegression\\nfrom sklearn.metrics import confusion_matrix,classification_report,roc_auc_score,auc,f1_score\\n\\nlr = LogisticRegression()\\nlr.fit(X_train,y_train)\\ny_pred_logistic = lr.predict(X_test)\\n\\nimport matplotlib.pyplot as plt\\ncm = confusion_matrix(y_test,y_pred_logistic)\\n\\nplt.figure(figsize=(5,5))\\nsns.heatmap(cm,annot=True,linewidths=.3)\\nplt.show()\\n\\nprint(classification_report(y_test,y_pred_logistic))\\n\\n\\nfrom sklearn.metrics import roc_curve, auc\\nfalse_positive_rate, true_positive_rate, thresholds = roc_curve(y_test, y_pred_logistic)\\nroc_auc = auc(false_positive_rate, true_positive_rate)\\nroc_auc\\nprint(f1_score(y_test, y_pred_logistic,average=\"macro\"))\\n'"
      ]
     },
     "execution_count": 62,
     "metadata": {},
     "output_type": "execute_result"
    }
   ],
   "source": [
    "'''\n",
    "\n",
    "from sklearn.linear_model import LogisticRegression\n",
    "from sklearn.metrics import confusion_matrix,classification_report,roc_auc_score,auc,f1_score\n",
    "\n",
    "lr = LogisticRegression()\n",
    "lr.fit(X_train,y_train)\n",
    "y_pred_logistic = lr.predict(X_test)\n",
    "\n",
    "import matplotlib.pyplot as plt\n",
    "cm = confusion_matrix(y_test,y_pred_logistic)\n",
    "\n",
    "plt.figure(figsize=(5,5))\n",
    "sns.heatmap(cm,annot=True,linewidths=.3)\n",
    "plt.show()\n",
    "\n",
    "print(classification_report(y_test,y_pred_logistic))\n",
    "\n",
    "\n",
    "from sklearn.metrics import roc_curve, auc\n",
    "false_positive_rate, true_positive_rate, thresholds = roc_curve(y_test, y_pred_logistic)\n",
    "roc_auc = auc(false_positive_rate, true_positive_rate)\n",
    "roc_auc\n",
    "print(f1_score(y_test, y_pred_logistic,average=\"macro\"))\n",
    "'''"
   ]
  },
  {
   "cell_type": "markdown",
   "metadata": {},
   "source": [
    "# Ensemble\n",
    "To combine the predictions of several base estimators built with a given learning algorithm in order to improve generalizability / robustness over a single estimator."
   ]
  },
  {
   "cell_type": "code",
   "execution_count": 63,
   "metadata": {},
   "outputs": [],
   "source": [
    "from sklearn import datasets\n",
    "from sklearn.model_selection import cross_val_score\n",
    "from sklearn.linear_model import LogisticRegression\n",
    "from sklearn.naive_bayes import GaussianNB\n",
    "from sklearn.ensemble import RandomForestClassifier\n",
    "from sklearn.ensemble import VotingClassifier"
   ]
  },
  {
   "cell_type": "code",
   "execution_count": 64,
   "metadata": {},
   "outputs": [],
   "source": [
    "clf1 = SVC(kernel='rbf', C=1, class_weight=class_weight,random_state=42)\n",
    "clf2 = LogisticRegression(class_weight=class_weight,random_state=42)\n",
    "clf3 = RandomForestClassifier(class_weight=class_weight,random_state=42)\n",
    "clf4 = DecisionTreeClassifier(class_weight=class_weight,random_state=42)\n",
    "#clf5 = Sequential()"
   ]
  },
  {
   "cell_type": "code",
   "execution_count": 65,
   "metadata": {},
   "outputs": [],
   "source": [
    "eclf = VotingClassifier( estimators=[('svm', clf1), ('lr', clf2), ('rf', clf3), ('dt',clf4)],\n",
    "     voting='hard')"
   ]
  },
  {
   "cell_type": "markdown",
   "metadata": {},
   "source": [
    "# Additional code"
   ]
  },
  {
   "cell_type": "code",
   "execution_count": 66,
   "metadata": {},
   "outputs": [
    {
     "name": "stdout",
     "output_type": "stream",
     "text": [
      "Accuracy: ['0.8736 (+/- 0.0022)', '0.8693 (+/- 0.0037)', '0.8897 (+/- 0.0043)', '0.8373 (+/- 0.0073)', '0.8836 (+/- 0.0031)']\n"
     ]
    }
   ],
   "source": [
    "acc_score_list=[]\n",
    "for clf, label in zip([clf1, clf2, clf3,clf4 ,eclf], ['SVM', 'LR', 'RF','DT', 'Ensemble']):\n",
    "    scores = cross_val_score(clf, X, y, scoring='accuracy', cv=10)\n",
    "    acc_score_list.append(\"%0.4f (+/- %0.4f)\" % (scores.mean(), scores.std()))\n",
    "scores\n",
    "print(\"Accuracy:\", acc_score_list)"
   ]
  },
  {
   "cell_type": "code",
   "execution_count": 80,
   "metadata": {},
   "outputs": [
    {
     "data": {
      "application/vnd.plotly.v1+json": {
       "config": {
        "plotlyServerURL": "https://plot.ly"
       },
       "data": [
        {
         "cells": {
          "values": [
           [
            "SVM",
            "LR",
            "RF",
            "DT",
            "Ensemble"
           ],
           [
            0.89,
            0.88,
            0.9,
            0.86,
            0.9
           ],
           [
            "0.8738 (+/- 0.0016)",
            "0.8691 (+/- 0.0031)",
            "0.8909 (+/- 0.0047)",
            "0.8400 (+/- 0.0068)",
            "0.8846 (+/- 0.0046)"
           ],
           [
            "0.8736 (+/- 0.0022)",
            "0.8693 (+/- 0.0037)",
            "0.8897 (+/- 0.0043)",
            "0.8373 (+/- 0.0073)",
            "0.8836 (+/- 0.0031)"
           ]
          ]
         },
         "header": {
          "values": [
           "Method",
           "Paper accuracy (25 features)",
           "Accuracy (25 features)",
           "Accuracy (18 features)"
          ]
         },
         "type": "table"
        }
       ],
       "layout": {
        "autosize": false,
        "template": {
         "data": {
          "bar": [
           {
            "error_x": {
             "color": "#2a3f5f"
            },
            "error_y": {
             "color": "#2a3f5f"
            },
            "marker": {
             "line": {
              "color": "#E5ECF6",
              "width": 0.5
             },
             "pattern": {
              "fillmode": "overlay",
              "size": 10,
              "solidity": 0.2
             }
            },
            "type": "bar"
           }
          ],
          "barpolar": [
           {
            "marker": {
             "line": {
              "color": "#E5ECF6",
              "width": 0.5
             },
             "pattern": {
              "fillmode": "overlay",
              "size": 10,
              "solidity": 0.2
             }
            },
            "type": "barpolar"
           }
          ],
          "carpet": [
           {
            "aaxis": {
             "endlinecolor": "#2a3f5f",
             "gridcolor": "white",
             "linecolor": "white",
             "minorgridcolor": "white",
             "startlinecolor": "#2a3f5f"
            },
            "baxis": {
             "endlinecolor": "#2a3f5f",
             "gridcolor": "white",
             "linecolor": "white",
             "minorgridcolor": "white",
             "startlinecolor": "#2a3f5f"
            },
            "type": "carpet"
           }
          ],
          "choropleth": [
           {
            "colorbar": {
             "outlinewidth": 0,
             "ticks": ""
            },
            "type": "choropleth"
           }
          ],
          "contour": [
           {
            "colorbar": {
             "outlinewidth": 0,
             "ticks": ""
            },
            "colorscale": [
             [
              0,
              "#0d0887"
             ],
             [
              0.1111111111111111,
              "#46039f"
             ],
             [
              0.2222222222222222,
              "#7201a8"
             ],
             [
              0.3333333333333333,
              "#9c179e"
             ],
             [
              0.4444444444444444,
              "#bd3786"
             ],
             [
              0.5555555555555556,
              "#d8576b"
             ],
             [
              0.6666666666666666,
              "#ed7953"
             ],
             [
              0.7777777777777778,
              "#fb9f3a"
             ],
             [
              0.8888888888888888,
              "#fdca26"
             ],
             [
              1,
              "#f0f921"
             ]
            ],
            "type": "contour"
           }
          ],
          "contourcarpet": [
           {
            "colorbar": {
             "outlinewidth": 0,
             "ticks": ""
            },
            "type": "contourcarpet"
           }
          ],
          "heatmap": [
           {
            "colorbar": {
             "outlinewidth": 0,
             "ticks": ""
            },
            "colorscale": [
             [
              0,
              "#0d0887"
             ],
             [
              0.1111111111111111,
              "#46039f"
             ],
             [
              0.2222222222222222,
              "#7201a8"
             ],
             [
              0.3333333333333333,
              "#9c179e"
             ],
             [
              0.4444444444444444,
              "#bd3786"
             ],
             [
              0.5555555555555556,
              "#d8576b"
             ],
             [
              0.6666666666666666,
              "#ed7953"
             ],
             [
              0.7777777777777778,
              "#fb9f3a"
             ],
             [
              0.8888888888888888,
              "#fdca26"
             ],
             [
              1,
              "#f0f921"
             ]
            ],
            "type": "heatmap"
           }
          ],
          "heatmapgl": [
           {
            "colorbar": {
             "outlinewidth": 0,
             "ticks": ""
            },
            "colorscale": [
             [
              0,
              "#0d0887"
             ],
             [
              0.1111111111111111,
              "#46039f"
             ],
             [
              0.2222222222222222,
              "#7201a8"
             ],
             [
              0.3333333333333333,
              "#9c179e"
             ],
             [
              0.4444444444444444,
              "#bd3786"
             ],
             [
              0.5555555555555556,
              "#d8576b"
             ],
             [
              0.6666666666666666,
              "#ed7953"
             ],
             [
              0.7777777777777778,
              "#fb9f3a"
             ],
             [
              0.8888888888888888,
              "#fdca26"
             ],
             [
              1,
              "#f0f921"
             ]
            ],
            "type": "heatmapgl"
           }
          ],
          "histogram": [
           {
            "marker": {
             "pattern": {
              "fillmode": "overlay",
              "size": 10,
              "solidity": 0.2
             }
            },
            "type": "histogram"
           }
          ],
          "histogram2d": [
           {
            "colorbar": {
             "outlinewidth": 0,
             "ticks": ""
            },
            "colorscale": [
             [
              0,
              "#0d0887"
             ],
             [
              0.1111111111111111,
              "#46039f"
             ],
             [
              0.2222222222222222,
              "#7201a8"
             ],
             [
              0.3333333333333333,
              "#9c179e"
             ],
             [
              0.4444444444444444,
              "#bd3786"
             ],
             [
              0.5555555555555556,
              "#d8576b"
             ],
             [
              0.6666666666666666,
              "#ed7953"
             ],
             [
              0.7777777777777778,
              "#fb9f3a"
             ],
             [
              0.8888888888888888,
              "#fdca26"
             ],
             [
              1,
              "#f0f921"
             ]
            ],
            "type": "histogram2d"
           }
          ],
          "histogram2dcontour": [
           {
            "colorbar": {
             "outlinewidth": 0,
             "ticks": ""
            },
            "colorscale": [
             [
              0,
              "#0d0887"
             ],
             [
              0.1111111111111111,
              "#46039f"
             ],
             [
              0.2222222222222222,
              "#7201a8"
             ],
             [
              0.3333333333333333,
              "#9c179e"
             ],
             [
              0.4444444444444444,
              "#bd3786"
             ],
             [
              0.5555555555555556,
              "#d8576b"
             ],
             [
              0.6666666666666666,
              "#ed7953"
             ],
             [
              0.7777777777777778,
              "#fb9f3a"
             ],
             [
              0.8888888888888888,
              "#fdca26"
             ],
             [
              1,
              "#f0f921"
             ]
            ],
            "type": "histogram2dcontour"
           }
          ],
          "mesh3d": [
           {
            "colorbar": {
             "outlinewidth": 0,
             "ticks": ""
            },
            "type": "mesh3d"
           }
          ],
          "parcoords": [
           {
            "line": {
             "colorbar": {
              "outlinewidth": 0,
              "ticks": ""
             }
            },
            "type": "parcoords"
           }
          ],
          "pie": [
           {
            "automargin": true,
            "type": "pie"
           }
          ],
          "scatter": [
           {
            "fillpattern": {
             "fillmode": "overlay",
             "size": 10,
             "solidity": 0.2
            },
            "type": "scatter"
           }
          ],
          "scatter3d": [
           {
            "line": {
             "colorbar": {
              "outlinewidth": 0,
              "ticks": ""
             }
            },
            "marker": {
             "colorbar": {
              "outlinewidth": 0,
              "ticks": ""
             }
            },
            "type": "scatter3d"
           }
          ],
          "scattercarpet": [
           {
            "marker": {
             "colorbar": {
              "outlinewidth": 0,
              "ticks": ""
             }
            },
            "type": "scattercarpet"
           }
          ],
          "scattergeo": [
           {
            "marker": {
             "colorbar": {
              "outlinewidth": 0,
              "ticks": ""
             }
            },
            "type": "scattergeo"
           }
          ],
          "scattergl": [
           {
            "marker": {
             "colorbar": {
              "outlinewidth": 0,
              "ticks": ""
             }
            },
            "type": "scattergl"
           }
          ],
          "scattermapbox": [
           {
            "marker": {
             "colorbar": {
              "outlinewidth": 0,
              "ticks": ""
             }
            },
            "type": "scattermapbox"
           }
          ],
          "scatterpolar": [
           {
            "marker": {
             "colorbar": {
              "outlinewidth": 0,
              "ticks": ""
             }
            },
            "type": "scatterpolar"
           }
          ],
          "scatterpolargl": [
           {
            "marker": {
             "colorbar": {
              "outlinewidth": 0,
              "ticks": ""
             }
            },
            "type": "scatterpolargl"
           }
          ],
          "scatterternary": [
           {
            "marker": {
             "colorbar": {
              "outlinewidth": 0,
              "ticks": ""
             }
            },
            "type": "scatterternary"
           }
          ],
          "surface": [
           {
            "colorbar": {
             "outlinewidth": 0,
             "ticks": ""
            },
            "colorscale": [
             [
              0,
              "#0d0887"
             ],
             [
              0.1111111111111111,
              "#46039f"
             ],
             [
              0.2222222222222222,
              "#7201a8"
             ],
             [
              0.3333333333333333,
              "#9c179e"
             ],
             [
              0.4444444444444444,
              "#bd3786"
             ],
             [
              0.5555555555555556,
              "#d8576b"
             ],
             [
              0.6666666666666666,
              "#ed7953"
             ],
             [
              0.7777777777777778,
              "#fb9f3a"
             ],
             [
              0.8888888888888888,
              "#fdca26"
             ],
             [
              1,
              "#f0f921"
             ]
            ],
            "type": "surface"
           }
          ],
          "table": [
           {
            "cells": {
             "fill": {
              "color": "#EBF0F8"
             },
             "line": {
              "color": "white"
             }
            },
            "header": {
             "fill": {
              "color": "#C8D4E3"
             },
             "line": {
              "color": "white"
             }
            },
            "type": "table"
           }
          ]
         },
         "layout": {
          "annotationdefaults": {
           "arrowcolor": "#2a3f5f",
           "arrowhead": 0,
           "arrowwidth": 1
          },
          "autotypenumbers": "strict",
          "coloraxis": {
           "colorbar": {
            "outlinewidth": 0,
            "ticks": ""
           }
          },
          "colorscale": {
           "diverging": [
            [
             0,
             "#8e0152"
            ],
            [
             0.1,
             "#c51b7d"
            ],
            [
             0.2,
             "#de77ae"
            ],
            [
             0.3,
             "#f1b6da"
            ],
            [
             0.4,
             "#fde0ef"
            ],
            [
             0.5,
             "#f7f7f7"
            ],
            [
             0.6,
             "#e6f5d0"
            ],
            [
             0.7,
             "#b8e186"
            ],
            [
             0.8,
             "#7fbc41"
            ],
            [
             0.9,
             "#4d9221"
            ],
            [
             1,
             "#276419"
            ]
           ],
           "sequential": [
            [
             0,
             "#0d0887"
            ],
            [
             0.1111111111111111,
             "#46039f"
            ],
            [
             0.2222222222222222,
             "#7201a8"
            ],
            [
             0.3333333333333333,
             "#9c179e"
            ],
            [
             0.4444444444444444,
             "#bd3786"
            ],
            [
             0.5555555555555556,
             "#d8576b"
            ],
            [
             0.6666666666666666,
             "#ed7953"
            ],
            [
             0.7777777777777778,
             "#fb9f3a"
            ],
            [
             0.8888888888888888,
             "#fdca26"
            ],
            [
             1,
             "#f0f921"
            ]
           ],
           "sequentialminus": [
            [
             0,
             "#0d0887"
            ],
            [
             0.1111111111111111,
             "#46039f"
            ],
            [
             0.2222222222222222,
             "#7201a8"
            ],
            [
             0.3333333333333333,
             "#9c179e"
            ],
            [
             0.4444444444444444,
             "#bd3786"
            ],
            [
             0.5555555555555556,
             "#d8576b"
            ],
            [
             0.6666666666666666,
             "#ed7953"
            ],
            [
             0.7777777777777778,
             "#fb9f3a"
            ],
            [
             0.8888888888888888,
             "#fdca26"
            ],
            [
             1,
             "#f0f921"
            ]
           ]
          },
          "colorway": [
           "#636efa",
           "#EF553B",
           "#00cc96",
           "#ab63fa",
           "#FFA15A",
           "#19d3f3",
           "#FF6692",
           "#B6E880",
           "#FF97FF",
           "#FECB52"
          ],
          "font": {
           "color": "#2a3f5f"
          },
          "geo": {
           "bgcolor": "white",
           "lakecolor": "white",
           "landcolor": "#E5ECF6",
           "showlakes": true,
           "showland": true,
           "subunitcolor": "white"
          },
          "hoverlabel": {
           "align": "left"
          },
          "hovermode": "closest",
          "mapbox": {
           "style": "light"
          },
          "paper_bgcolor": "white",
          "plot_bgcolor": "#E5ECF6",
          "polar": {
           "angularaxis": {
            "gridcolor": "white",
            "linecolor": "white",
            "ticks": ""
           },
           "bgcolor": "#E5ECF6",
           "radialaxis": {
            "gridcolor": "white",
            "linecolor": "white",
            "ticks": ""
           }
          },
          "scene": {
           "xaxis": {
            "backgroundcolor": "#E5ECF6",
            "gridcolor": "white",
            "gridwidth": 2,
            "linecolor": "white",
            "showbackground": true,
            "ticks": "",
            "zerolinecolor": "white"
           },
           "yaxis": {
            "backgroundcolor": "#E5ECF6",
            "gridcolor": "white",
            "gridwidth": 2,
            "linecolor": "white",
            "showbackground": true,
            "ticks": "",
            "zerolinecolor": "white"
           },
           "zaxis": {
            "backgroundcolor": "#E5ECF6",
            "gridcolor": "white",
            "gridwidth": 2,
            "linecolor": "white",
            "showbackground": true,
            "ticks": "",
            "zerolinecolor": "white"
           }
          },
          "shapedefaults": {
           "line": {
            "color": "#2a3f5f"
           }
          },
          "ternary": {
           "aaxis": {
            "gridcolor": "white",
            "linecolor": "white",
            "ticks": ""
           },
           "baxis": {
            "gridcolor": "white",
            "linecolor": "white",
            "ticks": ""
           },
           "bgcolor": "#E5ECF6",
           "caxis": {
            "gridcolor": "white",
            "linecolor": "white",
            "ticks": ""
           }
          },
          "title": {
           "x": 0.05
          },
          "xaxis": {
           "automargin": true,
           "gridcolor": "white",
           "linecolor": "white",
           "ticks": "",
           "title": {
            "standoff": 15
           },
           "zerolinecolor": "white",
           "zerolinewidth": 2
          },
          "yaxis": {
           "automargin": true,
           "gridcolor": "white",
           "linecolor": "white",
           "ticks": "",
           "title": {
            "standoff": 15
           },
           "zerolinecolor": "white",
           "zerolinewidth": 2
          }
         }
        },
        "title": {
         "text": "Accuracy comparison table"
        }
       }
      }
     },
     "metadata": {},
     "output_type": "display_data"
    }
   ],
   "source": [
    "#adding nice table for comparative purposes \n",
    "\n",
    "import plotly.graph_objects as go\n",
    "paper_accuracy=[0.89, 0.88, 0.90, 0.86, 0.90]  #taken from the paper diabetic study, table II\n",
    "accuracy_25_list= ['0.8738 (+/- 0.0016)', '0.8691 (+/- 0.0031)', '0.8909 (+/- 0.0047)', '0.8400 (+/- 0.0068)', '0.8846 (+/- 0.0046)']  #taken from paper author repository \n",
    "method_list= ['SVM', 'LR', 'RF','DT', 'Ensemble']\n",
    "trace= go.Table(header=dict(values=['Method', 'Paper accuracy (25 features)','Accuracy (25 features)', 'Accuracy (%d features)' %(len(data.columns))]),\n",
    "                cells=dict(values=[method_list, paper_accuracy, accuracy_25_list, acc_score_list]))\n",
    "mylayout=dict(title='Accuracy comparison table', autosize=False)\n",
    "fig = go.Figure(data=[trace], layout=mylayout)\n",
    "fig.show()\n"
   ]
  },
  {
   "cell_type": "code",
   "execution_count": 100,
   "metadata": {},
   "outputs": [
    {
     "name": "stdout",
     "output_type": "stream",
     "text": [
      "Accuracy: ['0.9319 (+/- 0.0011)', '0.9290 (+/- 0.0021)', '0.9387 (+/- 0.0023)', '0.9058 (+/- 0.0049)', '0.9358 (+/- 0.0016)']\n"
     ]
    }
   ],
   "source": [
    "#calculate F1 score\n",
    "f1_score_list=[]\n",
    "for clf, label in zip([clf1, clf2, clf3,clf4 ,eclf], ['SVM', 'LR', 'RF','DT', 'Ensemble']):\n",
    "    scores = cross_val_score(clf, X, y, scoring='f1', cv=10)\n",
    "    f1_score_list.append(\"%0.4f (+/- %0.4f)\" % (scores.mean(), scores.std()))\n",
    "scores\n",
    "print(\"F1:\", f1_score_list)\n",
    "\n"
   ]
  },
  {
   "cell_type": "code",
   "execution_count": 119,
   "metadata": {},
   "outputs": [
    {
     "data": {
      "application/vnd.plotly.v1+json": {
       "config": {
        "plotlyServerURL": "https://plot.ly"
       },
       "data": [
        {
         "cells": {
          "values": [
           [
            "SVM",
            "LR",
            "RF",
            "DT",
            "Ensemble"
           ],
           [
            "0.8373 (+/- 0.0073)",
            "0.8693 (+/- 0.0037)",
            "0.8736 (+/- 0.0022)",
            "0.8836 (+/- 0.0031)",
            "0.8897 (+/- 0.0043)"
           ],
           [
            "0.9058 (+/- 0.0049)",
            "0.9290 (+/- 0.0021)",
            "0.9319 (+/- 0.0011)",
            "0.9358 (+/- 0.0016)",
            "0.9387 (+/- 0.0023)"
           ]
          ]
         },
         "header": {
          "values": [
           "Method",
           "Accuracy (18 features)",
           "F1 score (18 features)"
          ]
         },
         "type": "table"
        }
       ],
       "layout": {
        "autosize": false,
        "template": {
         "data": {
          "bar": [
           {
            "error_x": {
             "color": "#2a3f5f"
            },
            "error_y": {
             "color": "#2a3f5f"
            },
            "marker": {
             "line": {
              "color": "#E5ECF6",
              "width": 0.5
             },
             "pattern": {
              "fillmode": "overlay",
              "size": 10,
              "solidity": 0.2
             }
            },
            "type": "bar"
           }
          ],
          "barpolar": [
           {
            "marker": {
             "line": {
              "color": "#E5ECF6",
              "width": 0.5
             },
             "pattern": {
              "fillmode": "overlay",
              "size": 10,
              "solidity": 0.2
             }
            },
            "type": "barpolar"
           }
          ],
          "carpet": [
           {
            "aaxis": {
             "endlinecolor": "#2a3f5f",
             "gridcolor": "white",
             "linecolor": "white",
             "minorgridcolor": "white",
             "startlinecolor": "#2a3f5f"
            },
            "baxis": {
             "endlinecolor": "#2a3f5f",
             "gridcolor": "white",
             "linecolor": "white",
             "minorgridcolor": "white",
             "startlinecolor": "#2a3f5f"
            },
            "type": "carpet"
           }
          ],
          "choropleth": [
           {
            "colorbar": {
             "outlinewidth": 0,
             "ticks": ""
            },
            "type": "choropleth"
           }
          ],
          "contour": [
           {
            "colorbar": {
             "outlinewidth": 0,
             "ticks": ""
            },
            "colorscale": [
             [
              0,
              "#0d0887"
             ],
             [
              0.1111111111111111,
              "#46039f"
             ],
             [
              0.2222222222222222,
              "#7201a8"
             ],
             [
              0.3333333333333333,
              "#9c179e"
             ],
             [
              0.4444444444444444,
              "#bd3786"
             ],
             [
              0.5555555555555556,
              "#d8576b"
             ],
             [
              0.6666666666666666,
              "#ed7953"
             ],
             [
              0.7777777777777778,
              "#fb9f3a"
             ],
             [
              0.8888888888888888,
              "#fdca26"
             ],
             [
              1,
              "#f0f921"
             ]
            ],
            "type": "contour"
           }
          ],
          "contourcarpet": [
           {
            "colorbar": {
             "outlinewidth": 0,
             "ticks": ""
            },
            "type": "contourcarpet"
           }
          ],
          "heatmap": [
           {
            "colorbar": {
             "outlinewidth": 0,
             "ticks": ""
            },
            "colorscale": [
             [
              0,
              "#0d0887"
             ],
             [
              0.1111111111111111,
              "#46039f"
             ],
             [
              0.2222222222222222,
              "#7201a8"
             ],
             [
              0.3333333333333333,
              "#9c179e"
             ],
             [
              0.4444444444444444,
              "#bd3786"
             ],
             [
              0.5555555555555556,
              "#d8576b"
             ],
             [
              0.6666666666666666,
              "#ed7953"
             ],
             [
              0.7777777777777778,
              "#fb9f3a"
             ],
             [
              0.8888888888888888,
              "#fdca26"
             ],
             [
              1,
              "#f0f921"
             ]
            ],
            "type": "heatmap"
           }
          ],
          "heatmapgl": [
           {
            "colorbar": {
             "outlinewidth": 0,
             "ticks": ""
            },
            "colorscale": [
             [
              0,
              "#0d0887"
             ],
             [
              0.1111111111111111,
              "#46039f"
             ],
             [
              0.2222222222222222,
              "#7201a8"
             ],
             [
              0.3333333333333333,
              "#9c179e"
             ],
             [
              0.4444444444444444,
              "#bd3786"
             ],
             [
              0.5555555555555556,
              "#d8576b"
             ],
             [
              0.6666666666666666,
              "#ed7953"
             ],
             [
              0.7777777777777778,
              "#fb9f3a"
             ],
             [
              0.8888888888888888,
              "#fdca26"
             ],
             [
              1,
              "#f0f921"
             ]
            ],
            "type": "heatmapgl"
           }
          ],
          "histogram": [
           {
            "marker": {
             "pattern": {
              "fillmode": "overlay",
              "size": 10,
              "solidity": 0.2
             }
            },
            "type": "histogram"
           }
          ],
          "histogram2d": [
           {
            "colorbar": {
             "outlinewidth": 0,
             "ticks": ""
            },
            "colorscale": [
             [
              0,
              "#0d0887"
             ],
             [
              0.1111111111111111,
              "#46039f"
             ],
             [
              0.2222222222222222,
              "#7201a8"
             ],
             [
              0.3333333333333333,
              "#9c179e"
             ],
             [
              0.4444444444444444,
              "#bd3786"
             ],
             [
              0.5555555555555556,
              "#d8576b"
             ],
             [
              0.6666666666666666,
              "#ed7953"
             ],
             [
              0.7777777777777778,
              "#fb9f3a"
             ],
             [
              0.8888888888888888,
              "#fdca26"
             ],
             [
              1,
              "#f0f921"
             ]
            ],
            "type": "histogram2d"
           }
          ],
          "histogram2dcontour": [
           {
            "colorbar": {
             "outlinewidth": 0,
             "ticks": ""
            },
            "colorscale": [
             [
              0,
              "#0d0887"
             ],
             [
              0.1111111111111111,
              "#46039f"
             ],
             [
              0.2222222222222222,
              "#7201a8"
             ],
             [
              0.3333333333333333,
              "#9c179e"
             ],
             [
              0.4444444444444444,
              "#bd3786"
             ],
             [
              0.5555555555555556,
              "#d8576b"
             ],
             [
              0.6666666666666666,
              "#ed7953"
             ],
             [
              0.7777777777777778,
              "#fb9f3a"
             ],
             [
              0.8888888888888888,
              "#fdca26"
             ],
             [
              1,
              "#f0f921"
             ]
            ],
            "type": "histogram2dcontour"
           }
          ],
          "mesh3d": [
           {
            "colorbar": {
             "outlinewidth": 0,
             "ticks": ""
            },
            "type": "mesh3d"
           }
          ],
          "parcoords": [
           {
            "line": {
             "colorbar": {
              "outlinewidth": 0,
              "ticks": ""
             }
            },
            "type": "parcoords"
           }
          ],
          "pie": [
           {
            "automargin": true,
            "type": "pie"
           }
          ],
          "scatter": [
           {
            "fillpattern": {
             "fillmode": "overlay",
             "size": 10,
             "solidity": 0.2
            },
            "type": "scatter"
           }
          ],
          "scatter3d": [
           {
            "line": {
             "colorbar": {
              "outlinewidth": 0,
              "ticks": ""
             }
            },
            "marker": {
             "colorbar": {
              "outlinewidth": 0,
              "ticks": ""
             }
            },
            "type": "scatter3d"
           }
          ],
          "scattercarpet": [
           {
            "marker": {
             "colorbar": {
              "outlinewidth": 0,
              "ticks": ""
             }
            },
            "type": "scattercarpet"
           }
          ],
          "scattergeo": [
           {
            "marker": {
             "colorbar": {
              "outlinewidth": 0,
              "ticks": ""
             }
            },
            "type": "scattergeo"
           }
          ],
          "scattergl": [
           {
            "marker": {
             "colorbar": {
              "outlinewidth": 0,
              "ticks": ""
             }
            },
            "type": "scattergl"
           }
          ],
          "scattermapbox": [
           {
            "marker": {
             "colorbar": {
              "outlinewidth": 0,
              "ticks": ""
             }
            },
            "type": "scattermapbox"
           }
          ],
          "scatterpolar": [
           {
            "marker": {
             "colorbar": {
              "outlinewidth": 0,
              "ticks": ""
             }
            },
            "type": "scatterpolar"
           }
          ],
          "scatterpolargl": [
           {
            "marker": {
             "colorbar": {
              "outlinewidth": 0,
              "ticks": ""
             }
            },
            "type": "scatterpolargl"
           }
          ],
          "scatterternary": [
           {
            "marker": {
             "colorbar": {
              "outlinewidth": 0,
              "ticks": ""
             }
            },
            "type": "scatterternary"
           }
          ],
          "surface": [
           {
            "colorbar": {
             "outlinewidth": 0,
             "ticks": ""
            },
            "colorscale": [
             [
              0,
              "#0d0887"
             ],
             [
              0.1111111111111111,
              "#46039f"
             ],
             [
              0.2222222222222222,
              "#7201a8"
             ],
             [
              0.3333333333333333,
              "#9c179e"
             ],
             [
              0.4444444444444444,
              "#bd3786"
             ],
             [
              0.5555555555555556,
              "#d8576b"
             ],
             [
              0.6666666666666666,
              "#ed7953"
             ],
             [
              0.7777777777777778,
              "#fb9f3a"
             ],
             [
              0.8888888888888888,
              "#fdca26"
             ],
             [
              1,
              "#f0f921"
             ]
            ],
            "type": "surface"
           }
          ],
          "table": [
           {
            "cells": {
             "fill": {
              "color": "#EBF0F8"
             },
             "line": {
              "color": "white"
             }
            },
            "header": {
             "fill": {
              "color": "#C8D4E3"
             },
             "line": {
              "color": "white"
             }
            },
            "type": "table"
           }
          ]
         },
         "layout": {
          "annotationdefaults": {
           "arrowcolor": "#2a3f5f",
           "arrowhead": 0,
           "arrowwidth": 1
          },
          "autotypenumbers": "strict",
          "coloraxis": {
           "colorbar": {
            "outlinewidth": 0,
            "ticks": ""
           }
          },
          "colorscale": {
           "diverging": [
            [
             0,
             "#8e0152"
            ],
            [
             0.1,
             "#c51b7d"
            ],
            [
             0.2,
             "#de77ae"
            ],
            [
             0.3,
             "#f1b6da"
            ],
            [
             0.4,
             "#fde0ef"
            ],
            [
             0.5,
             "#f7f7f7"
            ],
            [
             0.6,
             "#e6f5d0"
            ],
            [
             0.7,
             "#b8e186"
            ],
            [
             0.8,
             "#7fbc41"
            ],
            [
             0.9,
             "#4d9221"
            ],
            [
             1,
             "#276419"
            ]
           ],
           "sequential": [
            [
             0,
             "#0d0887"
            ],
            [
             0.1111111111111111,
             "#46039f"
            ],
            [
             0.2222222222222222,
             "#7201a8"
            ],
            [
             0.3333333333333333,
             "#9c179e"
            ],
            [
             0.4444444444444444,
             "#bd3786"
            ],
            [
             0.5555555555555556,
             "#d8576b"
            ],
            [
             0.6666666666666666,
             "#ed7953"
            ],
            [
             0.7777777777777778,
             "#fb9f3a"
            ],
            [
             0.8888888888888888,
             "#fdca26"
            ],
            [
             1,
             "#f0f921"
            ]
           ],
           "sequentialminus": [
            [
             0,
             "#0d0887"
            ],
            [
             0.1111111111111111,
             "#46039f"
            ],
            [
             0.2222222222222222,
             "#7201a8"
            ],
            [
             0.3333333333333333,
             "#9c179e"
            ],
            [
             0.4444444444444444,
             "#bd3786"
            ],
            [
             0.5555555555555556,
             "#d8576b"
            ],
            [
             0.6666666666666666,
             "#ed7953"
            ],
            [
             0.7777777777777778,
             "#fb9f3a"
            ],
            [
             0.8888888888888888,
             "#fdca26"
            ],
            [
             1,
             "#f0f921"
            ]
           ]
          },
          "colorway": [
           "#636efa",
           "#EF553B",
           "#00cc96",
           "#ab63fa",
           "#FFA15A",
           "#19d3f3",
           "#FF6692",
           "#B6E880",
           "#FF97FF",
           "#FECB52"
          ],
          "font": {
           "color": "#2a3f5f"
          },
          "geo": {
           "bgcolor": "white",
           "lakecolor": "white",
           "landcolor": "#E5ECF6",
           "showlakes": true,
           "showland": true,
           "subunitcolor": "white"
          },
          "hoverlabel": {
           "align": "left"
          },
          "hovermode": "closest",
          "mapbox": {
           "style": "light"
          },
          "paper_bgcolor": "white",
          "plot_bgcolor": "#E5ECF6",
          "polar": {
           "angularaxis": {
            "gridcolor": "white",
            "linecolor": "white",
            "ticks": ""
           },
           "bgcolor": "#E5ECF6",
           "radialaxis": {
            "gridcolor": "white",
            "linecolor": "white",
            "ticks": ""
           }
          },
          "scene": {
           "xaxis": {
            "backgroundcolor": "#E5ECF6",
            "gridcolor": "white",
            "gridwidth": 2,
            "linecolor": "white",
            "showbackground": true,
            "ticks": "",
            "zerolinecolor": "white"
           },
           "yaxis": {
            "backgroundcolor": "#E5ECF6",
            "gridcolor": "white",
            "gridwidth": 2,
            "linecolor": "white",
            "showbackground": true,
            "ticks": "",
            "zerolinecolor": "white"
           },
           "zaxis": {
            "backgroundcolor": "#E5ECF6",
            "gridcolor": "white",
            "gridwidth": 2,
            "linecolor": "white",
            "showbackground": true,
            "ticks": "",
            "zerolinecolor": "white"
           }
          },
          "shapedefaults": {
           "line": {
            "color": "#2a3f5f"
           }
          },
          "ternary": {
           "aaxis": {
            "gridcolor": "white",
            "linecolor": "white",
            "ticks": ""
           },
           "baxis": {
            "gridcolor": "white",
            "linecolor": "white",
            "ticks": ""
           },
           "bgcolor": "#E5ECF6",
           "caxis": {
            "gridcolor": "white",
            "linecolor": "white",
            "ticks": ""
           }
          },
          "title": {
           "x": 0.05
          },
          "xaxis": {
           "automargin": true,
           "gridcolor": "white",
           "linecolor": "white",
           "ticks": "",
           "title": {
            "standoff": 15
           },
           "zerolinecolor": "white",
           "zerolinewidth": 2
          },
          "yaxis": {
           "automargin": true,
           "gridcolor": "white",
           "linecolor": "white",
           "ticks": "",
           "title": {
            "standoff": 15
           },
           "zerolinecolor": "white",
           "zerolinewidth": 2
          }
         }
        },
        "title": {
         "text": "Accuracy and F1 score table"
        }
       }
      }
     },
     "metadata": {},
     "output_type": "display_data"
    }
   ],
   "source": [
    "###wrong table, need to rerun previous command because it's showing different table\n",
    "\n",
    "#table with accuracy and f1\n",
    "trace= go.Table(header=dict(values=['Method','Accuracy (%d features)' %(len(data.columns)), 'F1 score (%d features)' %(len(data.columns))]),\n",
    "                cells=dict(values=[method_list, acc_score_list, f1_score_list]))\n",
    "mylayout=dict(title='Accuracy and F1 score table', autosize=False)\n",
    "fig = go.Figure(data=[trace], layout=mylayout)\n",
    "fig.show()"
   ]
  },
  {
   "cell_type": "code",
   "execution_count": 68,
   "metadata": {},
   "outputs": [],
   "source": [
    "#Randomly selecting same amount of diabetics and non diabetics patients to avoid bias\n",
    "\n",
    "# #count number of diab vs no diab \n",
    "# value_count=data['Diabetes'].value_counts()\n",
    "# no_diab_var2 =value_count[2]  #number of no diabetes =32227\n",
    "# diab_var1 = value_count[1]  #number of diabetes =4852\n",
    "\n",
    "# #create a new subset with 4852 random diabetes and not\n",
    "\n",
    "\n",
    "\n"
   ]
  },
  {
   "cell_type": "code",
   "execution_count": null,
   "metadata": {},
   "outputs": [],
   "source": []
  }
 ],
 "metadata": {
  "kernelspec": {
   "display_name": "Python 3.9.6 64-bit",
   "language": "python",
   "name": "python3"
  },
  "language_info": {
   "codemirror_mode": {
    "name": "ipython",
    "version": 3
   },
   "file_extension": ".py",
   "mimetype": "text/x-python",
   "name": "python",
   "nbconvert_exporter": "python",
   "pygments_lexer": "ipython3",
   "version": "3.9.6"
  },
  "vscode": {
   "interpreter": {
    "hash": "11938c6bc6919ae2720b4d5011047913343b08a43b18698fd82dedb0d4417594"
   }
  }
 },
 "nbformat": 4,
 "nbformat_minor": 4
}
